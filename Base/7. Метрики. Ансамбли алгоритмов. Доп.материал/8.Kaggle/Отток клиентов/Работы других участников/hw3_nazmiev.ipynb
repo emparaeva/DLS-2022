{
 "cells": [
  {
   "cell_type": "markdown",
   "metadata": {},
   "source": [
    "# Предсказание оттока пользователей\n",
    "\n",
    "Вам предстоит научитсья моделировать отток клиентов телеком компании. Эта задача очень важна на практике и алгоритмы для ее решения используются в реальных телеком компаниях, ведь если мы знаем, что клиент собирается уйти от нас, то мы попытаться удержать его, предложив какие-то бонусы."
   ]
  },
  {
   "cell_type": "code",
   "execution_count": 216,
   "metadata": {
    "execution": {
     "iopub.execute_input": "2022-10-24T19:49:04.178761Z",
     "iopub.status.busy": "2022-10-24T19:49:04.178244Z",
     "iopub.status.idle": "2022-10-24T19:49:04.185613Z",
     "shell.execute_reply": "2022-10-24T19:49:04.184194Z",
     "shell.execute_reply.started": "2022-10-24T19:49:04.178720Z"
    }
   },
   "outputs": [],
   "source": [
    "import pandas as pd\n",
    "import numpy as np\n",
    "from matplotlib import pyplot as plt\n",
    "import seaborn as sns\n",
    "\n",
    "import warnings\n",
    "warnings.filterwarnings('ignore')"
   ]
  },
  {
   "cell_type": "markdown",
   "metadata": {},
   "source": [
    "# Первая часть. Исследование"
   ]
  },
  {
   "cell_type": "markdown",
   "metadata": {},
   "source": [
    "## Загрузка данных"
   ]
  },
  {
   "cell_type": "markdown",
   "metadata": {},
   "source": [
    "Загружаем обучающую и тестовые выборки в   `train` и `test` соответственно"
   ]
  },
  {
   "cell_type": "code",
   "execution_count": 279,
   "metadata": {
    "execution": {
     "iopub.execute_input": "2022-10-24T20:02:01.797547Z",
     "iopub.status.busy": "2022-10-24T20:02:01.795948Z",
     "iopub.status.idle": "2022-10-24T20:02:01.845353Z",
     "shell.execute_reply": "2022-10-24T20:02:01.843731Z",
     "shell.execute_reply.started": "2022-10-24T20:02:01.797489Z"
    }
   },
   "outputs": [],
   "source": [
    "train = pd.read_csv('/kaggle/input/advanced-dls-spring-2021/train.csv')\n",
    "test = pd.read_csv('/kaggle/input/advanced-dls-spring-2021/test.csv')"
   ]
  },
  {
   "cell_type": "markdown",
   "metadata": {},
   "source": [
    "Посмотрим на случайные объекты в тестовой выборке"
   ]
  },
  {
   "cell_type": "code",
   "execution_count": 218,
   "metadata": {
    "execution": {
     "iopub.execute_input": "2022-10-24T19:49:04.240792Z",
     "iopub.status.busy": "2022-10-24T19:49:04.240110Z",
     "iopub.status.idle": "2022-10-24T19:49:04.271100Z",
     "shell.execute_reply": "2022-10-24T19:49:04.269771Z",
     "shell.execute_reply.started": "2022-10-24T19:49:04.240754Z"
    }
   },
   "outputs": [
    {
     "data": {
      "text/html": [
       "<div>\n",
       "<style scoped>\n",
       "    .dataframe tbody tr th:only-of-type {\n",
       "        vertical-align: middle;\n",
       "    }\n",
       "\n",
       "    .dataframe tbody tr th {\n",
       "        vertical-align: top;\n",
       "    }\n",
       "\n",
       "    .dataframe thead th {\n",
       "        text-align: right;\n",
       "    }\n",
       "</style>\n",
       "<table border=\"1\" class=\"dataframe\">\n",
       "  <thead>\n",
       "    <tr style=\"text-align: right;\">\n",
       "      <th></th>\n",
       "      <th>ClientPeriod</th>\n",
       "      <th>MonthlySpending</th>\n",
       "      <th>TotalSpent</th>\n",
       "      <th>Sex</th>\n",
       "      <th>IsSeniorCitizen</th>\n",
       "      <th>HasPartner</th>\n",
       "      <th>HasChild</th>\n",
       "      <th>HasPhoneService</th>\n",
       "      <th>HasMultiplePhoneNumbers</th>\n",
       "      <th>HasInternetService</th>\n",
       "      <th>HasOnlineSecurityService</th>\n",
       "      <th>HasOnlineBackup</th>\n",
       "      <th>HasDeviceProtection</th>\n",
       "      <th>HasTechSupportAccess</th>\n",
       "      <th>HasOnlineTV</th>\n",
       "      <th>HasMovieSubscription</th>\n",
       "      <th>HasContractPhone</th>\n",
       "      <th>IsBillingPaperless</th>\n",
       "      <th>PaymentMethod</th>\n",
       "      <th>Churn</th>\n",
       "    </tr>\n",
       "  </thead>\n",
       "  <tbody>\n",
       "    <tr>\n",
       "      <th>1448</th>\n",
       "      <td>9</td>\n",
       "      <td>45.40</td>\n",
       "      <td>418.8</td>\n",
       "      <td>Male</td>\n",
       "      <td>0</td>\n",
       "      <td>No</td>\n",
       "      <td>No</td>\n",
       "      <td>No</td>\n",
       "      <td>No phone service</td>\n",
       "      <td>DSL</td>\n",
       "      <td>No</td>\n",
       "      <td>No</td>\n",
       "      <td>No</td>\n",
       "      <td>No</td>\n",
       "      <td>Yes</td>\n",
       "      <td>Yes</td>\n",
       "      <td>Month-to-month</td>\n",
       "      <td>Yes</td>\n",
       "      <td>Electronic check</td>\n",
       "      <td>1</td>\n",
       "    </tr>\n",
       "    <tr>\n",
       "      <th>4792</th>\n",
       "      <td>37</td>\n",
       "      <td>70.35</td>\n",
       "      <td>2552.9</td>\n",
       "      <td>Male</td>\n",
       "      <td>0</td>\n",
       "      <td>No</td>\n",
       "      <td>No</td>\n",
       "      <td>Yes</td>\n",
       "      <td>No</td>\n",
       "      <td>Fiber optic</td>\n",
       "      <td>No</td>\n",
       "      <td>No</td>\n",
       "      <td>No</td>\n",
       "      <td>No</td>\n",
       "      <td>No</td>\n",
       "      <td>No</td>\n",
       "      <td>Month-to-month</td>\n",
       "      <td>Yes</td>\n",
       "      <td>Mailed check</td>\n",
       "      <td>0</td>\n",
       "    </tr>\n",
       "    <tr>\n",
       "      <th>8</th>\n",
       "      <td>50</td>\n",
       "      <td>105.95</td>\n",
       "      <td>5341.8</td>\n",
       "      <td>Male</td>\n",
       "      <td>0</td>\n",
       "      <td>Yes</td>\n",
       "      <td>Yes</td>\n",
       "      <td>Yes</td>\n",
       "      <td>Yes</td>\n",
       "      <td>Fiber optic</td>\n",
       "      <td>Yes</td>\n",
       "      <td>No</td>\n",
       "      <td>Yes</td>\n",
       "      <td>No</td>\n",
       "      <td>Yes</td>\n",
       "      <td>Yes</td>\n",
       "      <td>Month-to-month</td>\n",
       "      <td>No</td>\n",
       "      <td>Credit card (automatic)</td>\n",
       "      <td>1</td>\n",
       "    </tr>\n",
       "    <tr>\n",
       "      <th>3964</th>\n",
       "      <td>44</td>\n",
       "      <td>100.10</td>\n",
       "      <td>4378.35</td>\n",
       "      <td>Male</td>\n",
       "      <td>0</td>\n",
       "      <td>No</td>\n",
       "      <td>No</td>\n",
       "      <td>Yes</td>\n",
       "      <td>No</td>\n",
       "      <td>Fiber optic</td>\n",
       "      <td>No</td>\n",
       "      <td>No</td>\n",
       "      <td>Yes</td>\n",
       "      <td>Yes</td>\n",
       "      <td>Yes</td>\n",
       "      <td>Yes</td>\n",
       "      <td>Two year</td>\n",
       "      <td>No</td>\n",
       "      <td>Bank transfer (automatic)</td>\n",
       "      <td>0</td>\n",
       "    </tr>\n",
       "    <tr>\n",
       "      <th>240</th>\n",
       "      <td>25</td>\n",
       "      <td>20.95</td>\n",
       "      <td>495.15</td>\n",
       "      <td>Male</td>\n",
       "      <td>0</td>\n",
       "      <td>Yes</td>\n",
       "      <td>No</td>\n",
       "      <td>Yes</td>\n",
       "      <td>No</td>\n",
       "      <td>No</td>\n",
       "      <td>No internet service</td>\n",
       "      <td>No internet service</td>\n",
       "      <td>No internet service</td>\n",
       "      <td>No internet service</td>\n",
       "      <td>No internet service</td>\n",
       "      <td>No internet service</td>\n",
       "      <td>One year</td>\n",
       "      <td>Yes</td>\n",
       "      <td>Bank transfer (automatic)</td>\n",
       "      <td>0</td>\n",
       "    </tr>\n",
       "    <tr>\n",
       "      <th>1942</th>\n",
       "      <td>39</td>\n",
       "      <td>50.75</td>\n",
       "      <td>2011.4</td>\n",
       "      <td>Female</td>\n",
       "      <td>0</td>\n",
       "      <td>No</td>\n",
       "      <td>No</td>\n",
       "      <td>No</td>\n",
       "      <td>No phone service</td>\n",
       "      <td>DSL</td>\n",
       "      <td>No</td>\n",
       "      <td>No</td>\n",
       "      <td>Yes</td>\n",
       "      <td>No</td>\n",
       "      <td>Yes</td>\n",
       "      <td>Yes</td>\n",
       "      <td>Month-to-month</td>\n",
       "      <td>Yes</td>\n",
       "      <td>Electronic check</td>\n",
       "      <td>1</td>\n",
       "    </tr>\n",
       "    <tr>\n",
       "      <th>1859</th>\n",
       "      <td>52</td>\n",
       "      <td>79.20</td>\n",
       "      <td>4016.3</td>\n",
       "      <td>Male</td>\n",
       "      <td>0</td>\n",
       "      <td>Yes</td>\n",
       "      <td>Yes</td>\n",
       "      <td>Yes</td>\n",
       "      <td>No</td>\n",
       "      <td>DSL</td>\n",
       "      <td>Yes</td>\n",
       "      <td>Yes</td>\n",
       "      <td>Yes</td>\n",
       "      <td>No</td>\n",
       "      <td>Yes</td>\n",
       "      <td>Yes</td>\n",
       "      <td>Two year</td>\n",
       "      <td>No</td>\n",
       "      <td>Electronic check</td>\n",
       "      <td>0</td>\n",
       "    </tr>\n",
       "    <tr>\n",
       "      <th>2348</th>\n",
       "      <td>1</td>\n",
       "      <td>74.40</td>\n",
       "      <td>74.4</td>\n",
       "      <td>Male</td>\n",
       "      <td>1</td>\n",
       "      <td>Yes</td>\n",
       "      <td>No</td>\n",
       "      <td>Yes</td>\n",
       "      <td>Yes</td>\n",
       "      <td>Fiber optic</td>\n",
       "      <td>No</td>\n",
       "      <td>No</td>\n",
       "      <td>No</td>\n",
       "      <td>No</td>\n",
       "      <td>No</td>\n",
       "      <td>No</td>\n",
       "      <td>Month-to-month</td>\n",
       "      <td>Yes</td>\n",
       "      <td>Electronic check</td>\n",
       "      <td>1</td>\n",
       "    </tr>\n",
       "    <tr>\n",
       "      <th>2280</th>\n",
       "      <td>6</td>\n",
       "      <td>50.80</td>\n",
       "      <td>288.05</td>\n",
       "      <td>Female</td>\n",
       "      <td>0</td>\n",
       "      <td>No</td>\n",
       "      <td>No</td>\n",
       "      <td>Yes</td>\n",
       "      <td>No</td>\n",
       "      <td>DSL</td>\n",
       "      <td>No</td>\n",
       "      <td>No</td>\n",
       "      <td>No</td>\n",
       "      <td>Yes</td>\n",
       "      <td>No</td>\n",
       "      <td>No</td>\n",
       "      <td>Month-to-month</td>\n",
       "      <td>Yes</td>\n",
       "      <td>Bank transfer (automatic)</td>\n",
       "      <td>1</td>\n",
       "    </tr>\n",
       "    <tr>\n",
       "      <th>733</th>\n",
       "      <td>21</td>\n",
       "      <td>68.65</td>\n",
       "      <td>1493.2</td>\n",
       "      <td>Female</td>\n",
       "      <td>0</td>\n",
       "      <td>No</td>\n",
       "      <td>No</td>\n",
       "      <td>Yes</td>\n",
       "      <td>No</td>\n",
       "      <td>Fiber optic</td>\n",
       "      <td>No</td>\n",
       "      <td>No</td>\n",
       "      <td>No</td>\n",
       "      <td>No</td>\n",
       "      <td>No</td>\n",
       "      <td>No</td>\n",
       "      <td>Month-to-month</td>\n",
       "      <td>Yes</td>\n",
       "      <td>Electronic check</td>\n",
       "      <td>0</td>\n",
       "    </tr>\n",
       "  </tbody>\n",
       "</table>\n",
       "</div>"
      ],
      "text/plain": [
       "      ClientPeriod  MonthlySpending TotalSpent     Sex  IsSeniorCitizen  \\\n",
       "1448             9            45.40      418.8    Male                0   \n",
       "4792            37            70.35     2552.9    Male                0   \n",
       "8               50           105.95     5341.8    Male                0   \n",
       "3964            44           100.10    4378.35    Male                0   \n",
       "240             25            20.95     495.15    Male                0   \n",
       "1942            39            50.75     2011.4  Female                0   \n",
       "1859            52            79.20     4016.3    Male                0   \n",
       "2348             1            74.40       74.4    Male                1   \n",
       "2280             6            50.80     288.05  Female                0   \n",
       "733             21            68.65     1493.2  Female                0   \n",
       "\n",
       "     HasPartner HasChild HasPhoneService HasMultiplePhoneNumbers  \\\n",
       "1448         No       No              No        No phone service   \n",
       "4792         No       No             Yes                      No   \n",
       "8           Yes      Yes             Yes                     Yes   \n",
       "3964         No       No             Yes                      No   \n",
       "240         Yes       No             Yes                      No   \n",
       "1942         No       No              No        No phone service   \n",
       "1859        Yes      Yes             Yes                      No   \n",
       "2348        Yes       No             Yes                     Yes   \n",
       "2280         No       No             Yes                      No   \n",
       "733          No       No             Yes                      No   \n",
       "\n",
       "     HasInternetService HasOnlineSecurityService      HasOnlineBackup  \\\n",
       "1448                DSL                       No                   No   \n",
       "4792        Fiber optic                       No                   No   \n",
       "8           Fiber optic                      Yes                   No   \n",
       "3964        Fiber optic                       No                   No   \n",
       "240                  No      No internet service  No internet service   \n",
       "1942                DSL                       No                   No   \n",
       "1859                DSL                      Yes                  Yes   \n",
       "2348        Fiber optic                       No                   No   \n",
       "2280                DSL                       No                   No   \n",
       "733         Fiber optic                       No                   No   \n",
       "\n",
       "      HasDeviceProtection HasTechSupportAccess          HasOnlineTV  \\\n",
       "1448                   No                   No                  Yes   \n",
       "4792                   No                   No                   No   \n",
       "8                     Yes                   No                  Yes   \n",
       "3964                  Yes                  Yes                  Yes   \n",
       "240   No internet service  No internet service  No internet service   \n",
       "1942                  Yes                   No                  Yes   \n",
       "1859                  Yes                   No                  Yes   \n",
       "2348                   No                   No                   No   \n",
       "2280                   No                  Yes                   No   \n",
       "733                    No                   No                   No   \n",
       "\n",
       "     HasMovieSubscription HasContractPhone IsBillingPaperless  \\\n",
       "1448                  Yes   Month-to-month                Yes   \n",
       "4792                   No   Month-to-month                Yes   \n",
       "8                     Yes   Month-to-month                 No   \n",
       "3964                  Yes         Two year                 No   \n",
       "240   No internet service         One year                Yes   \n",
       "1942                  Yes   Month-to-month                Yes   \n",
       "1859                  Yes         Two year                 No   \n",
       "2348                   No   Month-to-month                Yes   \n",
       "2280                   No   Month-to-month                Yes   \n",
       "733                    No   Month-to-month                Yes   \n",
       "\n",
       "                  PaymentMethod  Churn  \n",
       "1448           Electronic check      1  \n",
       "4792               Mailed check      0  \n",
       "8       Credit card (automatic)      1  \n",
       "3964  Bank transfer (automatic)      0  \n",
       "240   Bank transfer (automatic)      0  \n",
       "1942           Electronic check      1  \n",
       "1859           Electronic check      0  \n",
       "2348           Electronic check      1  \n",
       "2280  Bank transfer (automatic)      1  \n",
       "733            Electronic check      0  "
      ]
     },
     "execution_count": 218,
     "metadata": {},
     "output_type": "execute_result"
    }
   ],
   "source": [
    "train.sample(10, random_state=42)"
   ]
  },
  {
   "cell_type": "code",
   "execution_count": 219,
   "metadata": {
    "execution": {
     "iopub.execute_input": "2022-10-24T19:49:04.273395Z",
     "iopub.status.busy": "2022-10-24T19:49:04.272999Z",
     "iopub.status.idle": "2022-10-24T19:49:04.288998Z",
     "shell.execute_reply": "2022-10-24T19:49:04.287345Z",
     "shell.execute_reply.started": "2022-10-24T19:49:04.273362Z"
    }
   },
   "outputs": [
    {
     "data": {
      "text/plain": [
       "(5282, 20)"
      ]
     },
     "execution_count": 219,
     "metadata": {},
     "output_type": "execute_result"
    }
   ],
   "source": [
    "train.shape"
   ]
  },
  {
   "cell_type": "code",
   "execution_count": 220,
   "metadata": {
    "execution": {
     "iopub.execute_input": "2022-10-24T19:49:04.292145Z",
     "iopub.status.busy": "2022-10-24T19:49:04.291704Z",
     "iopub.status.idle": "2022-10-24T19:49:04.309069Z",
     "shell.execute_reply": "2022-10-24T19:49:04.304641Z",
     "shell.execute_reply.started": "2022-10-24T19:49:04.292109Z"
    }
   },
   "outputs": [
    {
     "data": {
      "text/plain": [
       "ClientPeriod                  int64\n",
       "MonthlySpending             float64\n",
       "TotalSpent                   object\n",
       "Sex                          object\n",
       "IsSeniorCitizen               int64\n",
       "HasPartner                   object\n",
       "HasChild                     object\n",
       "HasPhoneService              object\n",
       "HasMultiplePhoneNumbers      object\n",
       "HasInternetService           object\n",
       "HasOnlineSecurityService     object\n",
       "HasOnlineBackup              object\n",
       "HasDeviceProtection          object\n",
       "HasTechSupportAccess         object\n",
       "HasOnlineTV                  object\n",
       "HasMovieSubscription         object\n",
       "HasContractPhone             object\n",
       "IsBillingPaperless           object\n",
       "PaymentMethod                object\n",
       "Churn                         int64\n",
       "dtype: object"
      ]
     },
     "execution_count": 220,
     "metadata": {},
     "output_type": "execute_result"
    }
   ],
   "source": [
    "train.dtypes  # Можно заметить, что TotalSpent - object, хотя это должен быть float. Значит, там проблемы с форматом данных или есть пропуски"
   ]
  },
  {
   "cell_type": "code",
   "execution_count": 221,
   "metadata": {
    "execution": {
     "iopub.execute_input": "2022-10-24T19:49:04.311983Z",
     "iopub.status.busy": "2022-10-24T19:49:04.311474Z",
     "iopub.status.idle": "2022-10-24T19:49:04.324221Z",
     "shell.execute_reply": "2022-10-24T19:49:04.321744Z",
     "shell.execute_reply.started": "2022-10-24T19:49:04.311943Z"
    }
   },
   "outputs": [],
   "source": [
    "# Числовые признаки\n",
    "num_cols = [\n",
    "    'ClientPeriod',\n",
    "    'MonthlySpending',\n",
    "    'TotalSpent'\n",
    "]\n",
    "\n",
    "# Категориальные признаки\n",
    "cat_cols = [\n",
    "    'Sex',\n",
    "    'IsSeniorCitizen',\n",
    "    'HasPartner',\n",
    "    'HasChild',\n",
    "    'HasPhoneService',\n",
    "    'HasMultiplePhoneNumbers',\n",
    "    'HasInternetService',\n",
    "    'HasOnlineSecurityService',\n",
    "    'HasOnlineBackup',\n",
    "    'HasDeviceProtection',\n",
    "    'HasTechSupportAccess',\n",
    "    'HasOnlineTV',\n",
    "    'HasMovieSubscription',\n",
    "    'HasContractPhone',\n",
    "    'IsBillingPaperless',\n",
    "    'PaymentMethod'\n",
    "]\n",
    "\n",
    "feature_cols = num_cols + cat_cols\n",
    "target_col = 'Churn'"
   ]
  },
  {
   "cell_type": "code",
   "execution_count": 222,
   "metadata": {
    "execution": {
     "iopub.execute_input": "2022-10-24T19:49:04.328939Z",
     "iopub.status.busy": "2022-10-24T19:49:04.326718Z",
     "iopub.status.idle": "2022-10-24T19:49:04.342030Z",
     "shell.execute_reply": "2022-10-24T19:49:04.339396Z",
     "shell.execute_reply.started": "2022-10-24T19:49:04.328874Z"
    }
   },
   "outputs": [
    {
     "data": {
      "text/plain": [
       "(3, 16)"
      ]
     },
     "execution_count": 222,
     "metadata": {},
     "output_type": "execute_result"
    }
   ],
   "source": [
    "len(num_cols), len(cat_cols)"
   ]
  },
  {
   "cell_type": "markdown",
   "metadata": {},
   "source": [
    "Обучающая выборка состоит из 5282 объектов, имеем 19 признаков (3 числовых и 16 категориальных), целевая переменная **Churn** - уйдет ли от нас клиент"
   ]
  },
  {
   "cell_type": "markdown",
   "metadata": {},
   "source": [
    "Посмотрим на возможные значения категориальных признаков:"
   ]
  },
  {
   "cell_type": "code",
   "execution_count": 223,
   "metadata": {
    "execution": {
     "iopub.execute_input": "2022-10-24T19:49:04.347533Z",
     "iopub.status.busy": "2022-10-24T19:49:04.345730Z",
     "iopub.status.idle": "2022-10-24T19:49:04.373773Z",
     "shell.execute_reply": "2022-10-24T19:49:04.371924Z",
     "shell.execute_reply.started": "2022-10-24T19:49:04.347458Z"
    }
   },
   "outputs": [
    {
     "name": "stdout",
     "output_type": "stream",
     "text": [
      "1) Sex (2): ['Male' 'Female']\n",
      "2) IsSeniorCitizen (2): [0 1]\n",
      "3) HasPartner (2): ['Yes' 'No']\n",
      "4) HasChild (2): ['Yes' 'No']\n",
      "5) HasPhoneService (2): ['Yes' 'No']\n",
      "6) HasMultiplePhoneNumbers (3): ['No' 'Yes' 'No phone service']\n",
      "7) HasInternetService (3): ['No' 'Fiber optic' 'DSL']\n",
      "8) HasOnlineSecurityService (3): ['No internet service' 'No' 'Yes']\n",
      "9) HasOnlineBackup (3): ['No internet service' 'No' 'Yes']\n",
      "10) HasDeviceProtection (3): ['No internet service' 'No' 'Yes']\n",
      "11) HasTechSupportAccess (3): ['No internet service' 'Yes' 'No']\n",
      "12) HasOnlineTV (3): ['No internet service' 'No' 'Yes']\n",
      "13) HasMovieSubscription (3): ['No internet service' 'No' 'Yes']\n",
      "14) HasContractPhone (3): ['One year' 'Two year' 'Month-to-month']\n",
      "15) IsBillingPaperless (2): ['No' 'Yes']\n",
      "16) PaymentMethod (4): ['Mailed check' 'Credit card (automatic)' 'Electronic check'\n",
      " 'Bank transfer (automatic)']\n"
     ]
    }
   ],
   "source": [
    "for i, cat in enumerate(cat_cols):\n",
    "    unique_cat = train[cat].unique()\n",
    "    print(f\"{i+1}) {cat} ({len(unique_cat)}): {unique_cat}\")"
   ]
  },
  {
   "cell_type": "markdown",
   "metadata": {},
   "source": [
    "В данных нет пропусков"
   ]
  },
  {
   "cell_type": "code",
   "execution_count": 224,
   "metadata": {
    "execution": {
     "iopub.execute_input": "2022-10-24T19:49:04.376801Z",
     "iopub.status.busy": "2022-10-24T19:49:04.376242Z",
     "iopub.status.idle": "2022-10-24T19:49:04.407541Z",
     "shell.execute_reply": "2022-10-24T19:49:04.403111Z",
     "shell.execute_reply.started": "2022-10-24T19:49:04.376742Z"
    }
   },
   "outputs": [
    {
     "data": {
      "text/plain": [
       "ClientPeriod                0\n",
       "MonthlySpending             0\n",
       "TotalSpent                  0\n",
       "Sex                         0\n",
       "IsSeniorCitizen             0\n",
       "HasPartner                  0\n",
       "HasChild                    0\n",
       "HasPhoneService             0\n",
       "HasMultiplePhoneNumbers     0\n",
       "HasInternetService          0\n",
       "HasOnlineSecurityService    0\n",
       "HasOnlineBackup             0\n",
       "HasDeviceProtection         0\n",
       "HasTechSupportAccess        0\n",
       "HasOnlineTV                 0\n",
       "HasMovieSubscription        0\n",
       "HasContractPhone            0\n",
       "IsBillingPaperless          0\n",
       "PaymentMethod               0\n",
       "Churn                       0\n",
       "dtype: int64"
      ]
     },
     "execution_count": 224,
     "metadata": {},
     "output_type": "execute_result"
    }
   ],
   "source": [
    "train.isna().sum()"
   ]
  },
  {
   "cell_type": "markdown",
   "metadata": {},
   "source": [
    "Однако мы заметили проблему с типом TotalSpent. Рассмотрим этот признак                  "
   ]
  },
  {
   "cell_type": "code",
   "execution_count": 225,
   "metadata": {
    "execution": {
     "iopub.execute_input": "2022-10-24T19:49:04.409585Z",
     "iopub.status.busy": "2022-10-24T19:49:04.409142Z",
     "iopub.status.idle": "2022-10-24T19:49:04.436457Z",
     "shell.execute_reply": "2022-10-24T19:49:04.433237Z",
     "shell.execute_reply.started": "2022-10-24T19:49:04.409548Z"
    }
   },
   "outputs": [
    {
     "name": "stdout",
     "output_type": "stream",
     "text": [
      "[' ' '100.2' '100.25' ... '997.65' '998.1' '999.9']\n"
     ]
    },
    {
     "data": {
      "text/plain": [
       "           9\n",
       "20.2       9\n",
       "19.75      8\n",
       "20.05      6\n",
       "19.65      6\n",
       "          ..\n",
       "41.85      1\n",
       "4326.25    1\n",
       "950.2      1\n",
       "4264       1\n",
       "1375.6     1\n",
       "Name: TotalSpent, Length: 4978, dtype: int64"
      ]
     },
     "execution_count": 225,
     "metadata": {},
     "output_type": "execute_result"
    }
   ],
   "source": [
    "print(np.sort(train['TotalSpent'].unique()))\n",
    "train['TotalSpent'].value_counts()"
   ]
  },
  {
   "cell_type": "markdown",
   "metadata": {},
   "source": [
    "Мы видим пробелы (`_`) в признаке. Выведем объекты с пробелами (их оказалось 9)"
   ]
  },
  {
   "cell_type": "code",
   "execution_count": 226,
   "metadata": {
    "execution": {
     "iopub.execute_input": "2022-10-24T19:49:04.440873Z",
     "iopub.status.busy": "2022-10-24T19:49:04.440272Z",
     "iopub.status.idle": "2022-10-24T19:49:04.476878Z",
     "shell.execute_reply": "2022-10-24T19:49:04.475357Z",
     "shell.execute_reply.started": "2022-10-24T19:49:04.440812Z"
    }
   },
   "outputs": [
    {
     "data": {
      "text/html": [
       "<div>\n",
       "<style scoped>\n",
       "    .dataframe tbody tr th:only-of-type {\n",
       "        vertical-align: middle;\n",
       "    }\n",
       "\n",
       "    .dataframe tbody tr th {\n",
       "        vertical-align: top;\n",
       "    }\n",
       "\n",
       "    .dataframe thead th {\n",
       "        text-align: right;\n",
       "    }\n",
       "</style>\n",
       "<table border=\"1\" class=\"dataframe\">\n",
       "  <thead>\n",
       "    <tr style=\"text-align: right;\">\n",
       "      <th></th>\n",
       "      <th>ClientPeriod</th>\n",
       "      <th>MonthlySpending</th>\n",
       "      <th>TotalSpent</th>\n",
       "      <th>Sex</th>\n",
       "      <th>IsSeniorCitizen</th>\n",
       "      <th>HasPartner</th>\n",
       "      <th>HasChild</th>\n",
       "      <th>HasPhoneService</th>\n",
       "      <th>HasMultiplePhoneNumbers</th>\n",
       "      <th>HasInternetService</th>\n",
       "      <th>HasOnlineSecurityService</th>\n",
       "      <th>HasOnlineBackup</th>\n",
       "      <th>HasDeviceProtection</th>\n",
       "      <th>HasTechSupportAccess</th>\n",
       "      <th>HasOnlineTV</th>\n",
       "      <th>HasMovieSubscription</th>\n",
       "      <th>HasContractPhone</th>\n",
       "      <th>IsBillingPaperless</th>\n",
       "      <th>PaymentMethod</th>\n",
       "      <th>Churn</th>\n",
       "    </tr>\n",
       "  </thead>\n",
       "  <tbody>\n",
       "    <tr>\n",
       "      <th>1048</th>\n",
       "      <td>0</td>\n",
       "      <td>25.75</td>\n",
       "      <td></td>\n",
       "      <td>Male</td>\n",
       "      <td>0</td>\n",
       "      <td>Yes</td>\n",
       "      <td>Yes</td>\n",
       "      <td>Yes</td>\n",
       "      <td>Yes</td>\n",
       "      <td>No</td>\n",
       "      <td>No internet service</td>\n",
       "      <td>No internet service</td>\n",
       "      <td>No internet service</td>\n",
       "      <td>No internet service</td>\n",
       "      <td>No internet service</td>\n",
       "      <td>No internet service</td>\n",
       "      <td>Two year</td>\n",
       "      <td>No</td>\n",
       "      <td>Mailed check</td>\n",
       "      <td>0</td>\n",
       "    </tr>\n",
       "    <tr>\n",
       "      <th>1707</th>\n",
       "      <td>0</td>\n",
       "      <td>73.35</td>\n",
       "      <td></td>\n",
       "      <td>Female</td>\n",
       "      <td>0</td>\n",
       "      <td>Yes</td>\n",
       "      <td>Yes</td>\n",
       "      <td>Yes</td>\n",
       "      <td>Yes</td>\n",
       "      <td>DSL</td>\n",
       "      <td>No</td>\n",
       "      <td>Yes</td>\n",
       "      <td>Yes</td>\n",
       "      <td>Yes</td>\n",
       "      <td>Yes</td>\n",
       "      <td>No</td>\n",
       "      <td>Two year</td>\n",
       "      <td>No</td>\n",
       "      <td>Mailed check</td>\n",
       "      <td>0</td>\n",
       "    </tr>\n",
       "    <tr>\n",
       "      <th>2543</th>\n",
       "      <td>0</td>\n",
       "      <td>19.70</td>\n",
       "      <td></td>\n",
       "      <td>Male</td>\n",
       "      <td>0</td>\n",
       "      <td>Yes</td>\n",
       "      <td>Yes</td>\n",
       "      <td>Yes</td>\n",
       "      <td>No</td>\n",
       "      <td>No</td>\n",
       "      <td>No internet service</td>\n",
       "      <td>No internet service</td>\n",
       "      <td>No internet service</td>\n",
       "      <td>No internet service</td>\n",
       "      <td>No internet service</td>\n",
       "      <td>No internet service</td>\n",
       "      <td>One year</td>\n",
       "      <td>Yes</td>\n",
       "      <td>Mailed check</td>\n",
       "      <td>0</td>\n",
       "    </tr>\n",
       "    <tr>\n",
       "      <th>3078</th>\n",
       "      <td>0</td>\n",
       "      <td>80.85</td>\n",
       "      <td></td>\n",
       "      <td>Female</td>\n",
       "      <td>0</td>\n",
       "      <td>Yes</td>\n",
       "      <td>Yes</td>\n",
       "      <td>Yes</td>\n",
       "      <td>No</td>\n",
       "      <td>DSL</td>\n",
       "      <td>Yes</td>\n",
       "      <td>Yes</td>\n",
       "      <td>Yes</td>\n",
       "      <td>No</td>\n",
       "      <td>Yes</td>\n",
       "      <td>Yes</td>\n",
       "      <td>Two year</td>\n",
       "      <td>No</td>\n",
       "      <td>Mailed check</td>\n",
       "      <td>0</td>\n",
       "    </tr>\n",
       "    <tr>\n",
       "      <th>3697</th>\n",
       "      <td>0</td>\n",
       "      <td>20.00</td>\n",
       "      <td></td>\n",
       "      <td>Female</td>\n",
       "      <td>0</td>\n",
       "      <td>Yes</td>\n",
       "      <td>Yes</td>\n",
       "      <td>Yes</td>\n",
       "      <td>No</td>\n",
       "      <td>No</td>\n",
       "      <td>No internet service</td>\n",
       "      <td>No internet service</td>\n",
       "      <td>No internet service</td>\n",
       "      <td>No internet service</td>\n",
       "      <td>No internet service</td>\n",
       "      <td>No internet service</td>\n",
       "      <td>Two year</td>\n",
       "      <td>No</td>\n",
       "      <td>Mailed check</td>\n",
       "      <td>0</td>\n",
       "    </tr>\n",
       "    <tr>\n",
       "      <th>4002</th>\n",
       "      <td>0</td>\n",
       "      <td>61.90</td>\n",
       "      <td></td>\n",
       "      <td>Male</td>\n",
       "      <td>0</td>\n",
       "      <td>No</td>\n",
       "      <td>Yes</td>\n",
       "      <td>Yes</td>\n",
       "      <td>Yes</td>\n",
       "      <td>DSL</td>\n",
       "      <td>Yes</td>\n",
       "      <td>Yes</td>\n",
       "      <td>No</td>\n",
       "      <td>Yes</td>\n",
       "      <td>No</td>\n",
       "      <td>No</td>\n",
       "      <td>Two year</td>\n",
       "      <td>Yes</td>\n",
       "      <td>Bank transfer (automatic)</td>\n",
       "      <td>0</td>\n",
       "    </tr>\n",
       "    <tr>\n",
       "      <th>4326</th>\n",
       "      <td>0</td>\n",
       "      <td>25.35</td>\n",
       "      <td></td>\n",
       "      <td>Male</td>\n",
       "      <td>0</td>\n",
       "      <td>Yes</td>\n",
       "      <td>Yes</td>\n",
       "      <td>Yes</td>\n",
       "      <td>Yes</td>\n",
       "      <td>No</td>\n",
       "      <td>No internet service</td>\n",
       "      <td>No internet service</td>\n",
       "      <td>No internet service</td>\n",
       "      <td>No internet service</td>\n",
       "      <td>No internet service</td>\n",
       "      <td>No internet service</td>\n",
       "      <td>Two year</td>\n",
       "      <td>No</td>\n",
       "      <td>Mailed check</td>\n",
       "      <td>0</td>\n",
       "    </tr>\n",
       "    <tr>\n",
       "      <th>4551</th>\n",
       "      <td>0</td>\n",
       "      <td>52.55</td>\n",
       "      <td></td>\n",
       "      <td>Female</td>\n",
       "      <td>0</td>\n",
       "      <td>Yes</td>\n",
       "      <td>Yes</td>\n",
       "      <td>No</td>\n",
       "      <td>No phone service</td>\n",
       "      <td>DSL</td>\n",
       "      <td>Yes</td>\n",
       "      <td>No</td>\n",
       "      <td>Yes</td>\n",
       "      <td>Yes</td>\n",
       "      <td>Yes</td>\n",
       "      <td>No</td>\n",
       "      <td>Two year</td>\n",
       "      <td>Yes</td>\n",
       "      <td>Bank transfer (automatic)</td>\n",
       "      <td>0</td>\n",
       "    </tr>\n",
       "    <tr>\n",
       "      <th>4598</th>\n",
       "      <td>0</td>\n",
       "      <td>56.05</td>\n",
       "      <td></td>\n",
       "      <td>Female</td>\n",
       "      <td>0</td>\n",
       "      <td>Yes</td>\n",
       "      <td>Yes</td>\n",
       "      <td>No</td>\n",
       "      <td>No phone service</td>\n",
       "      <td>DSL</td>\n",
       "      <td>Yes</td>\n",
       "      <td>Yes</td>\n",
       "      <td>Yes</td>\n",
       "      <td>Yes</td>\n",
       "      <td>Yes</td>\n",
       "      <td>No</td>\n",
       "      <td>Two year</td>\n",
       "      <td>No</td>\n",
       "      <td>Credit card (automatic)</td>\n",
       "      <td>0</td>\n",
       "    </tr>\n",
       "  </tbody>\n",
       "</table>\n",
       "</div>"
      ],
      "text/plain": [
       "      ClientPeriod  MonthlySpending TotalSpent     Sex  IsSeniorCitizen  \\\n",
       "1048             0            25.75               Male                0   \n",
       "1707             0            73.35             Female                0   \n",
       "2543             0            19.70               Male                0   \n",
       "3078             0            80.85             Female                0   \n",
       "3697             0            20.00             Female                0   \n",
       "4002             0            61.90               Male                0   \n",
       "4326             0            25.35               Male                0   \n",
       "4551             0            52.55             Female                0   \n",
       "4598             0            56.05             Female                0   \n",
       "\n",
       "     HasPartner HasChild HasPhoneService HasMultiplePhoneNumbers  \\\n",
       "1048        Yes      Yes             Yes                     Yes   \n",
       "1707        Yes      Yes             Yes                     Yes   \n",
       "2543        Yes      Yes             Yes                      No   \n",
       "3078        Yes      Yes             Yes                      No   \n",
       "3697        Yes      Yes             Yes                      No   \n",
       "4002         No      Yes             Yes                     Yes   \n",
       "4326        Yes      Yes             Yes                     Yes   \n",
       "4551        Yes      Yes              No        No phone service   \n",
       "4598        Yes      Yes              No        No phone service   \n",
       "\n",
       "     HasInternetService HasOnlineSecurityService      HasOnlineBackup  \\\n",
       "1048                 No      No internet service  No internet service   \n",
       "1707                DSL                       No                  Yes   \n",
       "2543                 No      No internet service  No internet service   \n",
       "3078                DSL                      Yes                  Yes   \n",
       "3697                 No      No internet service  No internet service   \n",
       "4002                DSL                      Yes                  Yes   \n",
       "4326                 No      No internet service  No internet service   \n",
       "4551                DSL                      Yes                   No   \n",
       "4598                DSL                      Yes                  Yes   \n",
       "\n",
       "      HasDeviceProtection HasTechSupportAccess          HasOnlineTV  \\\n",
       "1048  No internet service  No internet service  No internet service   \n",
       "1707                  Yes                  Yes                  Yes   \n",
       "2543  No internet service  No internet service  No internet service   \n",
       "3078                  Yes                   No                  Yes   \n",
       "3697  No internet service  No internet service  No internet service   \n",
       "4002                   No                  Yes                   No   \n",
       "4326  No internet service  No internet service  No internet service   \n",
       "4551                  Yes                  Yes                  Yes   \n",
       "4598                  Yes                  Yes                  Yes   \n",
       "\n",
       "     HasMovieSubscription HasContractPhone IsBillingPaperless  \\\n",
       "1048  No internet service         Two year                 No   \n",
       "1707                   No         Two year                 No   \n",
       "2543  No internet service         One year                Yes   \n",
       "3078                  Yes         Two year                 No   \n",
       "3697  No internet service         Two year                 No   \n",
       "4002                   No         Two year                Yes   \n",
       "4326  No internet service         Two year                 No   \n",
       "4551                   No         Two year                Yes   \n",
       "4598                   No         Two year                 No   \n",
       "\n",
       "                  PaymentMethod  Churn  \n",
       "1048               Mailed check      0  \n",
       "1707               Mailed check      0  \n",
       "2543               Mailed check      0  \n",
       "3078               Mailed check      0  \n",
       "3697               Mailed check      0  \n",
       "4002  Bank transfer (automatic)      0  \n",
       "4326               Mailed check      0  \n",
       "4551  Bank transfer (automatic)      0  \n",
       "4598    Credit card (automatic)      0  "
      ]
     },
     "execution_count": 226,
     "metadata": {},
     "output_type": "execute_result"
    }
   ],
   "source": [
    "train[train['TotalSpent'] == ' ']"
   ]
  },
  {
   "cell_type": "code",
   "execution_count": 227,
   "metadata": {
    "execution": {
     "iopub.execute_input": "2022-10-24T19:49:04.478841Z",
     "iopub.status.busy": "2022-10-24T19:49:04.478465Z",
     "iopub.status.idle": "2022-10-24T19:49:04.489610Z",
     "shell.execute_reply": "2022-10-24T19:49:04.488464Z",
     "shell.execute_reply.started": "2022-10-24T19:49:04.478810Z"
    }
   },
   "outputs": [
    {
     "data": {
      "text/plain": [
       "(9, 20)"
      ]
     },
     "execution_count": 227,
     "metadata": {},
     "output_type": "execute_result"
    }
   ],
   "source": [
    "train[train['TotalSpent'] == ' '].shape"
   ]
  },
  {
   "cell_type": "markdown",
   "metadata": {},
   "source": [
    "Можно заметить, что у данных объектов также ClientPeriod = 0 (видимо, клиенты еще не зарегистрированы). \n",
    "\n",
    "Посмотрим также на объекты с ClientPeriod = 0"
   ]
  },
  {
   "cell_type": "code",
   "execution_count": 228,
   "metadata": {
    "execution": {
     "iopub.execute_input": "2022-10-24T19:49:04.492206Z",
     "iopub.status.busy": "2022-10-24T19:49:04.491797Z",
     "iopub.status.idle": "2022-10-24T19:49:04.509011Z",
     "shell.execute_reply": "2022-10-24T19:49:04.507918Z",
     "shell.execute_reply.started": "2022-10-24T19:49:04.492171Z"
    }
   },
   "outputs": [
    {
     "name": "stdout",
     "output_type": "stream",
     "text": [
      "[ 0  1  2  3  4  5  6  7  8  9 10 11 12 13 14 15 16 17 18 19 20 21 22 23\n",
      " 24 25 26 27 28 29 30 31 32 33 34 35 36 37 38 39 40 41 42 43 44 45 46 47\n",
      " 48 49 50 51 52 53 54 55 56 57 58 59 60 61 62 63 64 65 66 67 68 69 70 71\n",
      " 72]\n"
     ]
    },
    {
     "data": {
      "text/plain": [
       "1     457\n",
       "72    284\n",
       "2     165\n",
       "3     162\n",
       "4     136\n",
       "     ... \n",
       "57     39\n",
       "39     35\n",
       "44     34\n",
       "36     34\n",
       "0       9\n",
       "Name: ClientPeriod, Length: 73, dtype: int64"
      ]
     },
     "execution_count": 228,
     "metadata": {},
     "output_type": "execute_result"
    }
   ],
   "source": [
    "print(np.sort(train['ClientPeriod'].unique()))\n",
    "train['ClientPeriod'].value_counts()"
   ]
  },
  {
   "cell_type": "code",
   "execution_count": 229,
   "metadata": {
    "execution": {
     "iopub.execute_input": "2022-10-24T19:49:04.511486Z",
     "iopub.status.busy": "2022-10-24T19:49:04.510853Z",
     "iopub.status.idle": "2022-10-24T19:49:04.544697Z",
     "shell.execute_reply": "2022-10-24T19:49:04.543202Z",
     "shell.execute_reply.started": "2022-10-24T19:49:04.511442Z"
    }
   },
   "outputs": [
    {
     "data": {
      "text/html": [
       "<div>\n",
       "<style scoped>\n",
       "    .dataframe tbody tr th:only-of-type {\n",
       "        vertical-align: middle;\n",
       "    }\n",
       "\n",
       "    .dataframe tbody tr th {\n",
       "        vertical-align: top;\n",
       "    }\n",
       "\n",
       "    .dataframe thead th {\n",
       "        text-align: right;\n",
       "    }\n",
       "</style>\n",
       "<table border=\"1\" class=\"dataframe\">\n",
       "  <thead>\n",
       "    <tr style=\"text-align: right;\">\n",
       "      <th></th>\n",
       "      <th>ClientPeriod</th>\n",
       "      <th>MonthlySpending</th>\n",
       "      <th>TotalSpent</th>\n",
       "      <th>Sex</th>\n",
       "      <th>IsSeniorCitizen</th>\n",
       "      <th>HasPartner</th>\n",
       "      <th>HasChild</th>\n",
       "      <th>HasPhoneService</th>\n",
       "      <th>HasMultiplePhoneNumbers</th>\n",
       "      <th>HasInternetService</th>\n",
       "      <th>HasOnlineSecurityService</th>\n",
       "      <th>HasOnlineBackup</th>\n",
       "      <th>HasDeviceProtection</th>\n",
       "      <th>HasTechSupportAccess</th>\n",
       "      <th>HasOnlineTV</th>\n",
       "      <th>HasMovieSubscription</th>\n",
       "      <th>HasContractPhone</th>\n",
       "      <th>IsBillingPaperless</th>\n",
       "      <th>PaymentMethod</th>\n",
       "      <th>Churn</th>\n",
       "    </tr>\n",
       "  </thead>\n",
       "  <tbody>\n",
       "    <tr>\n",
       "      <th>1048</th>\n",
       "      <td>0</td>\n",
       "      <td>25.75</td>\n",
       "      <td></td>\n",
       "      <td>Male</td>\n",
       "      <td>0</td>\n",
       "      <td>Yes</td>\n",
       "      <td>Yes</td>\n",
       "      <td>Yes</td>\n",
       "      <td>Yes</td>\n",
       "      <td>No</td>\n",
       "      <td>No internet service</td>\n",
       "      <td>No internet service</td>\n",
       "      <td>No internet service</td>\n",
       "      <td>No internet service</td>\n",
       "      <td>No internet service</td>\n",
       "      <td>No internet service</td>\n",
       "      <td>Two year</td>\n",
       "      <td>No</td>\n",
       "      <td>Mailed check</td>\n",
       "      <td>0</td>\n",
       "    </tr>\n",
       "    <tr>\n",
       "      <th>1707</th>\n",
       "      <td>0</td>\n",
       "      <td>73.35</td>\n",
       "      <td></td>\n",
       "      <td>Female</td>\n",
       "      <td>0</td>\n",
       "      <td>Yes</td>\n",
       "      <td>Yes</td>\n",
       "      <td>Yes</td>\n",
       "      <td>Yes</td>\n",
       "      <td>DSL</td>\n",
       "      <td>No</td>\n",
       "      <td>Yes</td>\n",
       "      <td>Yes</td>\n",
       "      <td>Yes</td>\n",
       "      <td>Yes</td>\n",
       "      <td>No</td>\n",
       "      <td>Two year</td>\n",
       "      <td>No</td>\n",
       "      <td>Mailed check</td>\n",
       "      <td>0</td>\n",
       "    </tr>\n",
       "    <tr>\n",
       "      <th>2543</th>\n",
       "      <td>0</td>\n",
       "      <td>19.70</td>\n",
       "      <td></td>\n",
       "      <td>Male</td>\n",
       "      <td>0</td>\n",
       "      <td>Yes</td>\n",
       "      <td>Yes</td>\n",
       "      <td>Yes</td>\n",
       "      <td>No</td>\n",
       "      <td>No</td>\n",
       "      <td>No internet service</td>\n",
       "      <td>No internet service</td>\n",
       "      <td>No internet service</td>\n",
       "      <td>No internet service</td>\n",
       "      <td>No internet service</td>\n",
       "      <td>No internet service</td>\n",
       "      <td>One year</td>\n",
       "      <td>Yes</td>\n",
       "      <td>Mailed check</td>\n",
       "      <td>0</td>\n",
       "    </tr>\n",
       "    <tr>\n",
       "      <th>3078</th>\n",
       "      <td>0</td>\n",
       "      <td>80.85</td>\n",
       "      <td></td>\n",
       "      <td>Female</td>\n",
       "      <td>0</td>\n",
       "      <td>Yes</td>\n",
       "      <td>Yes</td>\n",
       "      <td>Yes</td>\n",
       "      <td>No</td>\n",
       "      <td>DSL</td>\n",
       "      <td>Yes</td>\n",
       "      <td>Yes</td>\n",
       "      <td>Yes</td>\n",
       "      <td>No</td>\n",
       "      <td>Yes</td>\n",
       "      <td>Yes</td>\n",
       "      <td>Two year</td>\n",
       "      <td>No</td>\n",
       "      <td>Mailed check</td>\n",
       "      <td>0</td>\n",
       "    </tr>\n",
       "    <tr>\n",
       "      <th>3697</th>\n",
       "      <td>0</td>\n",
       "      <td>20.00</td>\n",
       "      <td></td>\n",
       "      <td>Female</td>\n",
       "      <td>0</td>\n",
       "      <td>Yes</td>\n",
       "      <td>Yes</td>\n",
       "      <td>Yes</td>\n",
       "      <td>No</td>\n",
       "      <td>No</td>\n",
       "      <td>No internet service</td>\n",
       "      <td>No internet service</td>\n",
       "      <td>No internet service</td>\n",
       "      <td>No internet service</td>\n",
       "      <td>No internet service</td>\n",
       "      <td>No internet service</td>\n",
       "      <td>Two year</td>\n",
       "      <td>No</td>\n",
       "      <td>Mailed check</td>\n",
       "      <td>0</td>\n",
       "    </tr>\n",
       "    <tr>\n",
       "      <th>4002</th>\n",
       "      <td>0</td>\n",
       "      <td>61.90</td>\n",
       "      <td></td>\n",
       "      <td>Male</td>\n",
       "      <td>0</td>\n",
       "      <td>No</td>\n",
       "      <td>Yes</td>\n",
       "      <td>Yes</td>\n",
       "      <td>Yes</td>\n",
       "      <td>DSL</td>\n",
       "      <td>Yes</td>\n",
       "      <td>Yes</td>\n",
       "      <td>No</td>\n",
       "      <td>Yes</td>\n",
       "      <td>No</td>\n",
       "      <td>No</td>\n",
       "      <td>Two year</td>\n",
       "      <td>Yes</td>\n",
       "      <td>Bank transfer (automatic)</td>\n",
       "      <td>0</td>\n",
       "    </tr>\n",
       "    <tr>\n",
       "      <th>4326</th>\n",
       "      <td>0</td>\n",
       "      <td>25.35</td>\n",
       "      <td></td>\n",
       "      <td>Male</td>\n",
       "      <td>0</td>\n",
       "      <td>Yes</td>\n",
       "      <td>Yes</td>\n",
       "      <td>Yes</td>\n",
       "      <td>Yes</td>\n",
       "      <td>No</td>\n",
       "      <td>No internet service</td>\n",
       "      <td>No internet service</td>\n",
       "      <td>No internet service</td>\n",
       "      <td>No internet service</td>\n",
       "      <td>No internet service</td>\n",
       "      <td>No internet service</td>\n",
       "      <td>Two year</td>\n",
       "      <td>No</td>\n",
       "      <td>Mailed check</td>\n",
       "      <td>0</td>\n",
       "    </tr>\n",
       "    <tr>\n",
       "      <th>4551</th>\n",
       "      <td>0</td>\n",
       "      <td>52.55</td>\n",
       "      <td></td>\n",
       "      <td>Female</td>\n",
       "      <td>0</td>\n",
       "      <td>Yes</td>\n",
       "      <td>Yes</td>\n",
       "      <td>No</td>\n",
       "      <td>No phone service</td>\n",
       "      <td>DSL</td>\n",
       "      <td>Yes</td>\n",
       "      <td>No</td>\n",
       "      <td>Yes</td>\n",
       "      <td>Yes</td>\n",
       "      <td>Yes</td>\n",
       "      <td>No</td>\n",
       "      <td>Two year</td>\n",
       "      <td>Yes</td>\n",
       "      <td>Bank transfer (automatic)</td>\n",
       "      <td>0</td>\n",
       "    </tr>\n",
       "    <tr>\n",
       "      <th>4598</th>\n",
       "      <td>0</td>\n",
       "      <td>56.05</td>\n",
       "      <td></td>\n",
       "      <td>Female</td>\n",
       "      <td>0</td>\n",
       "      <td>Yes</td>\n",
       "      <td>Yes</td>\n",
       "      <td>No</td>\n",
       "      <td>No phone service</td>\n",
       "      <td>DSL</td>\n",
       "      <td>Yes</td>\n",
       "      <td>Yes</td>\n",
       "      <td>Yes</td>\n",
       "      <td>Yes</td>\n",
       "      <td>Yes</td>\n",
       "      <td>No</td>\n",
       "      <td>Two year</td>\n",
       "      <td>No</td>\n",
       "      <td>Credit card (automatic)</td>\n",
       "      <td>0</td>\n",
       "    </tr>\n",
       "  </tbody>\n",
       "</table>\n",
       "</div>"
      ],
      "text/plain": [
       "      ClientPeriod  MonthlySpending TotalSpent     Sex  IsSeniorCitizen  \\\n",
       "1048             0            25.75               Male                0   \n",
       "1707             0            73.35             Female                0   \n",
       "2543             0            19.70               Male                0   \n",
       "3078             0            80.85             Female                0   \n",
       "3697             0            20.00             Female                0   \n",
       "4002             0            61.90               Male                0   \n",
       "4326             0            25.35               Male                0   \n",
       "4551             0            52.55             Female                0   \n",
       "4598             0            56.05             Female                0   \n",
       "\n",
       "     HasPartner HasChild HasPhoneService HasMultiplePhoneNumbers  \\\n",
       "1048        Yes      Yes             Yes                     Yes   \n",
       "1707        Yes      Yes             Yes                     Yes   \n",
       "2543        Yes      Yes             Yes                      No   \n",
       "3078        Yes      Yes             Yes                      No   \n",
       "3697        Yes      Yes             Yes                      No   \n",
       "4002         No      Yes             Yes                     Yes   \n",
       "4326        Yes      Yes             Yes                     Yes   \n",
       "4551        Yes      Yes              No        No phone service   \n",
       "4598        Yes      Yes              No        No phone service   \n",
       "\n",
       "     HasInternetService HasOnlineSecurityService      HasOnlineBackup  \\\n",
       "1048                 No      No internet service  No internet service   \n",
       "1707                DSL                       No                  Yes   \n",
       "2543                 No      No internet service  No internet service   \n",
       "3078                DSL                      Yes                  Yes   \n",
       "3697                 No      No internet service  No internet service   \n",
       "4002                DSL                      Yes                  Yes   \n",
       "4326                 No      No internet service  No internet service   \n",
       "4551                DSL                      Yes                   No   \n",
       "4598                DSL                      Yes                  Yes   \n",
       "\n",
       "      HasDeviceProtection HasTechSupportAccess          HasOnlineTV  \\\n",
       "1048  No internet service  No internet service  No internet service   \n",
       "1707                  Yes                  Yes                  Yes   \n",
       "2543  No internet service  No internet service  No internet service   \n",
       "3078                  Yes                   No                  Yes   \n",
       "3697  No internet service  No internet service  No internet service   \n",
       "4002                   No                  Yes                   No   \n",
       "4326  No internet service  No internet service  No internet service   \n",
       "4551                  Yes                  Yes                  Yes   \n",
       "4598                  Yes                  Yes                  Yes   \n",
       "\n",
       "     HasMovieSubscription HasContractPhone IsBillingPaperless  \\\n",
       "1048  No internet service         Two year                 No   \n",
       "1707                   No         Two year                 No   \n",
       "2543  No internet service         One year                Yes   \n",
       "3078                  Yes         Two year                 No   \n",
       "3697  No internet service         Two year                 No   \n",
       "4002                   No         Two year                Yes   \n",
       "4326  No internet service         Two year                 No   \n",
       "4551                   No         Two year                Yes   \n",
       "4598                   No         Two year                 No   \n",
       "\n",
       "                  PaymentMethod  Churn  \n",
       "1048               Mailed check      0  \n",
       "1707               Mailed check      0  \n",
       "2543               Mailed check      0  \n",
       "3078               Mailed check      0  \n",
       "3697               Mailed check      0  \n",
       "4002  Bank transfer (automatic)      0  \n",
       "4326               Mailed check      0  \n",
       "4551  Bank transfer (automatic)      0  \n",
       "4598    Credit card (automatic)      0  "
      ]
     },
     "execution_count": 229,
     "metadata": {},
     "output_type": "execute_result"
    }
   ],
   "source": [
    "train[train['ClientPeriod'] == 0]"
   ]
  },
  {
   "cell_type": "code",
   "execution_count": 230,
   "metadata": {
    "execution": {
     "iopub.execute_input": "2022-10-24T19:49:04.547526Z",
     "iopub.status.busy": "2022-10-24T19:49:04.547075Z",
     "iopub.status.idle": "2022-10-24T19:49:04.557992Z",
     "shell.execute_reply": "2022-10-24T19:49:04.556589Z",
     "shell.execute_reply.started": "2022-10-24T19:49:04.547489Z"
    }
   },
   "outputs": [
    {
     "data": {
      "text/plain": [
       "(9, 20)"
      ]
     },
     "execution_count": 230,
     "metadata": {},
     "output_type": "execute_result"
    }
   ],
   "source": [
    "train[train['ClientPeriod'] == 0].shape"
   ]
  },
  {
   "cell_type": "markdown",
   "metadata": {},
   "source": [
    "Как можно заметить, объекты с TotalSpent = ' ' и ClientPeriod = 0 - одни и те же. Проверим это напрямую:"
   ]
  },
  {
   "cell_type": "code",
   "execution_count": 231,
   "metadata": {
    "execution": {
     "iopub.execute_input": "2022-10-24T19:49:04.561122Z",
     "iopub.status.busy": "2022-10-24T19:49:04.560699Z",
     "iopub.status.idle": "2022-10-24T19:49:04.576882Z",
     "shell.execute_reply": "2022-10-24T19:49:04.575428Z",
     "shell.execute_reply.started": "2022-10-24T19:49:04.561086Z"
    }
   },
   "outputs": [
    {
     "data": {
      "text/plain": [
       "True"
      ]
     },
     "execution_count": 231,
     "metadata": {},
     "output_type": "execute_result"
    }
   ],
   "source": [
    "((train['TotalSpent'] == ' ') == (train['ClientPeriod'] == 0)).all()"
   ]
  },
  {
   "cell_type": "markdown",
   "metadata": {},
   "source": [
    "Да, это действительно так. По всей видимости, это какая-то недоработка в системе сбора данных. Позволим себе удалить такие объекты из выборки"
   ]
  },
  {
   "cell_type": "code",
   "execution_count": 232,
   "metadata": {
    "execution": {
     "iopub.execute_input": "2022-10-24T19:49:04.584404Z",
     "iopub.status.busy": "2022-10-24T19:49:04.583943Z",
     "iopub.status.idle": "2022-10-24T19:49:04.633335Z",
     "shell.execute_reply": "2022-10-24T19:49:04.632018Z",
     "shell.execute_reply.started": "2022-10-24T19:49:04.584366Z"
    }
   },
   "outputs": [
    {
     "data": {
      "text/html": [
       "<div>\n",
       "<style scoped>\n",
       "    .dataframe tbody tr th:only-of-type {\n",
       "        vertical-align: middle;\n",
       "    }\n",
       "\n",
       "    .dataframe tbody tr th {\n",
       "        vertical-align: top;\n",
       "    }\n",
       "\n",
       "    .dataframe thead th {\n",
       "        text-align: right;\n",
       "    }\n",
       "</style>\n",
       "<table border=\"1\" class=\"dataframe\">\n",
       "  <thead>\n",
       "    <tr style=\"text-align: right;\">\n",
       "      <th></th>\n",
       "      <th>ClientPeriod</th>\n",
       "      <th>MonthlySpending</th>\n",
       "      <th>TotalSpent</th>\n",
       "      <th>Sex</th>\n",
       "      <th>IsSeniorCitizen</th>\n",
       "      <th>HasPartner</th>\n",
       "      <th>HasChild</th>\n",
       "      <th>HasPhoneService</th>\n",
       "      <th>HasMultiplePhoneNumbers</th>\n",
       "      <th>HasInternetService</th>\n",
       "      <th>HasOnlineSecurityService</th>\n",
       "      <th>HasOnlineBackup</th>\n",
       "      <th>HasDeviceProtection</th>\n",
       "      <th>HasTechSupportAccess</th>\n",
       "      <th>HasOnlineTV</th>\n",
       "      <th>HasMovieSubscription</th>\n",
       "      <th>HasContractPhone</th>\n",
       "      <th>IsBillingPaperless</th>\n",
       "      <th>PaymentMethod</th>\n",
       "      <th>Churn</th>\n",
       "    </tr>\n",
       "  </thead>\n",
       "  <tbody>\n",
       "    <tr>\n",
       "      <th>0</th>\n",
       "      <td>55</td>\n",
       "      <td>19.50</td>\n",
       "      <td>1026.35</td>\n",
       "      <td>Male</td>\n",
       "      <td>0</td>\n",
       "      <td>Yes</td>\n",
       "      <td>Yes</td>\n",
       "      <td>Yes</td>\n",
       "      <td>No</td>\n",
       "      <td>No</td>\n",
       "      <td>No internet service</td>\n",
       "      <td>No internet service</td>\n",
       "      <td>No internet service</td>\n",
       "      <td>No internet service</td>\n",
       "      <td>No internet service</td>\n",
       "      <td>No internet service</td>\n",
       "      <td>One year</td>\n",
       "      <td>No</td>\n",
       "      <td>Mailed check</td>\n",
       "      <td>0</td>\n",
       "    </tr>\n",
       "    <tr>\n",
       "      <th>1</th>\n",
       "      <td>72</td>\n",
       "      <td>25.85</td>\n",
       "      <td>1872.20</td>\n",
       "      <td>Male</td>\n",
       "      <td>0</td>\n",
       "      <td>Yes</td>\n",
       "      <td>No</td>\n",
       "      <td>Yes</td>\n",
       "      <td>Yes</td>\n",
       "      <td>No</td>\n",
       "      <td>No internet service</td>\n",
       "      <td>No internet service</td>\n",
       "      <td>No internet service</td>\n",
       "      <td>No internet service</td>\n",
       "      <td>No internet service</td>\n",
       "      <td>No internet service</td>\n",
       "      <td>Two year</td>\n",
       "      <td>No</td>\n",
       "      <td>Credit card (automatic)</td>\n",
       "      <td>0</td>\n",
       "    </tr>\n",
       "    <tr>\n",
       "      <th>2</th>\n",
       "      <td>1</td>\n",
       "      <td>75.90</td>\n",
       "      <td>75.90</td>\n",
       "      <td>Male</td>\n",
       "      <td>0</td>\n",
       "      <td>No</td>\n",
       "      <td>No</td>\n",
       "      <td>Yes</td>\n",
       "      <td>No</td>\n",
       "      <td>Fiber optic</td>\n",
       "      <td>No</td>\n",
       "      <td>No</td>\n",
       "      <td>No</td>\n",
       "      <td>Yes</td>\n",
       "      <td>No</td>\n",
       "      <td>No</td>\n",
       "      <td>Month-to-month</td>\n",
       "      <td>Yes</td>\n",
       "      <td>Electronic check</td>\n",
       "      <td>1</td>\n",
       "    </tr>\n",
       "    <tr>\n",
       "      <th>3</th>\n",
       "      <td>32</td>\n",
       "      <td>79.30</td>\n",
       "      <td>2570.00</td>\n",
       "      <td>Female</td>\n",
       "      <td>1</td>\n",
       "      <td>Yes</td>\n",
       "      <td>No</td>\n",
       "      <td>Yes</td>\n",
       "      <td>Yes</td>\n",
       "      <td>Fiber optic</td>\n",
       "      <td>No</td>\n",
       "      <td>No</td>\n",
       "      <td>Yes</td>\n",
       "      <td>No</td>\n",
       "      <td>No</td>\n",
       "      <td>No</td>\n",
       "      <td>Month-to-month</td>\n",
       "      <td>No</td>\n",
       "      <td>Mailed check</td>\n",
       "      <td>0</td>\n",
       "    </tr>\n",
       "    <tr>\n",
       "      <th>4</th>\n",
       "      <td>60</td>\n",
       "      <td>115.25</td>\n",
       "      <td>6758.45</td>\n",
       "      <td>Female</td>\n",
       "      <td>0</td>\n",
       "      <td>Yes</td>\n",
       "      <td>Yes</td>\n",
       "      <td>Yes</td>\n",
       "      <td>Yes</td>\n",
       "      <td>Fiber optic</td>\n",
       "      <td>Yes</td>\n",
       "      <td>Yes</td>\n",
       "      <td>Yes</td>\n",
       "      <td>Yes</td>\n",
       "      <td>Yes</td>\n",
       "      <td>Yes</td>\n",
       "      <td>Two year</td>\n",
       "      <td>No</td>\n",
       "      <td>Credit card (automatic)</td>\n",
       "      <td>0</td>\n",
       "    </tr>\n",
       "    <tr>\n",
       "      <th>...</th>\n",
       "      <td>...</td>\n",
       "      <td>...</td>\n",
       "      <td>...</td>\n",
       "      <td>...</td>\n",
       "      <td>...</td>\n",
       "      <td>...</td>\n",
       "      <td>...</td>\n",
       "      <td>...</td>\n",
       "      <td>...</td>\n",
       "      <td>...</td>\n",
       "      <td>...</td>\n",
       "      <td>...</td>\n",
       "      <td>...</td>\n",
       "      <td>...</td>\n",
       "      <td>...</td>\n",
       "      <td>...</td>\n",
       "      <td>...</td>\n",
       "      <td>...</td>\n",
       "      <td>...</td>\n",
       "      <td>...</td>\n",
       "    </tr>\n",
       "    <tr>\n",
       "      <th>5268</th>\n",
       "      <td>3</td>\n",
       "      <td>30.40</td>\n",
       "      <td>82.15</td>\n",
       "      <td>Male</td>\n",
       "      <td>0</td>\n",
       "      <td>No</td>\n",
       "      <td>No</td>\n",
       "      <td>No</td>\n",
       "      <td>No phone service</td>\n",
       "      <td>DSL</td>\n",
       "      <td>No</td>\n",
       "      <td>No</td>\n",
       "      <td>No</td>\n",
       "      <td>Yes</td>\n",
       "      <td>No</td>\n",
       "      <td>No</td>\n",
       "      <td>Month-to-month</td>\n",
       "      <td>No</td>\n",
       "      <td>Electronic check</td>\n",
       "      <td>0</td>\n",
       "    </tr>\n",
       "    <tr>\n",
       "      <th>5269</th>\n",
       "      <td>50</td>\n",
       "      <td>44.45</td>\n",
       "      <td>2188.45</td>\n",
       "      <td>Male</td>\n",
       "      <td>0</td>\n",
       "      <td>Yes</td>\n",
       "      <td>No</td>\n",
       "      <td>No</td>\n",
       "      <td>No phone service</td>\n",
       "      <td>DSL</td>\n",
       "      <td>Yes</td>\n",
       "      <td>No</td>\n",
       "      <td>No</td>\n",
       "      <td>Yes</td>\n",
       "      <td>Yes</td>\n",
       "      <td>No</td>\n",
       "      <td>One year</td>\n",
       "      <td>Yes</td>\n",
       "      <td>Bank transfer (automatic)</td>\n",
       "      <td>0</td>\n",
       "    </tr>\n",
       "    <tr>\n",
       "      <th>5270</th>\n",
       "      <td>1</td>\n",
       "      <td>55.05</td>\n",
       "      <td>55.05</td>\n",
       "      <td>Male</td>\n",
       "      <td>0</td>\n",
       "      <td>No</td>\n",
       "      <td>No</td>\n",
       "      <td>Yes</td>\n",
       "      <td>No</td>\n",
       "      <td>DSL</td>\n",
       "      <td>No</td>\n",
       "      <td>No</td>\n",
       "      <td>Yes</td>\n",
       "      <td>Yes</td>\n",
       "      <td>No</td>\n",
       "      <td>No</td>\n",
       "      <td>Month-to-month</td>\n",
       "      <td>No</td>\n",
       "      <td>Mailed check</td>\n",
       "      <td>0</td>\n",
       "    </tr>\n",
       "    <tr>\n",
       "      <th>5271</th>\n",
       "      <td>29</td>\n",
       "      <td>76.00</td>\n",
       "      <td>2215.25</td>\n",
       "      <td>Female</td>\n",
       "      <td>0</td>\n",
       "      <td>No</td>\n",
       "      <td>No</td>\n",
       "      <td>Yes</td>\n",
       "      <td>Yes</td>\n",
       "      <td>Fiber optic</td>\n",
       "      <td>No</td>\n",
       "      <td>No</td>\n",
       "      <td>No</td>\n",
       "      <td>No</td>\n",
       "      <td>No</td>\n",
       "      <td>No</td>\n",
       "      <td>Month-to-month</td>\n",
       "      <td>Yes</td>\n",
       "      <td>Credit card (automatic)</td>\n",
       "      <td>0</td>\n",
       "    </tr>\n",
       "    <tr>\n",
       "      <th>5272</th>\n",
       "      <td>19</td>\n",
       "      <td>75.90</td>\n",
       "      <td>1375.60</td>\n",
       "      <td>Female</td>\n",
       "      <td>0</td>\n",
       "      <td>No</td>\n",
       "      <td>Yes</td>\n",
       "      <td>Yes</td>\n",
       "      <td>Yes</td>\n",
       "      <td>DSL</td>\n",
       "      <td>Yes</td>\n",
       "      <td>Yes</td>\n",
       "      <td>No</td>\n",
       "      <td>Yes</td>\n",
       "      <td>Yes</td>\n",
       "      <td>No</td>\n",
       "      <td>Month-to-month</td>\n",
       "      <td>Yes</td>\n",
       "      <td>Mailed check</td>\n",
       "      <td>0</td>\n",
       "    </tr>\n",
       "  </tbody>\n",
       "</table>\n",
       "<p>5273 rows × 20 columns</p>\n",
       "</div>"
      ],
      "text/plain": [
       "      ClientPeriod  MonthlySpending  TotalSpent     Sex  IsSeniorCitizen  \\\n",
       "0               55            19.50     1026.35    Male                0   \n",
       "1               72            25.85     1872.20    Male                0   \n",
       "2                1            75.90       75.90    Male                0   \n",
       "3               32            79.30     2570.00  Female                1   \n",
       "4               60           115.25     6758.45  Female                0   \n",
       "...            ...              ...         ...     ...              ...   \n",
       "5268             3            30.40       82.15    Male                0   \n",
       "5269            50            44.45     2188.45    Male                0   \n",
       "5270             1            55.05       55.05    Male                0   \n",
       "5271            29            76.00     2215.25  Female                0   \n",
       "5272            19            75.90     1375.60  Female                0   \n",
       "\n",
       "     HasPartner HasChild HasPhoneService HasMultiplePhoneNumbers  \\\n",
       "0           Yes      Yes             Yes                      No   \n",
       "1           Yes       No             Yes                     Yes   \n",
       "2            No       No             Yes                      No   \n",
       "3           Yes       No             Yes                     Yes   \n",
       "4           Yes      Yes             Yes                     Yes   \n",
       "...         ...      ...             ...                     ...   \n",
       "5268         No       No              No        No phone service   \n",
       "5269        Yes       No              No        No phone service   \n",
       "5270         No       No             Yes                      No   \n",
       "5271         No       No             Yes                     Yes   \n",
       "5272         No      Yes             Yes                     Yes   \n",
       "\n",
       "     HasInternetService HasOnlineSecurityService      HasOnlineBackup  \\\n",
       "0                    No      No internet service  No internet service   \n",
       "1                    No      No internet service  No internet service   \n",
       "2           Fiber optic                       No                   No   \n",
       "3           Fiber optic                       No                   No   \n",
       "4           Fiber optic                      Yes                  Yes   \n",
       "...                 ...                      ...                  ...   \n",
       "5268                DSL                       No                   No   \n",
       "5269                DSL                      Yes                   No   \n",
       "5270                DSL                       No                   No   \n",
       "5271        Fiber optic                       No                   No   \n",
       "5272                DSL                      Yes                  Yes   \n",
       "\n",
       "      HasDeviceProtection HasTechSupportAccess          HasOnlineTV  \\\n",
       "0     No internet service  No internet service  No internet service   \n",
       "1     No internet service  No internet service  No internet service   \n",
       "2                      No                  Yes                   No   \n",
       "3                     Yes                   No                   No   \n",
       "4                     Yes                  Yes                  Yes   \n",
       "...                   ...                  ...                  ...   \n",
       "5268                   No                  Yes                   No   \n",
       "5269                   No                  Yes                  Yes   \n",
       "5270                  Yes                  Yes                   No   \n",
       "5271                   No                   No                   No   \n",
       "5272                   No                  Yes                  Yes   \n",
       "\n",
       "     HasMovieSubscription HasContractPhone IsBillingPaperless  \\\n",
       "0     No internet service         One year                 No   \n",
       "1     No internet service         Two year                 No   \n",
       "2                      No   Month-to-month                Yes   \n",
       "3                      No   Month-to-month                 No   \n",
       "4                     Yes         Two year                 No   \n",
       "...                   ...              ...                ...   \n",
       "5268                   No   Month-to-month                 No   \n",
       "5269                   No         One year                Yes   \n",
       "5270                   No   Month-to-month                 No   \n",
       "5271                   No   Month-to-month                Yes   \n",
       "5272                   No   Month-to-month                Yes   \n",
       "\n",
       "                  PaymentMethod  Churn  \n",
       "0                  Mailed check      0  \n",
       "1       Credit card (automatic)      0  \n",
       "2              Electronic check      1  \n",
       "3                  Mailed check      0  \n",
       "4       Credit card (automatic)      0  \n",
       "...                         ...    ...  \n",
       "5268           Electronic check      0  \n",
       "5269  Bank transfer (automatic)      0  \n",
       "5270               Mailed check      0  \n",
       "5271    Credit card (automatic)      0  \n",
       "5272               Mailed check      0  \n",
       "\n",
       "[5273 rows x 20 columns]"
      ]
     },
     "execution_count": 232,
     "metadata": {},
     "output_type": "execute_result"
    }
   ],
   "source": [
    "train.drop(train[train['TotalSpent'] == ' '].index, axis='index', inplace=True)\n",
    "train.reset_index(drop=True, inplace=True)\n",
    "train['TotalSpent'] = train['TotalSpent'].astype(float)\n",
    "train\n",
    "\n",
    "# train.replace(' ', 0, inplace=True)\n",
    "# train['TotalSpent'] = train['TotalSpent'].astype(float)"
   ]
  },
  {
   "cell_type": "markdown",
   "metadata": {},
   "source": [
    "Проделаем те же операции с тестовой выборкой"
   ]
  },
  {
   "cell_type": "code",
   "execution_count": 233,
   "metadata": {
    "execution": {
     "iopub.execute_input": "2022-10-24T19:49:04.635463Z",
     "iopub.status.busy": "2022-10-24T19:49:04.635012Z",
     "iopub.status.idle": "2022-10-24T19:49:04.666412Z",
     "shell.execute_reply": "2022-10-24T19:49:04.664236Z",
     "shell.execute_reply.started": "2022-10-24T19:49:04.635427Z"
    }
   },
   "outputs": [
    {
     "data": {
      "text/html": [
       "<div>\n",
       "<style scoped>\n",
       "    .dataframe tbody tr th:only-of-type {\n",
       "        vertical-align: middle;\n",
       "    }\n",
       "\n",
       "    .dataframe tbody tr th {\n",
       "        vertical-align: top;\n",
       "    }\n",
       "\n",
       "    .dataframe thead th {\n",
       "        text-align: right;\n",
       "    }\n",
       "</style>\n",
       "<table border=\"1\" class=\"dataframe\">\n",
       "  <thead>\n",
       "    <tr style=\"text-align: right;\">\n",
       "      <th></th>\n",
       "      <th>ClientPeriod</th>\n",
       "      <th>MonthlySpending</th>\n",
       "      <th>TotalSpent</th>\n",
       "      <th>Sex</th>\n",
       "      <th>IsSeniorCitizen</th>\n",
       "      <th>HasPartner</th>\n",
       "      <th>HasChild</th>\n",
       "      <th>HasPhoneService</th>\n",
       "      <th>HasMultiplePhoneNumbers</th>\n",
       "      <th>HasInternetService</th>\n",
       "      <th>HasOnlineSecurityService</th>\n",
       "      <th>HasOnlineBackup</th>\n",
       "      <th>HasDeviceProtection</th>\n",
       "      <th>HasTechSupportAccess</th>\n",
       "      <th>HasOnlineTV</th>\n",
       "      <th>HasMovieSubscription</th>\n",
       "      <th>HasContractPhone</th>\n",
       "      <th>IsBillingPaperless</th>\n",
       "      <th>PaymentMethod</th>\n",
       "    </tr>\n",
       "  </thead>\n",
       "  <tbody>\n",
       "    <tr>\n",
       "      <th>966</th>\n",
       "      <td>13</td>\n",
       "      <td>74.65</td>\n",
       "      <td>966.25</td>\n",
       "      <td>Female</td>\n",
       "      <td>0</td>\n",
       "      <td>No</td>\n",
       "      <td>No</td>\n",
       "      <td>Yes</td>\n",
       "      <td>No</td>\n",
       "      <td>Fiber optic</td>\n",
       "      <td>No</td>\n",
       "      <td>Yes</td>\n",
       "      <td>No</td>\n",
       "      <td>No</td>\n",
       "      <td>No</td>\n",
       "      <td>No</td>\n",
       "      <td>One year</td>\n",
       "      <td>Yes</td>\n",
       "      <td>Mailed check</td>\n",
       "    </tr>\n",
       "    <tr>\n",
       "      <th>1524</th>\n",
       "      <td>69</td>\n",
       "      <td>80.65</td>\n",
       "      <td>5542.55</td>\n",
       "      <td>Male</td>\n",
       "      <td>0</td>\n",
       "      <td>Yes</td>\n",
       "      <td>Yes</td>\n",
       "      <td>Yes</td>\n",
       "      <td>No</td>\n",
       "      <td>DSL</td>\n",
       "      <td>Yes</td>\n",
       "      <td>Yes</td>\n",
       "      <td>No</td>\n",
       "      <td>Yes</td>\n",
       "      <td>Yes</td>\n",
       "      <td>Yes</td>\n",
       "      <td>Two year</td>\n",
       "      <td>No</td>\n",
       "      <td>Bank transfer (automatic)</td>\n",
       "    </tr>\n",
       "    <tr>\n",
       "      <th>1580</th>\n",
       "      <td>1</td>\n",
       "      <td>69.95</td>\n",
       "      <td>69.95</td>\n",
       "      <td>Male</td>\n",
       "      <td>0</td>\n",
       "      <td>Yes</td>\n",
       "      <td>Yes</td>\n",
       "      <td>Yes</td>\n",
       "      <td>No</td>\n",
       "      <td>Fiber optic</td>\n",
       "      <td>No</td>\n",
       "      <td>No</td>\n",
       "      <td>No</td>\n",
       "      <td>No</td>\n",
       "      <td>No</td>\n",
       "      <td>No</td>\n",
       "      <td>Month-to-month</td>\n",
       "      <td>Yes</td>\n",
       "      <td>Credit card (automatic)</td>\n",
       "    </tr>\n",
       "    <tr>\n",
       "      <th>816</th>\n",
       "      <td>62</td>\n",
       "      <td>84.45</td>\n",
       "      <td>4959.15</td>\n",
       "      <td>Female</td>\n",
       "      <td>1</td>\n",
       "      <td>No</td>\n",
       "      <td>No</td>\n",
       "      <td>Yes</td>\n",
       "      <td>Yes</td>\n",
       "      <td>Fiber optic</td>\n",
       "      <td>No</td>\n",
       "      <td>No</td>\n",
       "      <td>No</td>\n",
       "      <td>No</td>\n",
       "      <td>Yes</td>\n",
       "      <td>No</td>\n",
       "      <td>One year</td>\n",
       "      <td>No</td>\n",
       "      <td>Electronic check</td>\n",
       "    </tr>\n",
       "    <tr>\n",
       "      <th>1026</th>\n",
       "      <td>25</td>\n",
       "      <td>69.30</td>\n",
       "      <td>1813.1</td>\n",
       "      <td>Female</td>\n",
       "      <td>1</td>\n",
       "      <td>Yes</td>\n",
       "      <td>No</td>\n",
       "      <td>Yes</td>\n",
       "      <td>No</td>\n",
       "      <td>Fiber optic</td>\n",
       "      <td>No</td>\n",
       "      <td>No</td>\n",
       "      <td>No</td>\n",
       "      <td>No</td>\n",
       "      <td>No</td>\n",
       "      <td>No</td>\n",
       "      <td>Month-to-month</td>\n",
       "      <td>Yes</td>\n",
       "      <td>Electronic check</td>\n",
       "    </tr>\n",
       "  </tbody>\n",
       "</table>\n",
       "</div>"
      ],
      "text/plain": [
       "      ClientPeriod  MonthlySpending TotalSpent     Sex  IsSeniorCitizen  \\\n",
       "966             13            74.65     966.25  Female                0   \n",
       "1524            69            80.65    5542.55    Male                0   \n",
       "1580             1            69.95      69.95    Male                0   \n",
       "816             62            84.45    4959.15  Female                1   \n",
       "1026            25            69.30     1813.1  Female                1   \n",
       "\n",
       "     HasPartner HasChild HasPhoneService HasMultiplePhoneNumbers  \\\n",
       "966          No       No             Yes                      No   \n",
       "1524        Yes      Yes             Yes                      No   \n",
       "1580        Yes      Yes             Yes                      No   \n",
       "816          No       No             Yes                     Yes   \n",
       "1026        Yes       No             Yes                      No   \n",
       "\n",
       "     HasInternetService HasOnlineSecurityService HasOnlineBackup  \\\n",
       "966         Fiber optic                       No             Yes   \n",
       "1524                DSL                      Yes             Yes   \n",
       "1580        Fiber optic                       No              No   \n",
       "816         Fiber optic                       No              No   \n",
       "1026        Fiber optic                       No              No   \n",
       "\n",
       "     HasDeviceProtection HasTechSupportAccess HasOnlineTV  \\\n",
       "966                   No                   No          No   \n",
       "1524                  No                  Yes         Yes   \n",
       "1580                  No                   No          No   \n",
       "816                   No                   No         Yes   \n",
       "1026                  No                   No          No   \n",
       "\n",
       "     HasMovieSubscription HasContractPhone IsBillingPaperless  \\\n",
       "966                    No         One year                Yes   \n",
       "1524                  Yes         Two year                 No   \n",
       "1580                   No   Month-to-month                Yes   \n",
       "816                    No         One year                 No   \n",
       "1026                   No   Month-to-month                Yes   \n",
       "\n",
       "                  PaymentMethod  \n",
       "966                Mailed check  \n",
       "1524  Bank transfer (automatic)  \n",
       "1580    Credit card (automatic)  \n",
       "816            Electronic check  \n",
       "1026           Electronic check  "
      ]
     },
     "execution_count": 233,
     "metadata": {},
     "output_type": "execute_result"
    }
   ],
   "source": [
    "test.sample(5, random_state=42)"
   ]
  },
  {
   "cell_type": "code",
   "execution_count": 234,
   "metadata": {
    "execution": {
     "iopub.execute_input": "2022-10-24T19:49:04.668847Z",
     "iopub.status.busy": "2022-10-24T19:49:04.668385Z",
     "iopub.status.idle": "2022-10-24T19:49:04.678123Z",
     "shell.execute_reply": "2022-10-24T19:49:04.676584Z",
     "shell.execute_reply.started": "2022-10-24T19:49:04.668810Z"
    }
   },
   "outputs": [
    {
     "data": {
      "text/plain": [
       "(1761, 19)"
      ]
     },
     "execution_count": 234,
     "metadata": {},
     "output_type": "execute_result"
    }
   ],
   "source": [
    "test.shape"
   ]
  },
  {
   "cell_type": "code",
   "execution_count": 235,
   "metadata": {
    "execution": {
     "iopub.execute_input": "2022-10-24T19:49:04.680373Z",
     "iopub.status.busy": "2022-10-24T19:49:04.679807Z",
     "iopub.status.idle": "2022-10-24T19:49:04.694422Z",
     "shell.execute_reply": "2022-10-24T19:49:04.692336Z",
     "shell.execute_reply.started": "2022-10-24T19:49:04.680319Z"
    }
   },
   "outputs": [
    {
     "data": {
      "text/plain": [
       "ClientPeriod                  int64\n",
       "MonthlySpending             float64\n",
       "TotalSpent                   object\n",
       "Sex                          object\n",
       "IsSeniorCitizen               int64\n",
       "HasPartner                   object\n",
       "HasChild                     object\n",
       "HasPhoneService              object\n",
       "HasMultiplePhoneNumbers      object\n",
       "HasInternetService           object\n",
       "HasOnlineSecurityService     object\n",
       "HasOnlineBackup              object\n",
       "HasDeviceProtection          object\n",
       "HasTechSupportAccess         object\n",
       "HasOnlineTV                  object\n",
       "HasMovieSubscription         object\n",
       "HasContractPhone             object\n",
       "IsBillingPaperless           object\n",
       "PaymentMethod                object\n",
       "dtype: object"
      ]
     },
     "execution_count": 235,
     "metadata": {},
     "output_type": "execute_result"
    }
   ],
   "source": [
    "test.dtypes"
   ]
  },
  {
   "cell_type": "code",
   "execution_count": 236,
   "metadata": {
    "execution": {
     "iopub.execute_input": "2022-10-24T19:49:04.696865Z",
     "iopub.status.busy": "2022-10-24T19:49:04.696393Z",
     "iopub.status.idle": "2022-10-24T19:49:04.711789Z",
     "shell.execute_reply": "2022-10-24T19:49:04.710376Z",
     "shell.execute_reply.started": "2022-10-24T19:49:04.696823Z"
    }
   },
   "outputs": [
    {
     "name": "stdout",
     "output_type": "stream",
     "text": [
      "1) Sex (2): ['Male' 'Female']\n",
      "2) IsSeniorCitizen (2): [0 1]\n",
      "3) HasPartner (2): ['Yes' 'No']\n",
      "4) HasChild (2): ['No' 'Yes']\n",
      "5) HasPhoneService (2): ['Yes' 'No']\n",
      "6) HasMultiplePhoneNumbers (3): ['Yes' 'No' 'No phone service']\n",
      "7) HasInternetService (3): ['DSL' 'Fiber optic' 'No']\n",
      "8) HasOnlineSecurityService (3): ['Yes' 'No' 'No internet service']\n",
      "9) HasOnlineBackup (3): ['No' 'Yes' 'No internet service']\n",
      "10) HasDeviceProtection (3): ['No' 'Yes' 'No internet service']\n",
      "11) HasTechSupportAccess (3): ['No' 'Yes' 'No internet service']\n",
      "12) HasOnlineTV (3): ['No' 'Yes' 'No internet service']\n",
      "13) HasMovieSubscription (3): ['No' 'Yes' 'No internet service']\n",
      "14) HasContractPhone (3): ['One year' 'Month-to-month' 'Two year']\n",
      "15) IsBillingPaperless (2): ['No' 'Yes']\n",
      "16) PaymentMethod (4): ['Credit card (automatic)' 'Electronic check' 'Bank transfer (automatic)'\n",
      " 'Mailed check']\n"
     ]
    }
   ],
   "source": [
    "for i, cat in enumerate(cat_cols):\n",
    "    unique_cat = test[cat].unique()\n",
    "    print(f\"{i+1}) {cat} ({len(unique_cat)}): {unique_cat}\")"
   ]
  },
  {
   "cell_type": "code",
   "execution_count": 237,
   "metadata": {
    "execution": {
     "iopub.execute_input": "2022-10-24T19:49:04.713833Z",
     "iopub.status.busy": "2022-10-24T19:49:04.713516Z",
     "iopub.status.idle": "2022-10-24T19:49:04.725835Z",
     "shell.execute_reply": "2022-10-24T19:49:04.724549Z",
     "shell.execute_reply.started": "2022-10-24T19:49:04.713806Z"
    }
   },
   "outputs": [
    {
     "data": {
      "text/plain": [
       "ClientPeriod                0\n",
       "MonthlySpending             0\n",
       "TotalSpent                  0\n",
       "Sex                         0\n",
       "IsSeniorCitizen             0\n",
       "HasPartner                  0\n",
       "HasChild                    0\n",
       "HasPhoneService             0\n",
       "HasMultiplePhoneNumbers     0\n",
       "HasInternetService          0\n",
       "HasOnlineSecurityService    0\n",
       "HasOnlineBackup             0\n",
       "HasDeviceProtection         0\n",
       "HasTechSupportAccess        0\n",
       "HasOnlineTV                 0\n",
       "HasMovieSubscription        0\n",
       "HasContractPhone            0\n",
       "IsBillingPaperless          0\n",
       "PaymentMethod               0\n",
       "dtype: int64"
      ]
     },
     "execution_count": 237,
     "metadata": {},
     "output_type": "execute_result"
    }
   ],
   "source": [
    "test.isna().sum()"
   ]
  },
  {
   "cell_type": "code",
   "execution_count": 238,
   "metadata": {
    "execution": {
     "iopub.execute_input": "2022-10-24T19:49:04.727909Z",
     "iopub.status.busy": "2022-10-24T19:49:04.727573Z",
     "iopub.status.idle": "2022-10-24T19:49:04.738559Z",
     "shell.execute_reply": "2022-10-24T19:49:04.737084Z",
     "shell.execute_reply.started": "2022-10-24T19:49:04.727881Z"
    }
   },
   "outputs": [
    {
     "name": "stdout",
     "output_type": "stream",
     "text": [
      "[' ' '100.8' '1001.2' ... '997.75' '999.45' '999.8']\n",
      "19.55      4\n",
      "20.25      4\n",
      "45.3       3\n",
      "19.9       3\n",
      "2440.25    2\n",
      "          ..\n",
      "4138.9     1\n",
      "3522.65    1\n",
      "101.45     1\n",
      "1794.65    1\n",
      "4566.5     1\n",
      "Name: TotalSpent, Length: 1710, dtype: int64\n"
     ]
    }
   ],
   "source": [
    "print(np.sort(test['TotalSpent'].unique()))\n",
    "print(test['TotalSpent'].value_counts())"
   ]
  },
  {
   "cell_type": "code",
   "execution_count": 239,
   "metadata": {
    "execution": {
     "iopub.execute_input": "2022-10-24T19:49:04.740709Z",
     "iopub.status.busy": "2022-10-24T19:49:04.740331Z",
     "iopub.status.idle": "2022-10-24T19:49:04.763584Z",
     "shell.execute_reply": "2022-10-24T19:49:04.762352Z",
     "shell.execute_reply.started": "2022-10-24T19:49:04.740679Z"
    }
   },
   "outputs": [
    {
     "data": {
      "text/html": [
       "<div>\n",
       "<style scoped>\n",
       "    .dataframe tbody tr th:only-of-type {\n",
       "        vertical-align: middle;\n",
       "    }\n",
       "\n",
       "    .dataframe tbody tr th {\n",
       "        vertical-align: top;\n",
       "    }\n",
       "\n",
       "    .dataframe thead th {\n",
       "        text-align: right;\n",
       "    }\n",
       "</style>\n",
       "<table border=\"1\" class=\"dataframe\">\n",
       "  <thead>\n",
       "    <tr style=\"text-align: right;\">\n",
       "      <th></th>\n",
       "      <th>ClientPeriod</th>\n",
       "      <th>MonthlySpending</th>\n",
       "      <th>TotalSpent</th>\n",
       "      <th>Sex</th>\n",
       "      <th>IsSeniorCitizen</th>\n",
       "      <th>HasPartner</th>\n",
       "      <th>HasChild</th>\n",
       "      <th>HasPhoneService</th>\n",
       "      <th>HasMultiplePhoneNumbers</th>\n",
       "      <th>HasInternetService</th>\n",
       "      <th>HasOnlineSecurityService</th>\n",
       "      <th>HasOnlineBackup</th>\n",
       "      <th>HasDeviceProtection</th>\n",
       "      <th>HasTechSupportAccess</th>\n",
       "      <th>HasOnlineTV</th>\n",
       "      <th>HasMovieSubscription</th>\n",
       "      <th>HasContractPhone</th>\n",
       "      <th>IsBillingPaperless</th>\n",
       "      <th>PaymentMethod</th>\n",
       "    </tr>\n",
       "  </thead>\n",
       "  <tbody>\n",
       "    <tr>\n",
       "      <th>177</th>\n",
       "      <td>0</td>\n",
       "      <td>19.85</td>\n",
       "      <td></td>\n",
       "      <td>Male</td>\n",
       "      <td>0</td>\n",
       "      <td>Yes</td>\n",
       "      <td>Yes</td>\n",
       "      <td>Yes</td>\n",
       "      <td>No</td>\n",
       "      <td>No</td>\n",
       "      <td>No internet service</td>\n",
       "      <td>No internet service</td>\n",
       "      <td>No internet service</td>\n",
       "      <td>No internet service</td>\n",
       "      <td>No internet service</td>\n",
       "      <td>No internet service</td>\n",
       "      <td>Two year</td>\n",
       "      <td>No</td>\n",
       "      <td>Mailed check</td>\n",
       "    </tr>\n",
       "    <tr>\n",
       "      <th>767</th>\n",
       "      <td>0</td>\n",
       "      <td>20.25</td>\n",
       "      <td></td>\n",
       "      <td>Male</td>\n",
       "      <td>0</td>\n",
       "      <td>No</td>\n",
       "      <td>Yes</td>\n",
       "      <td>Yes</td>\n",
       "      <td>No</td>\n",
       "      <td>No</td>\n",
       "      <td>No internet service</td>\n",
       "      <td>No internet service</td>\n",
       "      <td>No internet service</td>\n",
       "      <td>No internet service</td>\n",
       "      <td>No internet service</td>\n",
       "      <td>No internet service</td>\n",
       "      <td>Two year</td>\n",
       "      <td>No</td>\n",
       "      <td>Mailed check</td>\n",
       "    </tr>\n",
       "  </tbody>\n",
       "</table>\n",
       "</div>"
      ],
      "text/plain": [
       "     ClientPeriod  MonthlySpending TotalSpent   Sex  IsSeniorCitizen  \\\n",
       "177             0            19.85             Male                0   \n",
       "767             0            20.25             Male                0   \n",
       "\n",
       "    HasPartner HasChild HasPhoneService HasMultiplePhoneNumbers  \\\n",
       "177        Yes      Yes             Yes                      No   \n",
       "767         No      Yes             Yes                      No   \n",
       "\n",
       "    HasInternetService HasOnlineSecurityService      HasOnlineBackup  \\\n",
       "177                 No      No internet service  No internet service   \n",
       "767                 No      No internet service  No internet service   \n",
       "\n",
       "     HasDeviceProtection HasTechSupportAccess          HasOnlineTV  \\\n",
       "177  No internet service  No internet service  No internet service   \n",
       "767  No internet service  No internet service  No internet service   \n",
       "\n",
       "    HasMovieSubscription HasContractPhone IsBillingPaperless PaymentMethod  \n",
       "177  No internet service         Two year                 No  Mailed check  \n",
       "767  No internet service         Two year                 No  Mailed check  "
      ]
     },
     "execution_count": 239,
     "metadata": {},
     "output_type": "execute_result"
    }
   ],
   "source": [
    "test[test['TotalSpent'] == ' ']"
   ]
  },
  {
   "cell_type": "code",
   "execution_count": 240,
   "metadata": {
    "execution": {
     "iopub.execute_input": "2022-10-24T19:49:04.765225Z",
     "iopub.status.busy": "2022-10-24T19:49:04.764897Z",
     "iopub.status.idle": "2022-10-24T19:49:04.790979Z",
     "shell.execute_reply": "2022-10-24T19:49:04.789682Z",
     "shell.execute_reply.started": "2022-10-24T19:49:04.765196Z"
    }
   },
   "outputs": [
    {
     "data": {
      "text/html": [
       "<div>\n",
       "<style scoped>\n",
       "    .dataframe tbody tr th:only-of-type {\n",
       "        vertical-align: middle;\n",
       "    }\n",
       "\n",
       "    .dataframe tbody tr th {\n",
       "        vertical-align: top;\n",
       "    }\n",
       "\n",
       "    .dataframe thead th {\n",
       "        text-align: right;\n",
       "    }\n",
       "</style>\n",
       "<table border=\"1\" class=\"dataframe\">\n",
       "  <thead>\n",
       "    <tr style=\"text-align: right;\">\n",
       "      <th></th>\n",
       "      <th>ClientPeriod</th>\n",
       "      <th>MonthlySpending</th>\n",
       "      <th>TotalSpent</th>\n",
       "      <th>Sex</th>\n",
       "      <th>IsSeniorCitizen</th>\n",
       "      <th>HasPartner</th>\n",
       "      <th>HasChild</th>\n",
       "      <th>HasPhoneService</th>\n",
       "      <th>HasMultiplePhoneNumbers</th>\n",
       "      <th>HasInternetService</th>\n",
       "      <th>HasOnlineSecurityService</th>\n",
       "      <th>HasOnlineBackup</th>\n",
       "      <th>HasDeviceProtection</th>\n",
       "      <th>HasTechSupportAccess</th>\n",
       "      <th>HasOnlineTV</th>\n",
       "      <th>HasMovieSubscription</th>\n",
       "      <th>HasContractPhone</th>\n",
       "      <th>IsBillingPaperless</th>\n",
       "      <th>PaymentMethod</th>\n",
       "    </tr>\n",
       "  </thead>\n",
       "  <tbody>\n",
       "    <tr>\n",
       "      <th>177</th>\n",
       "      <td>0</td>\n",
       "      <td>19.85</td>\n",
       "      <td></td>\n",
       "      <td>Male</td>\n",
       "      <td>0</td>\n",
       "      <td>Yes</td>\n",
       "      <td>Yes</td>\n",
       "      <td>Yes</td>\n",
       "      <td>No</td>\n",
       "      <td>No</td>\n",
       "      <td>No internet service</td>\n",
       "      <td>No internet service</td>\n",
       "      <td>No internet service</td>\n",
       "      <td>No internet service</td>\n",
       "      <td>No internet service</td>\n",
       "      <td>No internet service</td>\n",
       "      <td>Two year</td>\n",
       "      <td>No</td>\n",
       "      <td>Mailed check</td>\n",
       "    </tr>\n",
       "    <tr>\n",
       "      <th>767</th>\n",
       "      <td>0</td>\n",
       "      <td>20.25</td>\n",
       "      <td></td>\n",
       "      <td>Male</td>\n",
       "      <td>0</td>\n",
       "      <td>No</td>\n",
       "      <td>Yes</td>\n",
       "      <td>Yes</td>\n",
       "      <td>No</td>\n",
       "      <td>No</td>\n",
       "      <td>No internet service</td>\n",
       "      <td>No internet service</td>\n",
       "      <td>No internet service</td>\n",
       "      <td>No internet service</td>\n",
       "      <td>No internet service</td>\n",
       "      <td>No internet service</td>\n",
       "      <td>Two year</td>\n",
       "      <td>No</td>\n",
       "      <td>Mailed check</td>\n",
       "    </tr>\n",
       "  </tbody>\n",
       "</table>\n",
       "</div>"
      ],
      "text/plain": [
       "     ClientPeriod  MonthlySpending TotalSpent   Sex  IsSeniorCitizen  \\\n",
       "177             0            19.85             Male                0   \n",
       "767             0            20.25             Male                0   \n",
       "\n",
       "    HasPartner HasChild HasPhoneService HasMultiplePhoneNumbers  \\\n",
       "177        Yes      Yes             Yes                      No   \n",
       "767         No      Yes             Yes                      No   \n",
       "\n",
       "    HasInternetService HasOnlineSecurityService      HasOnlineBackup  \\\n",
       "177                 No      No internet service  No internet service   \n",
       "767                 No      No internet service  No internet service   \n",
       "\n",
       "     HasDeviceProtection HasTechSupportAccess          HasOnlineTV  \\\n",
       "177  No internet service  No internet service  No internet service   \n",
       "767  No internet service  No internet service  No internet service   \n",
       "\n",
       "    HasMovieSubscription HasContractPhone IsBillingPaperless PaymentMethod  \n",
       "177  No internet service         Two year                 No  Mailed check  \n",
       "767  No internet service         Two year                 No  Mailed check  "
      ]
     },
     "execution_count": 240,
     "metadata": {},
     "output_type": "execute_result"
    }
   ],
   "source": [
    "test[test['ClientPeriod'] == 0]"
   ]
  },
  {
   "cell_type": "code",
   "execution_count": 241,
   "metadata": {
    "execution": {
     "iopub.execute_input": "2022-10-24T19:49:04.793770Z",
     "iopub.status.busy": "2022-10-24T19:49:04.792639Z",
     "iopub.status.idle": "2022-10-24T19:49:04.806350Z",
     "shell.execute_reply": "2022-10-24T19:49:04.805065Z",
     "shell.execute_reply.started": "2022-10-24T19:49:04.793617Z"
    }
   },
   "outputs": [
    {
     "name": "stdout",
     "output_type": "stream",
     "text": [
      "True\n"
     ]
    }
   ],
   "source": [
    "\n",
    "print(((test['TotalSpent'] == ' ') == (test['ClientPeriod'] == 0)).all())"
   ]
  },
  {
   "cell_type": "code",
   "execution_count": 281,
   "metadata": {
    "execution": {
     "iopub.execute_input": "2022-10-24T20:02:34.344077Z",
     "iopub.status.busy": "2022-10-24T20:02:34.343563Z",
     "iopub.status.idle": "2022-10-24T20:02:34.354902Z",
     "shell.execute_reply": "2022-10-24T20:02:34.353669Z",
     "shell.execute_reply.started": "2022-10-24T20:02:34.344039Z"
    }
   },
   "outputs": [],
   "source": [
    "# test.drop(test[test['TotalSpent'] ==  ' '].index, axis='index', inplace=True)\n",
    "# test.reset_index(drop=True, inplace=True)\n",
    "# test['TotalSpent'] = test['TotalSpent'].astype(float)\n",
    "# test\n",
    "\n",
    "test.replace(' ', 0, inplace=True)\n",
    "test['TotalSpent'] = test['TotalSpent'].astype(float)"
   ]
  },
  {
   "cell_type": "markdown",
   "metadata": {},
   "source": [
    "Мы загрузили данные test и train и обработали пропуски. Перейдем к анализу данных"
   ]
  },
  {
   "cell_type": "markdown",
   "metadata": {},
   "source": [
    "## Анализ данных"
   ]
  },
  {
   "cell_type": "markdown",
   "metadata": {},
   "source": [
    "Целевая переменная - Churn, 1 - клиент ушел (gone), 0 - клиент остался (stayed)"
   ]
  },
  {
   "cell_type": "code",
   "execution_count": 243,
   "metadata": {
    "execution": {
     "iopub.execute_input": "2022-10-24T19:49:04.845821Z",
     "iopub.status.busy": "2022-10-24T19:49:04.845502Z",
     "iopub.status.idle": "2022-10-24T19:49:04.855771Z",
     "shell.execute_reply": "2022-10-24T19:49:04.854417Z",
     "shell.execute_reply.started": "2022-10-24T19:49:04.845791Z"
    }
   },
   "outputs": [],
   "source": [
    "gone = train[train[target_col] == 1]\n",
    "stayed = train[train[target_col] == 0]"
   ]
  },
  {
   "cell_type": "markdown",
   "metadata": {},
   "source": [
    "Рассмотрим числовых признаки"
   ]
  },
  {
   "cell_type": "code",
   "execution_count": 244,
   "metadata": {
    "execution": {
     "iopub.execute_input": "2022-10-24T19:49:04.858037Z",
     "iopub.status.busy": "2022-10-24T19:49:04.857492Z",
     "iopub.status.idle": "2022-10-24T19:49:04.864335Z",
     "shell.execute_reply": "2022-10-24T19:49:04.863439Z",
     "shell.execute_reply.started": "2022-10-24T19:49:04.857995Z"
    }
   },
   "outputs": [
    {
     "name": "stdout",
     "output_type": "stream",
     "text": [
      "['ClientPeriod', 'MonthlySpending', 'TotalSpent']\n"
     ]
    }
   ],
   "source": [
    "print(num_cols)  # численные признаки"
   ]
  },
  {
   "cell_type": "code",
   "execution_count": 245,
   "metadata": {
    "execution": {
     "iopub.execute_input": "2022-10-24T19:49:04.866535Z",
     "iopub.status.busy": "2022-10-24T19:49:04.865584Z",
     "iopub.status.idle": "2022-10-24T19:49:04.897928Z",
     "shell.execute_reply": "2022-10-24T19:49:04.896696Z",
     "shell.execute_reply.started": "2022-10-24T19:49:04.866504Z"
    }
   },
   "outputs": [
    {
     "data": {
      "text/html": [
       "<div>\n",
       "<style scoped>\n",
       "    .dataframe tbody tr th:only-of-type {\n",
       "        vertical-align: middle;\n",
       "    }\n",
       "\n",
       "    .dataframe tbody tr th {\n",
       "        vertical-align: top;\n",
       "    }\n",
       "\n",
       "    .dataframe thead th {\n",
       "        text-align: right;\n",
       "    }\n",
       "</style>\n",
       "<table border=\"1\" class=\"dataframe\">\n",
       "  <thead>\n",
       "    <tr style=\"text-align: right;\">\n",
       "      <th></th>\n",
       "      <th>ClientPeriod</th>\n",
       "      <th>MonthlySpending</th>\n",
       "      <th>TotalSpent</th>\n",
       "    </tr>\n",
       "  </thead>\n",
       "  <tbody>\n",
       "    <tr>\n",
       "      <th>count</th>\n",
       "      <td>1384.000000</td>\n",
       "      <td>1384.000000</td>\n",
       "      <td>1384.000000</td>\n",
       "    </tr>\n",
       "    <tr>\n",
       "      <th>mean</th>\n",
       "      <td>17.951590</td>\n",
       "      <td>74.281178</td>\n",
       "      <td>1525.831864</td>\n",
       "    </tr>\n",
       "    <tr>\n",
       "      <th>std</th>\n",
       "      <td>19.460135</td>\n",
       "      <td>24.551353</td>\n",
       "      <td>1881.443058</td>\n",
       "    </tr>\n",
       "    <tr>\n",
       "      <th>min</th>\n",
       "      <td>1.000000</td>\n",
       "      <td>18.950000</td>\n",
       "      <td>19.100000</td>\n",
       "    </tr>\n",
       "    <tr>\n",
       "      <th>25%</th>\n",
       "      <td>2.000000</td>\n",
       "      <td>56.437500</td>\n",
       "      <td>134.650000</td>\n",
       "    </tr>\n",
       "    <tr>\n",
       "      <th>50%</th>\n",
       "      <td>10.000000</td>\n",
       "      <td>79.500000</td>\n",
       "      <td>706.725000</td>\n",
       "    </tr>\n",
       "    <tr>\n",
       "      <th>75%</th>\n",
       "      <td>29.000000</td>\n",
       "      <td>94.200000</td>\n",
       "      <td>2352.550000</td>\n",
       "    </tr>\n",
       "    <tr>\n",
       "      <th>max</th>\n",
       "      <td>72.000000</td>\n",
       "      <td>118.350000</td>\n",
       "      <td>8684.800000</td>\n",
       "    </tr>\n",
       "  </tbody>\n",
       "</table>\n",
       "</div>"
      ],
      "text/plain": [
       "       ClientPeriod  MonthlySpending   TotalSpent\n",
       "count   1384.000000      1384.000000  1384.000000\n",
       "mean      17.951590        74.281178  1525.831864\n",
       "std       19.460135        24.551353  1881.443058\n",
       "min        1.000000        18.950000    19.100000\n",
       "25%        2.000000        56.437500   134.650000\n",
       "50%       10.000000        79.500000   706.725000\n",
       "75%       29.000000        94.200000  2352.550000\n",
       "max       72.000000       118.350000  8684.800000"
      ]
     },
     "execution_count": 245,
     "metadata": {},
     "output_type": "execute_result"
    }
   ],
   "source": [
    "gone[num_cols].describe()"
   ]
  },
  {
   "cell_type": "code",
   "execution_count": 246,
   "metadata": {
    "execution": {
     "iopub.execute_input": "2022-10-24T19:49:04.900349Z",
     "iopub.status.busy": "2022-10-24T19:49:04.899853Z",
     "iopub.status.idle": "2022-10-24T19:49:04.923945Z",
     "shell.execute_reply": "2022-10-24T19:49:04.923067Z",
     "shell.execute_reply.started": "2022-10-24T19:49:04.900282Z"
    }
   },
   "outputs": [
    {
     "data": {
      "text/html": [
       "<div>\n",
       "<style scoped>\n",
       "    .dataframe tbody tr th:only-of-type {\n",
       "        vertical-align: middle;\n",
       "    }\n",
       "\n",
       "    .dataframe tbody tr th {\n",
       "        vertical-align: top;\n",
       "    }\n",
       "\n",
       "    .dataframe thead th {\n",
       "        text-align: right;\n",
       "    }\n",
       "</style>\n",
       "<table border=\"1\" class=\"dataframe\">\n",
       "  <thead>\n",
       "    <tr style=\"text-align: right;\">\n",
       "      <th></th>\n",
       "      <th>ClientPeriod</th>\n",
       "      <th>MonthlySpending</th>\n",
       "      <th>TotalSpent</th>\n",
       "    </tr>\n",
       "  </thead>\n",
       "  <tbody>\n",
       "    <tr>\n",
       "      <th>count</th>\n",
       "      <td>3889.000000</td>\n",
       "      <td>3889.000000</td>\n",
       "      <td>3889.000000</td>\n",
       "    </tr>\n",
       "    <tr>\n",
       "      <th>mean</th>\n",
       "      <td>37.612754</td>\n",
       "      <td>61.638442</td>\n",
       "      <td>2563.834045</td>\n",
       "    </tr>\n",
       "    <tr>\n",
       "      <th>std</th>\n",
       "      <td>24.083920</td>\n",
       "      <td>31.281198</td>\n",
       "      <td>2332.182253</td>\n",
       "    </tr>\n",
       "    <tr>\n",
       "      <th>min</th>\n",
       "      <td>1.000000</td>\n",
       "      <td>18.250000</td>\n",
       "      <td>18.800000</td>\n",
       "    </tr>\n",
       "    <tr>\n",
       "      <th>25%</th>\n",
       "      <td>15.000000</td>\n",
       "      <td>25.100000</td>\n",
       "      <td>568.200000</td>\n",
       "    </tr>\n",
       "    <tr>\n",
       "      <th>50%</th>\n",
       "      <td>37.000000</td>\n",
       "      <td>64.800000</td>\n",
       "      <td>1714.550000</td>\n",
       "    </tr>\n",
       "    <tr>\n",
       "      <th>75%</th>\n",
       "      <td>61.000000</td>\n",
       "      <td>89.150000</td>\n",
       "      <td>4284.200000</td>\n",
       "    </tr>\n",
       "    <tr>\n",
       "      <th>max</th>\n",
       "      <td>72.000000</td>\n",
       "      <td>118.750000</td>\n",
       "      <td>8672.450000</td>\n",
       "    </tr>\n",
       "  </tbody>\n",
       "</table>\n",
       "</div>"
      ],
      "text/plain": [
       "       ClientPeriod  MonthlySpending   TotalSpent\n",
       "count   3889.000000      3889.000000  3889.000000\n",
       "mean      37.612754        61.638442  2563.834045\n",
       "std       24.083920        31.281198  2332.182253\n",
       "min        1.000000        18.250000    18.800000\n",
       "25%       15.000000        25.100000   568.200000\n",
       "50%       37.000000        64.800000  1714.550000\n",
       "75%       61.000000        89.150000  4284.200000\n",
       "max       72.000000       118.750000  8672.450000"
      ]
     },
     "execution_count": 246,
     "metadata": {},
     "output_type": "execute_result"
    }
   ],
   "source": [
    "stayed[num_cols].describe()"
   ]
  },
  {
   "cell_type": "markdown",
   "metadata": {},
   "source": [
    "Построим гистограммы для числовых признаков (относительные частоты встречи значений признаков для gone и stayed)"
   ]
  },
  {
   "cell_type": "code",
   "execution_count": 247,
   "metadata": {
    "execution": {
     "iopub.execute_input": "2022-10-24T19:49:04.925806Z",
     "iopub.status.busy": "2022-10-24T19:49:04.925230Z",
     "iopub.status.idle": "2022-10-24T19:49:05.905459Z",
     "shell.execute_reply": "2022-10-24T19:49:05.904349Z",
     "shell.execute_reply.started": "2022-10-24T19:49:04.925767Z"
    }
   },
   "outputs": [
    {
     "data": {
      "image/png": "[encoded data removed]",
      "text/plain": [
       "<Figure size 1296x288 with 3 Axes>"
      ]
     },
     "metadata": {
      "needs_background": "light"
     },
     "output_type": "display_data"
    }
   ],
   "source": [
    "fig, ax = plt.subplots(nrows=1, ncols=3, figsize=(18, 4))\n",
    "fig.suptitle('Гистораммы для числовых признаков', fontsize=20)\n",
    "for i, col in enumerate(num_cols):\n",
    "    ax[i].hist(x=stayed[col], density=True, bins=20, alpha=0.5, label='stayed', edgecolor='k')\n",
    "    ax[i].hist(x=gone[col], density=True, bins=20, alpha=0.5, label='gone', edgecolor='k')\n",
    "    ax[i].set(xlabel=col)\n",
    "    ax[i].legend()\n",
    "    ax[i].grid(ls='--', lw=0.5)\n",
    "\n",
    "fig.tight_layout()\n"
   ]
  },
  {
   "cell_type": "code",
   "execution_count": 248,
   "metadata": {
    "execution": {
     "iopub.execute_input": "2022-10-24T19:49:05.907623Z",
     "iopub.status.busy": "2022-10-24T19:49:05.906869Z",
     "iopub.status.idle": "2022-10-24T19:49:06.418831Z",
     "shell.execute_reply": "2022-10-24T19:49:06.417974Z",
     "shell.execute_reply.started": "2022-10-24T19:49:05.907590Z"
    }
   },
   "outputs": [
    {
     "data": {
      "image/png": "[encoded data removed]",
      "text/plain": [
       "<Figure size 1296x288 with 3 Axes>"
      ]
     },
     "metadata": {
      "needs_background": "light"
     },
     "output_type": "display_data"
    }
   ],
   "source": [
    "fig, ax = plt.subplots(nrows=1, ncols=3, figsize=(18, 4))\n",
    "fig.suptitle('Диаграмма размаха для числовых признаков', fontsize=20)\n",
    "for i, col in enumerate(num_cols):\n",
    "    sns.boxplot(data=train, x='Churn', y=col, ax=ax[i])\n",
    "    ax[i].set_xticklabels(['stayed', 'gone'])\n",
    "    \n",
    "    \n",
    "fig.tight_layout()\n"
   ]
  },
  {
   "cell_type": "markdown",
   "metadata": {},
   "source": [
    "Рассмотрим категориальные признаки"
   ]
  },
  {
   "cell_type": "code",
   "execution_count": 249,
   "metadata": {
    "execution": {
     "iopub.execute_input": "2022-10-24T19:49:06.426983Z",
     "iopub.status.busy": "2022-10-24T19:49:06.426374Z",
     "iopub.status.idle": "2022-10-24T19:49:06.432716Z",
     "shell.execute_reply": "2022-10-24T19:49:06.431547Z",
     "shell.execute_reply.started": "2022-10-24T19:49:06.426948Z"
    }
   },
   "outputs": [
    {
     "name": "stdout",
     "output_type": "stream",
     "text": [
      "['Sex', 'IsSeniorCitizen', 'HasPartner', 'HasChild', 'HasPhoneService', 'HasMultiplePhoneNumbers', 'HasInternetService', 'HasOnlineSecurityService', 'HasOnlineBackup', 'HasDeviceProtection', 'HasTechSupportAccess', 'HasOnlineTV', 'HasMovieSubscription', 'HasContractPhone', 'IsBillingPaperless', 'PaymentMethod']\n"
     ]
    }
   ],
   "source": [
    "print(cat_cols)"
   ]
  },
  {
   "cell_type": "code",
   "execution_count": 250,
   "metadata": {
    "execution": {
     "iopub.execute_input": "2022-10-24T19:49:06.434500Z",
     "iopub.status.busy": "2022-10-24T19:49:06.434086Z",
     "iopub.status.idle": "2022-10-24T19:49:06.445202Z",
     "shell.execute_reply": "2022-10-24T19:49:06.443964Z",
     "shell.execute_reply.started": "2022-10-24T19:49:06.434469Z"
    }
   },
   "outputs": [],
   "source": [
    "# for i, cat in enumerate(cat_cols):\n",
    "#     print(stayed[cat].value_counts())"
   ]
  },
  {
   "cell_type": "code",
   "execution_count": 251,
   "metadata": {
    "execution": {
     "iopub.execute_input": "2022-10-24T19:49:06.446969Z",
     "iopub.status.busy": "2022-10-24T19:49:06.446639Z",
     "iopub.status.idle": "2022-10-24T19:49:06.456653Z",
     "shell.execute_reply": "2022-10-24T19:49:06.455393Z",
     "shell.execute_reply.started": "2022-10-24T19:49:06.446940Z"
    }
   },
   "outputs": [],
   "source": [
    "# for i, cat in enumerate(cat_cols):\n",
    "#     print(gone[cat].value_counts())"
   ]
  },
  {
   "cell_type": "markdown",
   "metadata": {},
   "source": [
    "Построим круговые диаграммы\n",
    "\n",
    "Две соседние диаграммы в каждой строке показывают частоты встречи данной категории для оставшихся и ушедших клиентов"
   ]
  },
  {
   "cell_type": "code",
   "execution_count": 252,
   "metadata": {
    "execution": {
     "iopub.execute_input": "2022-10-24T19:49:06.458686Z",
     "iopub.status.busy": "2022-10-24T19:49:06.458176Z",
     "iopub.status.idle": "2022-10-24T19:49:14.837782Z",
     "shell.execute_reply": "2022-10-24T19:49:14.836682Z",
     "shell.execute_reply.started": "2022-10-24T19:49:06.458640Z"
    }
   },
   "outputs": [
    {
     "data": {
      "image/png": "[encoded data removed]",
      "text/plain": [
       "<Figure size 1080x2880 with 32 Axes>"
      ]
     },
     "metadata": {},
     "output_type": "display_data"
    }
   ],
   "source": [
    "fig, ax = plt.subplots(ncols=4, nrows=8, figsize=(15, 40))\n",
    "ax = ax.reshape(-1)\n",
    "fig.suptitle('Круговые диаграммы для категориальных признаков', fontsize=20)\n",
    "for i, cat in enumerate(cat_cols):\n",
    "    idx = 2*i\n",
    "    \n",
    "    xs = stayed[cat].value_counts().sort_index()  # сортировка по индексам для одинаковых цветов категорий\n",
    "    index_s = xs.index\n",
    "    ax[idx].pie(x=xs, shadow=True)\n",
    "    ax[idx].set_title(cat + \" [stayed]\")\n",
    "    ax[idx].legend(index_s) \n",
    "    \n",
    "    xg = gone[cat].value_counts().sort_index()\n",
    "    index_g = xg.index\n",
    "    ax[idx+1].pie(x=xg, shadow=True)\n",
    "    ax[idx+1].set_title(cat + \" [gone]\")\n",
    "    ax[idx+1].legend(index_g)\n",
    "\n",
    "fig.tight_layout()"
   ]
  },
  {
   "cell_type": "markdown",
   "metadata": {},
   "source": [
    "Рассмотрим распределение классов целевой переменной:"
   ]
  },
  {
   "cell_type": "code",
   "execution_count": 253,
   "metadata": {
    "execution": {
     "iopub.execute_input": "2022-10-24T19:49:14.840264Z",
     "iopub.status.busy": "2022-10-24T19:49:14.839190Z",
     "iopub.status.idle": "2022-10-24T19:49:14.849777Z",
     "shell.execute_reply": "2022-10-24T19:49:14.848703Z",
     "shell.execute_reply.started": "2022-10-24T19:49:14.840208Z"
    }
   },
   "outputs": [
    {
     "data": {
      "text/plain": [
       "0    3889\n",
       "1    1384\n",
       "Name: Churn, dtype: int64"
      ]
     },
     "execution_count": 253,
     "metadata": {},
     "output_type": "execute_result"
    }
   ],
   "source": [
    "xt = train[target_col].value_counts()\n",
    "xt"
   ]
  },
  {
   "cell_type": "code",
   "execution_count": 254,
   "metadata": {
    "execution": {
     "iopub.execute_input": "2022-10-24T19:49:14.851447Z",
     "iopub.status.busy": "2022-10-24T19:49:14.851100Z",
     "iopub.status.idle": "2022-10-24T19:49:15.104058Z",
     "shell.execute_reply": "2022-10-24T19:49:15.102529Z",
     "shell.execute_reply.started": "2022-10-24T19:49:14.851417Z"
    }
   },
   "outputs": [
    {
     "data": {
      "image/png": "[encoded data removed]",
      "text/plain": [
       "<Figure size 216x288 with 1 Axes>"
      ]
     },
     "metadata": {},
     "output_type": "display_data"
    }
   ],
   "source": [
    "fig, ax = plt.subplots(figsize=(3, 4))\n",
    "ax.pie(x=xt, autopct=lambda x: f\"{x:.2f}%\\n({int(xt.sum()*x/100)})\")\n",
    "ax.legend([\"stayed\", \"gone\"])\n",
    "fig.tight_layout()"
   ]
  },
  {
   "cell_type": "markdown",
   "metadata": {},
   "source": [
    "Как мы видим, в выборке есть небольшой дисбаланс классов, так что метрика accuracy нам не подходит. Однако количивество объектов обоих классов одного порядка, так что выборку нельзя назвать сильно несбалансированной"
   ]
  },
  {
   "cell_type": "markdown",
   "metadata": {},
   "source": [
    "## Применение линейных моделей"
   ]
  },
  {
   "cell_type": "code",
   "execution_count": 255,
   "metadata": {
    "execution": {
     "iopub.execute_input": "2022-10-24T19:49:15.106923Z",
     "iopub.status.busy": "2022-10-24T19:49:15.106274Z",
     "iopub.status.idle": "2022-10-24T19:49:15.117110Z",
     "shell.execute_reply": "2022-10-24T19:49:15.115509Z",
     "shell.execute_reply.started": "2022-10-24T19:49:15.106866Z"
    }
   },
   "outputs": [],
   "source": [
    "from sklearn.linear_model import LogisticRegression, LogisticRegressionCV\n",
    "from sklearn.model_selection import train_test_split, GridSearchCV\n",
    "from sklearn.preprocessing import StandardScaler, RobustScaler, LabelEncoder, OneHotEncoder\n",
    "from sklearn.pipeline import make_pipeline, Pipeline\n",
    "from sklearn.compose import ColumnTransformer\n",
    "from sklearn.metrics import roc_auc_score, roc_curve"
   ]
  },
  {
   "cell_type": "markdown",
   "metadata": {},
   "source": [
    "Разделим обучающую выборку на признаки и ответы:"
   ]
  },
  {
   "cell_type": "code",
   "execution_count": 282,
   "metadata": {
    "execution": {
     "iopub.execute_input": "2022-10-24T20:02:41.690863Z",
     "iopub.status.busy": "2022-10-24T20:02:41.689987Z",
     "iopub.status.idle": "2022-10-24T20:02:41.702731Z",
     "shell.execute_reply": "2022-10-24T20:02:41.700518Z",
     "shell.execute_reply.started": "2022-10-24T20:02:41.690816Z"
    }
   },
   "outputs": [],
   "source": [
    "X_train = train[feature_cols]\n",
    "y_train = train[target_col]\n",
    "\n",
    "X_test = test[feature_cols]\n"
   ]
  },
  {
   "cell_type": "markdown",
   "metadata": {},
   "source": [
    "Полготовим преобразование One-Hot encoding для категориальных признаков и RobustScaler для числовыз признаков (у нас есть значительное число значений с большими отклонениями, так что RobustScaler нам особенно подходит)"
   ]
  },
  {
   "cell_type": "code",
   "execution_count": 257,
   "metadata": {
    "execution": {
     "iopub.execute_input": "2022-10-24T19:49:15.139624Z",
     "iopub.status.busy": "2022-10-24T19:49:15.138853Z",
     "iopub.status.idle": "2022-10-24T19:49:15.145594Z",
     "shell.execute_reply": "2022-10-24T19:49:15.144497Z",
     "shell.execute_reply.started": "2022-10-24T19:49:15.139582Z"
    }
   },
   "outputs": [],
   "source": [
    "col_transformer = ColumnTransformer([\n",
    "    ('cat_cols', OneHotEncoder(drop='first'), cat_cols),\n",
    "    ('num_cols', RobustScaler(), num_cols)\n",
    "])  # числовые признаки пока не нормируем, будем делать это в pipeline'е при CV, чтобы избежать утечки данных"
   ]
  },
  {
   "cell_type": "markdown",
   "metadata": {},
   "source": [
    "Приготовим pipeline для CV логистической регресии для подбора гиперпараметров"
   ]
  },
  {
   "cell_type": "code",
   "execution_count": 258,
   "metadata": {
    "execution": {
     "iopub.execute_input": "2022-10-24T19:49:15.147832Z",
     "iopub.status.busy": "2022-10-24T19:49:15.147042Z",
     "iopub.status.idle": "2022-10-24T19:49:15.157949Z",
     "shell.execute_reply": "2022-10-24T19:49:15.157141Z",
     "shell.execute_reply.started": "2022-10-24T19:49:15.147789Z"
    }
   },
   "outputs": [],
   "source": [
    "cls_logreg_pipeline = Pipeline([\n",
    "    ('num_cols_preprocessing', col_transformer),\n",
    "    (\"logreg\", LogisticRegression(solver='saga', random_state=42, max_iter=1000))\n",
    "])"
   ]
  },
  {
   "cell_type": "markdown",
   "metadata": {},
   "source": [
    "Сетка гиперпараметров для CV"
   ]
  },
  {
   "cell_type": "code",
   "execution_count": 259,
   "metadata": {
    "execution": {
     "iopub.execute_input": "2022-10-24T19:49:15.160100Z",
     "iopub.status.busy": "2022-10-24T19:49:15.158953Z",
     "iopub.status.idle": "2022-10-24T19:49:15.169904Z",
     "shell.execute_reply": "2022-10-24T19:49:15.169112Z",
     "shell.execute_reply.started": "2022-10-24T19:49:15.160055Z"
    }
   },
   "outputs": [],
   "source": [
    "cls_logreg_param_grid = {\n",
    "    'logreg__penalty': ['none', 'l1', 'l2'],\n",
    "    'logreg__C': [1e6, 1e5, 1e4, 1e3, 100, 10, 1, 0.1, 0.01],\n",
    "    'logreg__fit_intercept': [True, False],\n",
    "}\n",
    "\n",
    "cls_logreg_elasticnet_param_grid = {\n",
    "    'logreg__penalty': ['elasticnet'],\n",
    "    'logreg__l1_ratio': [0.01, 0.1, 0.5, 0.9, 0.99],\n",
    "    'logreg__C': [1e6, 1e5, 1e4, 1e3, 100, 10, 1, 0.1, 0.01],\n",
    "    'logreg__fit_intercept': [True, False],\n",
    "}"
   ]
  },
  {
   "cell_type": "markdown",
   "metadata": {},
   "source": [
    "Проведем подбор лучших гиперпараметров для логистической регресии"
   ]
  },
  {
   "cell_type": "code",
   "execution_count": 260,
   "metadata": {
    "execution": {
     "iopub.execute_input": "2022-10-24T19:49:15.172350Z",
     "iopub.status.busy": "2022-10-24T19:49:15.171355Z",
     "iopub.status.idle": "2022-10-24T19:49:15.184980Z",
     "shell.execute_reply": "2022-10-24T19:49:15.184059Z",
     "shell.execute_reply.started": "2022-10-24T19:49:15.172293Z"
    }
   },
   "outputs": [],
   "source": [
    "grid_search_logreg_cls = GridSearchCV(estimator=cls_logreg_pipeline,\n",
    "                                      param_grid=cls_logreg_param_grid, \n",
    "                                      scoring='roc_auc', \n",
    "                                      verbose=0, \n",
    "                                      n_jobs=-1, \n",
    "                                      cv=3, \n",
    "                                      refit=True)"
   ]
  },
  {
   "cell_type": "code",
   "execution_count": 261,
   "metadata": {
    "execution": {
     "iopub.execute_input": "2022-10-24T19:49:15.187223Z",
     "iopub.status.busy": "2022-10-24T19:49:15.186102Z",
     "iopub.status.idle": "2022-10-24T19:49:15.197139Z",
     "shell.execute_reply": "2022-10-24T19:49:15.196175Z",
     "shell.execute_reply.started": "2022-10-24T19:49:15.187158Z"
    }
   },
   "outputs": [],
   "source": [
    "grid_search_logreg_elasticnet_cls = GridSearchCV(estimator=cls_logreg_pipeline,\n",
    "                                      param_grid=cls_logreg_elasticnet_param_grid, \n",
    "                                      scoring='roc_auc', \n",
    "                                      verbose=0, \n",
    "                                      n_jobs=-1, \n",
    "                                      cv=3, \n",
    "                                      refit=True)"
   ]
  },
  {
   "cell_type": "code",
   "execution_count": 262,
   "metadata": {
    "execution": {
     "iopub.execute_input": "2022-10-24T19:49:15.199118Z",
     "iopub.status.busy": "2022-10-24T19:49:15.198314Z",
     "iopub.status.idle": "2022-10-24T19:50:22.780900Z",
     "shell.execute_reply": "2022-10-24T19:50:22.779465Z",
     "shell.execute_reply.started": "2022-10-24T19:49:15.199086Z"
    }
   },
   "outputs": [
    {
     "data": {
      "text/plain": [
       "GridSearchCV(cv=3,\n",
       "             estimator=Pipeline(steps=[('num_cols_preprocessing',\n",
       "                                        ColumnTransformer(transformers=[('cat_cols',\n",
       "                                                                         OneHotEncoder(drop='first'),\n",
       "                                                                         ['Sex',\n",
       "                                                                          'IsSeniorCitizen',\n",
       "                                                                          'HasPartner',\n",
       "                                                                          'HasChild',\n",
       "                                                                          'HasPhoneService',\n",
       "                                                                          'HasMultiplePhoneNumbers',\n",
       "                                                                          'HasInternetService',\n",
       "                                                                          'HasOnlineSecurityService',\n",
       "                                                                          'HasOnlineBackup',\n",
       "                                                                          'HasDeviceProtection',\n",
       "                                                                          'HasTechSupportAccess',\n",
       "                                                                          'Has...\n",
       "                                                                          'PaymentMethod']),\n",
       "                                                                        ('num_cols',\n",
       "                                                                         RobustScaler(),\n",
       "                                                                         ['ClientPeriod',\n",
       "                                                                          'MonthlySpending',\n",
       "                                                                          'TotalSpent'])])),\n",
       "                                       ('logreg',\n",
       "                                        LogisticRegression(max_iter=1000,\n",
       "                                                           random_state=42,\n",
       "                                                           solver='saga'))]),\n",
       "             n_jobs=-1,\n",
       "             param_grid={'logreg__C': [1000000.0, 100000.0, 10000.0, 1000.0,\n",
       "                                       100, 10, 1, 0.1, 0.01],\n",
       "                         'logreg__fit_intercept': [True, False],\n",
       "                         'logreg__penalty': ['none', 'l1', 'l2']},\n",
       "             scoring='roc_auc')"
      ]
     },
     "execution_count": 262,
     "metadata": {},
     "output_type": "execute_result"
    }
   ],
   "source": [
    "grid_search_logreg_cls.fit(X_train, y_train)"
   ]
  },
  {
   "cell_type": "code",
   "execution_count": 263,
   "metadata": {
    "execution": {
     "iopub.execute_input": "2022-10-24T19:50:22.783375Z",
     "iopub.status.busy": "2022-10-24T19:50:22.782889Z",
     "iopub.status.idle": "2022-10-24T19:52:22.431004Z",
     "shell.execute_reply": "2022-10-24T19:52:22.429918Z",
     "shell.execute_reply.started": "2022-10-24T19:50:22.783323Z"
    }
   },
   "outputs": [
    {
     "data": {
      "text/plain": [
       "GridSearchCV(cv=3,\n",
       "             estimator=Pipeline(steps=[('num_cols_preprocessing',\n",
       "                                        ColumnTransformer(transformers=[('cat_cols',\n",
       "                                                                         OneHotEncoder(drop='first'),\n",
       "                                                                         ['Sex',\n",
       "                                                                          'IsSeniorCitizen',\n",
       "                                                                          'HasPartner',\n",
       "                                                                          'HasChild',\n",
       "                                                                          'HasPhoneService',\n",
       "                                                                          'HasMultiplePhoneNumbers',\n",
       "                                                                          'HasInternetService',\n",
       "                                                                          'HasOnlineSecurityService',\n",
       "                                                                          'HasOnlineBackup',\n",
       "                                                                          'HasDeviceProtection',\n",
       "                                                                          'HasTechSupportAccess',\n",
       "                                                                          'Has...\n",
       "                                                                         RobustScaler(),\n",
       "                                                                         ['ClientPeriod',\n",
       "                                                                          'MonthlySpending',\n",
       "                                                                          'TotalSpent'])])),\n",
       "                                       ('logreg',\n",
       "                                        LogisticRegression(max_iter=1000,\n",
       "                                                           random_state=42,\n",
       "                                                           solver='saga'))]),\n",
       "             n_jobs=-1,\n",
       "             param_grid={'logreg__C': [1000000.0, 100000.0, 10000.0, 1000.0,\n",
       "                                       100, 10, 1, 0.1, 0.01],\n",
       "                         'logreg__fit_intercept': [True, False],\n",
       "                         'logreg__l1_ratio': [0.01, 0.1, 0.5, 0.9, 0.99],\n",
       "                         'logreg__penalty': ['elasticnet']},\n",
       "             scoring='roc_auc')"
      ]
     },
     "execution_count": 263,
     "metadata": {},
     "output_type": "execute_result"
    }
   ],
   "source": [
    "grid_search_logreg_elasticnet_cls.fit(X_train, y_train)"
   ]
  },
  {
   "cell_type": "markdown",
   "metadata": {},
   "source": [
    "Лучшие параметры"
   ]
  },
  {
   "cell_type": "code",
   "execution_count": 264,
   "metadata": {
    "execution": {
     "iopub.execute_input": "2022-10-24T19:52:22.432948Z",
     "iopub.status.busy": "2022-10-24T19:52:22.432519Z",
     "iopub.status.idle": "2022-10-24T19:52:22.439140Z",
     "shell.execute_reply": "2022-10-24T19:52:22.437846Z",
     "shell.execute_reply.started": "2022-10-24T19:52:22.432906Z"
    }
   },
   "outputs": [
    {
     "name": "stdout",
     "output_type": "stream",
     "text": [
      "{'logreg__C': 1000.0, 'logreg__fit_intercept': False, 'logreg__penalty': 'l2'}\n",
      "{'logreg__C': 1000.0, 'logreg__fit_intercept': False, 'logreg__l1_ratio': 0.01, 'logreg__penalty': 'elasticnet'}\n"
     ]
    }
   ],
   "source": [
    "print(grid_search_logreg_cls.best_params_)\n",
    "print(grid_search_logreg_elasticnet_cls.best_params_)"
   ]
  },
  {
   "cell_type": "markdown",
   "metadata": {},
   "source": [
    "Величина ROC AUC для лучших параметров"
   ]
  },
  {
   "cell_type": "code",
   "execution_count": 265,
   "metadata": {
    "execution": {
     "iopub.execute_input": "2022-10-24T19:52:22.441253Z",
     "iopub.status.busy": "2022-10-24T19:52:22.440826Z",
     "iopub.status.idle": "2022-10-24T19:52:22.452363Z",
     "shell.execute_reply": "2022-10-24T19:52:22.451245Z",
     "shell.execute_reply.started": "2022-10-24T19:52:22.441203Z"
    }
   },
   "outputs": [
    {
     "name": "stdout",
     "output_type": "stream",
     "text": [
      "0.8429842548780129\n",
      "0.8429853698599697\n"
     ]
    }
   ],
   "source": [
    "print(grid_search_logreg_cls.best_score_)  # none, l1 или l2\n",
    "print(grid_search_logreg_elasticnet_cls.best_score_)  # elasticnet"
   ]
  },
  {
   "cell_type": "markdown",
   "metadata": {},
   "source": [
    "Выберем лучшую регуляризацию"
   ]
  },
  {
   "cell_type": "code",
   "execution_count": 266,
   "metadata": {
    "execution": {
     "iopub.execute_input": "2022-10-24T19:52:22.454805Z",
     "iopub.status.busy": "2022-10-24T19:52:22.454407Z",
     "iopub.status.idle": "2022-10-24T19:52:22.464434Z",
     "shell.execute_reply": "2022-10-24T19:52:22.463364Z",
     "shell.execute_reply.started": "2022-10-24T19:52:22.454773Z"
    }
   },
   "outputs": [],
   "source": [
    "if grid_search_logreg_cls.best_score_ > grid_search_logreg_elasticnet_cls.best_score_:\n",
    "    grid_search_logreg_cls_best = grid_search_logreg_cls\n",
    "else:\n",
    "    grid_search_logreg_cls_best = grid_search_logreg_elasticnet_cls"
   ]
  },
  {
   "cell_type": "markdown",
   "metadata": {},
   "source": [
    "Теперь предскажем ответы на тестовой выборке"
   ]
  },
  {
   "cell_type": "code",
   "execution_count": 267,
   "metadata": {
    "execution": {
     "iopub.execute_input": "2022-10-24T19:52:22.466207Z",
     "iopub.status.busy": "2022-10-24T19:52:22.465889Z",
     "iopub.status.idle": "2022-10-24T19:52:22.500010Z",
     "shell.execute_reply": "2022-10-24T19:52:22.498850Z",
     "shell.execute_reply.started": "2022-10-24T19:52:22.466178Z"
    }
   },
   "outputs": [
    {
     "data": {
      "text/plain": [
       "array([[0.96298475, 0.03701525],\n",
       "       [0.26406369, 0.73593631],\n",
       "       [0.31732308, 0.68267692],\n",
       "       ...,\n",
       "       [0.24943178, 0.75056822],\n",
       "       [0.35580683, 0.64419317],\n",
       "       [0.99025289, 0.00974711]])"
      ]
     },
     "execution_count": 267,
     "metadata": {},
     "output_type": "execute_result"
    }
   ],
   "source": [
    "logreg_cls = grid_search_logreg_cls_best.predict_proba(X_test)\n",
    "logreg_cls"
   ]
  },
  {
   "cell_type": "markdown",
   "metadata": {},
   "source": [
    "## Градиентный бустинг"
   ]
  },
  {
   "cell_type": "markdown",
   "metadata": {},
   "source": [
    "### Catboost"
   ]
  },
  {
   "cell_type": "markdown",
   "metadata": {},
   "source": [
    "Важно, что при работе с catboost не надо заниматься предобработкой категориальных признаков"
   ]
  },
  {
   "cell_type": "code",
   "execution_count": 268,
   "metadata": {
    "execution": {
     "iopub.execute_input": "2022-10-24T19:52:22.502626Z",
     "iopub.status.busy": "2022-10-24T19:52:22.501503Z",
     "iopub.status.idle": "2022-10-24T19:52:22.508865Z",
     "shell.execute_reply": "2022-10-24T19:52:22.507524Z",
     "shell.execute_reply.started": "2022-10-24T19:52:22.502570Z"
    }
   },
   "outputs": [],
   "source": [
    "from catboost import Pool, CatBoostClassifier"
   ]
  },
  {
   "cell_type": "markdown",
   "metadata": {},
   "source": [
    "Проведем подбор гипербараметров при помощи CV (здесь Hold-Out)"
   ]
  },
  {
   "cell_type": "code",
   "execution_count": 269,
   "metadata": {
    "execution": {
     "iopub.execute_input": "2022-10-24T19:52:22.511060Z",
     "iopub.status.busy": "2022-10-24T19:52:22.510554Z",
     "iopub.status.idle": "2022-10-24T19:52:22.532379Z",
     "shell.execute_reply": "2022-10-24T19:52:22.530594Z",
     "shell.execute_reply.started": "2022-10-24T19:52:22.511018Z"
    }
   },
   "outputs": [],
   "source": [
    "X_train_cv, X_test_cv, y_train_cv, y_test_cv = train_test_split(X_train, y_train.values, train_size=0.8, random_state=42)"
   ]
  },
  {
   "cell_type": "code",
   "execution_count": 270,
   "metadata": {
    "execution": {
     "iopub.execute_input": "2022-10-24T19:52:22.541908Z",
     "iopub.status.busy": "2022-10-24T19:52:22.540992Z",
     "iopub.status.idle": "2022-10-24T19:52:22.605638Z",
     "shell.execute_reply": "2022-10-24T19:52:22.604048Z",
     "shell.execute_reply.started": "2022-10-24T19:52:22.541847Z"
    }
   },
   "outputs": [],
   "source": [
    "train_catboost = Pool(data=X_train_cv,\n",
    "                      label=y_train_cv,\n",
    "                      cat_features=cat_cols,\n",
    "                      feature_names=feature_cols,\n",
    "                      thread_count=-1\n",
    "                      )"
   ]
  },
  {
   "cell_type": "code",
   "execution_count": 271,
   "metadata": {
    "execution": {
     "iopub.execute_input": "2022-10-24T19:52:22.608940Z",
     "iopub.status.busy": "2022-10-24T19:52:22.607968Z",
     "iopub.status.idle": "2022-10-24T19:52:22.618113Z",
     "shell.execute_reply": "2022-10-24T19:52:22.617038Z",
     "shell.execute_reply.started": "2022-10-24T19:52:22.608881Z"
    }
   },
   "outputs": [],
   "source": [
    "cls_catboost = CatBoostClassifier(random_state=42, verbose=False, cat_features=cat_cols, bootstrap_type = 'Bayesian')"
   ]
  },
  {
   "cell_type": "markdown",
   "metadata": {},
   "source": [
    "Построим сетку для отбора гиперпараметров"
   ]
  },
  {
   "cell_type": "code",
   "execution_count": 272,
   "metadata": {
    "execution": {
     "iopub.execute_input": "2022-10-24T19:52:22.620819Z",
     "iopub.status.busy": "2022-10-24T19:52:22.620240Z",
     "iopub.status.idle": "2022-10-24T19:52:22.630578Z",
     "shell.execute_reply": "2022-10-24T19:52:22.629704Z",
     "shell.execute_reply.started": "2022-10-24T19:52:22.620786Z"
    }
   },
   "outputs": [],
   "source": [
    "param_grid_catboost = {\n",
    "    \"num_trees\": [50, 100, 200, 300, 500],\n",
    "    \"learning_rate\":[0.03, 0.05],\n",
    "    \"max_depth\": [2, 4, 6, 8], #2,4,6,8\n",
    "    \"grow_policy\":['Lossguide'],#как будет применяться жадный алгоритм поиска\n",
    "    \"min_data_in_leaf\":[10, 25, 50, 100], \n",
    "    \"score_function\": ['L2']\n",
    "    \n",
    "}\n",
    "\n",
    "# param_grid_catboost = {\n",
    "#     \"num_trees\": [300],\n",
    "#     \"learning_rate\":[0.01, 0.05],\n",
    "#     \"max_depth\": [4, 6], #2,4,6,8\n",
    "#     \"grow_policy\":['Lossguide'],#как будет применяться жадный алгоритм поиска\n",
    "#     \"min_data_in_leaf\":[100], \n",
    "#     \"score_function\": ['L2']\n",
    "    \n",
    "# }"
   ]
  },
  {
   "cell_type": "code",
   "execution_count": 273,
   "metadata": {
    "execution": {
     "iopub.execute_input": "2022-10-24T19:52:22.632455Z",
     "iopub.status.busy": "2022-10-24T19:52:22.631867Z",
     "iopub.status.idle": "2022-10-24T19:57:17.696068Z",
     "shell.execute_reply": "2022-10-24T19:57:17.694838Z",
     "shell.execute_reply.started": "2022-10-24T19:52:22.632423Z"
    }
   },
   "outputs": [
    {
     "name": "stdout",
     "output_type": "stream",
     "text": [
      "\n",
      "bestTest = 0.4466520053\n",
      "bestIteration = 49\n",
      "\n",
      "0:\tloss: 0.4466520\tbest: 0.4466520 (0)\ttotal: 240ms\tremaining: 38.1s\n",
      "\n",
      "bestTest = 0.4279530909\n",
      "bestIteration = 49\n",
      "\n",
      "1:\tloss: 0.4279531\tbest: 0.4279531 (1)\ttotal: 449ms\tremaining: 35.4s\n",
      "\n",
      "bestTest = 0.4242997577\n",
      "bestIteration = 99\n",
      "\n",
      "2:\tloss: 0.4242998\tbest: 0.4242998 (2)\ttotal: 876ms\tremaining: 45.8s\n",
      "\n",
      "bestTest = 0.4133120092\n",
      "bestIteration = 99\n",
      "\n",
      "3:\tloss: 0.4133120\tbest: 0.4133120 (3)\ttotal: 1.3s\tremaining: 50.7s\n",
      "\n",
      "bestTest = 0.412686701\n",
      "bestIteration = 199\n",
      "\n",
      "4:\tloss: 0.4126867\tbest: 0.4126867 (4)\ttotal: 2.15s\tremaining: 1m 6s\n",
      "\n",
      "bestTest = 0.4078108656\n",
      "bestIteration = 195\n",
      "\n",
      "5:\tloss: 0.4078109\tbest: 0.4078109 (5)\ttotal: 3.01s\tremaining: 1m 17s\n",
      "\n",
      "bestTest = 0.4094771348\n",
      "bestIteration = 299\n",
      "\n",
      "6:\tloss: 0.4094771\tbest: 0.4078109 (5)\ttotal: 4.25s\tremaining: 1m 32s\n",
      "\n",
      "bestTest = 0.4072980552\n",
      "bestIteration = 267\n",
      "\n",
      "7:\tloss: 0.4072981\tbest: 0.4072981 (7)\ttotal: 5.64s\tremaining: 1m 47s\n",
      "\n",
      "bestTest = 0.4069832403\n",
      "bestIteration = 497\n",
      "\n",
      "8:\tloss: 0.4069832\tbest: 0.4069832 (8)\ttotal: 7.64s\tremaining: 2m 8s\n",
      "\n",
      "bestTest = 0.4072980552\n",
      "bestIteration = 267\n",
      "\n",
      "9:\tloss: 0.4072981\tbest: 0.4069832 (8)\ttotal: 9.5s\tremaining: 2m 22s\n",
      "\n",
      "bestTest = 0.434055273\n",
      "bestIteration = 49\n",
      "\n",
      "10:\tloss: 0.4340553\tbest: 0.4069832 (8)\ttotal: 9.84s\tremaining: 2m 13s\n",
      "\n",
      "bestTest = 0.4195485491\n",
      "bestIteration = 49\n",
      "\n",
      "11:\tloss: 0.4195485\tbest: 0.4069832 (8)\ttotal: 10.2s\tremaining: 2m 5s\n",
      "\n",
      "bestTest = 0.4158936893\n",
      "bestIteration = 99\n",
      "\n",
      "12:\tloss: 0.4158937\tbest: 0.4069832 (8)\ttotal: 10.8s\tremaining: 2m 2s\n",
      "\n",
      "bestTest = 0.4111010727\n",
      "bestIteration = 99\n",
      "\n",
      "13:\tloss: 0.4111011\tbest: 0.4069832 (8)\ttotal: 11.5s\tremaining: 2m\n",
      "\n",
      "bestTest = 0.4090557408\n",
      "bestIteration = 197\n",
      "\n",
      "14:\tloss: 0.4090557\tbest: 0.4069832 (8)\ttotal: 12.8s\tremaining: 2m 3s\n",
      "\n",
      "bestTest = 0.4102617424\n",
      "bestIteration = 162\n",
      "\n",
      "15:\tloss: 0.4102617\tbest: 0.4069832 (8)\ttotal: 14s\tremaining: 2m 6s\n",
      "\n",
      "bestTest = 0.4082696966\n",
      "bestIteration = 264\n",
      "\n",
      "16:\tloss: 0.4082697\tbest: 0.4069832 (8)\ttotal: 16.3s\tremaining: 2m 16s\n",
      "\n",
      "bestTest = 0.4102617424\n",
      "bestIteration = 162\n",
      "\n",
      "17:\tloss: 0.4102617\tbest: 0.4069832 (8)\ttotal: 18.2s\tremaining: 2m 23s\n",
      "\n",
      "bestTest = 0.4082374245\n",
      "bestIteration = 308\n",
      "\n",
      "18:\tloss: 0.4082374\tbest: 0.4069832 (8)\ttotal: 21.4s\tremaining: 2m 38s\n",
      "\n",
      "bestTest = 0.4102617424\n",
      "bestIteration = 162\n",
      "\n",
      "19:\tloss: 0.4102617\tbest: 0.4069832 (8)\ttotal: 24.6s\tremaining: 2m 52s\n",
      "\n",
      "bestTest = 0.432269487\n",
      "bestIteration = 49\n",
      "\n",
      "20:\tloss: 0.4322695\tbest: 0.4069832 (8)\ttotal: 25.2s\tremaining: 2m 46s\n",
      "\n",
      "bestTest = 0.4166504822\n",
      "bestIteration = 49\n",
      "\n",
      "21:\tloss: 0.4166505\tbest: 0.4069832 (8)\ttotal: 25.7s\tremaining: 2m 41s\n",
      "\n",
      "bestTest = 0.4170282068\n",
      "bestIteration = 98\n",
      "\n",
      "22:\tloss: 0.4170282\tbest: 0.4069832 (8)\ttotal: 26.9s\tremaining: 2m 40s\n",
      "\n",
      "bestTest = 0.4109365668\n",
      "bestIteration = 98\n",
      "\n",
      "23:\tloss: 0.4109366\tbest: 0.4069832 (8)\ttotal: 27.9s\tremaining: 2m 38s\n",
      "\n",
      "bestTest = 0.4127265458\n",
      "bestIteration = 188\n",
      "\n",
      "24:\tloss: 0.4127265\tbest: 0.4069832 (8)\ttotal: 29.9s\tremaining: 2m 41s\n",
      "\n",
      "bestTest = 0.410339938\n",
      "bestIteration = 102\n",
      "\n",
      "25:\tloss: 0.4103399\tbest: 0.4069832 (8)\ttotal: 32s\tremaining: 2m 44s\n",
      "\n",
      "bestTest = 0.4127265458\n",
      "bestIteration = 188\n",
      "\n",
      "26:\tloss: 0.4127265\tbest: 0.4069832 (8)\ttotal: 35s\tremaining: 2m 52s\n",
      "\n",
      "bestTest = 0.410339938\n",
      "bestIteration = 102\n",
      "\n",
      "27:\tloss: 0.4103399\tbest: 0.4069832 (8)\ttotal: 38.1s\tremaining: 2m 59s\n",
      "\n",
      "bestTest = 0.4127265458\n",
      "bestIteration = 188\n",
      "\n",
      "28:\tloss: 0.4127265\tbest: 0.4069832 (8)\ttotal: 43.2s\tremaining: 3m 15s\n",
      "\n",
      "bestTest = 0.410339938\n",
      "bestIteration = 102\n",
      "\n",
      "29:\tloss: 0.4103399\tbest: 0.4069832 (8)\ttotal: 48.9s\tremaining: 3m 31s\n",
      "\n",
      "bestTest = 0.4323105865\n",
      "bestIteration = 49\n",
      "\n",
      "30:\tloss: 0.4323106\tbest: 0.4069832 (8)\ttotal: 49.5s\tremaining: 3m 26s\n",
      "\n",
      "bestTest = 0.4210137822\n",
      "bestIteration = 49\n",
      "\n",
      "31:\tloss: 0.4210138\tbest: 0.4069832 (8)\ttotal: 50.1s\tremaining: 3m 20s\n",
      "\n",
      "bestTest = 0.4142648368\n",
      "bestIteration = 99\n",
      "\n",
      "32:\tloss: 0.4142648\tbest: 0.4069832 (8)\ttotal: 51.3s\tremaining: 3m 17s\n",
      "\n",
      "bestTest = 0.415100029\n",
      "bestIteration = 96\n",
      "\n",
      "33:\tloss: 0.4151000\tbest: 0.4069832 (8)\ttotal: 52.4s\tremaining: 3m 14s\n",
      "\n",
      "bestTest = 0.4109212632\n",
      "bestIteration = 148\n",
      "\n",
      "34:\tloss: 0.4109213\tbest: 0.4069832 (8)\ttotal: 54.8s\tremaining: 3m 15s\n",
      "\n",
      "bestTest = 0.415100029\n",
      "bestIteration = 96\n",
      "\n",
      "35:\tloss: 0.4151000\tbest: 0.4069832 (8)\ttotal: 57.1s\tremaining: 3m 16s\n",
      "\n",
      "bestTest = 0.4104974629\n",
      "bestIteration = 250\n",
      "\n",
      "36:\tloss: 0.4104975\tbest: 0.4069832 (8)\ttotal: 1m\tremaining: 3m 21s\n",
      "\n",
      "bestTest = 0.415100029\n",
      "bestIteration = 96\n",
      "\n",
      "37:\tloss: 0.4151000\tbest: 0.4069832 (8)\ttotal: 1m 4s\tremaining: 3m 25s\n",
      "\n",
      "bestTest = 0.4104974629\n",
      "bestIteration = 250\n",
      "\n",
      "38:\tloss: 0.4104975\tbest: 0.4069832 (8)\ttotal: 1m 9s\tremaining: 3m 36s\n",
      "\n",
      "bestTest = 0.415100029\n",
      "bestIteration = 96\n",
      "\n",
      "39:\tloss: 0.4151000\tbest: 0.4069832 (8)\ttotal: 1m 15s\tremaining: 3m 46s\n",
      "\n",
      "bestTest = 0.4466520053\n",
      "bestIteration = 49\n",
      "\n",
      "40:\tloss: 0.4466520\tbest: 0.4069832 (8)\ttotal: 1m 15s\tremaining: 3m 39s\n",
      "\n",
      "bestTest = 0.4279530909\n",
      "bestIteration = 49\n",
      "\n",
      "41:\tloss: 0.4279531\tbest: 0.4069832 (8)\ttotal: 1m 15s\tremaining: 3m 33s\n",
      "\n",
      "bestTest = 0.4242997577\n",
      "bestIteration = 99\n",
      "\n",
      "42:\tloss: 0.4242998\tbest: 0.4069832 (8)\ttotal: 1m 16s\tremaining: 3m 27s\n",
      "\n",
      "bestTest = 0.4133120092\n",
      "bestIteration = 99\n",
      "\n",
      "43:\tloss: 0.4133120\tbest: 0.4069832 (8)\ttotal: 1m 16s\tremaining: 3m 22s\n",
      "\n",
      "bestTest = 0.4122276609\n",
      "bestIteration = 199\n",
      "\n",
      "44:\tloss: 0.4122277\tbest: 0.4069832 (8)\ttotal: 1m 17s\tremaining: 3m 18s\n",
      "\n",
      "bestTest = 0.4083679102\n",
      "bestIteration = 199\n",
      "\n",
      "45:\tloss: 0.4083679\tbest: 0.4069832 (8)\ttotal: 1m 18s\tremaining: 3m 14s\n",
      "\n",
      "bestTest = 0.40908416\n",
      "bestIteration = 299\n",
      "\n",
      "46:\tloss: 0.4090842\tbest: 0.4069832 (8)\ttotal: 1m 19s\tremaining: 3m 12s\n",
      "\n",
      "bestTest = 0.407556682\n",
      "bestIteration = 273\n",
      "\n",
      "47:\tloss: 0.4075567\tbest: 0.4069832 (8)\ttotal: 1m 21s\tremaining: 3m 9s\n",
      "\n",
      "bestTest = 0.4081233676\n",
      "bestIteration = 456\n",
      "\n",
      "48:\tloss: 0.4081234\tbest: 0.4069832 (8)\ttotal: 1m 23s\tremaining: 3m 8s\n",
      "\n",
      "bestTest = 0.4073906577\n",
      "bestIteration = 367\n",
      "\n",
      "49:\tloss: 0.4073907\tbest: 0.4069832 (8)\ttotal: 1m 25s\tremaining: 3m 7s\n",
      "\n",
      "bestTest = 0.4333800348\n",
      "bestIteration = 49\n",
      "\n",
      "50:\tloss: 0.4333800\tbest: 0.4069832 (8)\ttotal: 1m 25s\tremaining: 3m 3s\n",
      "\n",
      "bestTest = 0.4196472409\n",
      "bestIteration = 49\n",
      "\n",
      "51:\tloss: 0.4196472\tbest: 0.4069832 (8)\ttotal: 1m 26s\tremaining: 2m 58s\n",
      "\n",
      "bestTest = 0.4150604608\n",
      "bestIteration = 99\n",
      "\n",
      "52:\tloss: 0.4150605\tbest: 0.4069832 (8)\ttotal: 1m 26s\tremaining: 2m 55s\n",
      "\n",
      "bestTest = 0.4109434144\n",
      "bestIteration = 99\n",
      "\n",
      "53:\tloss: 0.4109434\tbest: 0.4069832 (8)\ttotal: 1m 27s\tremaining: 2m 51s\n",
      "\n",
      "bestTest = 0.4087617592\n",
      "bestIteration = 198\n",
      "\n",
      "54:\tloss: 0.4087618\tbest: 0.4069832 (8)\ttotal: 1m 28s\tremaining: 2m 49s\n",
      "\n",
      "bestTest = 0.4095941617\n",
      "bestIteration = 147\n",
      "\n",
      "55:\tloss: 0.4095942\tbest: 0.4069832 (8)\ttotal: 1m 29s\tremaining: 2m 46s\n",
      "\n",
      "bestTest = 0.4082204584\n",
      "bestIteration = 264\n",
      "\n",
      "56:\tloss: 0.4082205\tbest: 0.4069832 (8)\ttotal: 1m 31s\tremaining: 2m 45s\n",
      "\n",
      "bestTest = 0.4095941617\n",
      "bestIteration = 147\n",
      "\n",
      "57:\tloss: 0.4095942\tbest: 0.4069832 (8)\ttotal: 1m 33s\tremaining: 2m 44s\n",
      "\n",
      "bestTest = 0.4082204584\n",
      "bestIteration = 264\n",
      "\n",
      "58:\tloss: 0.4082205\tbest: 0.4069832 (8)\ttotal: 1m 36s\tremaining: 2m 45s\n",
      "\n",
      "bestTest = 0.4095941617\n",
      "bestIteration = 147\n",
      "\n",
      "59:\tloss: 0.4095942\tbest: 0.4069832 (8)\ttotal: 1m 39s\tremaining: 2m 45s\n",
      "\n",
      "bestTest = 0.4302707814\n",
      "bestIteration = 49\n",
      "\n",
      "60:\tloss: 0.4302708\tbest: 0.4069832 (8)\ttotal: 1m 39s\tremaining: 2m 42s\n",
      "\n",
      "bestTest = 0.418263207\n",
      "bestIteration = 47\n",
      "\n",
      "61:\tloss: 0.4182632\tbest: 0.4069832 (8)\ttotal: 1m 40s\tremaining: 2m 38s\n",
      "\n",
      "bestTest = 0.4164640779\n",
      "bestIteration = 99\n",
      "\n",
      "62:\tloss: 0.4164641\tbest: 0.4069832 (8)\ttotal: 1m 41s\tremaining: 2m 36s\n",
      "\n",
      "bestTest = 0.4130248872\n",
      "bestIteration = 96\n",
      "\n",
      "63:\tloss: 0.4130249\tbest: 0.4069832 (8)\ttotal: 1m 42s\tremaining: 2m 33s\n",
      "\n",
      "bestTest = 0.4133500639\n",
      "bestIteration = 192\n",
      "\n",
      "64:\tloss: 0.4133501\tbest: 0.4069832 (8)\ttotal: 1m 44s\tremaining: 2m 32s\n",
      "\n",
      "bestTest = 0.4123420002\n",
      "bestIteration = 112\n",
      "\n",
      "65:\tloss: 0.4123420\tbest: 0.4069832 (8)\ttotal: 1m 46s\tremaining: 2m 31s\n",
      "\n",
      "bestTest = 0.4133500639\n",
      "bestIteration = 192\n",
      "\n",
      "66:\tloss: 0.4133501\tbest: 0.4069832 (8)\ttotal: 1m 49s\tremaining: 2m 31s\n",
      "\n",
      "bestTest = 0.4123420002\n",
      "bestIteration = 112\n",
      "\n",
      "67:\tloss: 0.4123420\tbest: 0.4069832 (8)\ttotal: 1m 52s\tremaining: 2m 32s\n",
      "\n",
      "bestTest = 0.4133500639\n",
      "bestIteration = 192\n",
      "\n",
      "68:\tloss: 0.4133501\tbest: 0.4069832 (8)\ttotal: 1m 57s\tremaining: 2m 35s\n",
      "\n",
      "bestTest = 0.4123420002\n",
      "bestIteration = 112\n",
      "\n",
      "69:\tloss: 0.4123420\tbest: 0.4069832 (8)\ttotal: 2m 2s\tremaining: 2m 37s\n",
      "\n",
      "bestTest = 0.4308668097\n",
      "bestIteration = 49\n",
      "\n",
      "70:\tloss: 0.4308668\tbest: 0.4069832 (8)\ttotal: 2m 3s\tremaining: 2m 34s\n",
      "\n",
      "bestTest = 0.4206157987\n",
      "bestIteration = 49\n",
      "\n",
      "71:\tloss: 0.4206158\tbest: 0.4069832 (8)\ttotal: 2m 3s\tremaining: 2m 31s\n",
      "\n",
      "bestTest = 0.4166232272\n",
      "bestIteration = 97\n",
      "\n",
      "72:\tloss: 0.4166232\tbest: 0.4069832 (8)\ttotal: 2m 5s\tremaining: 2m 29s\n",
      "\n",
      "bestTest = 0.4140092242\n",
      "bestIteration = 95\n",
      "\n",
      "73:\tloss: 0.4140092\tbest: 0.4069832 (8)\ttotal: 2m 6s\tremaining: 2m 26s\n",
      "\n",
      "bestTest = 0.4115885828\n",
      "bestIteration = 193\n",
      "\n",
      "74:\tloss: 0.4115886\tbest: 0.4069832 (8)\ttotal: 2m 8s\tremaining: 2m 25s\n",
      "\n",
      "bestTest = 0.4139004052\n",
      "bestIteration = 110\n",
      "\n",
      "75:\tloss: 0.4139004\tbest: 0.4069832 (8)\ttotal: 2m 10s\tremaining: 2m 24s\n",
      "\n",
      "bestTest = 0.4115885828\n",
      "bestIteration = 193\n",
      "\n",
      "76:\tloss: 0.4115886\tbest: 0.4069832 (8)\ttotal: 2m 13s\tremaining: 2m 24s\n",
      "\n",
      "bestTest = 0.4139004052\n",
      "bestIteration = 110\n",
      "\n",
      "77:\tloss: 0.4139004\tbest: 0.4069832 (8)\ttotal: 2m 17s\tremaining: 2m 24s\n",
      "\n",
      "bestTest = 0.4115885828\n",
      "bestIteration = 193\n",
      "\n",
      "78:\tloss: 0.4115886\tbest: 0.4069832 (8)\ttotal: 2m 23s\tremaining: 2m 26s\n",
      "\n",
      "bestTest = 0.4139004052\n",
      "bestIteration = 110\n",
      "\n",
      "79:\tloss: 0.4139004\tbest: 0.4069832 (8)\ttotal: 2m 28s\tremaining: 2m 28s\n",
      "\n",
      "bestTest = 0.4466520053\n",
      "bestIteration = 49\n",
      "\n",
      "80:\tloss: 0.4466520\tbest: 0.4069832 (8)\ttotal: 2m 28s\tremaining: 2m 25s\n",
      "\n",
      "bestTest = 0.4279530909\n",
      "bestIteration = 49\n",
      "\n",
      "81:\tloss: 0.4279531\tbest: 0.4069832 (8)\ttotal: 2m 29s\tremaining: 2m 21s\n",
      "\n",
      "bestTest = 0.4242997577\n",
      "bestIteration = 99\n",
      "\n",
      "82:\tloss: 0.4242998\tbest: 0.4069832 (8)\ttotal: 2m 29s\tremaining: 2m 18s\n",
      "\n",
      "bestTest = 0.4133120092\n",
      "bestIteration = 99\n",
      "\n",
      "83:\tloss: 0.4133120\tbest: 0.4069832 (8)\ttotal: 2m 29s\tremaining: 2m 15s\n",
      "\n",
      "bestTest = 0.4121655957\n",
      "bestIteration = 199\n",
      "\n",
      "84:\tloss: 0.4121656\tbest: 0.4069832 (8)\ttotal: 2m 30s\tremaining: 2m 12s\n",
      "\n",
      "bestTest = 0.4084352294\n",
      "bestIteration = 197\n",
      "\n",
      "85:\tloss: 0.4084352\tbest: 0.4069832 (8)\ttotal: 2m 31s\tremaining: 2m 10s\n",
      "\n",
      "bestTest = 0.4089607144\n",
      "bestIteration = 298\n",
      "\n",
      "86:\tloss: 0.4089607\tbest: 0.4069832 (8)\ttotal: 2m 32s\tremaining: 2m 8s\n",
      "\n",
      "bestTest = 0.4070026961\n",
      "bestIteration = 299\n",
      "\n",
      "87:\tloss: 0.4070027\tbest: 0.4069832 (8)\ttotal: 2m 34s\tremaining: 2m 6s\n",
      "\n",
      "bestTest = 0.4072641054\n",
      "bestIteration = 478\n",
      "\n",
      "88:\tloss: 0.4072641\tbest: 0.4069832 (8)\ttotal: 2m 36s\tremaining: 2m 4s\n",
      "\n",
      "bestTest = 0.4065170944\n",
      "bestIteration = 389\n",
      "\n",
      "89:\tloss: 0.4065171\tbest: 0.4065171 (89)\ttotal: 2m 38s\tremaining: 2m 3s\n",
      "\n",
      "bestTest = 0.4345286434\n",
      "bestIteration = 49\n",
      "\n",
      "90:\tloss: 0.4345286\tbest: 0.4065171 (89)\ttotal: 2m 38s\tremaining: 2m\n",
      "\n",
      "bestTest = 0.4198414324\n",
      "bestIteration = 49\n",
      "\n",
      "91:\tloss: 0.4198414\tbest: 0.4065171 (89)\ttotal: 2m 39s\tremaining: 1m 57s\n",
      "\n",
      "bestTest = 0.4171351289\n",
      "bestIteration = 98\n",
      "\n",
      "92:\tloss: 0.4171351\tbest: 0.4065171 (89)\ttotal: 2m 39s\tremaining: 1m 55s\n",
      "\n",
      "bestTest = 0.411813986\n",
      "bestIteration = 99\n",
      "\n",
      "93:\tloss: 0.4118140\tbest: 0.4065171 (89)\ttotal: 2m 40s\tremaining: 1m 52s\n",
      "\n",
      "bestTest = 0.4119151605\n",
      "bestIteration = 197\n",
      "\n",
      "94:\tloss: 0.4119152\tbest: 0.4065171 (89)\ttotal: 2m 41s\tremaining: 1m 50s\n",
      "\n",
      "bestTest = 0.4108994666\n",
      "bestIteration = 141\n",
      "\n",
      "95:\tloss: 0.4108995\tbest: 0.4065171 (89)\ttotal: 2m 42s\tremaining: 1m 48s\n",
      "\n",
      "bestTest = 0.4114772577\n",
      "bestIteration = 234\n",
      "\n",
      "96:\tloss: 0.4114773\tbest: 0.4065171 (89)\ttotal: 2m 44s\tremaining: 1m 46s\n",
      "\n",
      "bestTest = 0.4108994666\n",
      "bestIteration = 141\n",
      "\n",
      "97:\tloss: 0.4108995\tbest: 0.4065171 (89)\ttotal: 2m 46s\tremaining: 1m 45s\n",
      "\n",
      "bestTest = 0.4114772577\n",
      "bestIteration = 234\n",
      "\n",
      "98:\tloss: 0.4114773\tbest: 0.4065171 (89)\ttotal: 2m 49s\tremaining: 1m 44s\n",
      "\n",
      "bestTest = 0.4108994666\n",
      "bestIteration = 141\n",
      "\n",
      "99:\tloss: 0.4108995\tbest: 0.4065171 (89)\ttotal: 2m 52s\tremaining: 1m 43s\n",
      "\n",
      "bestTest = 0.4327700363\n",
      "bestIteration = 49\n",
      "\n",
      "100:\tloss: 0.4327700\tbest: 0.4065171 (89)\ttotal: 2m 52s\tremaining: 1m 40s\n",
      "\n",
      "bestTest = 0.4203812406\n",
      "bestIteration = 49\n",
      "\n",
      "101:\tloss: 0.4203812\tbest: 0.4065171 (89)\ttotal: 2m 53s\tremaining: 1m 38s\n",
      "\n",
      "bestTest = 0.4160899837\n",
      "bestIteration = 99\n",
      "\n",
      "102:\tloss: 0.4160900\tbest: 0.4065171 (89)\ttotal: 2m 54s\tremaining: 1m 36s\n",
      "\n",
      "bestTest = 0.4136804144\n",
      "bestIteration = 92\n",
      "\n",
      "103:\tloss: 0.4136804\tbest: 0.4065171 (89)\ttotal: 2m 55s\tremaining: 1m 34s\n",
      "\n",
      "bestTest = 0.4123254402\n",
      "bestIteration = 169\n",
      "\n",
      "104:\tloss: 0.4123254\tbest: 0.4065171 (89)\ttotal: 2m 57s\tremaining: 1m 33s\n",
      "\n",
      "bestTest = 0.4136804144\n",
      "bestIteration = 92\n",
      "\n",
      "105:\tloss: 0.4136804\tbest: 0.4065171 (89)\ttotal: 2m 59s\tremaining: 1m 31s\n",
      "\n",
      "bestTest = 0.4123254402\n",
      "bestIteration = 169\n",
      "\n",
      "106:\tloss: 0.4123254\tbest: 0.4065171 (89)\ttotal: 3m 2s\tremaining: 1m 30s\n",
      "\n",
      "bestTest = 0.4136804144\n",
      "bestIteration = 92\n",
      "\n",
      "107:\tloss: 0.4136804\tbest: 0.4065171 (89)\ttotal: 3m 5s\tremaining: 1m 29s\n",
      "\n",
      "bestTest = 0.4123254402\n",
      "bestIteration = 169\n",
      "\n",
      "108:\tloss: 0.4123254\tbest: 0.4065171 (89)\ttotal: 3m 9s\tremaining: 1m 28s\n",
      "\n",
      "bestTest = 0.4136804144\n",
      "bestIteration = 92\n",
      "\n",
      "109:\tloss: 0.4136804\tbest: 0.4065171 (89)\ttotal: 3m 14s\tremaining: 1m 28s\n",
      "\n",
      "bestTest = 0.4297475011\n",
      "bestIteration = 49\n",
      "\n",
      "110:\tloss: 0.4297475\tbest: 0.4065171 (89)\ttotal: 3m 15s\tremaining: 1m 26s\n",
      "\n",
      "bestTest = 0.4189957597\n",
      "bestIteration = 49\n",
      "\n",
      "111:\tloss: 0.4189958\tbest: 0.4065171 (89)\ttotal: 3m 15s\tremaining: 1m 23s\n",
      "\n",
      "bestTest = 0.4164207381\n",
      "bestIteration = 99\n",
      "\n",
      "112:\tloss: 0.4164207\tbest: 0.4065171 (89)\ttotal: 3m 16s\tremaining: 1m 21s\n",
      "\n",
      "bestTest = 0.4142995349\n",
      "bestIteration = 77\n",
      "\n",
      "113:\tloss: 0.4142995\tbest: 0.4065171 (89)\ttotal: 3m 17s\tremaining: 1m 19s\n",
      "\n",
      "bestTest = 0.4111969273\n",
      "bestIteration = 198\n",
      "\n",
      "114:\tloss: 0.4111969\tbest: 0.4065171 (89)\ttotal: 3m 19s\tremaining: 1m 18s\n",
      "\n",
      "bestTest = 0.4142995349\n",
      "bestIteration = 77\n",
      "\n",
      "115:\tloss: 0.4142995\tbest: 0.4065171 (89)\ttotal: 3m 21s\tremaining: 1m 16s\n",
      "\n",
      "bestTest = 0.4109980187\n",
      "bestIteration = 205\n",
      "\n",
      "116:\tloss: 0.4109980\tbest: 0.4065171 (89)\ttotal: 3m 25s\tremaining: 1m 15s\n",
      "\n",
      "bestTest = 0.4142995349\n",
      "bestIteration = 77\n",
      "\n",
      "117:\tloss: 0.4142995\tbest: 0.4065171 (89)\ttotal: 3m 28s\tremaining: 1m 14s\n",
      "\n",
      "bestTest = 0.4109980187\n",
      "bestIteration = 205\n",
      "\n",
      "118:\tloss: 0.4109980\tbest: 0.4065171 (89)\ttotal: 3m 34s\tremaining: 1m 13s\n",
      "\n",
      "bestTest = 0.4142995349\n",
      "bestIteration = 77\n",
      "\n",
      "119:\tloss: 0.4142995\tbest: 0.4065171 (89)\ttotal: 3m 39s\tremaining: 1m 13s\n",
      "\n",
      "bestTest = 0.4466520053\n",
      "bestIteration = 49\n",
      "\n",
      "120:\tloss: 0.4466520\tbest: 0.4065171 (89)\ttotal: 3m 40s\tremaining: 1m 10s\n",
      "\n",
      "bestTest = 0.4279530909\n",
      "bestIteration = 49\n",
      "\n",
      "121:\tloss: 0.4279531\tbest: 0.4065171 (89)\ttotal: 3m 40s\tremaining: 1m 8s\n",
      "\n",
      "bestTest = 0.4242997577\n",
      "bestIteration = 99\n",
      "\n",
      "122:\tloss: 0.4242998\tbest: 0.4065171 (89)\ttotal: 3m 40s\tremaining: 1m 6s\n",
      "\n",
      "bestTest = 0.4133120092\n",
      "bestIteration = 99\n",
      "\n",
      "123:\tloss: 0.4133120\tbest: 0.4065171 (89)\ttotal: 3m 40s\tremaining: 1m 4s\n",
      "\n",
      "bestTest = 0.4125485331\n",
      "bestIteration = 198\n",
      "\n",
      "124:\tloss: 0.4125485\tbest: 0.4065171 (89)\ttotal: 3m 41s\tremaining: 1m 2s\n",
      "\n",
      "bestTest = 0.4086375622\n",
      "bestIteration = 196\n",
      "\n",
      "125:\tloss: 0.4086376\tbest: 0.4065171 (89)\ttotal: 3m 42s\tremaining: 1m\n",
      "\n",
      "bestTest = 0.408856071\n",
      "bestIteration = 285\n",
      "\n",
      "126:\tloss: 0.4088561\tbest: 0.4065171 (89)\ttotal: 3m 43s\tremaining: 58.2s\n",
      "\n",
      "bestTest = 0.4086375622\n",
      "bestIteration = 196\n",
      "\n",
      "127:\tloss: 0.4086376\tbest: 0.4065171 (89)\ttotal: 3m 45s\tremaining: 56.3s\n",
      "\n",
      "bestTest = 0.4079774667\n",
      "bestIteration = 497\n",
      "\n",
      "128:\tloss: 0.4079775\tbest: 0.4065171 (89)\ttotal: 3m 47s\tremaining: 54.6s\n",
      "\n",
      "bestTest = 0.4079701604\n",
      "bestIteration = 499\n",
      "\n",
      "129:\tloss: 0.4079702\tbest: 0.4065171 (89)\ttotal: 3m 49s\tremaining: 53s\n",
      "\n",
      "bestTest = 0.4339256001\n",
      "bestIteration = 49\n",
      "\n",
      "130:\tloss: 0.4339256\tbest: 0.4065171 (89)\ttotal: 3m 49s\tremaining: 50.9s\n",
      "\n",
      "bestTest = 0.4197413841\n",
      "bestIteration = 49\n",
      "\n",
      "131:\tloss: 0.4197414\tbest: 0.4065171 (89)\ttotal: 3m 50s\tremaining: 48.8s\n",
      "\n",
      "bestTest = 0.4155508308\n",
      "bestIteration = 99\n",
      "\n",
      "132:\tloss: 0.4155508\tbest: 0.4065171 (89)\ttotal: 3m 50s\tremaining: 46.9s\n",
      "\n",
      "bestTest = 0.4131122739\n",
      "bestIteration = 99\n",
      "\n",
      "133:\tloss: 0.4131123\tbest: 0.4065171 (89)\ttotal: 3m 51s\tremaining: 44.9s\n",
      "\n",
      "bestTest = 0.4085352436\n",
      "bestIteration = 197\n",
      "\n",
      "134:\tloss: 0.4085352\tbest: 0.4065171 (89)\ttotal: 3m 52s\tremaining: 43.1s\n",
      "\n",
      "bestTest = 0.4115659474\n",
      "bestIteration = 134\n",
      "\n",
      "135:\tloss: 0.4115659\tbest: 0.4065171 (89)\ttotal: 3m 53s\tremaining: 41.3s\n",
      "\n",
      "bestTest = 0.4081657485\n",
      "bestIteration = 298\n",
      "\n",
      "136:\tloss: 0.4081657\tbest: 0.4065171 (89)\ttotal: 3m 55s\tremaining: 39.6s\n",
      "\n",
      "bestTest = 0.4115659474\n",
      "bestIteration = 134\n",
      "\n",
      "137:\tloss: 0.4115659\tbest: 0.4065171 (89)\ttotal: 3m 57s\tremaining: 37.9s\n",
      "\n",
      "bestTest = 0.4079161644\n",
      "bestIteration = 315\n",
      "\n",
      "138:\tloss: 0.4079162\tbest: 0.4065171 (89)\ttotal: 4m\tremaining: 36.4s\n",
      "\n",
      "bestTest = 0.4115659474\n",
      "bestIteration = 134\n",
      "\n",
      "139:\tloss: 0.4115659\tbest: 0.4065171 (89)\ttotal: 4m 3s\tremaining: 34.8s\n",
      "\n",
      "bestTest = 0.4290953889\n",
      "bestIteration = 49\n",
      "\n",
      "140:\tloss: 0.4290954\tbest: 0.4065171 (89)\ttotal: 4m 4s\tremaining: 32.9s\n",
      "\n",
      "bestTest = 0.4189015552\n",
      "bestIteration = 49\n",
      "\n",
      "141:\tloss: 0.4189016\tbest: 0.4065171 (89)\ttotal: 4m 4s\tremaining: 31s\n",
      "\n",
      "bestTest = 0.4143497795\n",
      "bestIteration = 99\n",
      "\n",
      "142:\tloss: 0.4143498\tbest: 0.4065171 (89)\ttotal: 4m 5s\tremaining: 29.2s\n",
      "\n",
      "bestTest = 0.4121535409\n",
      "bestIteration = 86\n",
      "\n",
      "143:\tloss: 0.4121535\tbest: 0.4065171 (89)\ttotal: 4m 6s\tremaining: 27.4s\n",
      "\n",
      "bestTest = 0.4115199583\n",
      "bestIteration = 192\n",
      "\n",
      "144:\tloss: 0.4115200\tbest: 0.4065171 (89)\ttotal: 4m 8s\tremaining: 25.7s\n",
      "\n",
      "bestTest = 0.4121535409\n",
      "bestIteration = 86\n",
      "\n",
      "145:\tloss: 0.4121535\tbest: 0.4065171 (89)\ttotal: 4m 9s\tremaining: 24s\n",
      "\n",
      "bestTest = 0.4114190572\n",
      "bestIteration = 231\n",
      "\n",
      "146:\tloss: 0.4114191\tbest: 0.4065171 (89)\ttotal: 4m 12s\tremaining: 22.3s\n",
      "\n",
      "bestTest = 0.4121535409\n",
      "bestIteration = 86\n",
      "\n",
      "147:\tloss: 0.4121535\tbest: 0.4065171 (89)\ttotal: 4m 15s\tremaining: 20.7s\n",
      "\n",
      "bestTest = 0.4114190572\n",
      "bestIteration = 231\n",
      "\n",
      "148:\tloss: 0.4114191\tbest: 0.4065171 (89)\ttotal: 4m 19s\tremaining: 19.1s\n",
      "\n",
      "bestTest = 0.4121535409\n",
      "bestIteration = 86\n",
      "\n",
      "149:\tloss: 0.4121535\tbest: 0.4065171 (89)\ttotal: 4m 23s\tremaining: 17.6s\n",
      "\n",
      "bestTest = 0.4278372236\n",
      "bestIteration = 49\n",
      "\n",
      "150:\tloss: 0.4278372\tbest: 0.4065171 (89)\ttotal: 4m 24s\tremaining: 15.7s\n",
      "\n",
      "bestTest = 0.4197321107\n",
      "bestIteration = 48\n",
      "\n",
      "151:\tloss: 0.4197321\tbest: 0.4065171 (89)\ttotal: 4m 24s\tremaining: 13.9s\n",
      "\n",
      "bestTest = 0.4136581821\n",
      "bestIteration = 99\n",
      "\n",
      "152:\tloss: 0.4136582\tbest: 0.4065171 (89)\ttotal: 4m 25s\tremaining: 12.2s\n",
      "\n",
      "bestTest = 0.4150446581\n",
      "bestIteration = 95\n",
      "\n",
      "153:\tloss: 0.4150447\tbest: 0.4065171 (89)\ttotal: 4m 26s\tremaining: 10.4s\n",
      "\n",
      "bestTest = 0.4104070572\n",
      "bestIteration = 187\n",
      "\n",
      "154:\tloss: 0.4104071\tbest: 0.4065171 (89)\ttotal: 4m 28s\tremaining: 8.67s\n",
      "\n",
      "bestTest = 0.4143819229\n",
      "bestIteration = 131\n",
      "\n",
      "155:\tloss: 0.4143819\tbest: 0.4065171 (89)\ttotal: 4m 31s\tremaining: 6.95s\n",
      "\n",
      "bestTest = 0.4104070572\n",
      "bestIteration = 187\n",
      "\n",
      "156:\tloss: 0.4104071\tbest: 0.4065171 (89)\ttotal: 4m 34s\tremaining: 5.24s\n",
      "\n",
      "bestTest = 0.4143819229\n",
      "bestIteration = 131\n",
      "\n",
      "157:\tloss: 0.4143819\tbest: 0.4065171 (89)\ttotal: 4m 37s\tremaining: 3.51s\n",
      "\n",
      "bestTest = 0.4104070572\n",
      "bestIteration = 187\n",
      "\n",
      "158:\tloss: 0.4104071\tbest: 0.4065171 (89)\ttotal: 4m 42s\tremaining: 1.77s\n",
      "\n",
      "bestTest = 0.4143819229\n",
      "bestIteration = 131\n",
      "\n",
      "159:\tloss: 0.4143819\tbest: 0.4065171 (89)\ttotal: 4m 47s\tremaining: 0us\n",
      "Estimating final quality...\n",
      "Training on fold [0/3]\n",
      "\n",
      "bestTest = 0.4162070041\n",
      "bestIteration = 254\n",
      "\n",
      "Training on fold [1/3]\n",
      "\n",
      "bestTest = 0.418360291\n",
      "bestIteration = 217\n",
      "\n",
      "Training on fold [2/3]\n",
      "\n",
      "bestTest = 0.3995426193\n",
      "bestIteration = 377\n",
      "\n"
     ]
    }
   ],
   "source": [
    "grid_search_catboost = cls_catboost.grid_search(param_grid=param_grid_catboost,\n",
    "                                                X=train_catboost,\n",
    "                                                refit=True)"
   ]
  },
  {
   "cell_type": "markdown",
   "metadata": {},
   "source": [
    "Лучшие гиперпараметры"
   ]
  },
  {
   "cell_type": "code",
   "execution_count": 274,
   "metadata": {
    "execution": {
     "iopub.execute_input": "2022-10-24T19:57:17.698080Z",
     "iopub.status.busy": "2022-10-24T19:57:17.697649Z",
     "iopub.status.idle": "2022-10-24T19:57:17.706510Z",
     "shell.execute_reply": "2022-10-24T19:57:17.705372Z",
     "shell.execute_reply.started": "2022-10-24T19:57:17.698037Z"
    }
   },
   "outputs": [
    {
     "data": {
      "text/plain": [
       "{'min_data_in_leaf': 50,\n",
       " 'depth': 2,\n",
       " 'iterations': 500,\n",
       " 'learning_rate': 0.05,\n",
       " 'grow_policy': 'Lossguide',\n",
       " 'score_function': 'L2'}"
      ]
     },
     "execution_count": 274,
     "metadata": {},
     "output_type": "execute_result"
    }
   ],
   "source": [
    "grid_search_catboost['params']"
   ]
  },
  {
   "cell_type": "code",
   "execution_count": 275,
   "metadata": {
    "execution": {
     "iopub.execute_input": "2022-10-24T19:57:17.708454Z",
     "iopub.status.busy": "2022-10-24T19:57:17.708013Z",
     "iopub.status.idle": "2022-10-24T19:57:19.618558Z",
     "shell.execute_reply": "2022-10-24T19:57:19.617353Z",
     "shell.execute_reply.started": "2022-10-24T19:57:17.708411Z"
    }
   },
   "outputs": [
    {
     "data": {
      "text/plain": [
       "<catboost.core.CatBoostClassifier at 0x7f183dde9a10>"
      ]
     },
     "execution_count": 275,
     "metadata": {},
     "output_type": "execute_result"
    }
   ],
   "source": [
    "cls_catboost_best = CatBoostClassifier(cat_features=cat_cols,  random_state=42, verbose=False, bootstrap_type = 'Bayesian', **grid_search_catboost['params'])\n",
    "cls_catboost_best.fit(X_train_cv, y_train_cv)"
   ]
  },
  {
   "cell_type": "code",
   "execution_count": 276,
   "metadata": {
    "execution": {
     "iopub.execute_input": "2022-10-24T19:57:19.622646Z",
     "iopub.status.busy": "2022-10-24T19:57:19.621251Z",
     "iopub.status.idle": "2022-10-24T19:57:19.675560Z",
     "shell.execute_reply": "2022-10-24T19:57:19.674374Z",
     "shell.execute_reply.started": "2022-10-24T19:57:19.622598Z"
    }
   },
   "outputs": [
    {
     "name": "stdout",
     "output_type": "stream",
     "text": [
      "ROC-AUC train: 0.8640187734827592\n",
      "ROC-AUC test: 0.8479759377211606\n"
     ]
    }
   ],
   "source": [
    "y_train_cv_predicted = cls_catboost_best.predict_proba(X_train_cv)[:, 1]\n",
    "y_test_cv_predicted = cls_catboost_best.predict_proba(X_test_cv)[:, 1]\n",
    "\n",
    "catboost_roc_auc_train = roc_auc_score(y_train_cv, y_train_cv_predicted)\n",
    "catboost_roc_auc_test = roc_auc_score(y_test_cv, y_test_cv_predicted)\n",
    "print(f\"ROC-AUC train: {catboost_roc_auc_train}\\nROC-AUC test: {catboost_roc_auc_test}\")"
   ]
  },
  {
   "cell_type": "code",
   "execution_count": 277,
   "metadata": {
    "execution": {
     "iopub.execute_input": "2022-10-24T19:57:19.677058Z",
     "iopub.status.busy": "2022-10-24T19:57:19.676777Z",
     "iopub.status.idle": "2022-10-24T19:57:19.843577Z",
     "shell.execute_reply": "2022-10-24T19:57:19.842438Z",
     "shell.execute_reply.started": "2022-10-24T19:57:19.677032Z"
    }
   },
   "outputs": [
    {
     "data": {
      "image/png": "[encoded data removed]",
      "text/plain": [
       "<Figure size 720x504 with 1 Axes>"
      ]
     },
     "metadata": {
      "needs_background": "light"
     },
     "output_type": "display_data"
    }
   ],
   "source": [
    "plt.figure(figsize=(10,7))\n",
    "plt.plot(*roc_curve(y_train_cv, y_train_cv_predicted)[:2], label='train AUC={:.4f}'.format(catboost_roc_auc_train))\n",
    "plt.plot(*roc_curve(y_test_cv, y_test_cv_predicted)[:2], label='test AUC={:.4f}'.format(catboost_roc_auc_test))\n",
    "legend_box = plt.legend(fontsize='large', framealpha=1).get_frame()\n",
    "legend_box.set_facecolor(\"white\")\n",
    "legend_box.set_edgecolor(\"black\")\n",
    "plt.plot(np.linspace(0,1,100), np.linspace(0,1,100))\n",
    "plt.xlim([0, 1])\n",
    "plt.ylim([0, 1])\n",
    "plt.show()"
   ]
  },
  {
   "cell_type": "markdown",
   "metadata": {},
   "source": [
    "## Итог"
   ]
  },
  {
   "cell_type": "markdown",
   "metadata": {},
   "source": [
    "В ходе работы наилучший результат по метрике ROC-AUC был получен с использованием градиентного бустинга из библиотеки catboost. Отправим ответы на тестовой выборке, полученные моелью catboost, обученной для лучших гиперпараметров"
   ]
  },
  {
   "cell_type": "code",
   "execution_count": 286,
   "metadata": {
    "execution": {
     "iopub.execute_input": "2022-10-24T20:06:36.068413Z",
     "iopub.status.busy": "2022-10-24T20:06:36.067566Z",
     "iopub.status.idle": "2022-10-24T20:06:36.099835Z",
     "shell.execute_reply": "2022-10-24T20:06:36.098532Z",
     "shell.execute_reply.started": "2022-10-24T20:06:36.068371Z"
    }
   },
   "outputs": [],
   "source": [
    "submission = pd.read_csv('/kaggle/input/advanced-dls-spring-2021/submission.csv')\n",
    "submission['Churn'] = cls_catboost_best.predict_proba(X_test)[:, 1]\n",
    "submission.head()\n",
    "submission.to_csv('result.csv', index=False)"
   ]
  }
 ],
 "metadata": {
  "kernelspec": {
   "display_name": "Python 3 (ipykernel)",
   "language": "python",
   "name": "python3"
  },
  "language_info": {
   "codemirror_mode": {
    "name": "ipython",
    "version": 3
   },
   "file_extension": ".py",
   "mimetype": "text/x-python",
   "name": "python",
   "nbconvert_exporter": "python",
   "pygments_lexer": "ipython3",
   "version": "3.9.12"
  },
  "vscode": {
   "interpreter": {
    "hash": "d5ef2e92ee10bb5118045b950b33d29c0957ae3b420f27952697c1045afbd78c"
   }
  }
 },
 "nbformat": 4,
 "nbformat_minor": 4
}
