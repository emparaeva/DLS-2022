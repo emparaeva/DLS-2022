{
 "cells": [
  {
   "cell_type": "markdown",
   "metadata": {
    "id": "TK7oX5qdEEYr"
   },
   "source": [
    "<p style=\"align: center;\"><img align=center src=\"https://s8.hostingkartinok.com/uploads/images/2018/08/308b49fcfbc619d629fe4604bceb67ac.jpg\" width=500 height=450/></p>\n",
    "\n",
    "<h3 style=\"text-align: center;\"><b>Школа глубокого обучения ФПМИ МФТИ</b></h3>\n",
    "\n",
    "<h3 style=\"text-align: center;\"><b>Домашнее задание. Продвинутый поток. Весна 2021</b></h3>\n",
    "\n",
    "Это домашнее задание будет посвящено полноценному решению задачи машинного обучения."
   ]
  },
  {
   "cell_type": "markdown",
   "metadata": {
    "id": "zlB-owfaEEYs"
   },
   "source": [
    "Есть две части этого домашнего задания: \n",
    "* Сделать полноценный отчет о вашей работе: как вы обработали данные, какие модели попробовали и какие результаты получились (максимум 10 баллов). За каждую выполненную часть будет начислено определенное количество баллов.\n",
    "* Лучшее решение отправить в соревнование на [kaggle](https://www.kaggle.com/c/advanced-dls-spring-2021/) (максимум 5 баллов). За прохождение определенного порогов будут начисляться баллы.\n",
    "\n",
    "\n",
    "**Обе части будут проверяться в формате peer-review. Т.е. вашу посылку на степик будут проверять несколько других студентов и аггрегация их оценок будет выставлена. В то же время вам тоже нужно будет проверить несколько других учеников.**\n",
    "\n",
    "**Пожалуйста, делайте свою работу чистой и понятной, чтобы облегчить проверку. Если у вас будут проблемы с решением или хочется совета, то пишите в наш чат в телеграме или в лс @runfme. Если вы захотите проаппелировать оценку, то пипшите в лс @runfme.**\n",
    "\n",
    "**Во всех пунктах указания это минимальный набор вещей, которые стоит сделать. Если вы можете сделать какой-то шаг лучше или добавить что-то свое - дерзайте!**"
   ]
  },
  {
   "cell_type": "markdown",
   "metadata": {
    "id": "Tu_JvqcBEN8Y"
   },
   "source": [
    "# Как проверять?\n",
    "\n",
    "Ставьте полный балл, если выполнены все рекомендации или сделано что-то более интересное и сложное. За каждый отсустствующий пункт из рекомендация снижайте 1 балл."
   ]
  },
  {
   "cell_type": "markdown",
   "metadata": {
    "id": "ninJ63mJEEYt"
   },
   "source": [
    "# Метрика\n",
    "\n",
    "Перед решением любой задачи важно понимать, как будет оцениваться ваше решение. В данном случае мы используем стандартную для задачи классификации метрику ROC-AUC. Ее можно вычислить используя только предсказанные вероятности и истинные классы без конкретного порога классификации + она раотает даже если классы в данных сильно несбалансированны (примеров одного класса в десятки раз больше примеров длугого). Именно поэтому она очень удобна для соревнований.\n",
    "\n",
    "Посчитать ее легко:\n"
   ]
  },
  {
   "cell_type": "code",
   "execution_count": 62,
   "metadata": {
    "colab": {
     "base_uri": "https://localhost:8080/"
    },
    "id": "SQIrka7yEEYu",
    "outputId": "86790d07-2e40-4c4b-993b-8fbb85d5f05d"
   },
   "outputs": [
    {
     "data": {
      "text/plain": [
       "0.8333333333333333"
      ]
     },
     "execution_count": 62,
     "metadata": {},
     "output_type": "execute_result"
    }
   ],
   "source": [
    "from sklearn.metrics import roc_auc_score\n",
    "\n",
    "y_true = [\n",
    "    0,\n",
    "    1,\n",
    "    1,\n",
    "    0,\n",
    "    1\n",
    "]\n",
    "\n",
    "y_predictions = [\n",
    "    0.1,\n",
    "    0.9,\n",
    "    0.4,\n",
    "    0.6,\n",
    "    0.61\n",
    "]\n",
    "\n",
    "roc_auc_score(y_true, y_predictions)"
   ]
  },
  {
   "cell_type": "markdown",
   "metadata": {
    "id": "IrDNNkNTEEYz"
   },
   "source": [
    "# Первая часть. Исследование"
   ]
  },
  {
   "cell_type": "code",
   "execution_count": 63,
   "metadata": {
    "id": "lzLqEeZKEEYz"
   },
   "outputs": [],
   "source": [
    "import pandas as pd\n",
    "import numpy as np\n",
    "from matplotlib import pyplot as plt"
   ]
  },
  {
   "cell_type": "markdown",
   "metadata": {
    "id": "LOlxdURSEEY3"
   },
   "source": [
    "## Загрузка данных (2 балла)\n",
    "\n",
    "1) Посмотрите на случайные строчки. \n",
    "\n",
    "2) Посмотрите, есть ли в датасете незаполненные значения (nan'ы) с помощью data.isna() или data.info() и, если нужно, замените их на что-то. Будет хорошо, если вы построите табличку с количеством nan в каждой колонке."
   ]
  },
  {
   "cell_type": "code",
   "execution_count": 64,
   "metadata": {
    "colab": {
     "base_uri": "https://localhost:8080/"
    },
    "id": "q6ylghxZql8v",
    "outputId": "95de1f18-6826-48ea-bcf0-db094492abc0"
   },
   "outputs": [
    {
     "name": "stdout",
     "output_type": "stream",
     "text": [
      "Drive already mounted at /content/drive; to attempt to forcibly remount, call drive.mount(\"/content/drive\", force_remount=True).\n"
     ]
    }
   ],
   "source": [
    "from google.colab import drive\n",
    "drive.mount('/content/drive')\n",
    "\n",
    "INPUT_DIR = ''\n",
    "data = pd.read_csv(INPUT_DIR + 'train.csv')\n",
    "X_test = pd.read_csv(INPUT_DIR + 'test.csv')"
   ]
  },
  {
   "cell_type": "code",
   "execution_count": 65,
   "metadata": {
    "id": "KgnkkF5bEEY9"
   },
   "outputs": [],
   "source": [
    "# Для вашего удобства списки с именами разных колонок\n",
    "\n",
    "# Числовые признаки\n",
    "num_cols = [\n",
    "    'ClientPeriod',\n",
    "    'MonthlySpending',\n",
    "    'TotalSpent'\n",
    "]\n",
    "\n",
    "# Категориальные признаки\n",
    "cat_cols = [\n",
    "    'Sex',\n",
    "    'IsSeniorCitizen',\n",
    "    'HasPartner',\n",
    "    'HasChild',\n",
    "    'HasPhoneService',\n",
    "    'HasMultiplePhoneNumbers',\n",
    "    'HasInternetService',\n",
    "    'HasOnlineSecurityService',\n",
    "    'HasOnlineBackup',\n",
    "    'HasDeviceProtection',\n",
    "    'HasTechSupportAccess',\n",
    "    'HasOnlineTV',\n",
    "    'HasMovieSubscription',\n",
    "    'HasContractPhone',\n",
    "    'IsBillingPaperless',\n",
    "    'PaymentMethod'\n",
    "]\n",
    "\n",
    "feature_cols = num_cols + cat_cols\n",
    "target_col = 'Churn'"
   ]
  },
  {
   "cell_type": "code",
   "execution_count": 66,
   "metadata": {
    "colab": {
     "base_uri": "https://localhost:8080/",
     "height": 242
    },
    "id": "tHC6gWabEEZA",
    "outputId": "e02f2e12-485f-498c-f514-6cf9066061ea"
   },
   "outputs": [
    {
     "data": {
      "text/html": [
       "\n",
       "  <div id=\"df-dc7ccae0-37c1-45f6-b0cc-200b94cf2709\">\n",
       "    <div class=\"colab-df-container\">\n",
       "      <div>\n",
       "<style scoped>\n",
       "    .dataframe tbody tr th:only-of-type {\n",
       "        vertical-align: middle;\n",
       "    }\n",
       "\n",
       "    .dataframe tbody tr th {\n",
       "        vertical-align: top;\n",
       "    }\n",
       "\n",
       "    .dataframe thead th {\n",
       "        text-align: right;\n",
       "    }\n",
       "</style>\n",
       "<table border=\"1\" class=\"dataframe\">\n",
       "  <thead>\n",
       "    <tr style=\"text-align: right;\">\n",
       "      <th></th>\n",
       "      <th>ClientPeriod</th>\n",
       "      <th>MonthlySpending</th>\n",
       "      <th>TotalSpent</th>\n",
       "      <th>Sex</th>\n",
       "      <th>IsSeniorCitizen</th>\n",
       "      <th>HasPartner</th>\n",
       "      <th>HasChild</th>\n",
       "      <th>HasPhoneService</th>\n",
       "      <th>HasMultiplePhoneNumbers</th>\n",
       "      <th>HasInternetService</th>\n",
       "      <th>HasOnlineSecurityService</th>\n",
       "      <th>HasOnlineBackup</th>\n",
       "      <th>HasDeviceProtection</th>\n",
       "      <th>HasTechSupportAccess</th>\n",
       "      <th>HasOnlineTV</th>\n",
       "      <th>HasMovieSubscription</th>\n",
       "      <th>HasContractPhone</th>\n",
       "      <th>IsBillingPaperless</th>\n",
       "      <th>PaymentMethod</th>\n",
       "      <th>Churn</th>\n",
       "    </tr>\n",
       "  </thead>\n",
       "  <tbody>\n",
       "    <tr>\n",
       "      <th>4650</th>\n",
       "      <td>66</td>\n",
       "      <td>20.35</td>\n",
       "      <td>1359.5</td>\n",
       "      <td>Male</td>\n",
       "      <td>0</td>\n",
       "      <td>Yes</td>\n",
       "      <td>Yes</td>\n",
       "      <td>Yes</td>\n",
       "      <td>No</td>\n",
       "      <td>No</td>\n",
       "      <td>No internet service</td>\n",
       "      <td>No internet service</td>\n",
       "      <td>No internet service</td>\n",
       "      <td>No internet service</td>\n",
       "      <td>No internet service</td>\n",
       "      <td>No internet service</td>\n",
       "      <td>One year</td>\n",
       "      <td>Yes</td>\n",
       "      <td>Electronic check</td>\n",
       "      <td>0</td>\n",
       "    </tr>\n",
       "    <tr>\n",
       "      <th>29</th>\n",
       "      <td>25</td>\n",
       "      <td>89.70</td>\n",
       "      <td>2187.55</td>\n",
       "      <td>Female</td>\n",
       "      <td>1</td>\n",
       "      <td>No</td>\n",
       "      <td>No</td>\n",
       "      <td>Yes</td>\n",
       "      <td>Yes</td>\n",
       "      <td>Fiber optic</td>\n",
       "      <td>No</td>\n",
       "      <td>Yes</td>\n",
       "      <td>No</td>\n",
       "      <td>No</td>\n",
       "      <td>No</td>\n",
       "      <td>Yes</td>\n",
       "      <td>Month-to-month</td>\n",
       "      <td>Yes</td>\n",
       "      <td>Electronic check</td>\n",
       "      <td>1</td>\n",
       "    </tr>\n",
       "    <tr>\n",
       "      <th>1688</th>\n",
       "      <td>36</td>\n",
       "      <td>76.35</td>\n",
       "      <td>2606.35</td>\n",
       "      <td>Female</td>\n",
       "      <td>0</td>\n",
       "      <td>No</td>\n",
       "      <td>No</td>\n",
       "      <td>Yes</td>\n",
       "      <td>No</td>\n",
       "      <td>DSL</td>\n",
       "      <td>Yes</td>\n",
       "      <td>Yes</td>\n",
       "      <td>Yes</td>\n",
       "      <td>Yes</td>\n",
       "      <td>Yes</td>\n",
       "      <td>No</td>\n",
       "      <td>One year</td>\n",
       "      <td>Yes</td>\n",
       "      <td>Mailed check</td>\n",
       "      <td>0</td>\n",
       "    </tr>\n",
       "  </tbody>\n",
       "</table>\n",
       "</div>\n",
       "      <button class=\"colab-df-convert\" onclick=\"convertToInteractive('df-dc7ccae0-37c1-45f6-b0cc-200b94cf2709')\"\n",
       "              title=\"Convert this dataframe to an interactive table.\"\n",
       "              style=\"display:none;\">\n",
       "        \n",
       "  <svg xmlns=\"http://www.w3.org/2000/svg\" height=\"24px\"viewBox=\"0 0 24 24\"\n",
       "       width=\"24px\">\n",
       "    <path d=\"M0 0h24v24H0V0z\" fill=\"none\"/>\n",
       "    <path d=\"M18.56 5.44l.94 2.06.94-2.06 2.06-.94-2.06-.94-.94-2.06-.94 2.06-2.06.94zm-11 1L8.5 8.5l.94-2.06 2.06-.94-2.06-.94L8.5 2.5l-.94 2.06-2.06.94zm10 10l.94 2.06.94-2.06 2.06-.94-2.06-.94-.94-2.06-.94 2.06-2.06.94z\"/><path d=\"M17.41 7.96l-1.37-1.37c-.4-.4-.92-.59-1.43-.59-.52 0-1.04.2-1.43.59L10.3 9.45l-7.72 7.72c-.78.78-.78 2.05 0 2.83L4 21.41c.39.39.9.59 1.41.59.51 0 1.02-.2 1.41-.59l7.78-7.78 2.81-2.81c.8-.78.8-2.07 0-2.86zM5.41 20L4 18.59l7.72-7.72 1.47 1.35L5.41 20z\"/>\n",
       "  </svg>\n",
       "      </button>\n",
       "      \n",
       "  <style>\n",
       "    .colab-df-container {\n",
       "      display:flex;\n",
       "      flex-wrap:wrap;\n",
       "      gap: 12px;\n",
       "    }\n",
       "\n",
       "    .colab-df-convert {\n",
       "      background-color: #E8F0FE;\n",
       "      border: none;\n",
       "      border-radius: 50%;\n",
       "      cursor: pointer;\n",
       "      display: none;\n",
       "      fill: #1967D2;\n",
       "      height: 32px;\n",
       "      padding: 0 0 0 0;\n",
       "      width: 32px;\n",
       "    }\n",
       "\n",
       "    .colab-df-convert:hover {\n",
       "      background-color: #E2EBFA;\n",
       "      box-shadow: 0px 1px 2px rgba(60, 64, 67, 0.3), 0px 1px 3px 1px rgba(60, 64, 67, 0.15);\n",
       "      fill: #174EA6;\n",
       "    }\n",
       "\n",
       "    [theme=dark] .colab-df-convert {\n",
       "      background-color: #3B4455;\n",
       "      fill: #D2E3FC;\n",
       "    }\n",
       "\n",
       "    [theme=dark] .colab-df-convert:hover {\n",
       "      background-color: #434B5C;\n",
       "      box-shadow: 0px 1px 3px 1px rgba(0, 0, 0, 0.15);\n",
       "      filter: drop-shadow(0px 1px 2px rgba(0, 0, 0, 0.3));\n",
       "      fill: #FFFFFF;\n",
       "    }\n",
       "  </style>\n",
       "\n",
       "      <script>\n",
       "        const buttonEl =\n",
       "          document.querySelector('#df-dc7ccae0-37c1-45f6-b0cc-200b94cf2709 button.colab-df-convert');\n",
       "        buttonEl.style.display =\n",
       "          google.colab.kernel.accessAllowed ? 'block' : 'none';\n",
       "\n",
       "        async function convertToInteractive(key) {\n",
       "          const element = document.querySelector('#df-dc7ccae0-37c1-45f6-b0cc-200b94cf2709');\n",
       "          const dataTable =\n",
       "            await google.colab.kernel.invokeFunction('convertToInteractive',\n",
       "                                                     [key], {});\n",
       "          if (!dataTable) return;\n",
       "\n",
       "          const docLinkHtml = 'Like what you see? Visit the ' +\n",
       "            '<a target=\"_blank\" href=https://colab.research.google.com/notebooks/data_table.ipynb>data table notebook</a>'\n",
       "            + ' to learn more about interactive tables.';\n",
       "          element.innerHTML = '';\n",
       "          dataTable['output_type'] = 'display_data';\n",
       "          await google.colab.output.renderOutput(dataTable, element);\n",
       "          const docLink = document.createElement('div');\n",
       "          docLink.innerHTML = docLinkHtml;\n",
       "          element.appendChild(docLink);\n",
       "        }\n",
       "      </script>\n",
       "    </div>\n",
       "  </div>\n",
       "  "
      ],
      "text/plain": [
       "      ClientPeriod  MonthlySpending TotalSpent     Sex  IsSeniorCitizen  \\\n",
       "4650            66            20.35     1359.5    Male                0   \n",
       "29              25            89.70    2187.55  Female                1   \n",
       "1688            36            76.35    2606.35  Female                0   \n",
       "\n",
       "     HasPartner HasChild HasPhoneService HasMultiplePhoneNumbers  \\\n",
       "4650        Yes      Yes             Yes                      No   \n",
       "29           No       No             Yes                     Yes   \n",
       "1688         No       No             Yes                      No   \n",
       "\n",
       "     HasInternetService HasOnlineSecurityService      HasOnlineBackup  \\\n",
       "4650                 No      No internet service  No internet service   \n",
       "29          Fiber optic                       No                  Yes   \n",
       "1688                DSL                      Yes                  Yes   \n",
       "\n",
       "      HasDeviceProtection HasTechSupportAccess          HasOnlineTV  \\\n",
       "4650  No internet service  No internet service  No internet service   \n",
       "29                     No                   No                   No   \n",
       "1688                  Yes                  Yes                  Yes   \n",
       "\n",
       "     HasMovieSubscription HasContractPhone IsBillingPaperless  \\\n",
       "4650  No internet service         One year                Yes   \n",
       "29                    Yes   Month-to-month                Yes   \n",
       "1688                   No         One year                Yes   \n",
       "\n",
       "         PaymentMethod  Churn  \n",
       "4650  Electronic check      0  \n",
       "29    Electronic check      1  \n",
       "1688      Mailed check      0  "
      ]
     },
     "execution_count": 66,
     "metadata": {},
     "output_type": "execute_result"
    }
   ],
   "source": [
    "# 1 Случайные 3 строчки\n",
    "data.sample(3, random_state=0)"
   ]
  },
  {
   "cell_type": "code",
   "execution_count": 67,
   "metadata": {
    "colab": {
     "base_uri": "https://localhost:8080/",
     "height": 483
    },
    "id": "EChNXyzVtNFH",
    "outputId": "0fb5e5c9-1852-42b8-d973-4b9acf319838"
   },
   "outputs": [
    {
     "data": {
      "image/png": "[encoded data removed]",
      "text/plain": [
       "<Figure size 864x576 with 1 Axes>"
      ]
     },
     "metadata": {
      "needs_background": "light"
     },
     "output_type": "display_data"
    }
   ],
   "source": [
    "# 2 Замена nan на пропуски и их подсчет\n",
    "data.replace(\" \", np.nan, inplace=True)\n",
    "X_test.replace(\" \", np.nan, inplace=True)\n",
    "data.isna().sum().plot(kind=\"barh\", legend=False, figsize=(12, 8))\n",
    "# Заменим nun на 0 \n",
    "data[\"TotalSpent\"] = data.TotalSpent.fillna(0).astype(float)\n",
    "X_test[\"TotalSpent\"] = X_test.TotalSpent.fillna(0).astype(float)"
   ]
  },
  {
   "cell_type": "markdown",
   "metadata": {
    "id": "dK370bPCEEZD"
   },
   "source": [
    "## Анализ данных (3 балла)\n",
    "\n",
    "1) Для численных призанков постройте гистограмму (*plt.hist(...)*) или boxplot (*plt.boxplot(...)*). Для категориальных посчитайте количество каждого значения для каждого признака. Для каждой колонки надо сделать *data.value_counts()* и построить bar диаграммы *plt.bar(...)* или круговые диаграммы *plt.pie(...)* (хорошо, елси вы сможете это сделать на одном гарфике с помощью *plt.subplots(...)*). \n",
    "\n",
    "2) Посмотрите на распределение целевой переменной и скажите, являются ли классы несбалансированными.\n",
    "\n",
    "3) (Если будет желание) Поиграйте с разными библиотеками для визуализации - *sns*, *pandas_visual_analysis*, etc.\n",
    "\n",
    "Второй пункт очень важен, потому что существуют задачи классификации с несбалансированными классами. Например, это может значить, что в датасете намного больше примеров 0 класса. В таких случаях нужно 1) не использовать accuracy как метрику 2) использовать методы борьбы с imbalanced dataset (обычно если датасет сильно несбалансирован, т.е. класса 1 в 20 раз меньше класса 0)."
   ]
  },
  {
   "cell_type": "code",
   "execution_count": 68,
   "metadata": {
    "colab": {
     "base_uri": "https://localhost:8080/",
     "height": 1000
    },
    "id": "NZkbgFJZEEZE",
    "outputId": "370b4b8b-7253-4037-ed1d-6e68f29ace6b"
   },
   "outputs": [
    {
     "data": {
      "image/png": "[encoded data removed]",
      "text/plain": [
       "<Figure size 1800x1440 with 20 Axes>"
      ]
     },
     "metadata": {
      "needs_background": "light"
     },
     "output_type": "display_data"
    }
   ],
   "source": [
    "fig , axes = plt.subplots(4, 5, figsize=(25, 20))\n",
    "for ax, col in zip(axes.flatten(), data.columns):\n",
    "  ax.set_title(col)\n",
    "  if col in num_cols:\n",
    "    data[col].plot(kind = 'hist', ax = ax)\n",
    "  else:\n",
    "    ax.pie(data[col].value_counts(), labels = data[col].value_counts().index, autopct = '%1.1f%%')"
   ]
  },
  {
   "cell_type": "markdown",
   "metadata": {
    "id": "JblCQChU2C0K"
   },
   "source": [
    "**Как видно из графика по Churm: перевес класса 0 в 3 раза по сравнению с классом 1.**"
   ]
  },
  {
   "cell_type": "markdown",
   "metadata": {
    "id": "zg60u3QDEEZH"
   },
   "source": [
    "(Дополнительно) Если вы нашли какие-то ошибки в данных или выбросы, то можете их убрать. Тут можно поэксперементировать с обработкой данных как угодно, но не за баллы."
   ]
  },
  {
   "cell_type": "code",
   "execution_count": 69,
   "metadata": {
    "id": "fwfksF1gEEZI"
   },
   "outputs": [],
   "source": [
    "# "
   ]
  },
  {
   "cell_type": "markdown",
   "metadata": {
    "id": "DviiJd8REEZK"
   },
   "source": [
    "## Применение линейных моделей (3 балла)\n",
    "\n",
    "1) Обработайте данные для того, чтобы к ним можно было применить LogisticRegression. Т.е. отнормируйте числовые признаки, а категориальные закодируйте с помощью one-hot-encoding'а. \n",
    "\n",
    "2) С помощью кроссвалидации или разделения на train/valid выборку протестируйте разные значения гиперпараметра C и выберите лучший (можно тестировать С=100, 10, 1, 0.1, 0.01, 0.001) по метрике ROC-AUC. \n",
    "\n",
    "Если вы разделяете на train/valid, то используйте LogisticRegressionCV. Он сам при вызове .fit() подберет параметр С. (не забудьте передать scroing='roc_auc', чтобы при кроссвалидации сравнивались значения этой метрики, и refit=True, чтобы при потом модель обучилась на всем датасете с лучшим параметром C). \n",
    "\n",
    "\n",
    "(более сложный вариант) Если вы будете использовать кроссвалидацию, то преобразования данных и LogisticRegression нужно соединить в один Pipeline с помощью make_pipeline, как это делалось во втором семинаре. Потом pipeline надо передать в GridSearchCV. Для one-hot-encoding'a можно испльзовать комбинацию LabelEncoder + OneHotEncoder (сначала превращаем строчки в числа, а потом числа првращаем в one-hot вектора.)"
   ]
  },
  {
   "cell_type": "code",
   "execution_count": 70,
   "metadata": {
    "id": "xHCLDmwqEEZL"
   },
   "outputs": [],
   "source": [
    "from sklearn.linear_model import LogisticRegression, LogisticRegressionCV\n",
    "from sklearn.model_selection import train_test_split, GridSearchCV\n",
    "from sklearn.preprocessing import StandardScaler, RobustScaler, LabelEncoder, OneHotEncoder\n",
    "from sklearn.pipeline import make_pipeline"
   ]
  },
  {
   "cell_type": "code",
   "execution_count": 71,
   "metadata": {
    "id": "P2Yv3uYtEEZO"
   },
   "outputs": [],
   "source": [
    "# Кодирование признаков:\n",
    "encode = {\n",
    "    \"No\": 0,\n",
    "    \"No internet service\": 0,\n",
    "    \"No phone service\": 0,\n",
    "    \"Yes\": 1,\n",
    "    \"Male\": 0,\n",
    "    \"Female\": 1,\n",
    "    \"DSL\": 1,\n",
    "    \"Fiber optic\": 2,\n",
    "    \"Month-to-month\": 0,\n",
    "    \"One year\": 1,\n",
    "    \"Two year\": 2,\n",
    "    \"Credit card (automatic)\": 0,\n",
    "    \"Bank transfer (automatic)\": 1,\n",
    "    \"Mailed check\": 2,\n",
    "    \"Electronic check\": 3,\n",
    "}\n",
    "\n",
    "X_train = data.replace(encode).drop(target_col, axis  = 1)\n",
    "y_train = data[target_col]\n",
    "X_test = X_test.replace(encode)"
   ]
  },
  {
   "cell_type": "code",
   "execution_count": 72,
   "metadata": {
    "colab": {
     "base_uri": "https://localhost:8080/"
    },
    "id": "JdQEF4tU6YS1",
    "outputId": "9008b0f4-d43f-4651-8316-f44b4cf626c6"
   },
   "outputs": [
    {
     "name": "stdout",
     "output_type": "stream",
     "text": [
      "CPU times: user 54.1 ms, sys: 46.7 ms, total: 101 ms\n",
      "Wall time: 881 ms\n"
     ]
    }
   ],
   "source": [
    "%%time\n",
    "from numpy.ma.core import arange\n",
    "from sklearn.pipeline import Pipeline\n",
    "\n",
    "# Поиск лучшей модели\n",
    "# param_grid = {\n",
    "#     \"model__C\": [100, 10, 1, 0.1, 0.01, 0.001] \n",
    "# }\n",
    "# clf = Pipeline(steps=[\n",
    "#     (\"scaler\", StandardScaler()),\n",
    "#     (\"model\", LogisticRegression(random_state=42)),\n",
    "# ])\n",
    "\n",
    "# grid_search = GridSearchCV(\n",
    "#     estimator = clf,\n",
    "#     param_grid = param_grid,\n",
    "#     scoring = \"roc_auc\",\n",
    "#     n_jobs = -1,\n",
    "#     cv = 10,\n",
    "#     refit = True,\n",
    "# )\n",
    "# grid_search.fit(X_train, y_train)\n",
    "\n",
    "#Лучшая модель с параметром С=100\n",
    "\n",
    "logreg = make_pipeline(\n",
    "    StandardScaler(),\n",
    "    LogisticRegression(random_state=42, C = 100,n_jobs = -1)\n",
    ")\n",
    "logreg.fit(X_train, y_train)\n",
    "\n",
    "submission = pd.read_csv(INPUT_DIR + \"submission.csv\")\n",
    "submission[\"Churn\"] = logreg.predict_proba(X_test)[:, 1]\n",
    "submission.to_csv(INPUT_DIR + \"logreg.csv\", index=False)\n",
    "\n"
   ]
  },
  {
   "cell_type": "markdown",
   "metadata": {
    "id": "uVahy6JKEEZQ"
   },
   "source": [
    "![image.png](data:image/png;base64,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)"
   ]
  },
  {
   "cell_type": "markdown",
   "metadata": {
    "id": "36729TOQEEZR"
   },
   "source": []
  },
  {
   "cell_type": "markdown",
   "metadata": {
    "id": "BlTeVy7fEEZR"
   },
   "source": [
    "## Применение градиентного бустинга (2 балла)\n",
    "\n",
    "Если вы хотите получить баллы за точный ответ, то стоит попробовать градиентный бустинг. Часто градиентный бустинг с дефолтными параметрами даст вам 80% результата за 0% усилий.\n",
    "\n",
    "Мы будем использовать catboost, поэтому нам не надо кодировать категориальные признаки. catboost сделает это сам (в .fit() надо передать cat_features=cat_cols). А численные признаки нормировать для моделей, основанных на деревьях не нужно.\n",
    "\n",
    "1) Разделите выборку на train/valid. Протестируйте catboost cо стандартными параметрами.\n",
    "\n",
    "2) Протестируйте разные занчения параметроа количества деревьев и learning_rate'а и выберите лучшую по метрике ROC-AUC комбинацию. \n",
    "\n",
    "(Дополнительно) Есть некоторые сложности с тем, чтобы использовать CatBoostClassifier вместе с GridSearchCV, поэтому мы не просим использовать кроссвалидацию. Но можете попробовать)"
   ]
  },
  {
   "cell_type": "code",
   "execution_count": 73,
   "metadata": {
    "colab": {
     "base_uri": "https://localhost:8080/"
    },
    "id": "zLBKmU6FHdmG",
    "outputId": "f761c282-5b2b-4870-8ca9-c4d3b3b52904"
   },
   "outputs": [
    {
     "name": "stdout",
     "output_type": "stream",
     "text": [
      "Looking in indexes: https://pypi.org/simple, https://us-python.pkg.dev/colab-wheels/public/simple/\n",
      "Requirement already satisfied: catboost in /usr/local/lib/python3.7/dist-packages (1.1)\n",
      "Requirement already satisfied: graphviz in /usr/local/lib/python3.7/dist-packages (from catboost) (0.10.1)\n",
      "Requirement already satisfied: numpy>=1.16.0 in /usr/local/lib/python3.7/dist-packages (from catboost) (1.21.6)\n",
      "Requirement already satisfied: pandas>=0.24.0 in /usr/local/lib/python3.7/dist-packages (from catboost) (1.3.5)\n",
      "Requirement already satisfied: matplotlib in /usr/local/lib/python3.7/dist-packages (from catboost) (3.2.2)\n",
      "Requirement already satisfied: six in /usr/local/lib/python3.7/dist-packages (from catboost) (1.15.0)\n",
      "Requirement already satisfied: scipy in /usr/local/lib/python3.7/dist-packages (from catboost) (1.7.3)\n",
      "Requirement already satisfied: plotly in /usr/local/lib/python3.7/dist-packages (from catboost) (5.5.0)\n",
      "Requirement already satisfied: pytz>=2017.3 in /usr/local/lib/python3.7/dist-packages (from pandas>=0.24.0->catboost) (2022.4)\n",
      "Requirement already satisfied: python-dateutil>=2.7.3 in /usr/local/lib/python3.7/dist-packages (from pandas>=0.24.0->catboost) (2.8.2)\n",
      "Requirement already satisfied: pyparsing!=2.0.4,!=2.1.2,!=2.1.6,>=2.0.1 in /usr/local/lib/python3.7/dist-packages (from matplotlib->catboost) (3.0.9)\n",
      "Requirement already satisfied: kiwisolver>=1.0.1 in /usr/local/lib/python3.7/dist-packages (from matplotlib->catboost) (1.4.4)\n",
      "Requirement already satisfied: cycler>=0.10 in /usr/local/lib/python3.7/dist-packages (from matplotlib->catboost) (0.11.0)\n",
      "Requirement already satisfied: typing-extensions in /usr/local/lib/python3.7/dist-packages (from kiwisolver>=1.0.1->matplotlib->catboost) (4.1.1)\n",
      "Requirement already satisfied: tenacity>=6.2.0 in /usr/local/lib/python3.7/dist-packages (from plotly->catboost) (8.1.0)\n"
     ]
    }
   ],
   "source": [
    "!pip install catboost\n",
    "from catboost import CatBoostClassifier\n",
    "from sklearn.metrics import roc_curve, auc\n",
    "import matplotlib.pyplot as plt"
   ]
  },
  {
   "cell_type": "code",
   "execution_count": 74,
   "metadata": {
    "id": "Fioxxlp-EEZS"
   },
   "outputs": [],
   "source": [
    "# Дефолтный катбуст\n",
    "X = data.iloc[:, :-1]\n",
    "y = data.iloc[:, -1]\n",
    "\n",
    "X_train, X_valid, y_train, y_valid = train_test_split(X, y, test_size=0.2)\n",
    "\n",
    "cat_default = CatBoostClassifier(cat_features = cat_cols)\n",
    "cat_default.fit(X_train, y_train, verbose=False)\n",
    "y_predict = cat_default.predict_proba(X_valid)[:, 1]"
   ]
  },
  {
   "cell_type": "markdown",
   "metadata": {
    "id": "rf4Kjt96EEZU"
   },
   "source": [
    "Выпишите какое лучшее качество и с какими параметрами вам удалось получить"
   ]
  },
  {
   "cell_type": "code",
   "execution_count": 75,
   "metadata": {
    "colab": {
     "base_uri": "https://localhost:8080/",
     "height": 35
    },
    "id": "j0Alhg-0H-1O",
    "outputId": "a88e8289-7baa-4e84-c993-594fc7302140"
   },
   "outputs": [
    {
     "data": {
      "application/vnd.google.colaboratory.intrinsic+json": {
       "type": "string"
      },
      "text/plain": [
       "'ROC-AUC score = 0.8429559993536305'"
      ]
     },
     "execution_count": 75,
     "metadata": {},
     "output_type": "execute_result"
    }
   ],
   "source": [
    "f\"ROC-AUC score = {roc_auc_score(y_valid, y_predict)}\""
   ]
  },
  {
   "cell_type": "code",
   "execution_count": 86,
   "metadata": {
    "colab": {
     "base_uri": "https://localhost:8080/",
     "height": 1000,
     "referenced_widgets": [
      "cdedc8d77df24ae9ad9f7475d131ed6e"
     ]
    },
    "id": "MLiJT7GkIDfx",
    "outputId": "58568be4-0d07-46cf-e9fe-7ad7769c5247"
   },
   "outputs": [
    {
     "data": {
      "application/vnd.jupyter.widget-view+json": {
       "model_id": "cdedc8d77df24ae9ad9f7475d131ed6e",
       "version_major": 2,
       "version_minor": 0
      },
      "text/plain": [
       "MetricVisualizer(layout=Layout(align_self='stretch', height='500px'))"
      ]
     },
     "metadata": {},
     "output_type": "display_data"
    },
    {
     "name": "stdout",
     "output_type": "stream",
     "text": [
      "0:\tloss: 0.8421630\tbest: 0.8421630 (0)\ttotal: 119ms\tremaining: 1m 59s\n",
      "1:\tloss: 0.8421630\tbest: 0.8421630 (0)\ttotal: 185ms\tremaining: 1m 32s\n",
      "2:\tloss: 0.8421630\tbest: 0.8421630 (0)\ttotal: 252ms\tremaining: 1m 24s\n",
      "3:\tloss: 0.8421845\tbest: 0.8421845 (3)\ttotal: 351ms\tremaining: 1m 28s\n",
      "4:\tloss: 0.8411718\tbest: 0.8421845 (3)\ttotal: 450ms\tremaining: 1m 30s\n",
      "5:\tloss: 0.8434980\tbest: 0.8434980 (5)\ttotal: 550ms\tremaining: 1m 31s\n",
      "6:\tloss: 0.8550074\tbest: 0.8550074 (6)\ttotal: 628ms\tremaining: 1m 29s\n",
      "7:\tloss: 0.8427983\tbest: 0.8550074 (6)\ttotal: 677ms\tremaining: 1m 24s\n",
      "8:\tloss: 0.8578781\tbest: 0.8578781 (8)\ttotal: 717ms\tremaining: 1m 19s\n",
      "9:\tloss: 0.8650240\tbest: 0.8650240 (9)\ttotal: 757ms\tremaining: 1m 15s\n",
      "10:\tloss: 0.8629652\tbest: 0.8650240 (9)\ttotal: 799ms\tremaining: 1m 12s\n",
      "11:\tloss: 0.8670278\tbest: 0.8670278 (11)\ttotal: 846ms\tremaining: 1m 10s\n",
      "12:\tloss: 0.8616779\tbest: 0.8670278 (11)\ttotal: 925ms\tremaining: 1m 10s\n",
      "13:\tloss: 0.8602832\tbest: 0.8670278 (11)\ttotal: 1000ms\tremaining: 1m 10s\n",
      "14:\tloss: 0.8619574\tbest: 0.8670278 (11)\ttotal: 1.09s\tremaining: 1m 12s\n",
      "15:\tloss: 0.8533809\tbest: 0.8670278 (11)\ttotal: 1.17s\tremaining: 1m 12s\n",
      "16:\tloss: 0.8626189\tbest: 0.8670278 (11)\ttotal: 1.25s\tremaining: 1m 12s\n",
      "17:\tloss: 0.8625425\tbest: 0.8670278 (11)\ttotal: 1.33s\tremaining: 1m 13s\n",
      "18:\tloss: 0.8668391\tbest: 0.8670278 (11)\ttotal: 1.41s\tremaining: 1m 13s\n",
      "19:\tloss: 0.8604360\tbest: 0.8670278 (11)\ttotal: 1.5s\tremaining: 1m 13s\n",
      "20:\tloss: 0.8654276\tbest: 0.8670278 (11)\ttotal: 1.59s\tremaining: 1m 14s\n",
      "21:\tloss: 0.8719382\tbest: 0.8719382 (21)\ttotal: 1.67s\tremaining: 1m 15s\n",
      "22:\tloss: 0.8666027\tbest: 0.8719382 (21)\ttotal: 1.76s\tremaining: 1m 15s\n",
      "23:\tloss: 0.8653416\tbest: 0.8719382 (21)\ttotal: 1.84s\tremaining: 1m 15s\n",
      "24:\tloss: 0.8615060\tbest: 0.8719382 (21)\ttotal: 1.99s\tremaining: 1m 18s\n",
      "25:\tloss: 0.8635814\tbest: 0.8719382 (21)\ttotal: 2.15s\tremaining: 1m 21s\n",
      "26:\tloss: 0.8629772\tbest: 0.8719382 (21)\ttotal: 2.3s\tremaining: 1m 23s\n",
      "27:\tloss: 0.8645821\tbest: 0.8719382 (21)\ttotal: 2.45s\tremaining: 1m 25s\n",
      "28:\tloss: 0.8635599\tbest: 0.8719382 (21)\ttotal: 2.61s\tremaining: 1m 28s\n",
      "29:\tloss: 0.8659292\tbest: 0.8719382 (21)\ttotal: 2.78s\tremaining: 1m 30s\n",
      "30:\tloss: 0.8677395\tbest: 0.8719382 (21)\ttotal: 2.94s\tremaining: 1m 32s\n",
      "31:\tloss: 0.8667340\tbest: 0.8719382 (21)\ttotal: 3.09s\tremaining: 1m 34s\n",
      "32:\tloss: 0.8673454\tbest: 0.8719382 (21)\ttotal: 3.25s\tremaining: 1m 36s\n",
      "33:\tloss: 0.8732350\tbest: 0.8732350 (33)\ttotal: 3.4s\tremaining: 1m 37s\n",
      "34:\tloss: 0.8641451\tbest: 0.8732350 (33)\ttotal: 3.55s\tremaining: 1m 38s\n",
      "35:\tloss: 0.8671735\tbest: 0.8732350 (33)\ttotal: 3.71s\tremaining: 1m 40s\n",
      "36:\tloss: 0.8611191\tbest: 0.8732350 (33)\ttotal: 3.94s\tremaining: 1m 43s\n",
      "37:\tloss: 0.8646132\tbest: 0.8732350 (33)\ttotal: 4.19s\tremaining: 1m 46s\n",
      "38:\tloss: 0.8633450\tbest: 0.8732350 (33)\ttotal: 4.42s\tremaining: 1m 49s\n",
      "39:\tloss: 0.8638704\tbest: 0.8732350 (33)\ttotal: 4.68s\tremaining: 1m 53s\n",
      "40:\tloss: 0.8646872\tbest: 0.8732350 (33)\ttotal: 4.9s\tremaining: 1m 55s\n",
      "41:\tloss: 0.8648663\tbest: 0.8732350 (33)\ttotal: 5.15s\tremaining: 1m 58s\n",
      "42:\tloss: 0.8686280\tbest: 0.8732350 (33)\ttotal: 5.41s\tremaining: 2m 1s\n",
      "43:\tloss: 0.8699893\tbest: 0.8732350 (33)\ttotal: 5.64s\tremaining: 2m 3s\n",
      "44:\tloss: 0.8685396\tbest: 0.8732350 (33)\ttotal: 5.89s\tremaining: 2m 5s\n",
      "45:\tloss: 0.8727574\tbest: 0.8732350 (33)\ttotal: 6.14s\tremaining: 2m 8s\n",
      "46:\tloss: 0.8648616\tbest: 0.8732350 (33)\ttotal: 6.38s\tremaining: 2m 10s\n",
      "47:\tloss: 0.8573455\tbest: 0.8732350 (33)\ttotal: 6.61s\tremaining: 2m 12s\n",
      "48:\tloss: 0.8608134\tbest: 0.8732350 (33)\ttotal: 6.92s\tremaining: 2m 15s\n",
      "49:\tloss: 0.8641379\tbest: 0.8732350 (33)\ttotal: 7.26s\tremaining: 2m 19s\n",
      "50:\tloss: 0.8632399\tbest: 0.8732350 (33)\ttotal: 7.56s\tremaining: 2m 21s\n",
      "51:\tloss: 0.8641212\tbest: 0.8732350 (33)\ttotal: 7.9s\tremaining: 2m 25s\n",
      "52:\tloss: 0.8645511\tbest: 0.8732350 (33)\ttotal: 8.21s\tremaining: 2m 27s\n",
      "53:\tloss: 0.8651219\tbest: 0.8732350 (33)\ttotal: 8.51s\tremaining: 2m 30s\n",
      "54:\tloss: 0.8691606\tbest: 0.8732350 (33)\ttotal: 8.84s\tremaining: 2m 33s\n",
      "55:\tloss: 0.8715130\tbest: 0.8732350 (33)\ttotal: 9.15s\tremaining: 2m 35s\n",
      "56:\tloss: 0.8694830\tbest: 0.8732350 (33)\ttotal: 9.46s\tremaining: 2m 37s\n",
      "57:\tloss: 0.8719931\tbest: 0.8732350 (33)\ttotal: 9.78s\tremaining: 2m 40s\n",
      "58:\tloss: 0.8604121\tbest: 0.8732350 (33)\ttotal: 10.1s\tremaining: 2m 42s\n",
      "59:\tloss: 0.8522680\tbest: 0.8732350 (33)\ttotal: 10.4s\tremaining: 2m 44s\n",
      "60:\tloss: 0.8614104\tbest: 0.8732350 (33)\ttotal: 10.8s\tremaining: 2m 47s\n",
      "61:\tloss: 0.8636579\tbest: 0.8732350 (33)\ttotal: 11.2s\tremaining: 2m 51s\n",
      "62:\tloss: 0.8624685\tbest: 0.8732350 (33)\ttotal: 11.6s\tremaining: 2m 53s\n",
      "63:\tloss: 0.8632375\tbest: 0.8732350 (33)\ttotal: 12s\tremaining: 2m 56s\n",
      "64:\tloss: 0.8643863\tbest: 0.8732350 (33)\ttotal: 12.4s\tremaining: 2m 59s\n",
      "65:\tloss: 0.8665095\tbest: 0.8732350 (33)\ttotal: 12.8s\tremaining: 3m 2s\n",
      "66:\tloss: 0.8697552\tbest: 0.8732350 (33)\ttotal: 13.2s\tremaining: 3m 4s\n",
      "67:\tloss: 0.8718331\tbest: 0.8732350 (33)\ttotal: 13.5s\tremaining: 3m 7s\n",
      "68:\tloss: 0.8694065\tbest: 0.8732350 (33)\ttotal: 13.9s\tremaining: 3m 9s\n",
      "69:\tloss: 0.8702616\tbest: 0.8732350 (33)\ttotal: 14.4s\tremaining: 3m 12s\n",
      "70:\tloss: 0.8590675\tbest: 0.8732350 (33)\ttotal: 14.7s\tremaining: 3m 14s\n",
      "71:\tloss: 0.8474149\tbest: 0.8732350 (33)\ttotal: 15.2s\tremaining: 3m 17s\n",
      "72:\tloss: 0.8628434\tbest: 0.8732350 (33)\ttotal: 15.7s\tremaining: 3m 21s\n",
      "73:\tloss: 0.8628387\tbest: 0.8732350 (33)\ttotal: 16.3s\tremaining: 3m 25s\n",
      "74:\tloss: 0.8626500\tbest: 0.8732350 (33)\ttotal: 16.9s\tremaining: 3m 29s\n",
      "75:\tloss: 0.8639516\tbest: 0.8732350 (33)\ttotal: 17.4s\tremaining: 3m 33s\n",
      "76:\tloss: 0.8650789\tbest: 0.8732350 (33)\ttotal: 17.9s\tremaining: 3m 37s\n",
      "77:\tloss: 0.8676225\tbest: 0.8732350 (33)\ttotal: 18.5s\tremaining: 3m 40s\n",
      "78:\tloss: 0.8704240\tbest: 0.8732350 (33)\ttotal: 19s\tremaining: 3m 43s\n",
      "79:\tloss: 0.8714724\tbest: 0.8732350 (33)\ttotal: 19.6s\tremaining: 3m 47s\n",
      "80:\tloss: 0.8684512\tbest: 0.8732350 (33)\ttotal: 20.1s\tremaining: 3m 50s\n",
      "81:\tloss: 0.8664307\tbest: 0.8732350 (33)\ttotal: 20.7s\tremaining: 3m 53s\n",
      "82:\tloss: 0.8502044\tbest: 0.8732350 (33)\ttotal: 21.3s\tremaining: 3m 56s\n",
      "83:\tloss: 0.8433356\tbest: 0.8732350 (33)\ttotal: 21.8s\tremaining: 4m\n",
      "84:\tloss: 0.8628387\tbest: 0.8732350 (33)\ttotal: 22.6s\tremaining: 4m 5s\n",
      "85:\tloss: 0.8624756\tbest: 0.8732350 (33)\ttotal: 23.4s\tremaining: 4m 10s\n",
      "86:\tloss: 0.8626404\tbest: 0.8732350 (33)\ttotal: 24.1s\tremaining: 4m 15s\n",
      "87:\tloss: 0.8641833\tbest: 0.8732350 (33)\ttotal: 24.9s\tremaining: 4m 19s\n",
      "88:\tloss: 0.8663997\tbest: 0.8732350 (33)\ttotal: 25.6s\tremaining: 4m 24s\n",
      "89:\tloss: 0.8692298\tbest: 0.8732350 (33)\ttotal: 26.4s\tremaining: 4m 29s\n",
      "90:\tloss: 0.8704598\tbest: 0.8732350 (33)\ttotal: 27.2s\tremaining: 4m 33s\n",
      "91:\tloss: 0.8711835\tbest: 0.8732350 (33)\ttotal: 28s\tremaining: 4m 38s\n",
      "92:\tloss: 0.8673407\tbest: 0.8732350 (33)\ttotal: 28.8s\tremaining: 4m 42s\n",
      "93:\tloss: 0.8617233\tbest: 0.8732350 (33)\ttotal: 29.5s\tremaining: 4m 47s\n",
      "94:\tloss: 0.8446564\tbest: 0.8732350 (33)\ttotal: 30.3s\tremaining: 4m 51s\n",
      "95:\tloss: 0.8280838\tbest: 0.8732350 (33)\ttotal: 31.1s\tremaining: 4m 55s\n",
      "96:\tloss: 0.8627240\tbest: 0.8732350 (33)\ttotal: 32.3s\tremaining: 5m 3s\n",
      "97:\tloss: 0.8625616\tbest: 0.8732350 (33)\ttotal: 33.4s\tremaining: 5m 10s\n",
      "98:\tloss: 0.8622965\tbest: 0.8732350 (33)\ttotal: 34.5s\tremaining: 5m 16s\n",
      "99:\tloss: 0.8650813\tbest: 0.8732350 (33)\ttotal: 35.7s\tremaining: 5m 23s\n",
      "100:\tloss: 0.8686423\tbest: 0.8732350 (33)\ttotal: 36.9s\tremaining: 5m 30s\n",
      "101:\tloss: 0.8698245\tbest: 0.8732350 (33)\ttotal: 38s\tremaining: 5m 37s\n",
      "102:\tloss: 0.8698532\tbest: 0.8732350 (33)\ttotal: 39.2s\tremaining: 5m 44s\n",
      "103:\tloss: 0.8697767\tbest: 0.8732350 (33)\ttotal: 40.3s\tremaining: 5m 50s\n",
      "104:\tloss: 0.8635241\tbest: 0.8732350 (33)\ttotal: 41.5s\tremaining: 5m 56s\n",
      "105:\tloss: 0.8573049\tbest: 0.8732350 (33)\ttotal: 42.7s\tremaining: 6m 3s\n",
      "106:\tloss: 0.8365170\tbest: 0.8732350 (33)\ttotal: 43.8s\tremaining: 6m 9s\n",
      "107:\tloss: 0.8216019\tbest: 0.8732350 (33)\ttotal: 45s\tremaining: 6m 14s\n",
      "108:\tloss: 0.8627813\tbest: 0.8732350 (33)\ttotal: 46.5s\tremaining: 6m 23s\n",
      "109:\tloss: 0.8623920\tbest: 0.8732350 (33)\ttotal: 48s\tremaining: 6m 32s\n",
      "110:\tloss: 0.8629414\tbest: 0.8732350 (33)\ttotal: 49.5s\tremaining: 6m 40s\n",
      "111:\tloss: 0.8669896\tbest: 0.8732350 (33)\ttotal: 51s\tremaining: 6m 48s\n",
      "112:\tloss: 0.8699129\tbest: 0.8732350 (33)\ttotal: 52.5s\tremaining: 6m 56s\n",
      "113:\tloss: 0.8696812\tbest: 0.8732350 (33)\ttotal: 54.1s\tremaining: 7m 4s\n",
      "114:\tloss: 0.8694209\tbest: 0.8732350 (33)\ttotal: 55.6s\tremaining: 7m 11s\n",
      "115:\tloss: 0.8687187\tbest: 0.8732350 (33)\ttotal: 57.1s\tremaining: 7m 19s\n",
      "116:\tloss: 0.8596526\tbest: 0.8732350 (33)\ttotal: 58.6s\tremaining: 7m 26s\n",
      "117:\tloss: 0.8503167\tbest: 0.8732350 (33)\ttotal: 1m\tremaining: 7m 34s\n",
      "118:\tloss: 0.8341406\tbest: 0.8732350 (33)\ttotal: 1m 1s\tremaining: 7m 41s\n",
      "119:\tloss: 0.8182511\tbest: 0.8732350 (33)\ttotal: 1m 3s\tremaining: 7m 48s\n",
      "120:\tloss: 0.8625330\tbest: 0.8732350 (33)\ttotal: 1m 5s\tremaining: 7m 57s\n",
      "121:\tloss: 0.8625974\tbest: 0.8732350 (33)\ttotal: 1m 7s\tremaining: 8m 7s\n",
      "122:\tloss: 0.8629246\tbest: 0.8732350 (33)\ttotal: 1m 8s\tremaining: 8m 16s\n",
      "123:\tloss: 0.8678326\tbest: 0.8732350 (33)\ttotal: 1m 10s\tremaining: 8m 25s\n",
      "124:\tloss: 0.8706198\tbest: 0.8732350 (33)\ttotal: 1m 12s\tremaining: 8m 34s\n",
      "125:\tloss: 0.8698245\tbest: 0.8732350 (33)\ttotal: 1m 14s\tremaining: 8m 43s\n",
      "126:\tloss: 0.8685420\tbest: 0.8732350 (33)\ttotal: 1m 16s\tremaining: 8m 51s\n",
      "127:\tloss: 0.8672332\tbest: 0.8732350 (33)\ttotal: 1m 18s\tremaining: 9m\n",
      "128:\tloss: 0.8575318\tbest: 0.8732350 (33)\ttotal: 1m 20s\tremaining: 9m 8s\n",
      "129:\tloss: 0.8461610\tbest: 0.8732350 (33)\ttotal: 1m 22s\tremaining: 9m 17s\n",
      "130:\tloss: 0.8308399\tbest: 0.8732350 (33)\ttotal: 1m 24s\tremaining: 9m 25s\n",
      "131:\tloss: 0.8182511\tbest: 0.8732350 (33)\ttotal: 1m 26s\tremaining: 9m 34s\n",
      "132:\tloss: 0.8624398\tbest: 0.8732350 (33)\ttotal: 1m 28s\tremaining: 9m 44s\n",
      "133:\tloss: 0.8623992\tbest: 0.8732350 (33)\ttotal: 1m 31s\tremaining: 9m 53s\n",
      "134:\tloss: 0.8631945\tbest: 0.8732350 (33)\ttotal: 1m 33s\tremaining: 10m 3s\n",
      "135:\tloss: 0.8686041\tbest: 0.8732350 (33)\ttotal: 1m 35s\tremaining: 10m 13s\n",
      "136:\tloss: 0.8710736\tbest: 0.8732350 (33)\ttotal: 1m 37s\tremaining: 10m 22s\n",
      "137:\tloss: 0.8699463\tbest: 0.8732350 (33)\ttotal: 1m 40s\tremaining: 10m 32s\n",
      "138:\tloss: 0.8673550\tbest: 0.8732350 (33)\ttotal: 1m 42s\tremaining: 10m 41s\n",
      "139:\tloss: 0.8651601\tbest: 0.8732350 (33)\ttotal: 1m 44s\tremaining: 10m 50s\n",
      "140:\tloss: 0.8553561\tbest: 0.8732350 (33)\ttotal: 1m 47s\tremaining: 10m 59s\n",
      "141:\tloss: 0.8443124\tbest: 0.8732350 (33)\ttotal: 1m 49s\tremaining: 11m 8s\n",
      "142:\tloss: 0.8290391\tbest: 0.8732350 (33)\ttotal: 1m 51s\tremaining: 11m 17s\n",
      "143:\tloss: 0.8182511\tbest: 0.8732350 (33)\ttotal: 1m 54s\tremaining: 11m 25s\n",
      "144:\tloss: 0.8623443\tbest: 0.8732350 (33)\ttotal: 1m 58s\tremaining: 11m 42s\n",
      "145:\tloss: 0.8629199\tbest: 0.8732350 (33)\ttotal: 2m 1s\tremaining: 11m 58s\n",
      "146:\tloss: 0.8640686\tbest: 0.8732350 (33)\ttotal: 2m 5s\tremaining: 12m 14s\n",
      "147:\tloss: 0.8706270\tbest: 0.8732350 (33)\ttotal: 2m 9s\tremaining: 12m 31s\n",
      "148:\tloss: 0.8706389\tbest: 0.8732350 (33)\ttotal: 2m 12s\tremaining: 12m 46s\n",
      "149:\tloss: 0.8685276\tbest: 0.8732350 (33)\ttotal: 2m 16s\tremaining: 13m 2s\n",
      "150:\tloss: 0.8616684\tbest: 0.8732350 (33)\ttotal: 2m 20s\tremaining: 13m 17s\n",
      "151:\tloss: 0.8581146\tbest: 0.8732350 (33)\ttotal: 2m 24s\tremaining: 13m 33s\n",
      "152:\tloss: 0.8482245\tbest: 0.8732350 (33)\ttotal: 2m 28s\tremaining: 13m 48s\n",
      "153:\tloss: 0.8309331\tbest: 0.8732350 (33)\ttotal: 2m 32s\tremaining: 14m 4s\n",
      "154:\tloss: 0.8216927\tbest: 0.8732350 (33)\ttotal: 2m 36s\tremaining: 14m 18s\n",
      "155:\tloss: 0.8182511\tbest: 0.8732350 (33)\ttotal: 2m 40s\tremaining: 14m 34s\n",
      "156:\tloss: 0.8623897\tbest: 0.8732350 (33)\ttotal: 2m 49s\tremaining: 15m 17s\n",
      "157:\tloss: 0.8640591\tbest: 0.8732350 (33)\ttotal: 2m 56s\tremaining: 15m 50s\n",
      "158:\tloss: 0.8669752\tbest: 0.8732350 (33)\ttotal: 3m 4s\tremaining: 16m 23s\n",
      "159:\tloss: 0.8706915\tbest: 0.8732350 (33)\ttotal: 3m 11s\tremaining: 16m 55s\n",
      "160:\tloss: 0.8687163\tbest: 0.8732350 (33)\ttotal: 3m 19s\tremaining: 17m 27s\n",
      "161:\tloss: 0.8619884\tbest: 0.8732350 (33)\ttotal: 3m 26s\tremaining: 18m\n",
      "162:\tloss: 0.8538132\tbest: 0.8732350 (33)\ttotal: 3m 34s\tremaining: 18m 31s\n",
      "163:\tloss: 0.8492921\tbest: 0.8732350 (33)\ttotal: 3m 42s\tremaining: 19m 3s\n",
      "164:\tloss: 0.8314943\tbest: 0.8732350 (33)\ttotal: 3m 49s\tremaining: 19m 33s\n",
      "165:\tloss: 0.8234552\tbest: 0.8732350 (33)\ttotal: 3m 57s\tremaining: 20m 4s\n",
      "166:\tloss: 0.8182511\tbest: 0.8732350 (33)\ttotal: 4m 5s\tremaining: 20m 35s\n",
      "167:\tloss: 0.8182511\tbest: 0.8732350 (33)\ttotal: 4m 13s\tremaining: 21m 5s\n",
      "168:\tloss: 0.8618642\tbest: 0.8732350 (33)\ttotal: 4m 13s\tremaining: 20m 57s\n",
      "169:\tloss: 0.8599130\tbest: 0.8732350 (33)\ttotal: 4m 13s\tremaining: 20m 48s\n",
      "170:\tloss: 0.8599082\tbest: 0.8732350 (33)\ttotal: 4m 13s\tremaining: 20m 39s\n",
      "171:\tloss: 0.8647589\tbest: 0.8732350 (33)\ttotal: 4m 13s\tremaining: 20m 31s\n",
      "172:\tloss: 0.8651171\tbest: 0.8732350 (33)\ttotal: 4m 13s\tremaining: 20m 23s\n",
      "173:\tloss: 0.8648711\tbest: 0.8732350 (33)\ttotal: 4m 13s\tremaining: 20m 14s\n",
      "174:\tloss: 0.8613364\tbest: 0.8732350 (33)\ttotal: 4m 13s\tremaining: 20m 6s\n",
      "175:\tloss: 0.8570828\tbest: 0.8732350 (33)\ttotal: 4m 13s\tremaining: 19m 58s\n",
      "176:\tloss: 0.8660271\tbest: 0.8732350 (33)\ttotal: 4m 13s\tremaining: 19m 50s\n",
      "177:\tloss: 0.8643696\tbest: 0.8732350 (33)\ttotal: 4m 13s\tremaining: 19m 42s\n",
      "178:\tloss: 0.8684608\tbest: 0.8732350 (33)\ttotal: 4m 13s\tremaining: 19m 35s\n",
      "179:\tloss: 0.8660486\tbest: 0.8732350 (33)\ttotal: 4m 13s\tremaining: 19m 27s\n",
      "180:\tloss: 0.8660557\tbest: 0.8732350 (33)\ttotal: 4m 13s\tremaining: 19m 20s\n",
      "181:\tloss: 0.8654969\tbest: 0.8732350 (33)\ttotal: 4m 14s\tremaining: 19m 13s\n",
      "182:\tloss: 0.8659124\tbest: 0.8732350 (33)\ttotal: 4m 14s\tremaining: 19m 5s\n",
      "183:\tloss: 0.8654634\tbest: 0.8732350 (33)\ttotal: 4m 14s\tremaining: 18m 58s\n",
      "184:\tloss: 0.8651195\tbest: 0.8732350 (33)\ttotal: 4m 14s\tremaining: 18m 51s\n",
      "185:\tloss: 0.8651697\tbest: 0.8732350 (33)\ttotal: 4m 14s\tremaining: 18m 44s\n",
      "186:\tloss: 0.8670349\tbest: 0.8732350 (33)\ttotal: 4m 14s\tremaining: 18m 37s\n",
      "187:\tloss: 0.8661369\tbest: 0.8732350 (33)\ttotal: 4m 14s\tremaining: 18m 30s\n",
      "188:\tloss: 0.8698173\tbest: 0.8732350 (33)\ttotal: 4m 14s\tremaining: 18m 24s\n",
      "189:\tloss: 0.8681431\tbest: 0.8732350 (33)\ttotal: 4m 14s\tremaining: 18m 17s\n",
      "190:\tloss: 0.8694543\tbest: 0.8732350 (33)\ttotal: 4m 15s\tremaining: 18m 10s\n",
      "191:\tloss: 0.8628864\tbest: 0.8732350 (33)\ttotal: 4m 15s\tremaining: 18m 4s\n",
      "192:\tloss: 0.8650646\tbest: 0.8732350 (33)\ttotal: 4m 15s\tremaining: 17m 58s\n",
      "193:\tloss: 0.8654419\tbest: 0.8732350 (33)\ttotal: 4m 15s\tremaining: 17m 52s\n",
      "194:\tloss: 0.8654993\tbest: 0.8732350 (33)\ttotal: 4m 15s\tremaining: 17m 46s\n",
      "195:\tloss: 0.8655184\tbest: 0.8732350 (33)\ttotal: 4m 16s\tremaining: 17m 40s\n",
      "196:\tloss: 0.8652867\tbest: 0.8732350 (33)\ttotal: 4m 16s\tremaining: 17m 34s\n",
      "197:\tloss: 0.8663495\tbest: 0.8732350 (33)\ttotal: 4m 16s\tremaining: 17m 29s\n",
      "198:\tloss: 0.8676726\tbest: 0.8732350 (33)\ttotal: 4m 16s\tremaining: 17m 23s\n",
      "199:\tloss: 0.8680118\tbest: 0.8732350 (33)\ttotal: 4m 16s\tremaining: 17m 17s\n",
      "200:\tloss: 0.8703213\tbest: 0.8732350 (33)\ttotal: 4m 17s\tremaining: 17m 12s\n",
      "201:\tloss: 0.8662396\tbest: 0.8732350 (33)\ttotal: 4m 17s\tremaining: 17m 6s\n",
      "202:\tloss: 0.8671496\tbest: 0.8732350 (33)\ttotal: 4m 17s\tremaining: 17m 1s\n",
      "203:\tloss: 0.8543625\tbest: 0.8732350 (33)\ttotal: 4m 17s\tremaining: 16m 55s\n",
      "204:\tloss: 0.8653989\tbest: 0.8732350 (33)\ttotal: 4m 18s\tremaining: 16m 50s\n",
      "205:\tloss: 0.8649332\tbest: 0.8732350 (33)\ttotal: 4m 18s\tremaining: 16m 45s\n",
      "206:\tloss: 0.8646036\tbest: 0.8732350 (33)\ttotal: 4m 18s\tremaining: 16m 40s\n",
      "207:\tloss: 0.8662038\tbest: 0.8732350 (33)\ttotal: 4m 19s\tremaining: 16m 36s\n",
      "208:\tloss: 0.8650789\tbest: 0.8732350 (33)\ttotal: 4m 19s\tremaining: 16m 31s\n",
      "209:\tloss: 0.8660772\tbest: 0.8732350 (33)\ttotal: 4m 19s\tremaining: 16m 26s\n",
      "210:\tloss: 0.8672356\tbest: 0.8732350 (33)\ttotal: 4m 19s\tremaining: 16m 21s\n",
      "211:\tloss: 0.8684823\tbest: 0.8732350 (33)\ttotal: 4m 20s\tremaining: 16m 17s\n",
      "212:\tloss: 0.8718617\tbest: 0.8732350 (33)\ttotal: 4m 20s\tremaining: 16m 12s\n",
      "213:\tloss: 0.8669155\tbest: 0.8732350 (33)\ttotal: 4m 20s\tremaining: 16m 7s\n",
      "214:\tloss: 0.8638274\tbest: 0.8732350 (33)\ttotal: 4m 21s\tremaining: 16m 3s\n",
      "215:\tloss: 0.8438037\tbest: 0.8732350 (33)\ttotal: 4m 21s\tremaining: 15m 58s\n",
      "216:\tloss: 0.8662587\tbest: 0.8732350 (33)\ttotal: 4m 21s\tremaining: 15m 54s\n",
      "217:\tloss: 0.8658169\tbest: 0.8732350 (33)\ttotal: 4m 22s\tremaining: 15m 50s\n",
      "218:\tloss: 0.8640519\tbest: 0.8732350 (33)\ttotal: 4m 22s\tremaining: 15m 46s\n",
      "219:\tloss: 0.8662993\tbest: 0.8732350 (33)\ttotal: 4m 23s\tremaining: 15m 42s\n",
      "220:\tloss: 0.8647708\tbest: 0.8732350 (33)\ttotal: 4m 23s\tremaining: 15m 38s\n",
      "221:\tloss: 0.8666743\tbest: 0.8732350 (33)\ttotal: 4m 24s\tremaining: 15m 34s\n",
      "222:\tloss: 0.8683963\tbest: 0.8732350 (33)\ttotal: 4m 24s\tremaining: 15m 31s\n",
      "223:\tloss: 0.8684058\tbest: 0.8732350 (33)\ttotal: 4m 24s\tremaining: 15m 27s\n",
      "224:\tloss: 0.8712360\tbest: 0.8732350 (33)\ttotal: 4m 25s\tremaining: 15m 23s\n",
      "225:\tloss: 0.8646036\tbest: 0.8732350 (33)\ttotal: 4m 25s\tremaining: 15m 19s\n",
      "226:\tloss: 0.8618714\tbest: 0.8732350 (33)\ttotal: 4m 26s\tremaining: 15m 15s\n",
      "227:\tloss: 0.8387763\tbest: 0.8732350 (33)\ttotal: 4m 26s\tremaining: 15m 12s\n",
      "228:\tloss: 0.8656569\tbest: 0.8732350 (33)\ttotal: 4m 27s\tremaining: 15m 8s\n",
      "229:\tloss: 0.8660653\tbest: 0.8732350 (33)\ttotal: 4m 27s\tremaining: 15m 5s\n",
      "230:\tloss: 0.8644102\tbest: 0.8732350 (33)\ttotal: 4m 28s\tremaining: 15m 1s\n",
      "231:\tloss: 0.8663471\tbest: 0.8732350 (33)\ttotal: 4m 28s\tremaining: 14m 58s\n",
      "232:\tloss: 0.8656020\tbest: 0.8732350 (33)\ttotal: 4m 29s\tremaining: 14m 55s\n",
      "233:\tloss: 0.8666003\tbest: 0.8732350 (33)\ttotal: 4m 29s\tremaining: 14m 51s\n",
      "234:\tloss: 0.8687115\tbest: 0.8732350 (33)\ttotal: 4m 30s\tremaining: 14m 48s\n",
      "235:\tloss: 0.8688692\tbest: 0.8732350 (33)\ttotal: 4m 30s\tremaining: 14m 45s\n",
      "236:\tloss: 0.8702592\tbest: 0.8732350 (33)\ttotal: 4m 31s\tremaining: 14m 42s\n",
      "237:\tloss: 0.8628721\tbest: 0.8732350 (33)\ttotal: 4m 31s\tremaining: 14m 39s\n",
      "238:\tloss: 0.8515013\tbest: 0.8732350 (33)\ttotal: 4m 32s\tremaining: 14m 35s\n",
      "239:\tloss: 0.8344511\tbest: 0.8732350 (33)\ttotal: 4m 32s\tremaining: 14m 32s\n",
      "240:\tloss: 0.8657166\tbest: 0.8732350 (33)\ttotal: 4m 33s\tremaining: 14m 30s\n",
      "241:\tloss: 0.8655590\tbest: 0.8732350 (33)\ttotal: 4m 34s\tremaining: 14m 27s\n",
      "242:\tloss: 0.8646371\tbest: 0.8732350 (33)\ttotal: 4m 34s\tremaining: 14m 25s\n",
      "243:\tloss: 0.8666958\tbest: 0.8732350 (33)\ttotal: 4m 35s\tremaining: 14m 23s\n",
      "244:\tloss: 0.8665716\tbest: 0.8732350 (33)\ttotal: 4m 36s\tremaining: 14m 20s\n",
      "245:\tloss: 0.8681742\tbest: 0.8732350 (33)\ttotal: 4m 37s\tremaining: 14m 18s\n",
      "246:\tloss: 0.8689098\tbest: 0.8732350 (33)\ttotal: 4m 37s\tremaining: 14m 16s\n",
      "247:\tloss: 0.8684751\tbest: 0.8732350 (33)\ttotal: 4m 38s\tremaining: 14m 13s\n",
      "248:\tloss: 0.8688763\tbest: 0.8732350 (33)\ttotal: 4m 39s\tremaining: 14m 11s\n",
      "249:\tloss: 0.8585492\tbest: 0.8732350 (33)\ttotal: 4m 39s\tremaining: 14m 8s\n",
      "250:\tloss: 0.8477612\tbest: 0.8732350 (33)\ttotal: 4m 40s\tremaining: 14m 6s\n",
      "251:\tloss: 0.8272646\tbest: 0.8732350 (33)\ttotal: 4m 41s\tremaining: 14m 4s\n",
      "252:\tloss: 0.8656402\tbest: 0.8732350 (33)\ttotal: 4m 42s\tremaining: 14m 2s\n",
      "253:\tloss: 0.8653440\tbest: 0.8732350 (33)\ttotal: 4m 43s\tremaining: 14m 1s\n",
      "254:\tloss: 0.8646108\tbest: 0.8732350 (33)\ttotal: 4m 44s\tremaining: 13m 59s\n",
      "255:\tloss: 0.8664522\tbest: 0.8732350 (33)\ttotal: 4m 45s\tremaining: 13m 58s\n",
      "256:\tloss: 0.8676846\tbest: 0.8732350 (33)\ttotal: 4m 46s\tremaining: 13m 57s\n",
      "257:\tloss: 0.8700657\tbest: 0.8732350 (33)\ttotal: 4m 47s\tremaining: 13m 55s\n",
      "258:\tloss: 0.8689934\tbest: 0.8732350 (33)\ttotal: 4m 48s\tremaining: 13m 54s\n",
      "259:\tloss: 0.8676225\tbest: 0.8732350 (33)\ttotal: 4m 49s\tremaining: 13m 52s\n",
      "260:\tloss: 0.8660032\tbest: 0.8732350 (33)\ttotal: 4m 50s\tremaining: 13m 51s\n",
      "261:\tloss: 0.8508350\tbest: 0.8732350 (33)\ttotal: 4m 51s\tremaining: 13m 50s\n",
      "262:\tloss: 0.8413891\tbest: 0.8732350 (33)\ttotal: 4m 52s\tremaining: 13m 49s\n",
      "263:\tloss: 0.8272646\tbest: 0.8732350 (33)\ttotal: 4m 53s\tremaining: 13m 48s\n",
      "264:\tloss: 0.8650646\tbest: 0.8732350 (33)\ttotal: 4m 55s\tremaining: 13m 48s\n",
      "265:\tloss: 0.8649046\tbest: 0.8732350 (33)\ttotal: 4m 56s\tremaining: 13m 48s\n",
      "266:\tloss: 0.8648305\tbest: 0.8732350 (33)\ttotal: 4m 58s\tremaining: 13m 47s\n",
      "267:\tloss: 0.8669776\tbest: 0.8732350 (33)\ttotal: 4m 59s\tremaining: 13m 47s\n",
      "268:\tloss: 0.8688071\tbest: 0.8732350 (33)\ttotal: 5m 1s\tremaining: 13m 47s\n",
      "269:\tloss: 0.8701350\tbest: 0.8732350 (33)\ttotal: 5m 2s\tremaining: 13m 47s\n",
      "270:\tloss: 0.8677992\tbest: 0.8732350 (33)\ttotal: 5m 4s\tremaining: 13m 47s\n",
      "271:\tloss: 0.8657429\tbest: 0.8732350 (33)\ttotal: 5m 5s\tremaining: 13m 47s\n",
      "272:\tloss: 0.8613675\tbest: 0.8732350 (33)\ttotal: 5m 7s\tremaining: 13m 48s\n",
      "273:\tloss: 0.8455520\tbest: 0.8732350 (33)\ttotal: 5m 9s\tremaining: 13m 48s\n",
      "274:\tloss: 0.8342576\tbest: 0.8732350 (33)\ttotal: 5m 10s\tremaining: 13m 48s\n",
      "275:\tloss: 0.8272646\tbest: 0.8732350 (33)\ttotal: 5m 12s\tremaining: 13m 48s\n",
      "276:\tloss: 0.8650765\tbest: 0.8732350 (33)\ttotal: 5m 14s\tremaining: 13m 49s\n",
      "277:\tloss: 0.8652150\tbest: 0.8732350 (33)\ttotal: 5m 16s\tremaining: 13m 50s\n",
      "278:\tloss: 0.8650192\tbest: 0.8732350 (33)\ttotal: 5m 18s\tremaining: 13m 52s\n",
      "279:\tloss: 0.8681718\tbest: 0.8732350 (33)\ttotal: 5m 20s\tremaining: 13m 53s\n",
      "280:\tloss: 0.8697361\tbest: 0.8732350 (33)\ttotal: 5m 22s\tremaining: 13m 54s\n",
      "281:\tloss: 0.8700801\tbest: 0.8732350 (33)\ttotal: 5m 24s\tremaining: 13m 55s\n",
      "282:\tloss: 0.8657954\tbest: 0.8732350 (33)\ttotal: 5m 26s\tremaining: 13m 56s\n",
      "283:\tloss: 0.8651028\tbest: 0.8732350 (33)\ttotal: 5m 28s\tremaining: 13m 57s\n",
      "284:\tloss: 0.8559054\tbest: 0.8732350 (33)\ttotal: 5m 30s\tremaining: 13m 58s\n",
      "285:\tloss: 0.8404434\tbest: 0.8732350 (33)\ttotal: 5m 32s\tremaining: 13m 59s\n",
      "286:\tloss: 0.8272646\tbest: 0.8732350 (33)\ttotal: 5m 34s\tremaining: 14m 1s\n",
      "287:\tloss: 0.8272646\tbest: 0.8732350 (33)\ttotal: 5m 36s\tremaining: 14m 2s\n",
      "288:\tloss: 0.8648162\tbest: 0.8732350 (33)\ttotal: 5m 39s\tremaining: 14m 4s\n",
      "289:\tloss: 0.8646992\tbest: 0.8732350 (33)\ttotal: 5m 43s\tremaining: 14m 10s\n",
      "290:\tloss: 0.8650956\tbest: 0.8732350 (33)\ttotal: 5m 46s\tremaining: 14m 12s\n",
      "291:\tloss: 0.8686853\tbest: 0.8732350 (33)\ttotal: 5m 48s\tremaining: 14m 14s\n",
      "292:\tloss: 0.8697839\tbest: 0.8732350 (33)\ttotal: 5m 51s\tremaining: 14m 16s\n",
      "293:\tloss: 0.8701923\tbest: 0.8732350 (33)\ttotal: 5m 53s\tremaining: 14m 18s\n",
      "294:\tloss: 0.8651291\tbest: 0.8732350 (33)\ttotal: 5m 56s\tremaining: 14m 20s\n",
      "295:\tloss: 0.8637176\tbest: 0.8732350 (33)\ttotal: 5m 58s\tremaining: 14m 22s\n",
      "296:\tloss: 0.8541452\tbest: 0.8732350 (33)\ttotal: 6m 1s\tremaining: 14m 24s\n",
      "297:\tloss: 0.8362041\tbest: 0.8732350 (33)\ttotal: 6m 3s\tremaining: 14m 26s\n",
      "298:\tloss: 0.8272646\tbest: 0.8732350 (33)\ttotal: 6m 6s\tremaining: 14m 28s\n",
      "299:\tloss: 0.8272646\tbest: 0.8732350 (33)\ttotal: 6m 9s\tremaining: 14m 30s\n",
      "300:\tloss: 0.8647493\tbest: 0.8732350 (33)\ttotal: 6m 12s\tremaining: 14m 33s\n",
      "301:\tloss: 0.8647111\tbest: 0.8732350 (33)\ttotal: 6m 15s\tremaining: 14m 36s\n",
      "302:\tloss: 0.8648950\tbest: 0.8732350 (33)\ttotal: 6m 17s\tremaining: 14m 39s\n",
      "303:\tloss: 0.8691391\tbest: 0.8732350 (33)\ttotal: 6m 20s\tremaining: 14m 42s\n",
      "304:\tloss: 0.8700299\tbest: 0.8732350 (33)\ttotal: 6m 23s\tremaining: 14m 44s\n",
      "305:\tloss: 0.8693755\tbest: 0.8732350 (33)\ttotal: 6m 26s\tremaining: 14m 47s\n",
      "306:\tloss: 0.8635217\tbest: 0.8732350 (33)\ttotal: 6m 29s\tremaining: 14m 50s\n",
      "307:\tloss: 0.8619526\tbest: 0.8732350 (33)\ttotal: 6m 32s\tremaining: 14m 52s\n",
      "308:\tloss: 0.8507394\tbest: 0.8732350 (33)\ttotal: 6m 35s\tremaining: 14m 55s\n",
      "309:\tloss: 0.8272646\tbest: 0.8732350 (33)\ttotal: 6m 38s\tremaining: 14m 58s\n",
      "310:\tloss: 0.8272646\tbest: 0.8732350 (33)\ttotal: 6m 42s\tremaining: 15m 1s\n",
      "311:\tloss: 0.8272646\tbest: 0.8732350 (33)\ttotal: 6m 45s\tremaining: 15m 3s\n",
      "312:\tloss: 0.8647517\tbest: 0.8732350 (33)\ttotal: 6m 49s\tremaining: 15m 10s\n",
      "313:\tloss: 0.8648257\tbest: 0.8732350 (33)\ttotal: 6m 54s\tremaining: 15m 16s\n",
      "314:\tloss: 0.8655088\tbest: 0.8732350 (33)\ttotal: 6m 59s\tremaining: 15m 23s\n",
      "315:\tloss: 0.8703380\tbest: 0.8732350 (33)\ttotal: 7m 4s\tremaining: 15m 29s\n",
      "316:\tloss: 0.8689934\tbest: 0.8732350 (33)\ttotal: 7m 9s\tremaining: 15m 36s\n",
      "317:\tloss: 0.8663782\tbest: 0.8732350 (33)\ttotal: 7m 14s\tremaining: 15m 42s\n",
      "318:\tloss: 0.8562230\tbest: 0.8732350 (33)\ttotal: 7m 19s\tremaining: 15m 49s\n",
      "319:\tloss: 0.8519503\tbest: 0.8732350 (33)\ttotal: 7m 25s\tremaining: 15m 56s\n",
      "320:\tloss: 0.8393185\tbest: 0.8732350 (33)\ttotal: 7m 30s\tremaining: 16m 3s\n",
      "321:\tloss: 0.8272646\tbest: 0.8732350 (33)\ttotal: 7m 35s\tremaining: 16m 10s\n",
      "322:\tloss: 0.8272646\tbest: 0.8732350 (33)\ttotal: 7m 41s\tremaining: 16m 17s\n",
      "323:\tloss: 0.8272646\tbest: 0.8732350 (33)\ttotal: 7m 46s\tremaining: 16m 24s\n",
      "324:\tloss: 0.8647732\tbest: 0.8732350 (33)\ttotal: 7m 55s\tremaining: 16m 40s\n",
      "325:\tloss: 0.8653560\tbest: 0.8732350 (33)\ttotal: 8m 5s\tremaining: 16m 56s\n",
      "326:\tloss: 0.8679449\tbest: 0.8732350 (33)\ttotal: 8m 15s\tremaining: 17m 11s\n",
      "327:\tloss: 0.8691677\tbest: 0.8732350 (33)\ttotal: 8m 25s\tremaining: 17m 27s\n",
      "328:\tloss: 0.8659148\tbest: 0.8732350 (33)\ttotal: 8m 34s\tremaining: 17m 42s\n",
      "329:\tloss: 0.8555137\tbest: 0.8732350 (33)\ttotal: 8m 47s\tremaining: 18m 2s\n",
      "330:\tloss: 0.8445417\tbest: 0.8732350 (33)\ttotal: 8m 57s\tremaining: 18m 18s\n",
      "331:\tloss: 0.8395716\tbest: 0.8732350 (33)\ttotal: 9m 7s\tremaining: 18m 34s\n",
      "332:\tloss: 0.8275154\tbest: 0.8732350 (33)\ttotal: 9m 18s\tremaining: 18m 51s\n",
      "333:\tloss: 0.8272646\tbest: 0.8732350 (33)\ttotal: 9m 28s\tremaining: 19m 7s\n",
      "334:\tloss: 0.8272646\tbest: 0.8732350 (33)\ttotal: 9m 39s\tremaining: 19m 23s\n",
      "335:\tloss: 0.8272646\tbest: 0.8732350 (33)\ttotal: 9m 49s\tremaining: 19m 39s\n",
      "336:\tloss: 0.8635026\tbest: 0.8732350 (33)\ttotal: 9m 49s\tremaining: 19m 34s\n",
      "337:\tloss: 0.8631038\tbest: 0.8732350 (33)\ttotal: 9m 49s\tremaining: 19m 28s\n",
      "338:\tloss: 0.8630847\tbest: 0.8732350 (33)\ttotal: 9m 49s\tremaining: 19m 23s\n",
      "339:\tloss: 0.8636579\tbest: 0.8732350 (33)\ttotal: 9m 49s\tremaining: 19m 18s\n",
      "340:\tloss: 0.8633211\tbest: 0.8732350 (33)\ttotal: 9m 49s\tremaining: 19m 13s\n",
      "341:\tloss: 0.8665310\tbest: 0.8732350 (33)\ttotal: 9m 49s\tremaining: 19m 8s\n",
      "342:\tloss: 0.8653273\tbest: 0.8732350 (33)\ttotal: 9m 50s\tremaining: 19m 3s\n",
      "343:\tloss: 0.8623706\tbest: 0.8732350 (33)\ttotal: 9m 50s\tremaining: 18m 58s\n",
      "344:\tloss: 0.8675914\tbest: 0.8732350 (33)\ttotal: 9m 50s\tremaining: 18m 54s\n",
      "345:\tloss: 0.8605220\tbest: 0.8732350 (33)\ttotal: 9m 50s\tremaining: 18m 49s\n",
      "346:\tloss: 0.8679115\tbest: 0.8732350 (33)\ttotal: 9m 50s\tremaining: 18m 44s\n",
      "347:\tloss: 0.8577730\tbest: 0.8732350 (33)\ttotal: 9m 50s\tremaining: 18m 39s\n",
      "348:\tloss: 0.8654467\tbest: 0.8732350 (33)\ttotal: 9m 50s\tremaining: 18m 35s\n",
      "349:\tloss: 0.8632901\tbest: 0.8732350 (33)\ttotal: 9m 50s\tremaining: 18m 30s\n",
      "350:\tloss: 0.8637080\tbest: 0.8732350 (33)\ttotal: 9m 50s\tremaining: 18m 25s\n",
      "351:\tloss: 0.8653440\tbest: 0.8732350 (33)\ttotal: 9m 50s\tremaining: 18m 21s\n",
      "352:\tloss: 0.8621986\tbest: 0.8732350 (33)\ttotal: 9m 50s\tremaining: 18m 16s\n",
      "353:\tloss: 0.8643696\tbest: 0.8732350 (33)\ttotal: 9m 51s\tremaining: 18m 12s\n",
      "354:\tloss: 0.8665047\tbest: 0.8732350 (33)\ttotal: 9m 51s\tremaining: 18m 7s\n",
      "355:\tloss: 0.8665740\tbest: 0.8732350 (33)\ttotal: 9m 51s\tremaining: 18m 3s\n",
      "356:\tloss: 0.8671663\tbest: 0.8732350 (33)\ttotal: 9m 51s\tremaining: 17m 58s\n",
      "357:\tloss: 0.8616326\tbest: 0.8732350 (33)\ttotal: 9m 51s\tremaining: 17m 54s\n",
      "358:\tloss: 0.8675078\tbest: 0.8732350 (33)\ttotal: 9m 51s\tremaining: 17m 49s\n",
      "359:\tloss: 0.8630966\tbest: 0.8732350 (33)\ttotal: 9m 51s\tremaining: 17m 45s\n",
      "360:\tloss: 0.8649595\tbest: 0.8732350 (33)\ttotal: 9m 52s\tremaining: 17m 41s\n",
      "361:\tloss: 0.8647828\tbest: 0.8732350 (33)\ttotal: 9m 52s\tremaining: 17m 37s\n",
      "362:\tloss: 0.8654085\tbest: 0.8732350 (33)\ttotal: 9m 52s\tremaining: 17m 33s\n",
      "363:\tloss: 0.8661823\tbest: 0.8732350 (33)\ttotal: 9m 52s\tremaining: 17m 29s\n",
      "364:\tloss: 0.8648377\tbest: 0.8732350 (33)\ttotal: 9m 53s\tremaining: 17m 24s\n",
      "365:\tloss: 0.8640663\tbest: 0.8732350 (33)\ttotal: 9m 53s\tremaining: 17m 20s\n",
      "366:\tloss: 0.8679353\tbest: 0.8732350 (33)\ttotal: 9m 53s\tremaining: 17m 16s\n",
      "367:\tloss: 0.8686136\tbest: 0.8732350 (33)\ttotal: 9m 53s\tremaining: 17m 12s\n",
      "368:\tloss: 0.8714557\tbest: 0.8732350 (33)\ttotal: 9m 54s\tremaining: 17m 8s\n",
      "369:\tloss: 0.8675222\tbest: 0.8732350 (33)\ttotal: 9m 54s\tremaining: 17m 5s\n",
      "370:\tloss: 0.8628673\tbest: 0.8732350 (33)\ttotal: 9m 54s\tremaining: 17m 1s\n",
      "371:\tloss: 0.8535505\tbest: 0.8732350 (33)\ttotal: 9m 54s\tremaining: 16m 57s\n",
      "372:\tloss: 0.8650813\tbest: 0.8732350 (33)\ttotal: 9m 55s\tremaining: 16m 53s\n",
      "373:\tloss: 0.8642573\tbest: 0.8732350 (33)\ttotal: 9m 55s\tremaining: 16m 49s\n",
      "374:\tloss: 0.8650359\tbest: 0.8732350 (33)\ttotal: 9m 56s\tremaining: 16m 46s\n",
      "375:\tloss: 0.8658814\tbest: 0.8732350 (33)\ttotal: 9m 56s\tremaining: 16m 42s\n",
      "376:\tloss: 0.8649284\tbest: 0.8732350 (33)\ttotal: 9m 56s\tremaining: 16m 38s\n",
      "377:\tloss: 0.8641618\tbest: 0.8732350 (33)\ttotal: 9m 57s\tremaining: 16m 35s\n",
      "378:\tloss: 0.8693349\tbest: 0.8732350 (33)\ttotal: 9m 57s\tremaining: 16m 31s\n",
      "379:\tloss: 0.8690173\tbest: 0.8732350 (33)\ttotal: 9m 57s\tremaining: 16m 28s\n",
      "380:\tloss: 0.8699057\tbest: 0.8732350 (33)\ttotal: 9m 58s\tremaining: 16m 24s\n",
      "381:\tloss: 0.8669681\tbest: 0.8732350 (33)\ttotal: 9m 58s\tremaining: 16m 21s\n",
      "382:\tloss: 0.8594687\tbest: 0.8732350 (33)\ttotal: 9m 59s\tremaining: 16m 17s\n",
      "383:\tloss: 0.8445776\tbest: 0.8732350 (33)\ttotal: 9m 59s\tremaining: 16m 13s\n",
      "384:\tloss: 0.8652533\tbest: 0.8732350 (33)\ttotal: 9m 59s\tremaining: 16m 10s\n",
      "385:\tloss: 0.8639158\tbest: 0.8732350 (33)\ttotal: 10m\tremaining: 16m 7s\n",
      "386:\tloss: 0.8648520\tbest: 0.8732350 (33)\ttotal: 10m\tremaining: 16m 4s\n",
      "387:\tloss: 0.8658169\tbest: 0.8732350 (33)\ttotal: 10m 1s\tremaining: 16m\n",
      "388:\tloss: 0.8658503\tbest: 0.8732350 (33)\ttotal: 10m 1s\tremaining: 15m 57s\n",
      "389:\tloss: 0.8659244\tbest: 0.8732350 (33)\ttotal: 10m 2s\tremaining: 15m 54s\n",
      "390:\tloss: 0.8695021\tbest: 0.8732350 (33)\ttotal: 10m 2s\tremaining: 15m 51s\n",
      "391:\tloss: 0.8704073\tbest: 0.8732350 (33)\ttotal: 10m 3s\tremaining: 15m 48s\n",
      "392:\tloss: 0.8683437\tbest: 0.8732350 (33)\ttotal: 10m 3s\tremaining: 15m 44s\n",
      "393:\tloss: 0.8646610\tbest: 0.8732350 (33)\ttotal: 10m 4s\tremaining: 15m 41s\n",
      "394:\tloss: 0.8564786\tbest: 0.8732350 (33)\ttotal: 10m 4s\tremaining: 15m 38s\n",
      "395:\tloss: 0.8337465\tbest: 0.8732350 (33)\ttotal: 10m 5s\tremaining: 15m 35s\n",
      "396:\tloss: 0.8653512\tbest: 0.8732350 (33)\ttotal: 10m 5s\tremaining: 15m 32s\n",
      "397:\tloss: 0.8640854\tbest: 0.8732350 (33)\ttotal: 10m 6s\tremaining: 15m 29s\n",
      "398:\tloss: 0.8646227\tbest: 0.8732350 (33)\ttotal: 10m 7s\tremaining: 15m 26s\n",
      "399:\tloss: 0.8662587\tbest: 0.8732350 (33)\ttotal: 10m 7s\tremaining: 15m 23s\n",
      "400:\tloss: 0.8661298\tbest: 0.8732350 (33)\ttotal: 10m 8s\tremaining: 15m 20s\n",
      "401:\tloss: 0.8668893\tbest: 0.8732350 (33)\ttotal: 10m 8s\tremaining: 15m 18s\n",
      "402:\tloss: 0.8704359\tbest: 0.8732350 (33)\ttotal: 10m 9s\tremaining: 15m 15s\n",
      "403:\tloss: 0.8708634\tbest: 0.8732350 (33)\ttotal: 10m 10s\tremaining: 15m 12s\n",
      "404:\tloss: 0.8675174\tbest: 0.8732350 (33)\ttotal: 10m 10s\tremaining: 15m 9s\n",
      "405:\tloss: 0.8632327\tbest: 0.8732350 (33)\ttotal: 10m 11s\tremaining: 15m 6s\n",
      "406:\tloss: 0.8552916\tbest: 0.8732350 (33)\ttotal: 10m 12s\tremaining: 15m 3s\n",
      "407:\tloss: 0.8261373\tbest: 0.8732350 (33)\ttotal: 10m 12s\tremaining: 15m 1s\n",
      "408:\tloss: 0.8652676\tbest: 0.8732350 (33)\ttotal: 10m 13s\tremaining: 14m 58s\n",
      "409:\tloss: 0.8647684\tbest: 0.8732350 (33)\ttotal: 10m 14s\tremaining: 14m 56s\n",
      "410:\tloss: 0.8645177\tbest: 0.8732350 (33)\ttotal: 10m 15s\tremaining: 14m 54s\n",
      "411:\tloss: 0.8657978\tbest: 0.8732350 (33)\ttotal: 10m 16s\tremaining: 14m 51s\n",
      "412:\tloss: 0.8671472\tbest: 0.8732350 (33)\ttotal: 10m 17s\tremaining: 14m 49s\n",
      "413:\tloss: 0.8679282\tbest: 0.8732350 (33)\ttotal: 10m 18s\tremaining: 14m 46s\n",
      "414:\tloss: 0.8712957\tbest: 0.8732350 (33)\ttotal: 10m 18s\tremaining: 14m 44s\n",
      "415:\tloss: 0.8706724\tbest: 0.8732350 (33)\ttotal: 10m 19s\tremaining: 14m 41s\n",
      "416:\tloss: 0.8658909\tbest: 0.8732350 (33)\ttotal: 10m 20s\tremaining: 14m 39s\n",
      "417:\tloss: 0.8576226\tbest: 0.8732350 (33)\ttotal: 10m 21s\tremaining: 14m 37s\n",
      "418:\tloss: 0.8472286\tbest: 0.8732350 (33)\ttotal: 10m 22s\tremaining: 14m 34s\n",
      "419:\tloss: 0.8193879\tbest: 0.8732350 (33)\ttotal: 10m 23s\tremaining: 14m 32s\n",
      "420:\tloss: 0.8646060\tbest: 0.8732350 (33)\ttotal: 10m 24s\tremaining: 14m 30s\n",
      "421:\tloss: 0.8649523\tbest: 0.8732350 (33)\ttotal: 10m 25s\tremaining: 14m 28s\n",
      "422:\tloss: 0.8645487\tbest: 0.8732350 (33)\ttotal: 10m 26s\tremaining: 14m 26s\n",
      "423:\tloss: 0.8653440\tbest: 0.8732350 (33)\ttotal: 10m 28s\tremaining: 14m 25s\n",
      "424:\tloss: 0.8668367\tbest: 0.8732350 (33)\ttotal: 10m 29s\tremaining: 14m 23s\n",
      "425:\tloss: 0.8690483\tbest: 0.8732350 (33)\ttotal: 10m 30s\tremaining: 14m 21s\n",
      "426:\tloss: 0.8697433\tbest: 0.8732350 (33)\ttotal: 10m 31s\tremaining: 14m 19s\n",
      "427:\tloss: 0.8693468\tbest: 0.8732350 (33)\ttotal: 10m 32s\tremaining: 14m 17s\n",
      "428:\tloss: 0.8637247\tbest: 0.8732350 (33)\ttotal: 10m 34s\tremaining: 14m 15s\n",
      "429:\tloss: 0.8509377\tbest: 0.8732350 (33)\ttotal: 10m 35s\tremaining: 14m 13s\n",
      "430:\tloss: 0.8422752\tbest: 0.8732350 (33)\ttotal: 10m 36s\tremaining: 14m 12s\n",
      "431:\tloss: 0.8193879\tbest: 0.8732350 (33)\ttotal: 10m 37s\tremaining: 14m 10s\n",
      "432:\tloss: 0.8649547\tbest: 0.8732350 (33)\ttotal: 10m 39s\tremaining: 14m 9s\n",
      "433:\tloss: 0.8650096\tbest: 0.8732350 (33)\ttotal: 10m 41s\tremaining: 14m 8s\n",
      "434:\tloss: 0.8647708\tbest: 0.8732350 (33)\ttotal: 10m 43s\tremaining: 14m 7s\n",
      "435:\tloss: 0.8658623\tbest: 0.8732350 (33)\ttotal: 10m 45s\tremaining: 14m 6s\n",
      "436:\tloss: 0.8680619\tbest: 0.8732350 (33)\ttotal: 10m 46s\tremaining: 14m 5s\n",
      "437:\tloss: 0.8694973\tbest: 0.8732350 (33)\ttotal: 10m 48s\tremaining: 14m 4s\n",
      "438:\tloss: 0.8685778\tbest: 0.8732350 (33)\ttotal: 10m 50s\tremaining: 14m 2s\n",
      "439:\tloss: 0.8673502\tbest: 0.8732350 (33)\ttotal: 10m 52s\tremaining: 14m 1s\n",
      "440:\tloss: 0.8559245\tbest: 0.8732350 (33)\ttotal: 10m 53s\tremaining: 14m\n",
      "441:\tloss: 0.8397412\tbest: 0.8732350 (33)\ttotal: 10m 55s\tremaining: 13m 59s\n",
      "442:\tloss: 0.8303861\tbest: 0.8732350 (33)\ttotal: 10m 57s\tremaining: 13m 58s\n",
      "443:\tloss: 0.8193879\tbest: 0.8732350 (33)\ttotal: 10m 59s\tremaining: 13m 57s\n",
      "444:\tloss: 0.8648305\tbest: 0.8732350 (33)\ttotal: 11m 2s\tremaining: 13m 57s\n",
      "445:\tloss: 0.8652795\tbest: 0.8732350 (33)\ttotal: 11m 4s\tremaining: 13m 57s\n",
      "446:\tloss: 0.8651100\tbest: 0.8732350 (33)\ttotal: 11m 6s\tremaining: 13m 56s\n",
      "447:\tloss: 0.8675771\tbest: 0.8732350 (33)\ttotal: 11m 8s\tremaining: 13m 56s\n",
      "448:\tloss: 0.8692131\tbest: 0.8732350 (33)\ttotal: 11m 11s\tremaining: 13m 55s\n",
      "449:\tloss: 0.8687307\tbest: 0.8732350 (33)\ttotal: 11m 13s\tremaining: 13m 55s\n",
      "450:\tloss: 0.8674911\tbest: 0.8732350 (33)\ttotal: 11m 16s\tremaining: 13m 54s\n",
      "451:\tloss: 0.8646920\tbest: 0.8732350 (33)\ttotal: 11m 18s\tremaining: 13m 54s\n",
      "452:\tloss: 0.8505937\tbest: 0.8732350 (33)\ttotal: 11m 20s\tremaining: 13m 54s\n",
      "453:\tloss: 0.8337035\tbest: 0.8732350 (33)\ttotal: 11m 23s\tremaining: 13m 53s\n",
      "454:\tloss: 0.8237992\tbest: 0.8732350 (33)\ttotal: 11m 25s\tremaining: 13m 53s\n",
      "455:\tloss: 0.8193879\tbest: 0.8732350 (33)\ttotal: 11m 28s\tremaining: 13m 53s\n",
      "456:\tloss: 0.8647517\tbest: 0.8732350 (33)\ttotal: 11m 31s\tremaining: 13m 53s\n",
      "457:\tloss: 0.8653846\tbest: 0.8732350 (33)\ttotal: 11m 35s\tremaining: 13m 55s\n",
      "458:\tloss: 0.8649977\tbest: 0.8732350 (33)\ttotal: 11m 38s\tremaining: 13m 55s\n",
      "459:\tloss: 0.8679640\tbest: 0.8732350 (33)\ttotal: 11m 41s\tremaining: 13m 55s\n",
      "460:\tloss: 0.8694352\tbest: 0.8732350 (33)\ttotal: 11m 44s\tremaining: 13m 56s\n",
      "461:\tloss: 0.8682578\tbest: 0.8732350 (33)\ttotal: 11m 47s\tremaining: 13m 56s\n",
      "462:\tloss: 0.8655255\tbest: 0.8732350 (33)\ttotal: 11m 50s\tremaining: 13m 56s\n",
      "463:\tloss: 0.8614678\tbest: 0.8732350 (33)\ttotal: 11m 53s\tremaining: 13m 56s\n",
      "464:\tloss: 0.8449812\tbest: 0.8732350 (33)\ttotal: 11m 56s\tremaining: 13m 56s\n",
      "465:\tloss: 0.8273339\tbest: 0.8732350 (33)\ttotal: 11m 59s\tremaining: 13m 57s\n",
      "466:\tloss: 0.8226098\tbest: 0.8732350 (33)\ttotal: 12m 2s\tremaining: 13m 57s\n",
      "467:\tloss: 0.8193879\tbest: 0.8732350 (33)\ttotal: 12m 5s\tremaining: 13m 57s\n",
      "468:\tloss: 0.8646466\tbest: 0.8732350 (33)\ttotal: 12m 9s\tremaining: 13m 58s\n",
      "469:\tloss: 0.8654801\tbest: 0.8732350 (33)\ttotal: 12m 12s\tremaining: 13m 58s\n",
      "470:\tloss: 0.8654372\tbest: 0.8732350 (33)\ttotal: 12m 16s\tremaining: 13m 59s\n",
      "471:\tloss: 0.8682506\tbest: 0.8732350 (33)\ttotal: 12m 19s\tremaining: 14m\n",
      "472:\tloss: 0.8690507\tbest: 0.8732350 (33)\ttotal: 12m 23s\tremaining: 14m\n",
      "473:\tloss: 0.8678088\tbest: 0.8732350 (33)\ttotal: 12m 26s\tremaining: 14m 1s\n",
      "474:\tloss: 0.8633187\tbest: 0.8732350 (33)\ttotal: 12m 30s\tremaining: 14m 1s\n",
      "475:\tloss: 0.8571783\tbest: 0.8732350 (33)\ttotal: 12m 33s\tremaining: 14m 2s\n",
      "476:\tloss: 0.8415038\tbest: 0.8732350 (33)\ttotal: 12m 37s\tremaining: 14m 3s\n",
      "477:\tloss: 0.8284803\tbest: 0.8732350 (33)\ttotal: 12m 41s\tremaining: 14m 4s\n",
      "478:\tloss: 0.8227626\tbest: 0.8732350 (33)\ttotal: 12m 44s\tremaining: 14m 4s\n",
      "479:\tloss: 0.8193879\tbest: 0.8732350 (33)\ttotal: 12m 48s\tremaining: 14m 5s\n",
      "480:\tloss: 0.8650765\tbest: 0.8732350 (33)\ttotal: 12m 54s\tremaining: 14m 8s\n",
      "481:\tloss: 0.8653536\tbest: 0.8732350 (33)\ttotal: 12m 59s\tremaining: 14m 11s\n",
      "482:\tloss: 0.8656473\tbest: 0.8732350 (33)\ttotal: 13m 5s\tremaining: 14m 13s\n",
      "483:\tloss: 0.8697505\tbest: 0.8732350 (33)\ttotal: 13m 11s\tremaining: 14m 16s\n",
      "484:\tloss: 0.8681455\tbest: 0.8732350 (33)\ttotal: 13m 16s\tremaining: 14m 19s\n",
      "485:\tloss: 0.8643385\tbest: 0.8732350 (33)\ttotal: 13m 22s\tremaining: 14m 22s\n",
      "486:\tloss: 0.8559316\tbest: 0.8732350 (33)\ttotal: 13m 28s\tremaining: 14m 25s\n",
      "487:\tloss: 0.8471140\tbest: 0.8732350 (33)\ttotal: 13m 34s\tremaining: 14m 28s\n",
      "488:\tloss: 0.8337967\tbest: 0.8732350 (33)\ttotal: 13m 41s\tremaining: 14m 31s\n",
      "489:\tloss: 0.8229537\tbest: 0.8732350 (33)\ttotal: 13m 47s\tremaining: 14m 34s\n",
      "490:\tloss: 0.8214538\tbest: 0.8732350 (33)\ttotal: 13m 53s\tremaining: 14m 37s\n",
      "491:\tloss: 0.8193879\tbest: 0.8732350 (33)\ttotal: 13m 59s\tremaining: 14m 40s\n",
      "492:\tloss: 0.8649571\tbest: 0.8732350 (33)\ttotal: 14m 10s\tremaining: 14m 48s\n",
      "493:\tloss: 0.8658599\tbest: 0.8732350 (33)\ttotal: 14m 21s\tremaining: 14m 56s\n",
      "494:\tloss: 0.8676344\tbest: 0.8732350 (33)\ttotal: 14m 35s\tremaining: 15m 7s\n",
      "495:\tloss: 0.8683772\tbest: 0.8732350 (33)\ttotal: 14m 46s\tremaining: 15m 15s\n",
      "496:\tloss: 0.8639707\tbest: 0.8732350 (33)\ttotal: 14m 58s\tremaining: 15m 23s\n",
      "497:\tloss: 0.8521987\tbest: 0.8732350 (33)\ttotal: 15m 10s\tremaining: 15m 32s\n",
      "498:\tloss: 0.8405652\tbest: 0.8732350 (33)\ttotal: 15m 22s\tremaining: 15m 41s\n",
      "499:\tloss: 0.8331184\tbest: 0.8732350 (33)\ttotal: 15m 34s\tremaining: 15m 49s\n",
      "500:\tloss: 0.8249217\tbest: 0.8732350 (33)\ttotal: 15m 46s\tremaining: 15m 58s\n",
      "501:\tloss: 0.8193879\tbest: 0.8732350 (33)\ttotal: 15m 58s\tremaining: 16m 6s\n",
      "502:\tloss: 0.8193879\tbest: 0.8732350 (33)\ttotal: 16m 10s\tremaining: 16m 14s\n",
      "503:\tloss: 0.8193879\tbest: 0.8732350 (33)\ttotal: 16m 22s\tremaining: 16m 22s\n",
      "504:\tloss: 0.8646777\tbest: 0.8732350 (33)\ttotal: 16m 22s\tremaining: 16m 18s\n",
      "505:\tloss: 0.8647254\tbest: 0.8732350 (33)\ttotal: 16m 22s\tremaining: 16m 14s\n",
      "506:\tloss: 0.8647254\tbest: 0.8732350 (33)\ttotal: 16m 22s\tremaining: 16m 11s\n",
      "507:\tloss: 0.8657429\tbest: 0.8732350 (33)\ttotal: 16m 22s\tremaining: 16m 7s\n",
      "508:\tloss: 0.8655351\tbest: 0.8732350 (33)\ttotal: 16m 22s\tremaining: 16m 3s\n",
      "509:\tloss: 0.8647469\tbest: 0.8732350 (33)\ttotal: 16m 23s\tremaining: 15m 59s\n",
      "510:\tloss: 0.8621556\tbest: 0.8732350 (33)\ttotal: 16m 23s\tremaining: 15m 56s\n",
      "511:\tloss: 0.8607871\tbest: 0.8732350 (33)\ttotal: 16m 23s\tremaining: 15m 52s\n",
      "512:\tloss: 0.8630345\tbest: 0.8732350 (33)\ttotal: 16m 23s\tremaining: 15m 48s\n",
      "513:\tloss: 0.8650598\tbest: 0.8732350 (33)\ttotal: 16m 23s\tremaining: 15m 45s\n",
      "514:\tloss: 0.8639803\tbest: 0.8732350 (33)\ttotal: 16m 23s\tremaining: 15m 41s\n",
      "515:\tloss: 0.8636411\tbest: 0.8732350 (33)\ttotal: 16m 23s\tremaining: 15m 37s\n",
      "516:\tloss: 0.8650741\tbest: 0.8732350 (33)\ttotal: 16m 23s\tremaining: 15m 34s\n",
      "517:\tloss: 0.8650383\tbest: 0.8732350 (33)\ttotal: 16m 23s\tremaining: 15m 30s\n",
      "518:\tloss: 0.8652198\tbest: 0.8732350 (33)\ttotal: 16m 23s\tremaining: 15m 26s\n",
      "519:\tloss: 0.8654849\tbest: 0.8732350 (33)\ttotal: 16m 23s\tremaining: 15m 23s\n",
      "520:\tloss: 0.8655136\tbest: 0.8732350 (33)\ttotal: 16m 24s\tremaining: 15m 19s\n",
      "521:\tloss: 0.8654348\tbest: 0.8732350 (33)\ttotal: 16m 24s\tremaining: 15m 16s\n",
      "522:\tloss: 0.8624971\tbest: 0.8732350 (33)\ttotal: 16m 24s\tremaining: 15m 12s\n",
      "523:\tloss: 0.8621078\tbest: 0.8732350 (33)\ttotal: 16m 24s\tremaining: 15m 9s\n",
      "524:\tloss: 0.8689838\tbest: 0.8732350 (33)\ttotal: 16m 24s\tremaining: 15m 5s\n",
      "525:\tloss: 0.8680882\tbest: 0.8732350 (33)\ttotal: 16m 24s\tremaining: 15m 2s\n",
      "526:\tloss: 0.8653583\tbest: 0.8732350 (33)\ttotal: 16m 24s\tremaining: 14m 58s\n",
      "527:\tloss: 0.8613890\tbest: 0.8732350 (33)\ttotal: 16m 25s\tremaining: 14m 55s\n",
      "528:\tloss: 0.8633187\tbest: 0.8732350 (33)\ttotal: 16m 25s\tremaining: 14m 52s\n",
      "529:\tloss: 0.8660342\tbest: 0.8732350 (33)\ttotal: 16m 25s\tremaining: 14m 48s\n",
      "530:\tloss: 0.8654395\tbest: 0.8732350 (33)\ttotal: 16m 25s\tremaining: 14m 45s\n",
      "531:\tloss: 0.8637319\tbest: 0.8732350 (33)\ttotal: 16m 26s\tremaining: 14m 42s\n",
      "532:\tloss: 0.8638991\tbest: 0.8732350 (33)\ttotal: 16m 26s\tremaining: 14m 39s\n",
      "533:\tloss: 0.8653321\tbest: 0.8732350 (33)\ttotal: 16m 26s\tremaining: 14m 35s\n",
      "534:\tloss: 0.8636149\tbest: 0.8732350 (33)\ttotal: 16m 26s\tremaining: 14m 32s\n",
      "535:\tloss: 0.8665382\tbest: 0.8732350 (33)\ttotal: 16m 27s\tremaining: 14m 29s\n",
      "536:\tloss: 0.8693946\tbest: 0.8732350 (33)\ttotal: 16m 27s\tremaining: 14m 26s\n",
      "537:\tloss: 0.8668964\tbest: 0.8732350 (33)\ttotal: 16m 27s\tremaining: 14m 23s\n",
      "538:\tloss: 0.8649810\tbest: 0.8732350 (33)\ttotal: 16m 28s\tremaining: 14m 19s\n",
      "539:\tloss: 0.8488574\tbest: 0.8732350 (33)\ttotal: 16m 28s\tremaining: 14m 16s\n",
      "540:\tloss: 0.8638513\tbest: 0.8732350 (33)\ttotal: 16m 28s\tremaining: 14m 13s\n",
      "541:\tloss: 0.8666050\tbest: 0.8732350 (33)\ttotal: 16m 29s\tremaining: 14m 10s\n",
      "542:\tloss: 0.8652580\tbest: 0.8732350 (33)\ttotal: 16m 29s\tremaining: 14m 7s\n",
      "543:\tloss: 0.8645654\tbest: 0.8732350 (33)\ttotal: 16m 30s\tremaining: 14m 4s\n",
      "544:\tloss: 0.8655590\tbest: 0.8732350 (33)\ttotal: 16m 30s\tremaining: 14m 1s\n",
      "545:\tloss: 0.8667603\tbest: 0.8732350 (33)\ttotal: 16m 30s\tremaining: 13m 58s\n",
      "546:\tloss: 0.8667555\tbest: 0.8732350 (33)\ttotal: 16m 31s\tremaining: 13m 55s\n",
      "547:\tloss: 0.8673024\tbest: 0.8732350 (33)\ttotal: 16m 31s\tremaining: 13m 52s\n",
      "548:\tloss: 0.8697481\tbest: 0.8732350 (33)\ttotal: 16m 32s\tremaining: 13m 49s\n",
      "549:\tloss: 0.8648305\tbest: 0.8732350 (33)\ttotal: 16m 32s\tremaining: 13m 46s\n",
      "550:\tloss: 0.8598437\tbest: 0.8732350 (33)\ttotal: 16m 32s\tremaining: 13m 43s\n",
      "551:\tloss: 0.8464524\tbest: 0.8732350 (33)\ttotal: 16m 33s\tremaining: 13m 40s\n",
      "552:\tloss: 0.8639636\tbest: 0.8732350 (33)\ttotal: 16m 33s\tremaining: 13m 37s\n",
      "553:\tloss: 0.8659936\tbest: 0.8732350 (33)\ttotal: 16m 34s\tremaining: 13m 34s\n",
      "554:\tloss: 0.8654969\tbest: 0.8732350 (33)\ttotal: 16m 34s\tremaining: 13m 31s\n",
      "555:\tloss: 0.8642454\tbest: 0.8732350 (33)\ttotal: 16m 35s\tremaining: 13m 29s\n",
      "556:\tloss: 0.8667507\tbest: 0.8732350 (33)\ttotal: 16m 35s\tremaining: 13m 26s\n",
      "557:\tloss: 0.8664928\tbest: 0.8732350 (33)\ttotal: 16m 36s\tremaining: 13m 23s\n",
      "558:\tloss: 0.8674792\tbest: 0.8732350 (33)\ttotal: 16m 36s\tremaining: 13m 20s\n",
      "559:\tloss: 0.8669752\tbest: 0.8732350 (33)\ttotal: 16m 37s\tremaining: 13m 17s\n",
      "560:\tloss: 0.8677061\tbest: 0.8732350 (33)\ttotal: 16m 37s\tremaining: 13m 15s\n",
      "561:\tloss: 0.8639946\tbest: 0.8732350 (33)\ttotal: 16m 38s\tremaining: 13m 12s\n",
      "562:\tloss: 0.8577229\tbest: 0.8732350 (33)\ttotal: 16m 38s\tremaining: 13m 9s\n",
      "563:\tloss: 0.8363163\tbest: 0.8732350 (33)\ttotal: 16m 39s\tremaining: 13m 6s\n",
      "564:\tloss: 0.8642669\tbest: 0.8732350 (33)\ttotal: 16m 40s\tremaining: 13m 4s\n",
      "565:\tloss: 0.8658121\tbest: 0.8732350 (33)\ttotal: 16m 40s\tremaining: 13m 1s\n",
      "566:\tloss: 0.8655327\tbest: 0.8732350 (33)\ttotal: 16m 41s\tremaining: 12m 58s\n",
      "567:\tloss: 0.8653894\tbest: 0.8732350 (33)\ttotal: 16m 42s\tremaining: 12m 56s\n",
      "568:\tloss: 0.8671830\tbest: 0.8732350 (33)\ttotal: 16m 42s\tremaining: 12m 53s\n",
      "569:\tloss: 0.8676726\tbest: 0.8732350 (33)\ttotal: 16m 43s\tremaining: 12m 51s\n",
      "570:\tloss: 0.8685802\tbest: 0.8732350 (33)\ttotal: 16m 44s\tremaining: 12m 48s\n",
      "571:\tloss: 0.8686733\tbest: 0.8732350 (33)\ttotal: 16m 44s\tremaining: 12m 45s\n",
      "572:\tloss: 0.8671520\tbest: 0.8732350 (33)\ttotal: 16m 45s\tremaining: 12m 43s\n",
      "573:\tloss: 0.8613269\tbest: 0.8732350 (33)\ttotal: 16m 46s\tremaining: 12m 40s\n",
      "574:\tloss: 0.8542359\tbest: 0.8732350 (33)\ttotal: 16m 46s\tremaining: 12m 38s\n",
      "575:\tloss: 0.8301616\tbest: 0.8732350 (33)\ttotal: 16m 47s\tremaining: 12m 35s\n",
      "576:\tloss: 0.8636388\tbest: 0.8732350 (33)\ttotal: 16m 48s\tremaining: 12m 33s\n",
      "577:\tloss: 0.8651864\tbest: 0.8732350 (33)\ttotal: 16m 49s\tremaining: 12m 30s\n",
      "578:\tloss: 0.8656354\tbest: 0.8732350 (33)\ttotal: 16m 50s\tremaining: 12m 28s\n",
      "579:\tloss: 0.8652365\tbest: 0.8732350 (33)\ttotal: 16m 51s\tremaining: 12m 26s\n",
      "580:\tloss: 0.8672021\tbest: 0.8732350 (33)\ttotal: 16m 52s\tremaining: 12m 23s\n",
      "581:\tloss: 0.8692680\tbest: 0.8732350 (33)\ttotal: 16m 52s\tremaining: 12m 21s\n",
      "582:\tloss: 0.8685444\tbest: 0.8732350 (33)\ttotal: 16m 53s\tremaining: 12m 19s\n",
      "583:\tloss: 0.8686160\tbest: 0.8732350 (33)\ttotal: 16m 54s\tremaining: 12m 16s\n",
      "584:\tloss: 0.8650622\tbest: 0.8732350 (33)\ttotal: 16m 55s\tremaining: 12m 14s\n",
      "585:\tloss: 0.8550121\tbest: 0.8732350 (33)\ttotal: 16m 56s\tremaining: 12m 12s\n",
      "586:\tloss: 0.8457813\tbest: 0.8732350 (33)\ttotal: 16m 57s\tremaining: 12m 9s\n",
      "587:\tloss: 0.8274604\tbest: 0.8732350 (33)\ttotal: 16m 58s\tremaining: 12m 7s\n",
      "588:\tloss: 0.8633951\tbest: 0.8732350 (33)\ttotal: 16m 59s\tremaining: 12m 5s\n",
      "589:\tloss: 0.8655351\tbest: 0.8732350 (33)\ttotal: 17m 1s\tremaining: 12m 3s\n",
      "590:\tloss: 0.8653106\tbest: 0.8732350 (33)\ttotal: 17m 2s\tremaining: 12m 1s\n",
      "591:\tloss: 0.8661489\tbest: 0.8732350 (33)\ttotal: 17m 3s\tremaining: 11m 59s\n",
      "592:\tloss: 0.8673741\tbest: 0.8732350 (33)\ttotal: 17m 4s\tremaining: 11m 57s\n",
      "593:\tloss: 0.8700920\tbest: 0.8732350 (33)\ttotal: 17m 6s\tremaining: 11m 55s\n",
      "594:\tloss: 0.8673454\tbest: 0.8732350 (33)\ttotal: 17m 7s\tremaining: 11m 53s\n",
      "595:\tloss: 0.8667770\tbest: 0.8732350 (33)\ttotal: 17m 8s\tremaining: 11m 51s\n",
      "596:\tloss: 0.8606533\tbest: 0.8732350 (33)\ttotal: 17m 9s\tremaining: 11m 49s\n",
      "597:\tloss: 0.8470304\tbest: 0.8732350 (33)\ttotal: 17m 11s\tremaining: 11m 47s\n",
      "598:\tloss: 0.8388742\tbest: 0.8732350 (33)\ttotal: 17m 12s\tremaining: 11m 45s\n",
      "599:\tloss: 0.8201211\tbest: 0.8732350 (33)\ttotal: 17m 14s\tremaining: 11m 43s\n",
      "600:\tloss: 0.8638131\tbest: 0.8732350 (33)\ttotal: 17m 16s\tremaining: 11m 41s\n",
      "601:\tloss: 0.8656903\tbest: 0.8732350 (33)\ttotal: 17m 17s\tremaining: 11m 39s\n",
      "602:\tloss: 0.8649929\tbest: 0.8732350 (33)\ttotal: 17m 19s\tremaining: 11m 38s\n",
      "603:\tloss: 0.8666528\tbest: 0.8732350 (33)\ttotal: 17m 21s\tremaining: 11m 36s\n",
      "604:\tloss: 0.8692704\tbest: 0.8732350 (33)\ttotal: 17m 23s\tremaining: 11m 34s\n",
      "605:\tloss: 0.8706700\tbest: 0.8732350 (33)\ttotal: 17m 25s\tremaining: 11m 33s\n",
      "606:\tloss: 0.8666910\tbest: 0.8732350 (33)\ttotal: 17m 27s\tremaining: 11m 32s\n",
      "607:\tloss: 0.8644412\tbest: 0.8732350 (33)\ttotal: 17m 30s\tremaining: 11m 31s\n",
      "608:\tloss: 0.8520028\tbest: 0.8732350 (33)\ttotal: 17m 32s\tremaining: 11m 29s\n",
      "609:\tloss: 0.8397722\tbest: 0.8732350 (33)\ttotal: 17m 34s\tremaining: 11m 28s\n",
      "610:\tloss: 0.8352273\tbest: 0.8732350 (33)\ttotal: 17m 36s\tremaining: 11m 26s\n",
      "611:\tloss: 0.8201211\tbest: 0.8732350 (33)\ttotal: 17m 38s\tremaining: 11m 25s\n",
      "612:\tloss: 0.8638585\tbest: 0.8732350 (33)\ttotal: 17m 41s\tremaining: 11m 23s\n",
      "613:\tloss: 0.8653464\tbest: 0.8732350 (33)\ttotal: 17m 43s\tremaining: 11m 22s\n",
      "614:\tloss: 0.8647828\tbest: 0.8732350 (33)\ttotal: 17m 46s\tremaining: 11m 21s\n",
      "615:\tloss: 0.8669561\tbest: 0.8732350 (33)\ttotal: 17m 48s\tremaining: 11m 19s\n",
      "616:\tloss: 0.8702902\tbest: 0.8732350 (33)\ttotal: 17m 51s\tremaining: 11m 18s\n",
      "617:\tloss: 0.8692322\tbest: 0.8732350 (33)\ttotal: 17m 53s\tremaining: 11m 17s\n",
      "618:\tloss: 0.8650335\tbest: 0.8732350 (33)\ttotal: 17m 55s\tremaining: 11m 16s\n",
      "619:\tloss: 0.8621580\tbest: 0.8732350 (33)\ttotal: 17m 58s\tremaining: 11m 14s\n",
      "620:\tloss: 0.8451531\tbest: 0.8732350 (33)\ttotal: 18m\tremaining: 11m 13s\n",
      "621:\tloss: 0.8347854\tbest: 0.8732350 (33)\ttotal: 18m 3s\tremaining: 11m 12s\n",
      "622:\tloss: 0.8289484\tbest: 0.8732350 (33)\ttotal: 18m 6s\tremaining: 11m 11s\n",
      "623:\tloss: 0.8201211\tbest: 0.8732350 (33)\ttotal: 18m 8s\tremaining: 11m 10s\n",
      "624:\tloss: 0.8640997\tbest: 0.8732350 (33)\ttotal: 18m 11s\tremaining: 11m 9s\n",
      "625:\tloss: 0.8655614\tbest: 0.8732350 (33)\ttotal: 18m 14s\tremaining: 11m 8s\n",
      "626:\tloss: 0.8649284\tbest: 0.8732350 (33)\ttotal: 18m 17s\tremaining: 11m 7s\n",
      "627:\tloss: 0.8681336\tbest: 0.8732350 (33)\ttotal: 18m 20s\tremaining: 11m 6s\n",
      "628:\tloss: 0.8707201\tbest: 0.8732350 (33)\ttotal: 18m 23s\tremaining: 11m 5s\n",
      "629:\tloss: 0.8689098\tbest: 0.8732350 (33)\ttotal: 18m 26s\tremaining: 11m 4s\n",
      "630:\tloss: 0.8636173\tbest: 0.8732350 (33)\ttotal: 18m 30s\tremaining: 11m 3s\n",
      "631:\tloss: 0.8588143\tbest: 0.8732350 (33)\ttotal: 18m 33s\tremaining: 11m 2s\n",
      "632:\tloss: 0.8417426\tbest: 0.8732350 (33)\ttotal: 18m 36s\tremaining: 11m 1s\n",
      "633:\tloss: 0.8271571\tbest: 0.8732350 (33)\ttotal: 18m 39s\tremaining: 11m\n",
      "634:\tloss: 0.8256095\tbest: 0.8732350 (33)\ttotal: 18m 42s\tremaining: 10m 59s\n",
      "635:\tloss: 0.8201211\tbest: 0.8732350 (33)\ttotal: 18m 46s\tremaining: 10m 58s\n",
      "636:\tloss: 0.8640854\tbest: 0.8732350 (33)\ttotal: 18m 49s\tremaining: 10m 58s\n",
      "637:\tloss: 0.8651267\tbest: 0.8732350 (33)\ttotal: 18m 53s\tremaining: 10m 57s\n",
      "638:\tloss: 0.8650550\tbest: 0.8732350 (33)\ttotal: 18m 56s\tremaining: 10m 56s\n",
      "639:\tloss: 0.8685420\tbest: 0.8732350 (33)\ttotal: 19m\tremaining: 10m 55s\n",
      "640:\tloss: 0.8706389\tbest: 0.8732350 (33)\ttotal: 19m 4s\tremaining: 10m 55s\n",
      "641:\tloss: 0.8678016\tbest: 0.8732350 (33)\ttotal: 19m 7s\tremaining: 10m 54s\n",
      "642:\tloss: 0.8632112\tbest: 0.8732350 (33)\ttotal: 19m 11s\tremaining: 10m 53s\n",
      "643:\tloss: 0.8555543\tbest: 0.8732350 (33)\ttotal: 19m 15s\tremaining: 10m 53s\n",
      "644:\tloss: 0.8394785\tbest: 0.8732350 (33)\ttotal: 19m 19s\tremaining: 10m 52s\n",
      "645:\tloss: 0.8262782\tbest: 0.8732350 (33)\ttotal: 19m 23s\tremaining: 10m 51s\n",
      "646:\tloss: 0.8280981\tbest: 0.8732350 (33)\ttotal: 19m 26s\tremaining: 10m 51s\n",
      "647:\tloss: 0.8201211\tbest: 0.8732350 (33)\ttotal: 19m 30s\tremaining: 10m 50s\n",
      "648:\tloss: 0.8644269\tbest: 0.8732350 (33)\ttotal: 19m 36s\tremaining: 10m 50s\n",
      "649:\tloss: 0.8652676\tbest: 0.8732350 (33)\ttotal: 19m 42s\tremaining: 10m 51s\n",
      "650:\tloss: 0.8656139\tbest: 0.8732350 (33)\ttotal: 19m 48s\tremaining: 10m 51s\n",
      "651:\tloss: 0.8692322\tbest: 0.8732350 (33)\ttotal: 19m 54s\tremaining: 10m 52s\n",
      "652:\tloss: 0.8691629\tbest: 0.8732350 (33)\ttotal: 20m\tremaining: 10m 52s\n",
      "653:\tloss: 0.8653679\tbest: 0.8732350 (33)\ttotal: 20m 6s\tremaining: 10m 53s\n",
      "654:\tloss: 0.8529844\tbest: 0.8732350 (33)\ttotal: 20m 13s\tremaining: 10m 53s\n",
      "655:\tloss: 0.8460488\tbest: 0.8732350 (33)\ttotal: 20m 19s\tremaining: 10m 54s\n",
      "656:\tloss: 0.8332330\tbest: 0.8732350 (33)\ttotal: 20m 27s\tremaining: 10m 55s\n",
      "657:\tloss: 0.8223948\tbest: 0.8732350 (33)\ttotal: 20m 34s\tremaining: 10m 56s\n",
      "658:\tloss: 0.8237132\tbest: 0.8732350 (33)\ttotal: 20m 40s\tremaining: 10m 57s\n",
      "659:\tloss: 0.8201211\tbest: 0.8732350 (33)\ttotal: 20m 47s\tremaining: 10m 57s\n",
      "660:\tloss: 0.8646753\tbest: 0.8732350 (33)\ttotal: 20m 58s\tremaining: 11m\n",
      "661:\tloss: 0.8658718\tbest: 0.8732350 (33)\ttotal: 21m 10s\tremaining: 11m 3s\n",
      "662:\tloss: 0.8666839\tbest: 0.8732350 (33)\ttotal: 21m 22s\tremaining: 11m 7s\n",
      "663:\tloss: 0.8680094\tbest: 0.8732350 (33)\ttotal: 21m 34s\tremaining: 11m 10s\n",
      "664:\tloss: 0.8651935\tbest: 0.8732350 (33)\ttotal: 21m 46s\tremaining: 11m 13s\n",
      "665:\tloss: 0.8542168\tbest: 0.8732350 (33)\ttotal: 21m 58s\tremaining: 11m 17s\n",
      "666:\tloss: 0.8394665\tbest: 0.8732350 (33)\ttotal: 22m 11s\tremaining: 11m 20s\n",
      "667:\tloss: 0.8335578\tbest: 0.8732350 (33)\ttotal: 22m 23s\tremaining: 11m 24s\n",
      "668:\tloss: 0.8227722\tbest: 0.8732350 (33)\ttotal: 22m 36s\tremaining: 11m 27s\n",
      "669:\tloss: 0.8201211\tbest: 0.8732350 (33)\ttotal: 22m 49s\tremaining: 11m 30s\n",
      "670:\tloss: 0.8201928\tbest: 0.8732350 (33)\ttotal: 23m 2s\tremaining: 11m 34s\n",
      "671:\tloss: 0.8201211\tbest: 0.8732350 (33)\ttotal: 23m 15s\tremaining: 11m 37s\n",
      "672:\tloss: 0.8635169\tbest: 0.8732350 (33)\ttotal: 23m 15s\tremaining: 11m 34s\n",
      "673:\tloss: 0.8635217\tbest: 0.8732350 (33)\ttotal: 23m 15s\tremaining: 11m 31s\n",
      "674:\tloss: 0.8635169\tbest: 0.8732350 (33)\ttotal: 23m 15s\tremaining: 11m 28s\n",
      "675:\tloss: 0.8599989\tbest: 0.8732350 (33)\ttotal: 23m 15s\tremaining: 11m 25s\n",
      "676:\tloss: 0.8626166\tbest: 0.8732350 (33)\ttotal: 23m 15s\tremaining: 11m 22s\n",
      "677:\tloss: 0.8616899\tbest: 0.8732350 (33)\ttotal: 23m 15s\tremaining: 11m 19s\n",
      "678:\tloss: 0.8605292\tbest: 0.8732350 (33)\ttotal: 23m 15s\tremaining: 11m 16s\n",
      "679:\tloss: 0.8631539\tbest: 0.8732350 (33)\ttotal: 23m 15s\tremaining: 11m 13s\n",
      "680:\tloss: 0.8617950\tbest: 0.8732350 (33)\ttotal: 23m 15s\tremaining: 11m 10s\n",
      "681:\tloss: 0.8629652\tbest: 0.8732350 (33)\ttotal: 23m 15s\tremaining: 11m 7s\n",
      "682:\tloss: 0.8579928\tbest: 0.8732350 (33)\ttotal: 23m 15s\tremaining: 11m 4s\n",
      "683:\tloss: 0.8632447\tbest: 0.8732350 (33)\ttotal: 23m 15s\tremaining: 11m 1s\n",
      "684:\tloss: 0.8642024\tbest: 0.8732350 (33)\ttotal: 23m 16s\tremaining: 10m 58s\n",
      "685:\tloss: 0.8642454\tbest: 0.8732350 (33)\ttotal: 23m 16s\tremaining: 10m 55s\n",
      "686:\tloss: 0.8645511\tbest: 0.8732350 (33)\ttotal: 23m 16s\tremaining: 10m 52s\n",
      "687:\tloss: 0.8599369\tbest: 0.8732350 (33)\ttotal: 23m 16s\tremaining: 10m 49s\n",
      "688:\tloss: 0.8642717\tbest: 0.8732350 (33)\ttotal: 23m 16s\tremaining: 10m 46s\n",
      "689:\tloss: 0.8630058\tbest: 0.8732350 (33)\ttotal: 23m 16s\tremaining: 10m 43s\n",
      "690:\tloss: 0.8639230\tbest: 0.8732350 (33)\ttotal: 23m 16s\tremaining: 10m 40s\n",
      "691:\tloss: 0.8625306\tbest: 0.8732350 (33)\ttotal: 23m 17s\tremaining: 10m 37s\n",
      "692:\tloss: 0.8659363\tbest: 0.8732350 (33)\ttotal: 23m 17s\tremaining: 10m 35s\n",
      "693:\tloss: 0.8664570\tbest: 0.8732350 (33)\ttotal: 23m 17s\tremaining: 10m 32s\n",
      "694:\tloss: 0.8579904\tbest: 0.8732350 (33)\ttotal: 23m 17s\tremaining: 10m 29s\n",
      "695:\tloss: 0.8609352\tbest: 0.8732350 (33)\ttotal: 23m 17s\tremaining: 10m 26s\n",
      "696:\tloss: 0.8645033\tbest: 0.8732350 (33)\ttotal: 23m 17s\tremaining: 10m 23s\n",
      "697:\tloss: 0.8637200\tbest: 0.8732350 (33)\ttotal: 23m 18s\tremaining: 10m 20s\n",
      "698:\tloss: 0.8650741\tbest: 0.8732350 (33)\ttotal: 23m 18s\tremaining: 10m 18s\n",
      "699:\tloss: 0.8632829\tbest: 0.8732350 (33)\ttotal: 23m 18s\tremaining: 10m 15s\n",
      "700:\tloss: 0.8659674\tbest: 0.8732350 (33)\ttotal: 23m 19s\tremaining: 10m 12s\n",
      "701:\tloss: 0.8638919\tbest: 0.8732350 (33)\ttotal: 23m 19s\tremaining: 10m 10s\n",
      "702:\tloss: 0.8648401\tbest: 0.8732350 (33)\ttotal: 23m 20s\tremaining: 10m 7s\n",
      "703:\tloss: 0.8677586\tbest: 0.8732350 (33)\ttotal: 23m 20s\tremaining: 10m 4s\n",
      "704:\tloss: 0.8693445\tbest: 0.8732350 (33)\ttotal: 23m 21s\tremaining: 10m 2s\n",
      "705:\tloss: 0.8644293\tbest: 0.8732350 (33)\ttotal: 23m 21s\tremaining: 9m 59s\n",
      "706:\tloss: 0.8584036\tbest: 0.8732350 (33)\ttotal: 23m 22s\tremaining: 9m 56s\n",
      "707:\tloss: 0.8538180\tbest: 0.8732350 (33)\ttotal: 23m 22s\tremaining: 9m 54s\n",
      "708:\tloss: 0.8646633\tbest: 0.8732350 (33)\ttotal: 23m 23s\tremaining: 9m 51s\n",
      "709:\tloss: 0.8641952\tbest: 0.8732350 (33)\ttotal: 23m 23s\tremaining: 9m 49s\n",
      "710:\tloss: 0.8644150\tbest: 0.8732350 (33)\ttotal: 23m 24s\tremaining: 9m 46s\n",
      "711:\tloss: 0.8629438\tbest: 0.8732350 (33)\ttotal: 23m 24s\tremaining: 9m 44s\n",
      "712:\tloss: 0.8650550\tbest: 0.8732350 (33)\ttotal: 23m 25s\tremaining: 9m 41s\n",
      "713:\tloss: 0.8648568\tbest: 0.8732350 (33)\ttotal: 23m 25s\tremaining: 9m 38s\n",
      "714:\tloss: 0.8661417\tbest: 0.8732350 (33)\ttotal: 23m 26s\tremaining: 9m 36s\n",
      "715:\tloss: 0.8684249\tbest: 0.8732350 (33)\ttotal: 23m 26s\tremaining: 9m 33s\n",
      "716:\tloss: 0.8686112\tbest: 0.8732350 (33)\ttotal: 23m 27s\tremaining: 9m 31s\n",
      "717:\tloss: 0.8648162\tbest: 0.8732350 (33)\ttotal: 23m 27s\tremaining: 9m 28s\n",
      "718:\tloss: 0.8561514\tbest: 0.8732350 (33)\ttotal: 23m 27s\tremaining: 9m 25s\n",
      "719:\tloss: 0.8439064\tbest: 0.8732350 (33)\ttotal: 23m 28s\tremaining: 9m 23s\n",
      "720:\tloss: 0.8637200\tbest: 0.8732350 (33)\ttotal: 23m 28s\tremaining: 9m 20s\n",
      "721:\tloss: 0.8640424\tbest: 0.8732350 (33)\ttotal: 23m 29s\tremaining: 9m 18s\n",
      "722:\tloss: 0.8653989\tbest: 0.8732350 (33)\ttotal: 23m 30s\tremaining: 9m 15s\n",
      "723:\tloss: 0.8643911\tbest: 0.8732350 (33)\ttotal: 23m 30s\tremaining: 9m 13s\n",
      "724:\tloss: 0.8640018\tbest: 0.8732350 (33)\ttotal: 23m 31s\tremaining: 9m 10s\n",
      "725:\tloss: 0.8655160\tbest: 0.8732350 (33)\ttotal: 23m 31s\tremaining: 9m 8s\n",
      "726:\tloss: 0.8675819\tbest: 0.8732350 (33)\ttotal: 23m 32s\tremaining: 9m 5s\n",
      "727:\tloss: 0.8694878\tbest: 0.8732350 (33)\ttotal: 23m 32s\tremaining: 9m 3s\n",
      "728:\tloss: 0.8691008\tbest: 0.8732350 (33)\ttotal: 23m 33s\tremaining: 9m\n",
      "729:\tloss: 0.8593804\tbest: 0.8732350 (33)\ttotal: 23m 33s\tremaining: 8m 58s\n",
      "730:\tloss: 0.8597362\tbest: 0.8732350 (33)\ttotal: 23m 34s\tremaining: 8m 55s\n",
      "731:\tloss: 0.8392588\tbest: 0.8732350 (33)\ttotal: 23m 35s\tremaining: 8m 53s\n",
      "732:\tloss: 0.8639110\tbest: 0.8732350 (33)\ttotal: 23m 35s\tremaining: 8m 51s\n",
      "733:\tloss: 0.8636626\tbest: 0.8732350 (33)\ttotal: 23m 36s\tremaining: 8m 48s\n",
      "734:\tloss: 0.8657142\tbest: 0.8732350 (33)\ttotal: 23m 37s\tremaining: 8m 46s\n",
      "735:\tloss: 0.8657357\tbest: 0.8732350 (33)\ttotal: 23m 37s\tremaining: 8m 44s\n",
      "736:\tloss: 0.8642311\tbest: 0.8732350 (33)\ttotal: 23m 38s\tremaining: 8m 41s\n",
      "737:\tloss: 0.8661154\tbest: 0.8732350 (33)\ttotal: 23m 39s\tremaining: 8m 39s\n",
      "738:\tloss: 0.8683533\tbest: 0.8732350 (33)\ttotal: 23m 40s\tremaining: 8m 36s\n",
      "739:\tloss: 0.8704717\tbest: 0.8732350 (33)\ttotal: 23m 40s\tremaining: 8m 34s\n",
      "740:\tloss: 0.8684249\tbest: 0.8732350 (33)\ttotal: 23m 41s\tremaining: 8m 32s\n",
      "741:\tloss: 0.8559460\tbest: 0.8732350 (33)\ttotal: 23m 42s\tremaining: 8m 29s\n",
      "742:\tloss: 0.8559603\tbest: 0.8732350 (33)\ttotal: 23m 42s\tremaining: 8m 27s\n",
      "743:\tloss: 0.8253539\tbest: 0.8732350 (33)\ttotal: 23m 43s\tremaining: 8m 25s\n",
      "744:\tloss: 0.8639492\tbest: 0.8732350 (33)\ttotal: 23m 44s\tremaining: 8m 22s\n",
      "745:\tloss: 0.8633139\tbest: 0.8732350 (33)\ttotal: 23m 45s\tremaining: 8m 20s\n",
      "746:\tloss: 0.8652294\tbest: 0.8732350 (33)\ttotal: 23m 46s\tremaining: 8m 18s\n",
      "747:\tloss: 0.8661298\tbest: 0.8732350 (33)\ttotal: 23m 47s\tremaining: 8m 16s\n",
      "748:\tloss: 0.8652174\tbest: 0.8732350 (33)\ttotal: 23m 48s\tremaining: 8m 13s\n",
      "749:\tloss: 0.8683867\tbest: 0.8732350 (33)\ttotal: 23m 49s\tremaining: 8m 11s\n",
      "750:\tloss: 0.8687044\tbest: 0.8732350 (33)\ttotal: 23m 50s\tremaining: 8m 9s\n",
      "751:\tloss: 0.8698866\tbest: 0.8732350 (33)\ttotal: 23m 51s\tremaining: 8m 7s\n",
      "752:\tloss: 0.8650909\tbest: 0.8732350 (33)\ttotal: 23m 52s\tremaining: 8m 5s\n",
      "753:\tloss: 0.8518572\tbest: 0.8732350 (33)\ttotal: 23m 53s\tremaining: 8m 2s\n",
      "754:\tloss: 0.8487356\tbest: 0.8732350 (33)\ttotal: 23m 54s\tremaining: 8m\n",
      "755:\tloss: 0.8170068\tbest: 0.8732350 (33)\ttotal: 23m 55s\tremaining: 7m 58s\n",
      "756:\tloss: 0.8641499\tbest: 0.8732350 (33)\ttotal: 23m 56s\tremaining: 7m 56s\n",
      "757:\tloss: 0.8638871\tbest: 0.8732350 (33)\ttotal: 23m 58s\tremaining: 7m 54s\n",
      "758:\tloss: 0.8656115\tbest: 0.8732350 (33)\ttotal: 23m 59s\tremaining: 7m 52s\n",
      "759:\tloss: 0.8656593\tbest: 0.8732350 (33)\ttotal: 24m\tremaining: 7m 50s\n",
      "760:\tloss: 0.8660963\tbest: 0.8732350 (33)\ttotal: 24m 2s\tremaining: 7m 48s\n",
      "761:\tloss: 0.8688954\tbest: 0.8732350 (33)\ttotal: 24m 3s\tremaining: 7m 46s\n",
      "762:\tloss: 0.8683772\tbest: 0.8732350 (33)\ttotal: 24m 4s\tremaining: 7m 43s\n",
      "763:\tloss: 0.8691367\tbest: 0.8732350 (33)\ttotal: 24m 6s\tremaining: 7m 41s\n",
      "764:\tloss: 0.8644962\tbest: 0.8732350 (33)\ttotal: 24m 7s\tremaining: 7m 39s\n",
      "765:\tloss: 0.8413772\tbest: 0.8732350 (33)\ttotal: 24m 9s\tremaining: 7m 37s\n",
      "766:\tloss: 0.8379810\tbest: 0.8732350 (33)\ttotal: 24m 10s\tremaining: 7m 35s\n",
      "767:\tloss: 0.8170068\tbest: 0.8732350 (33)\ttotal: 24m 12s\tremaining: 7m 33s\n",
      "768:\tloss: 0.8648950\tbest: 0.8732350 (33)\ttotal: 24m 14s\tremaining: 7m 31s\n",
      "769:\tloss: 0.8642096\tbest: 0.8732350 (33)\ttotal: 24m 16s\tremaining: 7m 30s\n",
      "770:\tloss: 0.8657094\tbest: 0.8732350 (33)\ttotal: 24m 17s\tremaining: 7m 28s\n",
      "771:\tloss: 0.8656020\tbest: 0.8732350 (33)\ttotal: 24m 20s\tremaining: 7m 26s\n",
      "772:\tloss: 0.8673359\tbest: 0.8732350 (33)\ttotal: 24m 21s\tremaining: 7m 24s\n",
      "773:\tloss: 0.8693397\tbest: 0.8732350 (33)\ttotal: 24m 23s\tremaining: 7m 22s\n",
      "774:\tloss: 0.8673574\tbest: 0.8732350 (33)\ttotal: 24m 25s\tremaining: 7m 20s\n",
      "775:\tloss: 0.8678637\tbest: 0.8732350 (33)\ttotal: 24m 27s\tremaining: 7m 18s\n",
      "776:\tloss: 0.8582005\tbest: 0.8732350 (33)\ttotal: 24m 29s\tremaining: 7m 17s\n",
      "777:\tloss: 0.8333142\tbest: 0.8732350 (33)\ttotal: 24m 32s\tremaining: 7m 15s\n",
      "778:\tloss: 0.8308972\tbest: 0.8732350 (33)\ttotal: 24m 34s\tremaining: 7m 13s\n",
      "779:\tloss: 0.8170068\tbest: 0.8732350 (33)\ttotal: 24m 36s\tremaining: 7m 11s\n",
      "780:\tloss: 0.8651004\tbest: 0.8732350 (33)\ttotal: 24m 38s\tremaining: 7m 9s\n",
      "781:\tloss: 0.8643959\tbest: 0.8732350 (33)\ttotal: 24m 41s\tremaining: 7m 8s\n",
      "782:\tloss: 0.8650216\tbest: 0.8732350 (33)\ttotal: 24m 43s\tremaining: 7m 6s\n",
      "783:\tloss: 0.8657094\tbest: 0.8732350 (33)\ttotal: 24m 46s\tremaining: 7m 4s\n",
      "784:\tloss: 0.8689552\tbest: 0.8732350 (33)\ttotal: 24m 49s\tremaining: 7m 3s\n",
      "785:\tloss: 0.8680858\tbest: 0.8732350 (33)\ttotal: 24m 52s\tremaining: 7m 1s\n",
      "786:\tloss: 0.8657715\tbest: 0.8732350 (33)\ttotal: 24m 54s\tremaining: 6m 59s\n",
      "787:\tloss: 0.8659244\tbest: 0.8732350 (33)\ttotal: 24m 57s\tremaining: 6m 58s\n",
      "788:\tloss: 0.8512672\tbest: 0.8732350 (33)\ttotal: 25m\tremaining: 6m 56s\n",
      "789:\tloss: 0.8296458\tbest: 0.8732350 (33)\ttotal: 25m 2s\tremaining: 6m 54s\n",
      "790:\tloss: 0.8293448\tbest: 0.8732350 (33)\ttotal: 25m 5s\tremaining: 6m 53s\n",
      "791:\tloss: 0.8170068\tbest: 0.8732350 (33)\ttotal: 25m 8s\tremaining: 6m 51s\n",
      "792:\tloss: 0.8648377\tbest: 0.8732350 (33)\ttotal: 25m 11s\tremaining: 6m 49s\n",
      "793:\tloss: 0.8647231\tbest: 0.8732350 (33)\ttotal: 25m 14s\tremaining: 6m 48s\n",
      "794:\tloss: 0.8650120\tbest: 0.8732350 (33)\ttotal: 25m 18s\tremaining: 6m 46s\n",
      "795:\tloss: 0.8674625\tbest: 0.8732350 (33)\ttotal: 25m 21s\tremaining: 6m 45s\n",
      "796:\tloss: 0.8688262\tbest: 0.8732350 (33)\ttotal: 25m 24s\tremaining: 6m 43s\n",
      "797:\tloss: 0.8683031\tbest: 0.8732350 (33)\ttotal: 25m 27s\tremaining: 6m 42s\n",
      "798:\tloss: 0.8640400\tbest: 0.8732350 (33)\ttotal: 25m 31s\tremaining: 6m 40s\n",
      "799:\tloss: 0.8622989\tbest: 0.8732350 (33)\ttotal: 25m 34s\tremaining: 6m 38s\n",
      "800:\tloss: 0.8440760\tbest: 0.8732350 (33)\ttotal: 25m 37s\tremaining: 6m 37s\n",
      "801:\tloss: 0.8273530\tbest: 0.8732350 (33)\ttotal: 25m 41s\tremaining: 6m 35s\n",
      "802:\tloss: 0.8258388\tbest: 0.8732350 (33)\ttotal: 25m 44s\tremaining: 6m 34s\n",
      "803:\tloss: 0.8170068\tbest: 0.8732350 (33)\ttotal: 25m 48s\tremaining: 6m 32s\n",
      "804:\tloss: 0.8650025\tbest: 0.8732350 (33)\ttotal: 25m 51s\tremaining: 6m 31s\n",
      "805:\tloss: 0.8647899\tbest: 0.8732350 (33)\ttotal: 25m 55s\tremaining: 6m 29s\n",
      "806:\tloss: 0.8649834\tbest: 0.8732350 (33)\ttotal: 25m 59s\tremaining: 6m 28s\n",
      "807:\tloss: 0.8681670\tbest: 0.8732350 (33)\ttotal: 26m 3s\tremaining: 6m 26s\n",
      "808:\tloss: 0.8691343\tbest: 0.8732350 (33)\ttotal: 26m 6s\tremaining: 6m 25s\n",
      "809:\tloss: 0.8677682\tbest: 0.8732350 (33)\ttotal: 26m 10s\tremaining: 6m 23s\n",
      "810:\tloss: 0.8622893\tbest: 0.8732350 (33)\ttotal: 26m 15s\tremaining: 6m 22s\n",
      "811:\tloss: 0.8590747\tbest: 0.8732350 (33)\ttotal: 26m 20s\tremaining: 6m 21s\n",
      "812:\tloss: 0.8401162\tbest: 0.8732350 (33)\ttotal: 26m 24s\tremaining: 6m 20s\n",
      "813:\tloss: 0.8229776\tbest: 0.8732350 (33)\ttotal: 26m 29s\tremaining: 6m 18s\n",
      "814:\tloss: 0.8215016\tbest: 0.8732350 (33)\ttotal: 26m 33s\tremaining: 6m 17s\n",
      "815:\tloss: 0.8170068\tbest: 0.8732350 (33)\ttotal: 26m 37s\tremaining: 6m 15s\n",
      "816:\tloss: 0.8648019\tbest: 0.8732350 (33)\ttotal: 26m 43s\tremaining: 6m 14s\n",
      "817:\tloss: 0.8650025\tbest: 0.8732350 (33)\ttotal: 26m 49s\tremaining: 6m 13s\n",
      "818:\tloss: 0.8654849\tbest: 0.8732350 (33)\ttotal: 26m 55s\tremaining: 6m 12s\n",
      "819:\tloss: 0.8696334\tbest: 0.8732350 (33)\ttotal: 27m 2s\tremaining: 6m 11s\n",
      "820:\tloss: 0.8674553\tbest: 0.8732350 (33)\ttotal: 27m 8s\tremaining: 6m 10s\n",
      "821:\tloss: 0.8647135\tbest: 0.8732350 (33)\ttotal: 27m 15s\tremaining: 6m 9s\n",
      "822:\tloss: 0.8526787\tbest: 0.8732350 (33)\ttotal: 27m 21s\tremaining: 6m 9s\n",
      "823:\tloss: 0.8472477\tbest: 0.8732350 (33)\ttotal: 27m 28s\tremaining: 6m 8s\n",
      "824:\tloss: 0.8317570\tbest: 0.8732350 (33)\ttotal: 27m 35s\tremaining: 6m 7s\n",
      "825:\tloss: 0.8202167\tbest: 0.8732350 (33)\ttotal: 27m 42s\tremaining: 6m 6s\n",
      "826:\tloss: 0.8209475\tbest: 0.8732350 (33)\ttotal: 27m 49s\tremaining: 6m 5s\n",
      "827:\tloss: 0.8170068\tbest: 0.8732350 (33)\ttotal: 27m 55s\tremaining: 6m 4s\n",
      "828:\tloss: 0.8646371\tbest: 0.8732350 (33)\ttotal: 28m 7s\tremaining: 6m 4s\n",
      "829:\tloss: 0.8654419\tbest: 0.8732350 (33)\ttotal: 28m 20s\tremaining: 6m 4s\n",
      "830:\tloss: 0.8657309\tbest: 0.8732350 (33)\ttotal: 28m 32s\tremaining: 6m 4s\n",
      "831:\tloss: 0.8684273\tbest: 0.8732350 (33)\ttotal: 28m 44s\tremaining: 6m 4s\n",
      "832:\tloss: 0.8642478\tbest: 0.8732350 (33)\ttotal: 28m 57s\tremaining: 6m 5s\n",
      "833:\tloss: 0.8547661\tbest: 0.8732350 (33)\ttotal: 29m 12s\tremaining: 6m 5s\n",
      "834:\tloss: 0.8400302\tbest: 0.8732350 (33)\ttotal: 29m 26s\tremaining: 6m 5s\n",
      "835:\tloss: 0.8356691\tbest: 0.8732350 (33)\ttotal: 29m 39s\tremaining: 6m 6s\n",
      "836:\tloss: 0.8277542\tbest: 0.8732350 (33)\ttotal: 29m 52s\tremaining: 6m 6s\n",
      "837:\tloss: 0.8180433\tbest: 0.8732350 (33)\ttotal: 30m 5s\tremaining: 6m 6s\n",
      "838:\tloss: 0.8189986\tbest: 0.8732350 (33)\ttotal: 30m 18s\tremaining: 6m 6s\n",
      "839:\tloss: 0.8170068\tbest: 0.8732350 (33)\ttotal: 30m 31s\tremaining: 6m 6s\n",
      "840:\tloss: 0.8617711\tbest: 0.8732350 (33)\ttotal: 30m 32s\tremaining: 6m 3s\n",
      "841:\tloss: 0.8617711\tbest: 0.8732350 (33)\ttotal: 30m 32s\tremaining: 6m 1s\n",
      "842:\tloss: 0.8603476\tbest: 0.8732350 (33)\ttotal: 30m 32s\tremaining: 5m 58s\n",
      "843:\tloss: 0.8600945\tbest: 0.8732350 (33)\ttotal: 30m 32s\tremaining: 5m 56s\n",
      "844:\tloss: 0.8572691\tbest: 0.8732350 (33)\ttotal: 30m 32s\tremaining: 5m 53s\n",
      "845:\tloss: 0.8622702\tbest: 0.8732350 (33)\ttotal: 30m 32s\tremaining: 5m 50s\n",
      "846:\tloss: 0.8596073\tbest: 0.8732350 (33)\ttotal: 30m 32s\tremaining: 5m 48s\n",
      "847:\tloss: 0.8561609\tbest: 0.8732350 (33)\ttotal: 30m 32s\tremaining: 5m 45s\n",
      "848:\tloss: 0.8607584\tbest: 0.8732350 (33)\ttotal: 30m 32s\tremaining: 5m 43s\n",
      "849:\tloss: 0.8609973\tbest: 0.8732350 (33)\ttotal: 30m 32s\tremaining: 5m 40s\n",
      "850:\tloss: 0.8655064\tbest: 0.8732350 (33)\ttotal: 30m 32s\tremaining: 5m 38s\n",
      "851:\tloss: 0.8634931\tbest: 0.8732350 (33)\ttotal: 30m 32s\tremaining: 5m 35s\n",
      "852:\tloss: 0.8632351\tbest: 0.8732350 (33)\ttotal: 30m 32s\tremaining: 5m 33s\n",
      "853:\tloss: 0.8634787\tbest: 0.8732350 (33)\ttotal: 30m 33s\tremaining: 5m 30s\n",
      "854:\tloss: 0.8642573\tbest: 0.8732350 (33)\ttotal: 30m 33s\tremaining: 5m 28s\n",
      "855:\tloss: 0.8627431\tbest: 0.8732350 (33)\ttotal: 30m 33s\tremaining: 5m 25s\n",
      "856:\tloss: 0.8614009\tbest: 0.8732350 (33)\ttotal: 30m 33s\tremaining: 5m 23s\n",
      "857:\tloss: 0.8671400\tbest: 0.8732350 (33)\ttotal: 30m 33s\tremaining: 5m 20s\n",
      "858:\tloss: 0.8628339\tbest: 0.8732350 (33)\ttotal: 30m 33s\tremaining: 5m 18s\n",
      "859:\tloss: 0.8635432\tbest: 0.8732350 (33)\ttotal: 30m 33s\tremaining: 5m 15s\n",
      "860:\tloss: 0.8654993\tbest: 0.8732350 (33)\ttotal: 30m 34s\tremaining: 5m 13s\n",
      "861:\tloss: 0.8668081\tbest: 0.8732350 (33)\ttotal: 30m 34s\tremaining: 5m 10s\n",
      "862:\tloss: 0.8658479\tbest: 0.8732350 (33)\ttotal: 30m 34s\tremaining: 5m 8s\n",
      "863:\tloss: 0.8598843\tbest: 0.8732350 (33)\ttotal: 30m 34s\tremaining: 5m 5s\n",
      "864:\tloss: 0.8642693\tbest: 0.8732350 (33)\ttotal: 30m 34s\tremaining: 5m 3s\n",
      "865:\tloss: 0.8647398\tbest: 0.8732350 (33)\ttotal: 30m 35s\tremaining: 5m\n",
      "866:\tloss: 0.8649810\tbest: 0.8732350 (33)\ttotal: 30m 35s\tremaining: 4m 58s\n",
      "867:\tloss: 0.8641307\tbest: 0.8732350 (33)\ttotal: 30m 35s\tremaining: 4m 56s\n",
      "868:\tloss: 0.8645511\tbest: 0.8732350 (33)\ttotal: 30m 36s\tremaining: 4m 53s\n",
      "869:\tloss: 0.8672881\tbest: 0.8732350 (33)\ttotal: 30m 36s\tremaining: 4m 51s\n",
      "870:\tloss: 0.8648998\tbest: 0.8732350 (33)\ttotal: 30m 36s\tremaining: 4m 48s\n",
      "871:\tloss: 0.8657930\tbest: 0.8732350 (33)\ttotal: 30m 36s\tremaining: 4m 46s\n",
      "872:\tloss: 0.8694567\tbest: 0.8732350 (33)\ttotal: 30m 37s\tremaining: 4m 44s\n",
      "873:\tloss: 0.8692489\tbest: 0.8732350 (33)\ttotal: 30m 37s\tremaining: 4m 41s\n",
      "874:\tloss: 0.8616445\tbest: 0.8732350 (33)\ttotal: 30m 37s\tremaining: 4m 39s\n",
      "875:\tloss: 0.8558409\tbest: 0.8732350 (33)\ttotal: 30m 38s\tremaining: 4m 36s\n",
      "876:\tloss: 0.8648687\tbest: 0.8732350 (33)\ttotal: 30m 38s\tremaining: 4m 34s\n",
      "877:\tloss: 0.8646896\tbest: 0.8732350 (33)\ttotal: 30m 38s\tremaining: 4m 32s\n",
      "878:\tloss: 0.8647851\tbest: 0.8732350 (33)\ttotal: 30m 39s\tremaining: 4m 29s\n",
      "879:\tloss: 0.8651983\tbest: 0.8732350 (33)\ttotal: 30m 39s\tremaining: 4m 27s\n",
      "880:\tloss: 0.8647828\tbest: 0.8732350 (33)\ttotal: 30m 40s\tremaining: 4m 25s\n",
      "881:\tloss: 0.8663901\tbest: 0.8732350 (33)\ttotal: 30m 40s\tremaining: 4m 22s\n",
      "882:\tloss: 0.8653607\tbest: 0.8732350 (33)\ttotal: 30m 41s\tremaining: 4m 20s\n",
      "883:\tloss: 0.8677491\tbest: 0.8732350 (33)\ttotal: 30m 41s\tremaining: 4m 18s\n",
      "884:\tloss: 0.8684560\tbest: 0.8732350 (33)\ttotal: 30m 42s\tremaining: 4m 16s\n",
      "885:\tloss: 0.8687378\tbest: 0.8732350 (33)\ttotal: 30m 42s\tremaining: 4m 13s\n",
      "886:\tloss: 0.8591583\tbest: 0.8732350 (33)\ttotal: 30m 42s\tremaining: 4m 11s\n",
      "887:\tloss: 0.8424257\tbest: 0.8732350 (33)\ttotal: 30m 43s\tremaining: 4m 9s\n",
      "888:\tloss: 0.8641881\tbest: 0.8732350 (33)\ttotal: 30m 43s\tremaining: 4m 6s\n",
      "889:\tloss: 0.8648878\tbest: 0.8732350 (33)\ttotal: 30m 44s\tremaining: 4m 4s\n",
      "890:\tloss: 0.8654372\tbest: 0.8732350 (33)\ttotal: 30m 45s\tremaining: 4m 2s\n",
      "891:\tloss: 0.8641785\tbest: 0.8732350 (33)\ttotal: 30m 45s\tremaining: 4m\n",
      "892:\tloss: 0.8648568\tbest: 0.8732350 (33)\ttotal: 30m 46s\tremaining: 3m 57s\n",
      "893:\tloss: 0.8663208\tbest: 0.8732350 (33)\ttotal: 30m 46s\tremaining: 3m 55s\n",
      "894:\tloss: 0.8661799\tbest: 0.8732350 (33)\ttotal: 30m 47s\tremaining: 3m 53s\n",
      "895:\tloss: 0.8684369\tbest: 0.8732350 (33)\ttotal: 30m 48s\tremaining: 3m 51s\n",
      "896:\tloss: 0.8683103\tbest: 0.8732350 (33)\ttotal: 30m 48s\tremaining: 3m 48s\n",
      "897:\tloss: 0.8662014\tbest: 0.8732350 (33)\ttotal: 30m 49s\tremaining: 3m 46s\n",
      "898:\tloss: 0.8543625\tbest: 0.8732350 (33)\ttotal: 30m 49s\tremaining: 3m 44s\n",
      "899:\tloss: 0.8364692\tbest: 0.8732350 (33)\ttotal: 30m 50s\tremaining: 3m 42s\n",
      "900:\tloss: 0.8643791\tbest: 0.8732350 (33)\ttotal: 30m 51s\tremaining: 3m 39s\n",
      "901:\tloss: 0.8646299\tbest: 0.8732350 (33)\ttotal: 30m 51s\tremaining: 3m 37s\n",
      "902:\tloss: 0.8647875\tbest: 0.8732350 (33)\ttotal: 30m 52s\tremaining: 3m 35s\n",
      "903:\tloss: 0.8648329\tbest: 0.8732350 (33)\ttotal: 30m 53s\tremaining: 3m 33s\n",
      "904:\tloss: 0.8656115\tbest: 0.8732350 (33)\ttotal: 30m 53s\tremaining: 3m 31s\n",
      "905:\tloss: 0.8666576\tbest: 0.8732350 (33)\ttotal: 30m 54s\tremaining: 3m 28s\n",
      "906:\tloss: 0.8671974\tbest: 0.8732350 (33)\ttotal: 30m 55s\tremaining: 3m 26s\n",
      "907:\tloss: 0.8677061\tbest: 0.8732350 (33)\ttotal: 30m 56s\tremaining: 3m 24s\n",
      "908:\tloss: 0.8675795\tbest: 0.8732350 (33)\ttotal: 30m 56s\tremaining: 3m 22s\n",
      "909:\tloss: 0.8665883\tbest: 0.8732350 (33)\ttotal: 30m 57s\tremaining: 3m 20s\n",
      "910:\tloss: 0.8461968\tbest: 0.8732350 (33)\ttotal: 30m 58s\tremaining: 3m 17s\n",
      "911:\tloss: 0.8295096\tbest: 0.8732350 (33)\ttotal: 30m 59s\tremaining: 3m 15s\n",
      "912:\tloss: 0.8652318\tbest: 0.8732350 (33)\ttotal: 31m\tremaining: 3m 13s\n",
      "913:\tloss: 0.8647278\tbest: 0.8732350 (33)\ttotal: 31m 1s\tremaining: 3m 11s\n",
      "914:\tloss: 0.8646514\tbest: 0.8732350 (33)\ttotal: 31m 2s\tremaining: 3m 9s\n",
      "915:\tloss: 0.8650861\tbest: 0.8732350 (33)\ttotal: 31m 3s\tremaining: 3m 7s\n",
      "916:\tloss: 0.8665931\tbest: 0.8732350 (33)\ttotal: 31m 4s\tremaining: 3m 5s\n",
      "917:\tloss: 0.8674099\tbest: 0.8732350 (33)\ttotal: 31m 5s\tremaining: 3m 2s\n",
      "918:\tloss: 0.8696812\tbest: 0.8732350 (33)\ttotal: 31m 6s\tremaining: 3m\n",
      "919:\tloss: 0.8666122\tbest: 0.8732350 (33)\ttotal: 31m 7s\tremaining: 2m 58s\n",
      "920:\tloss: 0.8666146\tbest: 0.8732350 (33)\ttotal: 31m 8s\tremaining: 2m 56s\n",
      "921:\tloss: 0.8551745\tbest: 0.8732350 (33)\ttotal: 31m 9s\tremaining: 2m 54s\n",
      "922:\tloss: 0.8410381\tbest: 0.8732350 (33)\ttotal: 31m 10s\tremaining: 2m 52s\n",
      "923:\tloss: 0.8234314\tbest: 0.8732350 (33)\ttotal: 31m 11s\tremaining: 2m 50s\n",
      "924:\tloss: 0.8654563\tbest: 0.8732350 (33)\ttotal: 31m 13s\tremaining: 2m 48s\n",
      "925:\tloss: 0.8642263\tbest: 0.8732350 (33)\ttotal: 31m 14s\tremaining: 2m 45s\n",
      "926:\tloss: 0.8650049\tbest: 0.8732350 (33)\ttotal: 31m 15s\tremaining: 2m 43s\n",
      "927:\tloss: 0.8661560\tbest: 0.8732350 (33)\ttotal: 31m 17s\tremaining: 2m 41s\n",
      "928:\tloss: 0.8664474\tbest: 0.8732350 (33)\ttotal: 31m 18s\tremaining: 2m 39s\n",
      "929:\tloss: 0.8691008\tbest: 0.8732350 (33)\ttotal: 31m 20s\tremaining: 2m 37s\n",
      "930:\tloss: 0.8698126\tbest: 0.8732350 (33)\ttotal: 31m 21s\tremaining: 2m 35s\n",
      "931:\tloss: 0.8653154\tbest: 0.8732350 (33)\ttotal: 31m 23s\tremaining: 2m 33s\n",
      "932:\tloss: 0.8633211\tbest: 0.8732350 (33)\ttotal: 31m 24s\tremaining: 2m 31s\n",
      "933:\tloss: 0.8468632\tbest: 0.8732350 (33)\ttotal: 31m 25s\tremaining: 2m 29s\n",
      "934:\tloss: 0.8322968\tbest: 0.8732350 (33)\ttotal: 31m 27s\tremaining: 2m 27s\n",
      "935:\tloss: 0.8236081\tbest: 0.8732350 (33)\ttotal: 31m 29s\tremaining: 2m 25s\n",
      "936:\tloss: 0.8648090\tbest: 0.8732350 (33)\ttotal: 31m 30s\tremaining: 2m 23s\n",
      "937:\tloss: 0.8643385\tbest: 0.8732350 (33)\ttotal: 31m 32s\tremaining: 2m 21s\n",
      "938:\tloss: 0.8651792\tbest: 0.8732350 (33)\ttotal: 31m 34s\tremaining: 2m 19s\n",
      "939:\tloss: 0.8657261\tbest: 0.8732350 (33)\ttotal: 31m 36s\tremaining: 2m 17s\n",
      "940:\tloss: 0.8683700\tbest: 0.8732350 (33)\ttotal: 31m 38s\tremaining: 2m 15s\n",
      "941:\tloss: 0.8695905\tbest: 0.8732350 (33)\ttotal: 31m 40s\tremaining: 2m 13s\n",
      "942:\tloss: 0.8687474\tbest: 0.8732350 (33)\ttotal: 31m 42s\tremaining: 2m 11s\n",
      "943:\tloss: 0.8622798\tbest: 0.8732350 (33)\ttotal: 31m 45s\tremaining: 2m 9s\n",
      "944:\tloss: 0.8590436\tbest: 0.8732350 (33)\ttotal: 31m 47s\tremaining: 2m 7s\n",
      "945:\tloss: 0.8426287\tbest: 0.8732350 (33)\ttotal: 31m 49s\tremaining: 2m 5s\n",
      "946:\tloss: 0.8260346\tbest: 0.8732350 (33)\ttotal: 31m 51s\tremaining: 2m 3s\n",
      "947:\tloss: 0.8198250\tbest: 0.8732350 (33)\ttotal: 31m 53s\tremaining: 2m 1s\n",
      "948:\tloss: 0.8646681\tbest: 0.8732350 (33)\ttotal: 31m 56s\tremaining: 1m 59s\n",
      "949:\tloss: 0.8641809\tbest: 0.8732350 (33)\ttotal: 31m 59s\tremaining: 1m 57s\n",
      "950:\tloss: 0.8653416\tbest: 0.8732350 (33)\ttotal: 32m 1s\tremaining: 1m 55s\n",
      "951:\tloss: 0.8662468\tbest: 0.8732350 (33)\ttotal: 32m 5s\tremaining: 1m 53s\n",
      "952:\tloss: 0.8685205\tbest: 0.8732350 (33)\ttotal: 32m 8s\tremaining: 1m 51s\n",
      "953:\tloss: 0.8693062\tbest: 0.8732350 (33)\ttotal: 32m 11s\tremaining: 1m 49s\n",
      "954:\tloss: 0.8668152\tbest: 0.8732350 (33)\ttotal: 32m 14s\tremaining: 1m 47s\n",
      "955:\tloss: 0.8593995\tbest: 0.8732350 (33)\ttotal: 32m 16s\tremaining: 1m 45s\n",
      "956:\tloss: 0.8522560\tbest: 0.8732350 (33)\ttotal: 32m 19s\tremaining: 1m 43s\n",
      "957:\tloss: 0.8394522\tbest: 0.8732350 (33)\ttotal: 32m 22s\tremaining: 1m 41s\n",
      "958:\tloss: 0.8217500\tbest: 0.8732350 (33)\ttotal: 32m 25s\tremaining: 1m 39s\n",
      "959:\tloss: 0.8153254\tbest: 0.8732350 (33)\ttotal: 32m 28s\tremaining: 1m 37s\n",
      "960:\tloss: 0.8648090\tbest: 0.8732350 (33)\ttotal: 32m 31s\tremaining: 1m 35s\n",
      "961:\tloss: 0.8642406\tbest: 0.8732350 (33)\ttotal: 32m 34s\tremaining: 1m 33s\n",
      "962:\tloss: 0.8650407\tbest: 0.8732350 (33)\ttotal: 32m 38s\tremaining: 1m 31s\n",
      "963:\tloss: 0.8679067\tbest: 0.8732350 (33)\ttotal: 32m 41s\tremaining: 1m 29s\n",
      "964:\tloss: 0.8694495\tbest: 0.8732350 (33)\ttotal: 32m 44s\tremaining: 1m 27s\n",
      "965:\tloss: 0.8682817\tbest: 0.8732350 (33)\ttotal: 32m 47s\tremaining: 1m 25s\n",
      "966:\tloss: 0.8649762\tbest: 0.8732350 (33)\ttotal: 32m 51s\tremaining: 1m 23s\n",
      "967:\tloss: 0.8569347\tbest: 0.8732350 (33)\ttotal: 32m 54s\tremaining: 1m 21s\n",
      "968:\tloss: 0.8476083\tbest: 0.8732350 (33)\ttotal: 32m 58s\tremaining: 1m 19s\n",
      "969:\tloss: 0.8359462\tbest: 0.8732350 (33)\ttotal: 33m 1s\tremaining: 1m 17s\n",
      "970:\tloss: 0.8224044\tbest: 0.8732350 (33)\ttotal: 33m 5s\tremaining: 1m 15s\n",
      "971:\tloss: 0.8169399\tbest: 0.8732350 (33)\ttotal: 33m 8s\tremaining: 1m 13s\n",
      "972:\tloss: 0.8647708\tbest: 0.8732350 (33)\ttotal: 33m 12s\tremaining: 1m 11s\n",
      "973:\tloss: 0.8645033\tbest: 0.8732350 (33)\ttotal: 33m 16s\tremaining: 1m 9s\n",
      "974:\tloss: 0.8654109\tbest: 0.8732350 (33)\ttotal: 33m 20s\tremaining: 1m 7s\n",
      "975:\tloss: 0.8683891\tbest: 0.8732350 (33)\ttotal: 33m 24s\tremaining: 1m 5s\n",
      "976:\tloss: 0.8699200\tbest: 0.8732350 (33)\ttotal: 33m 27s\tremaining: 1m 3s\n",
      "977:\tloss: 0.8669776\tbest: 0.8732350 (33)\ttotal: 33m 31s\tremaining: 1m 1s\n",
      "978:\tloss: 0.8622822\tbest: 0.8732350 (33)\ttotal: 33m 35s\tremaining: 59.7s\n",
      "979:\tloss: 0.8554444\tbest: 0.8732350 (33)\ttotal: 33m 40s\tremaining: 57.7s\n",
      "980:\tloss: 0.8413366\tbest: 0.8732350 (33)\ttotal: 33m 44s\tremaining: 55.7s\n",
      "981:\tloss: 0.8344463\tbest: 0.8732350 (33)\ttotal: 33m 48s\tremaining: 53.7s\n",
      "982:\tloss: 0.8208902\tbest: 0.8732350 (33)\ttotal: 33m 52s\tremaining: 51.7s\n",
      "983:\tloss: 0.8176803\tbest: 0.8732350 (33)\ttotal: 33m 56s\tremaining: 49.7s\n",
      "984:\tloss: 0.8647183\tbest: 0.8732350 (33)\ttotal: 34m 2s\tremaining: 47.7s\n",
      "985:\tloss: 0.8645869\tbest: 0.8732350 (33)\ttotal: 34m 9s\tremaining: 45.7s\n",
      "986:\tloss: 0.8657644\tbest: 0.8732350 (33)\ttotal: 34m 15s\tremaining: 43.7s\n",
      "987:\tloss: 0.8688644\tbest: 0.8732350 (33)\ttotal: 34m 21s\tremaining: 41.7s\n",
      "988:\tloss: 0.8687808\tbest: 0.8732350 (33)\ttotal: 34m 28s\tremaining: 39.7s\n",
      "989:\tloss: 0.8630393\tbest: 0.8732350 (33)\ttotal: 34m 34s\tremaining: 37.7s\n",
      "990:\tloss: 0.8529224\tbest: 0.8732350 (33)\ttotal: 34m 41s\tremaining: 35.7s\n",
      "991:\tloss: 0.8466315\tbest: 0.8732350 (33)\ttotal: 34m 48s\tremaining: 33.7s\n",
      "992:\tloss: 0.8339567\tbest: 0.8732350 (33)\ttotal: 34m 55s\tremaining: 31.7s\n",
      "993:\tloss: 0.8282510\tbest: 0.8732350 (33)\ttotal: 35m 4s\tremaining: 29.6s\n",
      "994:\tloss: 0.8206800\tbest: 0.8732350 (33)\ttotal: 35m 11s\tremaining: 27.6s\n",
      "995:\tloss: 0.8184398\tbest: 0.8732350 (33)\ttotal: 35m 18s\tremaining: 25.5s\n",
      "996:\tloss: 0.8643218\tbest: 0.8732350 (33)\ttotal: 35m 30s\tremaining: 23.5s\n",
      "997:\tloss: 0.8650526\tbest: 0.8732350 (33)\ttotal: 35m 43s\tremaining: 21.5s\n",
      "998:\tloss: 0.8660175\tbest: 0.8732350 (33)\ttotal: 35m 55s\tremaining: 19.4s\n",
      "999:\tloss: 0.8676249\tbest: 0.8732350 (33)\ttotal: 36m 8s\tremaining: 17.3s\n",
      "1000:\tloss: 0.8646872\tbest: 0.8732350 (33)\ttotal: 36m 21s\tremaining: 15.3s\n",
      "1001:\tloss: 0.8519527\tbest: 0.8732350 (33)\ttotal: 36m 35s\tremaining: 13.1s\n",
      "1002:\tloss: 0.8392038\tbest: 0.8732350 (33)\ttotal: 36m 49s\tremaining: 11s\n",
      "1003:\tloss: 0.8360751\tbest: 0.8732350 (33)\ttotal: 37m 2s\tremaining: 8.86s\n",
      "1004:\tloss: 0.8275154\tbest: 0.8732350 (33)\ttotal: 37m 16s\tremaining: 6.68s\n",
      "1005:\tloss: 0.8252704\tbest: 0.8732350 (33)\ttotal: 37m 30s\tremaining: 4.47s\n",
      "1006:\tloss: 0.8194667\tbest: 0.8732350 (33)\ttotal: 37m 43s\tremaining: 2.25s\n",
      "1007:\tloss: 0.8205654\tbest: 0.8732350 (33)\ttotal: 37m 58s\tremaining: 0us\n",
      "Estimating final quality...\n"
     ]
    },
    {
     "data": {
      "text/plain": [
       "{'params': {'depth': 4, 'iterations': 20, 'learning_rate': 0.2},\n",
       " 'cv_results': defaultdict(list,\n",
       "             {'iterations': [0, 19],\n",
       "              'test-AUC-mean': [0.7712940545461381, 0.8439714315474383],\n",
       "              'test-AUC-std': [0.015558622053111213, 0.016808421406142224],\n",
       "              'train-AUC-mean': [0.7798767892942955, 0.8609987649045354],\n",
       "              'train-AUC-std': [0.013759662522173033, 0.0029239166570703013],\n",
       "              'test-Logloss-mean': [0.600845173320862, 0.4164729745328334],\n",
       "              'test-Logloss-std': [0.0030392913129672003, 0.01774157936720549],\n",
       "              'train-Logloss-mean': [0.5990515230298327, 0.39701796031994835],\n",
       "              'train-Logloss-std': [0.004226219698440272,\n",
       "               0.003697236615711008]})}"
      ]
     },
     "execution_count": 86,
     "metadata": {},
     "output_type": "execute_result"
    }
   ],
   "source": [
    "X_train = data.replace(encode).drop(target_col, axis  = 1)\n",
    "y_train = data[target_col]\n",
    "\n",
    "catboost = CatBoostClassifier(\n",
    "    cat_features=cat_cols,\n",
    "    logging_level=\"Silent\",\n",
    "    eval_metric=\"AUC:hints=skip_train~false\",\n",
    "    grow_policy=\"Lossguide\",\n",
    "    metric_period=1000,\n",
    "    random_seed=0,\n",
    ")\n",
    "\n",
    "param_catboost = {\n",
    "    \"n_estimators\": [5, 10, 20, 30, 40, 50, 70, 100, 150, 200, 250, 300, 500, 1000],\n",
    "    \"learning_rate\": [0.0001, 0.0005, 0.001, 0.005, 0.01, 0.02, 0.04, 0.05, 0.1, 0.2, 0.3, 0.5],\n",
    "    \"max_depth\": np.arange(4, 10, 1)\n",
    "}\n",
    "catboost.grid_search(param_catboost, X_train, y_train, cv=5, plot=True, refit=True)"
   ]
  },
  {
   "cell_type": "markdown",
   "metadata": {
    "id": "dDMXbvNZEEZV"
   },
   "source": [
    "# Предсказания"
   ]
  },
  {
   "cell_type": "code",
   "execution_count": 90,
   "metadata": {
    "colab": {
     "base_uri": "https://localhost:8080/"
    },
    "id": "G_P4wFNaEEZW",
    "outputId": "f58afa63-e4e7-4da5-d41e-d21e833eaf01"
   },
   "outputs": [
    {
     "name": "stdout",
     "output_type": "stream",
     "text": [
      "Best score: {'learn': {'Logloss': 0.4025739784349696, 'AUC': 0.8590265646826445}}\n",
      "Best params: {'random_seed': 0, 'logging_level': 'Silent', 'metric_period': 1000, 'eval_metric': 'AUC:hints=skip_train~false', 'cat_features': ['Sex', 'IsSeniorCitizen', 'HasPartner', 'HasChild', 'HasPhoneService', 'HasMultiplePhoneNumbers', 'HasInternetService', 'HasOnlineSecurityService', 'HasOnlineBackup', 'HasDeviceProtection', 'HasTechSupportAccess', 'HasOnlineTV', 'HasMovieSubscription', 'HasContractPhone', 'IsBillingPaperless', 'PaymentMethod'], 'grow_policy': 'Lossguide', 'depth': 4, 'iterations': 20, 'learning_rate': 0.2}\n"
     ]
    }
   ],
   "source": [
    "print(\"Best score:\", end=' ')\n",
    "print(catboost.best_score_)\n",
    "best_params = catboost.get_params()\n",
    "print(\"Best params:\", end=' ')\n",
    "print(best_params)"
   ]
  },
  {
   "cell_type": "code",
   "execution_count": 91,
   "metadata": {
    "id": "FfSufx0CEEZZ"
   },
   "outputs": [],
   "source": [
    "submission = pd.read_csv(INPUT_DIR + \"submission.csv\")\n",
    "submission[\"Churn\"] = catboost.predict_proba(X_test)[:, 1]\n",
    "submission.to_csv(INPUT_DIR + \"catboost.csv\", index=False)"
   ]
  },
  {
   "cell_type": "markdown",
   "metadata": {
    "id": "Vc6sQemxmeuc"
   },
   "source": [
    "![image.png](data:image/png;base64,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)"
   ]
  },
  {
   "cell_type": "markdown",
   "metadata": {
    "id": "mkxjbGkVEEZc"
   },
   "source": [
    "# Kaggle (5 баллов)\n",
    "\n",
    "Как выставить баллы:\n",
    "\n",
    "1) 1 >= roc auc > 0.84 это 5 баллов\n",
    "\n",
    "2) 0.84 >= roc auc > 0.7 это 3 балла\n",
    "\n",
    "3) 0.7 >= roc auc > 0.6 это 1 балл\n",
    "\n",
    "4) 0.6 >= roc auc это 0 баллов\n",
    "\n",
    "\n",
    "Для выполнения задания необходимо выполнить следующие шаги.\n",
    "* Зарегистрироваться на платформе [kaggle.com](kaggle.com). Процесс выставления оценок будет проходить при подведении итогового рейтинга. Пожалуйста, укажите во вкладке Team -> Team name свои имя и фамилию в формате Имя_Фамилия (важно, чтобы имя и фамилия совпадали с данными на Stepik).\n",
    "* Обучить модель, получить файл с ответами в формате .csv и сдать его в конкурс. Пробуйте и экспериментируйте. Обратите внимание, что вы можете выполнять до 20 попыток сдачи на kaggle в день.\n",
    "* После окончания соревнования отправить в итоговый ноутбук с решением на степик. \n",
    "* После дедлайна проверьте посылки других участников по критериям. Для этого надо зайти на степик, скачать их ноутбук и проверить скор в соревновании."
   ]
  }
 ],
 "metadata": {
  "colab": {
   "collapsed_sections": [],
   "provenance": []
  },
  "kernelspec": {
   "display_name": "Python 3 (ipykernel)",
   "language": "python",
   "name": "python3"
  },
  "language_info": {
   "codemirror_mode": {
    "name": "ipython",
    "version": 3
   },
   "file_extension": ".py",
   "mimetype": "text/x-python",
   "name": "python",
   "nbconvert_exporter": "python",
   "pygments_lexer": "ipython3",
   "version": "3.9.12"
  },
  "widgets": {
   "application/vnd.jupyter.widget-state+json": {
    "cdedc8d77df24ae9ad9f7475d131ed6e": {
     "model_module": "catboost-widget",
     "model_module_version": "^1.0.0",
     "model_name": "CatboostWidgetModel",
     "state": {
      "_dom_classes": [],
      "_model_module": "catboost-widget",
      "_model_module_version": "^1.0.0",
      "_model_name": "CatboostWidgetModel",
      "_view_count": null,
      "_view_module": "catboost-widget",
      "_view_module_version": "^1.0.0",
      "_view_name": "CatboostWidgetView",
      "data": {
       "catboost_info": {
        "content": {
         "data": {
          "iterations": [
           {
            "iteration": 0,
            "learn": [
             0.813917213,
             0.6928694469
            ],
            "parameters": [
             {
              "depth": 4,
              "iterations": 5,
              "learning_rate": 0.0001
             }
            ],
            "passed_time": 0.1191039404,
            "remaining_time": 119.937668,
            "test": [
             0.84216296,
             0.6928488088
            ]
           },
           {
            "iteration": 1,
            "learn": [
             0.813917213,
             0.6917613991
            ],
            "parameters": [
             {
              "depth": 4,
              "iterations": 5,
              "learning_rate": 0.0005
             }
            ],
            "passed_time": 0.184565388,
            "remaining_time": 92.83639018,
            "test": [
             0.84216296,
             0.6916583277
            ]
           },
           {
            "iteration": 2,
            "learn": [
             0.813917213,
             0.690382802
            ],
            "parameters": [
             {
              "depth": 4,
              "iterations": 5,
              "learning_rate": 0.001
             }
            ],
            "passed_time": 0.2521908251,
            "remaining_time": 84.48392641,
            "test": [
             0.84216296,
             0.6901769437
            ]
           },
           {
            "iteration": 3,
            "learn": [
             0.8142184265,
             0.6795918122
            ],
            "parameters": [
             {
              "depth": 4,
              "iterations": 5,
              "learning_rate": 0.005
             }
            ],
            "passed_time": 0.3510519897,
            "remaining_time": 88.11404942,
            "test": [
             0.8421844549,
             0.6785835139
            ]
           },
           {
            "iteration": 4,
            "learn": [
             0.8142627099,
             0.6669337256
            ],
            "parameters": [
             {
              "depth": 4,
              "iterations": 5,
              "learning_rate": 0.01
             }
            ],
            "passed_time": 0.4502209753,
            "remaining_time": 90.31432764,
            "test": [
             0.8411718063,
             0.6649952435
            ]
           },
           {
            "iteration": 5,
            "learn": [
             0.8147639176,
             0.6434129341
            ],
            "parameters": [
             {
              "depth": 4,
              "iterations": 5,
              "learning_rate": 0.02
             }
            ],
            "passed_time": 0.5502778929,
            "remaining_time": 91.89640811,
            "test": [
             0.843498032,
             0.6396397626
            ]
           },
           {
            "iteration": 6,
            "learn": [
             0.8275379572,
             0.5992032888
            ],
            "parameters": [
             {
              "depth": 4,
              "iterations": 5,
              "learning_rate": 0.04
             }
            ],
            "passed_time": 0.6282277867,
            "remaining_time": 89.83657349,
            "test": [
             0.855007356,
             0.5910664429
            ]
           },
           {
            "iteration": 7,
            "learn": [
             0.8163743674,
             0.5853109993
            ],
            "parameters": [
             {
              "depth": 4,
              "iterations": 5,
              "learning_rate": 0.05
             }
            ],
            "passed_time": 0.6773328817,
            "remaining_time": 84.66661021,
            "test": [
             0.8427982537,
             0.5762123338
            ]
           },
           {
            "iteration": 8,
            "learn": [
             0.8285019841,
             0.5159335607
            ],
            "parameters": [
             {
              "depth": 4,
              "iterations": 5,
              "learning_rate": 0.1
             }
            ],
            "passed_time": 0.7174275761,
            "remaining_time": 79.63446094,
            "test": [
             0.8578781191,
             0.4987477589
            ]
           },
           {
            "iteration": 9,
            "learn": [
             0.8330444847,
             0.456942577
            ],
            "parameters": [
             {
              "depth": 4,
              "iterations": 5,
              "learning_rate": 0.2
             }
            ],
            "passed_time": 0.7568886672,
            "remaining_time": 75.53748898,
            "test": [
             0.8650239788,
             0.4275491721
            ]
           },
           {
            "iteration": 10,
            "learn": [
             0.837264349,
             0.4373669699
            ],
            "parameters": [
             {
              "depth": 4,
              "iterations": 5,
              "learning_rate": 0.3
             }
            ],
            "passed_time": 0.798986535,
            "remaining_time": 72.41723412,
            "test": [
             0.8629652451,
             0.4087278272
            ]
           },
           {
            "iteration": 11,
            "learn": [
             0.8409786922,
             0.4204054135
            ],
            "parameters": [
             {
              "depth": 4,
              "iterations": 5,
              "learning_rate": 0.5
             }
            ],
            "passed_time": 0.845614982,
            "remaining_time": 70.18604351,
            "test": [
             0.867027781,
             0.3849876399
            ]
           },
           {
            "iteration": 12,
            "learn": [
             0.8309346963,
             0.6925575977
            ],
            "parameters": [
             {
              "depth": 4,
              "iterations": 10,
              "learning_rate": 0.0001
             }
            ],
            "passed_time": 0.9248689146,
            "remaining_time": 70.78804385,
            "test": [
             0.8616779395,
             0.6925043869
            ]
           },
           {
            "iteration": 13,
            "learn": [
             0.8288858696,
             0.690252079
            ],
            "parameters": [
             {
              "depth": 4,
              "iterations": 10,
              "learning_rate": 0.0005
             }
            ],
            "passed_time": 0.999707474,
            "remaining_time": 70.97923065,
            "test": [
             0.8602831595,
             0.6899808592
            ]
           },
           {
            "iteration": 14,
            "learn": [
             0.831439211,
             0.6873427345
            ],
            "parameters": [
             {
              "depth": 4,
              "iterations": 10,
              "learning_rate": 0.001
             }
            ],
            "passed_time": 1.088752891,
            "remaining_time": 72.0754414,
            "test": [
             0.8619573732,
             0.6868072346
            ]
           },
           {
            "iteration": 15,
            "learn": [
             0.8248481712,
             0.665922506
            ],
            "parameters": [
             {
              "depth": 4,
              "iterations": 10,
              "learning_rate": 0.005
             }
            ],
            "passed_time": 1.170766292,
            "remaining_time": 72.5875101,
            "test": [
             0.8533809087,
             0.6635277583
            ]
           },
           {
            "iteration": 16,
            "learn": [
             0.8317793881,
             0.6407589574
            ],
            "parameters": [
             {
              "depth": 4,
              "iterations": 10,
              "learning_rate": 0.01
             }
            ],
            "passed_time": 1.247969749,
            "remaining_time": 72.74929538,
            "test": [
             0.8626189384,
             0.635779095
            ]
           },
           {
            "iteration": 17,
            "learn": [
             0.8309989648,
             0.5988760583
            ],
            "parameters": [
             {
              "depth": 4,
              "iterations": 10,
              "learning_rate": 0.02
             }
            ],
            "passed_time": 1.335008819,
            "remaining_time": 73.42548504,
            "test": [
             0.8625425121,
             0.5899339478
            ]
           },
           {
            "iteration": 18,
            "learn": [
             0.8367953474,
             0.5390459823
            ],
            "parameters": [
             {
              "depth": 4,
              "iterations": 10,
              "learning_rate": 0.04
             }
            ],
            "passed_time": 1.414897572,
            "remaining_time": 73.64914204,
            "test": [
             0.8668391035,
             0.524238565
            ]
           },
           {
            "iteration": 19,
            "learn": [
             0.8345297044,
             0.5151764313
            ],
            "parameters": [
             {
              "depth": 4,
              "iterations": 10,
              "learning_rate": 0.05
             }
            ],
            "passed_time": 1.496196867,
            "remaining_time": 73.91212522,
            "test": [
             0.8604360121,
             0.49812773
            ]
           },
           {
            "iteration": 20,
            "learn": [
             0.84021696,
             0.4540062333
            ],
            "parameters": [
             {
              "depth": 4,
              "iterations": 10,
              "learning_rate": 0.1
             }
            ],
            "passed_time": 1.591936259,
            "remaining_time": 74.82100416,
            "test": [
             0.8654276052,
             0.4300805482
            ]
           },
           {
            "iteration": 21,
            "learn": [
             0.8457004831,
             0.424113774
            ],
            "parameters": [
             {
              "depth": 4,
              "iterations": 10,
              "learning_rate": 0.2
             }
            ],
            "passed_time": 1.674534648,
            "remaining_time": 75.0495983,
            "test": [
             0.8719381711,
             0.391890559
            ]
           },
           {
            "iteration": 22,
            "learn": [
             0.8481513112,
             0.4135670951
            ],
            "parameters": [
             {
              "depth": 4,
              "iterations": 10,
              "learning_rate": 0.3
             }
            ],
            "passed_time": 1.756209889,
            "remaining_time": 75.2115974,
            "test": [
             0.8666026596,
             0.3857489368
            ]
           },
           {
            "iteration": 23,
            "learn": [
             0.8547739821,
             0.4042324912
            ],
            "parameters": [
             {
              "depth": 4,
              "iterations": 10,
              "learning_rate": 0.5
             }
            ],
            "passed_time": 1.839226364,
            "remaining_time": 75.40828093,
            "test": [
             0.8653416256,
             0.3823492009
            ]
           },
           {
            "iteration": 24,
            "learn": [
             0.8308553313,
             0.6919289022
            ],
            "parameters": [
             {
              "depth": 4,
              "iterations": 20,
              "learning_rate": 0.0001
             }
            ],
            "passed_time": 1.986817354,
            "remaining_time": 78.12165837,
            "test": [
             0.8615059804,
             0.6918175448
            ]
           },
           {
            "iteration": 25,
            "learn": [
             0.8322273982,
             0.6871338754
            ],
            "parameters": [
             {
              "depth": 4,
              "iterations": 20,
              "learning_rate": 0.0005
             }
            ],
            "passed_time": 2.148778371,
            "remaining_time": 81.15770618,
            "test": [
             0.8635814322,
             0.6865459395
            ]
           },
           {
            "iteration": 26,
            "learn": [
             0.8328298252,
             0.6811820527
            ],
            "parameters": [
             {
              "depth": 4,
              "iterations": 20,
              "learning_rate": 0.001
             }
            ],
            "passed_time": 2.296653395,
            "remaining_time": 83.44507334,
            "test": [
             0.8629771867,
             0.6799936171
            ]
           },
           {
            "iteration": 27,
            "learn": [
             0.8354319071,
             0.6390876326
            ],
            "parameters": [
             {
              "depth": 4,
              "iterations": 20,
              "learning_rate": 0.005
             }
            ],
            "passed_time": 2.450278261,
            "remaining_time": 85.75973912,
            "test": [
             0.8645821392,
             0.6339617489
            ]
           },
           {
            "iteration": 28,
            "learn": [
             0.8342306476,
             0.5958782975
            ],
            "parameters": [
             {
              "depth": 4,
              "iterations": 20,
              "learning_rate": 0.01
             }
            ],
            "passed_time": 2.610081106,
            "remaining_time": 88.11273803,
            "test": [
             0.8635599373,
             0.5859128725
            ]
           },
           {
            "iteration": 29,
            "learn": [
             0.8370918162,
             0.535578413
            ],
            "parameters": [
             {
              "depth": 4,
              "iterations": 20,
              "learning_rate": 0.02
             }
            ],
            "passed_time": 2.784461178,
            "remaining_time": 90.77343442,
            "test": [
             0.8659291528,
             0.5200462276
            ]
           },
           {
            "iteration": 30,
            "learn": [
             0.8385080228,
             0.4754091385
            ],
            "parameters": [
             {
              "depth": 4,
              "iterations": 20,
              "learning_rate": 0.04
             }
            ],
            "passed_time": 2.935694437,
            "remaining_time": 92.52172469,
            "test": [
             0.8677395009,
             0.451573238
            ]
           },
           {
            "iteration": 31,
            "learn": [
             0.8408595008,
             0.4565645575
            ],
            "parameters": [
             {
              "depth": 4,
              "iterations": 20,
              "learning_rate": 0.05
             }
            ],
            "passed_time": 3.094453741,
            "remaining_time": 94.38083909,
            "test": [
             0.8667340173,
             0.4312529113
            ]
           },
           {
            "iteration": 32,
            "learn": [
             0.8498130895,
             0.421196531
            ],
            "parameters": [
             {
              "depth": 4,
              "iterations": 20,
              "learning_rate": 0.1
             }
            ],
            "passed_time": 3.25045102,
            "remaining_time": 96.03605286,
            "test": [
             0.8673454278,
             0.3957605816
            ]
           },
           {
            "iteration": 33,
            "learn": [
             0.8551262365,
             0.406699123
            ],
            "parameters": [
             {
              "depth": 4,
              "iterations": 20,
              "learning_rate": 0.2
             }
            ],
            "passed_time": 3.404083547,
            "remaining_time": 97.5169816,
            "test": [
             0.87323503,
             0.3782543206
            ]
           },
           {
            "iteration": 34,
            "learn": [
             0.8604727398,
             0.397887378
            ],
            "parameters": [
             {
              "depth": 4,
              "iterations": 20,
              "learning_rate": 0.3
             }
            ],
            "passed_time": 3.547086673,
            "remaining_time": 98.60900951,
            "test": [
             0.8641450762,
             0.3842785142
            ]
           },
           {
            "iteration": 35,
            "learn": [
             0.8660628019,
             0.3900196003
            ],
            "parameters": [
             {
              "depth": 4,
              "iterations": 20,
              "learning_rate": 0.5
             }
            ],
            "passed_time": 3.714937782,
            "remaining_time": 100.3033201,
            "test": [
             0.8671734686,
             0.3807109798
            ]
           },
           {
            "iteration": 36,
            "learn": [
             0.8318675236,
             0.6912962596
            ],
            "parameters": [
             {
              "depth": 4,
              "iterations": 30,
              "learning_rate": 0.0001
             }
            ],
            "passed_time": 3.943697639,
            "remaining_time": 103.4954164,
            "test": [
             0.8611190722,
             0.6911224903
            ]
           },
           {
            "iteration": 37,
            "learn": [
             0.8332945135,
             0.6840747909
            ],
            "parameters": [
             {
              "depth": 4,
              "iterations": 30,
              "learning_rate": 0.0005
             }
            ],
            "passed_time": 4.190962194,
            "remaining_time": 106.9798244,
            "test": [
             0.8646131874,
             0.6831649539
            ]
           },
           {
            "iteration": 38,
            "learn": [
             0.8323330745,
             0.6753221542
            ],
            "parameters": [
             {
              "depth": 4,
              "iterations": 30,
              "learning_rate": 0.001
             }
            ],
            "passed_time": 4.425016566,
            "remaining_time": 109.9446424,
            "test": [
             0.8633449883,
             0.6735291455
            ]
           },
           {
            "iteration": 39,
            "learn": [
             0.8347890787,
             0.6160629335
            ],
            "parameters": [
             {
              "depth": 4,
              "iterations": 30,
              "learning_rate": 0.005
             }
            ],
            "passed_time": 4.677873023,
            "remaining_time": 113.2045272,
            "test": [
             0.8638704192,
             0.6084554725
            ]
           },
           {
            "iteration": 40,
            "learn": [
             0.8359204624,
             0.5617812432
            ],
            "parameters": [
             {
              "depth": 4,
              "iterations": 30,
              "learning_rate": 0.01
             }
            ],
            "passed_time": 4.902912378,
            "remaining_time": 115.6369822,
            "test": [
             0.8646872253,
             0.548110447
            ]
           },
           {
            "iteration": 41,
            "learn": [
             0.8382020646,
             0.4993504403
            ],
            "parameters": [
             {
              "depth": 4,
              "iterations": 30,
              "learning_rate": 0.02
             }
            ],
            "passed_time": 5.151585922,
            "remaining_time": 118.4864762,
            "test": [
             0.8648663495,
             0.4796611203
            ]
           },
           {
            "iteration": 42,
            "learn": [
             0.8428427651,
             0.4455212517
            ],
            "parameters": [
             {
              "depth": 4,
              "iterations": 30,
              "learning_rate": 0.04
             }
            ],
            "passed_time": 5.41334463,
            "remaining_time": 121.4855248,
            "test": [
             0.8686279567,
             0.4183658958
            ]
           },
           {
            "iteration": 43,
            "learn": [
             0.8453946687,
             0.4345562015
            ],
            "parameters": [
             {
              "depth": 4,
              "iterations": 30,
              "learning_rate": 0.05
             }
            ],
            "passed_time": 5.639100803,
            "remaining_time": 123.5475721,
            "test": [
             0.8699893003,
             0.4061894586
            ]
           },
           {
            "iteration": 44,
            "learn": [
             0.8539246894,
             0.4102322662
            ],
            "parameters": [
             {
              "depth": 4,
              "iterations": 30,
              "learning_rate": 0.1
             }
            ],
            "passed_time": 5.886216555,
            "remaining_time": 125.9650343,
            "test": [
             0.8685395888,
             0.3861048618
            ]
           },
           {
            "iteration": 45,
            "learn": [
             0.8610748792,
             0.3982286502
            ],
            "parameters": [
             {
              "depth": 4,
              "iterations": 30,
              "learning_rate": 0.2
             }
            ],
            "passed_time": 6.141997058,
            "remaining_time": 128.4478515,
            "test": [
             0.8727573656,
             0.3758639263
            ]
           },
           {
            "iteration": 46,
            "learn": [
             0.8663349724,
             0.3903370746
            ],
            "parameters": [
             {
              "depth": 4,
              "iterations": 30,
              "learning_rate": 0.3
             }
            ],
            "passed_time": 6.376217701,
            "remaining_time": 130.3733024,
            "test": [
             0.8648615729,
             0.3828556173
            ]
           },
           {
            "iteration": 47,
            "learn": [
             0.8885474178,
             0.3612282109
            ],
            "parameters": [
             {
              "depth": 4,
              "iterations": 30,
              "learning_rate": 0.5
             }
            ],
            "passed_time": 6.613271522,
            "remaining_time": 132.2654304,
            "test": [
             0.8573455233,
             0.3911592359
            ]
           },
           {
            "iteration": 48,
            "learn": [
             0.832822205,
             0.6906765397
            ],
            "parameters": [
             {
              "depth": 4,
              "iterations": 40,
              "learning_rate": 0.0001
             }
            ],
            "passed_time": 6.92171491,
            "remaining_time": 135.467849,
            "test": [
             0.860813367,
             0.6904505656
            ]
           },
           {
            "iteration": 49,
            "learn": [
             0.8337088797,
             0.6810160107
            ],
            "parameters": [
             {
              "depth": 4,
              "iterations": 40,
              "learning_rate": 0.0005
             }
            ],
            "passed_time": 7.258458373,
            "remaining_time": 139.0720624,
            "test": [
             0.8641379113,
             0.6797913661
            ]
           },
           {
            "iteration": 50,
            "learn": [
             0.8320925351,
             0.6695624594
            ],
            "parameters": [
             {
              "depth": 4,
              "iterations": 40,
              "learning_rate": 0.001
             }
            ],
            "passed_time": 7.557119074,
            "remaining_time": 141.8071167,
            "test": [
             0.8632399022,
             0.6671701309
            ]
           },
           {
            "iteration": 51,
            "learn": [
             0.8347726881,
             0.595497219
            ],
            "parameters": [
             {
              "depth": 4,
              "iterations": 40,
              "learning_rate": 0.005
             }
            ],
            "passed_time": 7.897102922,
            "remaining_time": 145.1851999,
            "test": [
             0.864121193,
             0.5855377501
            ]
           },
           {
            "iteration": 52,
            "learn": [
             0.835689556,
             0.5361221672
            ],
            "parameters": [
             {
              "depth": 4,
              "iterations": 40,
              "learning_rate": 0.01
             }
            ],
            "passed_time": 8.206452533,
            "remaining_time": 147.8709843,
            "test": [
             0.864551091,
             0.5191834473
            ]
           },
           {
            "iteration": 53,
            "learn": [
             0.8394384058,
             0.4752214766
            ],
            "parameters": [
             {
              "depth": 4,
              "iterations": 40,
              "learning_rate": 0.02
             }
            ],
            "passed_time": 8.506261336,
            "remaining_time": 150.2772836,
            "test": [
             0.8651219,
             0.4524817088
            ]
           },
           {
            "iteration": 54,
            "learn": [
             0.8454326259,
             0.4320245026
            ],
            "parameters": [
             {
              "depth": 4,
              "iterations": 40,
              "learning_rate": 0.04
             }
            ],
            "passed_time": 8.838553628,
            "remaining_time": 153.1480292,
            "test": [
             0.8691605526,
             0.4037966619
            ]
           },
           {
            "iteration": 55,
            "learn": [
             0.8494570968,
             0.4224138432
            ],
            "parameters": [
             {
              "depth": 4,
              "iterations": 40,
              "learning_rate": 0.05
             }
            ],
            "passed_time": 9.155658336,
            "remaining_time": 155.6461917,
            "test": [
             0.8715130498,
             0.3934889368
            ]
           },
           {
            "iteration": 56,
            "learn": [
             0.8570613354,
             0.404452271
            ],
            "parameters": [
             {
              "depth": 4,
              "iterations": 40,
              "learning_rate": 0.1
             }
            ],
            "passed_time": 9.463247023,
            "remaining_time": 157.8868056,
            "test": [
             0.869482976,
             0.3822253342
            ]
           },
           {
            "iteration": 57,
            "learn": [
             0.8666229584,
             0.3913160102
            ],
            "parameters": [
             {
              "depth": 4,
              "iterations": 40,
              "learning_rate": 0.2
             }
            ],
            "passed_time": 9.777465694,
            "remaining_time": 160.148145,
            "test": [
             0.8719931025,
             0.3760267748
            ]
           },
           {
            "iteration": 58,
            "learn": [
             0.8785068726,
             0.3755278664
            ],
            "parameters": [
             {
              "depth": 4,
              "iterations": 40,
              "learning_rate": 0.3
             }
            ],
            "passed_time": 10.11688574,
            "remaining_time": 162.727535,
            "test": [
             0.8604121289,
             0.3881321966
            ]
           },
           {
            "iteration": 59,
            "learn": [
             0.9061727916,
             0.3363065104
            ],
            "parameters": [
             {
              "depth": 4,
              "iterations": 40,
              "learning_rate": 0.5
             }
            ],
            "passed_time": 10.43027525,
            "remaining_time": 164.7983489,
            "test": [
             0.8522679506,
             0.3982416238
            ]
           },
           {
            "iteration": 60,
            "learn": [
             0.8330792788,
             0.6900483033
            ],
            "parameters": [
             {
              "depth": 4,
              "iterations": 50,
              "learning_rate": 0.0001
             }
            ],
            "passed_time": 10.81845586,
            "remaining_time": 167.9520935,
            "test": [
             0.8614104475,
             0.6897579278
            ]
           },
           {
            "iteration": 61,
            "learn": [
             0.8337108926,
             0.6780793528
            ],
            "parameters": [
             {
              "depth": 4,
              "iterations": 50,
              "learning_rate": 0.0005
             }
            ],
            "passed_time": 11.21728648,
            "remaining_time": 171.1540808,
            "test": [
             0.8636578585,
             0.6765399966
            ]
           },
           {
            "iteration": 62,
            "learn": [
             0.8321522027,
             0.6639774856
            ],
            "parameters": [
             {
              "depth": 4,
              "iterations": 50,
              "learning_rate": 0.001
             }
            ],
            "passed_time": 11.58616204,
            "remaining_time": 173.7924307,
            "test": [
             0.8624684741,
             0.6610178926
            ]
           },
           {
            "iteration": 63,
            "learn": [
             0.8350698758,
             0.5773400144
            ],
            "parameters": [
             {
              "depth": 4,
              "iterations": 50,
              "learning_rate": 0.005
             }
            ],
            "passed_time": 11.98490909,
            "remaining_time": 176.7774091,
            "test": [
             0.8632375139,
             0.5655943775
            ]
           },
           {
            "iteration": 64,
            "learn": [
             0.8370088567,
             0.5154087614
            ],
            "parameters": [
             {
              "depth": 4,
              "iterations": 50,
              "learning_rate": 0.01
             }
            ],
            "passed_time": 12.38181478,
            "remaining_time": 179.6315591,
            "test": [
             0.8643862968,
             0.4966791072
            ]
           },
           {
            "iteration": 65,
            "learn": [
             0.8414009662,
             0.4596763495
            ],
            "parameters": [
             {
              "depth": 4,
              "iterations": 50,
              "learning_rate": 0.02
             }
            ],
            "passed_time": 12.75843624,
            "remaining_time": 182.0976808,
            "test": [
             0.8665095151,
             0.4351121404
            ]
           },
           {
            "iteration": 66,
            "learn": [
             0.8482390154,
             0.4227018276
            ],
            "parameters": [
             {
              "depth": 4,
              "iterations": 50,
              "learning_rate": 0.04
             }
            ],
            "passed_time": 13.15904671,
            "remaining_time": 184.815865,
            "test": [
             0.8697552448,
             0.3947085184
            ]
           },
           {
            "iteration": 67,
            "learn": [
             0.8519175581,
             0.4152808
            ],
            "parameters": [
             {
              "depth": 4,
              "iterations": 50,
              "learning_rate": 0.05
             }
            ],
            "passed_time": 13.54365911,
            "remaining_time": 187.22117,
            "test": [
             0.8718330849,
             0.386795967
            ]
           },
           {
            "iteration": 68,
            "learn": [
             0.8595657925,
             0.4007883319
            ],
            "parameters": [
             {
              "depth": 4,
              "iterations": 50,
              "learning_rate": 0.1
             }
            ],
            "passed_time": 13.95092024,
            "remaining_time": 189.8538276,
            "test": [
             0.8694065497,
             0.3810194528
            ]
           },
           {
            "iteration": 69,
            "learn": [
             0.8737373476,
             0.3822642782
            ],
            "parameters": [
             {
              "depth": 4,
              "iterations": 50,
              "learning_rate": 0.2
             }
            ],
            "passed_time": 14.36051004,
            "remaining_time": 192.4308345,
            "test": [
             0.870261569,
             0.3768367257
            ]
           },
           {
            "iteration": 70,
            "learn": [
             0.8909085289,
             0.3592724658
            ],
            "parameters": [
             {
              "depth": 4,
              "iterations": 50,
              "learning_rate": 0.3
             }
            ],
            "passed_time": 14.74729927,
            "remaining_time": 194.6228087,
            "test": [
             0.8590675035,
             0.3890684851
            ]
           },
           {
            "iteration": 71,
            "learn": [
             0.9205979699,
             0.3145442167
            ],
            "parameters": [
             {
              "depth": 4,
              "iterations": 50,
              "learning_rate": 0.5
             }
            ],
            "passed_time": 15.18025168,
            "remaining_time": 197.3432718,
            "test": [
             0.8474148802,
             0.4062545185
            ]
           },
           {
            "iteration": 72,
            "learn": [
             0.8330601564,
             0.6888071555
            ],
            "parameters": [
             {
              "depth": 4,
              "iterations": 70,
              "learning_rate": 0.0001
             }
            ],
            "passed_time": 15.74690378,
            "remaining_time": 201.689795,
            "test": [
             0.8628434407,
             0.6883877295
            ]
           },
           {
            "iteration": 73,
            "learn": [
             0.833174747,
             0.6723033435
            ],
            "parameters": [
             {
              "depth": 4,
              "iterations": 70,
              "learning_rate": 0.0005
             }
            ],
            "passed_time": 16.31341281,
            "remaining_time": 205.9017238,
            "test": [
             0.8628386641,
             0.6701870091
            ]
           },
           {
            "iteration": 74,
            "learn": [
             0.8327179664,
             0.6531350722
            ],
            "parameters": [
             {
              "depth": 4,
              "iterations": 70,
              "learning_rate": 0.001
             }
            ],
            "passed_time": 16.85676669,
            "remaining_time": 209.6981776,
            "test": [
             0.8626499866,
             0.6490590623
            ]
           },
           {
            "iteration": 75,
            "learn": [
             0.8359644582,
             0.547454679
            ],
            "parameters": [
             {
              "depth": 4,
              "iterations": 70,
              "learning_rate": 0.005
             }
            ],
            "passed_time": 17.42694424,
            "remaining_time": 213.7093688,
            "test": [
             0.8639516221,
             0.5323868759
            ]
           },
           {
            "iteration": 76,
            "learn": [
             0.838228951,
             0.4851334683
            ],
            "parameters": [
             {
              "depth": 4,
              "iterations": 70,
              "learning_rate": 0.01
             }
            ],
            "passed_time": 17.94850457,
            "remaining_time": 217.0137371,
            "test": [
             0.8650789102,
             0.4624277876
            ]
           },
           {
            "iteration": 77,
            "learn": [
             0.8445229469,
             0.4392314147
            ],
            "parameters": [
             {
              "depth": 4,
              "iterations": 70,
              "learning_rate": 0.02
             }
            ],
            "passed_time": 18.49817249,
            "remaining_time": 220.5551336,
            "test": [
             0.8676224732,
             0.4127415088
            ]
           },
           {
            "iteration": 78,
            "learn": [
             0.8521240223,
             0.4133388752
            ],
            "parameters": [
             {
              "depth": 4,
              "iterations": 70,
              "learning_rate": 0.04
             }
            ],
            "passed_time": 19.03942482,
            "remaining_time": 223.8939956,
            "test": [
             0.8704239749,
             0.3864375895
            ]
           },
           {
            "iteration": 79,
            "learn": [
             0.8558343398,
             0.4071581347
            ],
            "parameters": [
             {
              "depth": 4,
              "iterations": 70,
              "learning_rate": 0.05
             }
            ],
            "passed_time": 19.58216554,
            "remaining_time": 227.1531203,
            "test": [
             0.8714724483,
             0.3814355532
            ]
           },
           {
            "iteration": 80,
            "learn": [
             0.8637094548,
             0.3944214275
            ],
            "parameters": [
             {
              "depth": 4,
              "iterations": 70,
              "learning_rate": 0.1
             }
            ],
            "passed_time": 20.11988736,
            "remaining_time": 230.2609331,
            "test": [
             0.8684512209,
             0.3804035837
            ]
           },
           {
            "iteration": 81,
            "learn": [
             0.8898730446,
             0.3625628154
            ],
            "parameters": [
             {
              "depth": 4,
              "iterations": 70,
              "learning_rate": 0.2
             }
            ],
            "passed_time": 20.68464318,
            "remaining_time": 233.5851169,
            "test": [
             0.8664307004,
             0.3800976922
            ]
           },
           {
            "iteration": 82,
            "learn": [
             0.9124643432,
             0.3299904481
            ],
            "parameters": [
             {
              "depth": 4,
              "iterations": 70,
              "learning_rate": 0.3
             }
            ],
            "passed_time": 21.2570312,
            "remaining_time": 236.9006489,
            "test": [
             0.8502044404,
             0.4009045761
            ]
           },
           {
            "iteration": 83,
            "learn": [
             0.9360744479,
             0.2887482982
            ],
            "parameters": [
             {
              "depth": 4,
              "iterations": 70,
              "learning_rate": 0.5
             }
            ],
            "passed_time": 21.82229627,
            "remaining_time": 240.045259,
            "test": [
             0.8433356261,
             0.4152239123
            ]
           },
           {
            "iteration": 84,
            "learn": [
             0.833563377,
             0.6869352142
            ],
            "parameters": [
             {
              "depth": 4,
              "iterations": 100,
              "learning_rate": 0.0001
             }
            ],
            "passed_time": 22.61146737,
            "remaining_time": 245.5339339,
            "test": [
             0.8628386641,
             0.686334402
            ]
           },
           {
            "iteration": 85,
            "learn": [
             0.8330837359,
             0.663931614
            ],
            "parameters": [
             {
              "depth": 4,
              "iterations": 100,
              "learning_rate": 0.0005
             }
            ],
            "passed_time": 23.36755892,
            "remaining_time": 250.5219689,
            "test": [
             0.8624756391,
             0.6609392255
            ]
           },
           {
            "iteration": 86,
            "learn": [
             0.8334585634,
             0.637919537
            ],
            "parameters": [
             {
              "depth": 4,
              "iterations": 100,
              "learning_rate": 0.001
             }
            ],
            "passed_time": 24.08958584,
            "remaining_time": 255.0173398,
            "test": [
             0.8626404333,
             0.6323763531
            ]
           },
           {
            "iteration": 87,
            "learn": [
             0.8374965493,
             0.5143940286
            ],
            "parameters": [
             {
              "depth": 4,
              "iterations": 100,
              "learning_rate": 0.005
             }
            ],
            "passed_time": 24.85866836,
            "remaining_time": 259.8860783,
            "test": [
             0.8641832894,
             0.4958581778
            ]
           },
           {
            "iteration": 88,
            "learn": [
             0.8410582011,
             0.4581681122
            ],
            "parameters": [
             {
              "depth": 4,
              "iterations": 100,
              "learning_rate": 0.01
             }
            ],
            "passed_time": 25.62679594,
            "remaining_time": 264.6182637,
            "test": [
             0.8663996523,
             0.4326714358
            ]
           },
           {
            "iteration": 89,
            "learn": [
             0.8486313837,
             0.423054481
            ],
            "parameters": [
             {
              "depth": 4,
              "iterations": 100,
              "learning_rate": 0.02
             }
            ],
            "passed_time": 26.43003626,
            "remaining_time": 269.5863698,
            "test": [
             0.8692298139,
             0.3958746429
            ]
           },
           {
            "iteration": 90,
            "learn": [
             0.8571685933,
             0.4046964915
            ],
            "parameters": [
             {
              "depth": 4,
              "iterations": 100,
              "learning_rate": 0.04
             }
            ],
            "passed_time": 27.18944092,
            "remaining_time": 273.9859046,
            "test": [
             0.8704597998,
             0.3815896513
            ]
           },
           {
            "iteration": 91,
            "learn": [
             0.8603091212,
             0.399819209
            ],
            "parameters": [
             {
              "depth": 4,
              "iterations": 100,
              "learning_rate": 0.05
             }
            ],
            "passed_time": 27.96888542,
            "remaining_time": 278.4728157,
            "test": [
             0.8711834613,
             0.3782200429
            ]
           },
           {
            "iteration": 92,
            "learn": [
             0.8733037152,
             0.3826780673
            ],
            "parameters": [
             {
              "depth": 4,
              "iterations": 100,
              "learning_rate": 0.1
             }
            ],
            "passed_time": 28.75587808,
            "remaining_time": 282.9207359,
            "test": [
             0.8673406512,
             0.3806674273
            ]
           },
           {
            "iteration": 93,
            "learn": [
             0.9084727973,
             0.3371378263
            ],
            "parameters": [
             {
              "depth": 4,
              "iterations": 100,
              "learning_rate": 0.2
             }
            ],
            "passed_time": 29.54951191,
            "remaining_time": 287.3218498,
            "test": [
             0.8617233177,
             0.385225367
            ]
           },
           {
            "iteration": 94,
            "learn": [
             0.9342453129,
             0.296724509
            ],
            "parameters": [
             {
              "depth": 4,
              "iterations": 100,
              "learning_rate": 0.3
             }
            ],
            "passed_time": 30.34598845,
            "remaining_time": 291.6409205,
            "test": [
             0.8446563682,
             0.41157799
            ]
           },
           {
            "iteration": 95,
            "learn": [
             0.9622276858,
             0.2393379608
            ],
            "parameters": [
             {
              "depth": 4,
              "iterations": 100,
              "learning_rate": 0.5
             }
            ],
            "passed_time": 31.12884363,
            "remaining_time": 295.7240145,
            "test": [
             0.8280838014,
             0.4458868438
            ]
           },
           {
            "iteration": 96,
            "learn": [
             0.8336237635,
             0.6838873036
            ],
            "parameters": [
             {
              "depth": 4,
              "iterations": 150,
              "learning_rate": 0.0001
             }
            ],
            "passed_time": 32.2624321,
            "remaining_time": 303.0007798,
            "test": [
             0.8627240246,
             0.682986289
            ]
           },
           {
            "iteration": 97,
            "learn": [
             0.8334171555,
             0.6504454024
            ],
            "parameters": [
             {
              "depth": 4,
              "iterations": 150,
              "learning_rate": 0.0005
             }
            ],
            "passed_time": 33.40590854,
            "remaining_time": 310.1977221,
            "test": [
             0.8625616187,
             0.646060739
            ]
           },
           {
            "iteration": 98,
            "learn": [
             0.8338699103,
             0.6149370789
            ],
            "parameters": [
             {
              "depth": 4,
              "iterations": 150,
              "learning_rate": 0.001
             }
            ],
            "passed_time": 34.513891,
            "remaining_time": 316.9002719,
            "test": [
             0.862296515,
             0.6070236253
            ]
           },
           {
            "iteration": 99,
            "learn": [
             0.838868185,
             0.4789275199
            ],
            "parameters": [
             {
              "depth": 4,
              "iterations": 150,
              "learning_rate": 0.005
             }
            ],
            "passed_time": 35.6749544,
            "remaining_time": 323.9285859,
            "test": [
             0.8650812985,
             0.4563124738
            ]
           },
           {
            "iteration": 100,
            "learn": [
             0.8452861169,
             0.4356359639
            ],
            "parameters": [
             {
              "depth": 4,
              "iterations": 150,
              "learning_rate": 0.01
             }
            ],
            "passed_time": 36.85570289,
            "remaining_time": 330.9715101,
            "test": [
             0.8686422867,
             0.4080085567
            ]
           },
           {
            "iteration": 101,
            "learn": [
             0.8544897343,
             0.4102269433
            ],
            "parameters": [
             {
              "depth": 4,
              "iterations": 150,
              "learning_rate": 0.02
             }
            ],
            "passed_time": 38.03647469,
            "remaining_time": 337.8533928,
            "test": [
             0.8698245061,
             0.3856318882
            ]
           },
           {
            "iteration": 102,
            "learn": [
             0.8618662296,
             0.3974072619
            ],
            "parameters": [
             {
              "depth": 4,
              "iterations": 150,
              "learning_rate": 0.04
             }
            ],
            "passed_time": 39.16436011,
            "remaining_time": 344.1140379,
            "test": [
             0.869853166,
             0.379319621
            ]
           },
           {
            "iteration": 103,
            "learn": [
             0.866607718,
             0.3914422689
            ],
            "parameters": [
             {
              "depth": 4,
              "iterations": 150,
              "learning_rate": 0.05
             }
            ],
            "passed_time": 40.29203079,
            "remaining_time": 350.2307292,
            "test": [
             0.8697767397,
             0.3781867897
            ]
           },
           {
            "iteration": 104,
            "learn": [
             0.8965119623,
             0.3541876282
            ],
            "parameters": [
             {
              "depth": 4,
              "iterations": 150,
              "learning_rate": 0.1
             }
            ],
            "passed_time": 41.46119938,
            "remaining_time": 356.5663147,
            "test": [
             0.8635241125,
             0.384376462
            ]
           },
           {
            "iteration": 105,
            "learn": [
             0.9358810674,
             0.2961925509
            ],
            "parameters": [
             {
              "depth": 4,
              "iterations": 150,
              "learning_rate": 0.2
             }
            ],
            "passed_time": 42.67475002,
            "remaining_time": 363.1379672,
            "test": [
             0.8573049219,
             0.3927863683
            ]
           },
           {
            "iteration": 106,
            "learn": [
             0.9612228261,
             0.2473565436
            ],
            "parameters": [
             {
              "depth": 4,
              "iterations": 150,
              "learning_rate": 0.3
             }
            ],
            "passed_time": 43.83770757,
            "remaining_time": 369.1380796,
            "test": [
             0.8365169666,
             0.4261542832
            ]
           },
           {
            "iteration": 107,
            "learn": [
             0.9832324017,
             0.1850390868
            ],
            "parameters": [
             {
              "depth": 4,
              "iterations": 150,
              "learning_rate": 0.5
             }
            ],
            "passed_time": 44.99641596,
            "remaining_time": 374.970133,
            "test": [
             0.8216018954,
             0.4703077398
            ]
           },
           {
            "iteration": 108,
            "learn": [
             0.8336098171,
             0.6808585874
            ],
            "parameters": [
             {
              "depth": 4,
              "iterations": 200,
              "learning_rate": 0.0001
             }
            ],
            "passed_time": 46.50217532,
            "remaining_time": 383.53629,
            "test": [
             0.8627813443,
             0.6796574979
            ]
           },
           {
            "iteration": 109,
            "learn": [
             0.8335597826,
             0.6378132163
            ],
            "parameters": [
             {
              "depth": 4,
              "iterations": 200,
              "learning_rate": 0.0005
             }
            ],
            "passed_time": 48.01868703,
            "remaining_time": 392.0070996,
            "test": [
             0.8623920478,
             0.6322050518
            ]
           },
           {
            "iteration": 110,
            "learn": [
             0.8346181274,
             0.5943295535
            ],
            "parameters": [
             {
              "depth": 4,
              "iterations": 200,
              "learning_rate": 0.001
             }
            ],
            "passed_time": 49.50638233,
            "remaining_time": 400.0650896,
            "test": [
             0.8629413619,
             0.5842317262
            ]
           },
           {
            "iteration": 111,
            "learn": [
             0.8413701978,
             0.4577906582
            ],
            "parameters": [
             {
              "depth": 4,
              "iterations": 200,
              "learning_rate": 0.005
             }
            ],
            "passed_time": 51.02936755,
            "remaining_time": 408.2349404,
            "test": [
             0.8669895678,
             0.4324679352
            ]
           },
           {
            "iteration": 112,
            "learn": [
             0.8489321659,
             0.4235097873
            ],
            "parameters": [
             {
              "depth": 4,
              "iterations": 200,
              "learning_rate": 0.01
             }
            ],
            "passed_time": 52.54258719,
            "remaining_time": 416.1558897,
            "test": [
             0.869912874,
             0.3956253255
            ]
           },
           {
            "iteration": 113,
            "learn": [
             0.8580247872,
             0.4038127912
            ],
            "parameters": [
             {
              "depth": 4,
              "iterations": 200,
              "learning_rate": 0.02
             }
            ],
            "passed_time": 54.07290487,
            "remaining_time": 424.0454119,
            "test": [
             0.8696812068,
             0.3820396832
            ]
           },
           {
            "iteration": 114,
            "learn": [
             0.8669941914,
             0.3907840879
            ],
            "parameters": [
             {
              "depth": 4,
              "iterations": 200,
              "learning_rate": 0.04
             }
            ],
            "passed_time": 55.61197717,
            "remaining_time": 431.8390923,
            "test": [
             0.8694208797,
             0.3789663004
            ]
           },
           {
            "iteration": 115,
            "learn": [
             0.8745189211,
             0.3811199532
            ],
            "parameters": [
             {
              "depth": 4,
              "iterations": 200,
              "learning_rate": 0.05
             }
            ],
            "passed_time": 57.13384621,
            "remaining_time": 439.339576,
            "test": [
             0.868718713,
             0.3786789594
            ]
           },
           {
            "iteration": 116,
            "learn": [
             0.9125986312,
             0.332444593
            ],
            "parameters": [
             {
              "depth": 4,
              "iterations": 200,
              "learning_rate": 0.1
             }
            ],
            "passed_time": 58.64645687,
            "remaining_time": 446.6153254,
            "test": [
             0.8596526424,
             0.3898716271
            ]
           },
           {
            "iteration": 117,
            "learn": [
             0.9528690764,
             0.2675909852
            ],
            "parameters": [
             {
              "depth": 4,
              "iterations": 200,
              "learning_rate": 0.2
             }
            ],
            "passed_time": 60.20303782,
            "remaining_time": 454.0737598,
            "test": [
             0.8503166915,
             0.4030117985
            ]
           },
           {
            "iteration": 118,
            "learn": [
             0.976816914,
             0.2112562636
            ],
            "parameters": [
             {
              "depth": 4,
              "iterations": 200,
              "learning_rate": 0.3
             }
            ],
            "passed_time": 61.75189551,
            "remaining_time": 461.3229841,
            "test": [
             0.8341405862,
             0.440202497
            ]
           },
           {
            "iteration": 119,
            "learn": [
             0.9923907292,
             0.1491559502
            ],
            "parameters": [
             {
              "depth": 4,
              "iterations": 200,
              "learning_rate": 0.5
             }
            ],
            "passed_time": 63.33050672,
            "remaining_time": 468.6457497,
            "test": [
             0.8182510795,
             0.4945924152
            ]
           },
           {
            "iteration": 120,
            "learn": [
             0.8336080918,
             0.6778608134
            ],
            "parameters": [
             {
              "depth": 4,
              "iterations": 250,
              "learning_rate": 0.0001
             }
            ],
            "passed_time": 65.20039659,
            "remaining_time": 477.9566263,
            "test": [
             0.8625329588,
             0.6763605707
            ]
           },
           {
            "iteration": 121,
            "learn": [
             0.8337062917,
             0.6258924377
            ],
            "parameters": [
             {
              "depth": 4,
              "iterations": 250,
              "learning_rate": 0.0005
             }
            ],
            "passed_time": 67.07964705,
            "remaining_time": 487.1521909,
            "test": [
             0.8625974435,
             0.6190194871
            ]
           },
           {
            "iteration": 122,
            "learn": [
             0.8345550092,
             0.5763739735
            ],
            "parameters": [
             {
              "depth": 4,
              "iterations": 250,
              "learning_rate": 0.001
             }
            ],
            "passed_time": 68.97586262,
            "remaining_time": 496.2897432,
            "test": [
             0.8629246437,
             0.5642560544
            ]
           },
           {
            "iteration": 123,
            "learn": [
             0.8435339027,
             0.4444591191
            ],
            "parameters": [
             {
              "depth": 4,
              "iterations": 250,
              "learning_rate": 0.005
             }
            ],
            "passed_time": 70.90753039,
            "remaining_time": 505.5020715,
            "test": [
             0.8678326455,
             0.4178256193
            ]
           },
           {
            "iteration": 124,
            "learn": [
             0.851951202,
             0.4158173318
            ],
            "parameters": [
             {
              "depth": 4,
              "iterations": 250,
              "learning_rate": 0.01
             }
            ],
            "passed_time": 72.87018409,
            "remaining_time": 514.7549804,
            "test": [
             0.8706198173,
             0.388460501
            ]
           },
           {
            "iteration": 125,
            "learn": [
             0.8606396653,
             0.3995192678
            ],
            "parameters": [
             {
              "depth": 4,
              "iterations": 250,
              "learning_rate": 0.02
             }
            ],
            "passed_time": 74.78436616,
            "remaining_time": 523.4905631,
            "test": [
             0.8698245061,
             0.3803326336
            ]
           },
           {
            "iteration": 126,
            "learn": [
             0.8743131758,
             0.3818369053
            ],
            "parameters": [
             {
              "depth": 4,
              "iterations": 250,
              "learning_rate": 0.04
             }
            ],
            "passed_time": 76.68176531,
            "remaining_time": 531.9420097,
            "test": [
             0.8685419771,
             0.3791947019
            ]
           },
           {
            "iteration": 127,
            "learn": [
             0.8852060329,
             0.3682363173
            ],
            "parameters": [
             {
              "depth": 4,
              "iterations": 250,
              "learning_rate": 0.05
             }
            ],
            "passed_time": 78.62553022,
            "remaining_time": 540.5505203,
            "test": [
             0.8672331767,
             0.3799841524
            ]
           },
           {
            "iteration": 128,
            "learn": [
             0.9249549977,
             0.3150110984
            ],
            "parameters": [
             {
              "depth": 4,
              "iterations": 250,
              "learning_rate": 0.1
             }
            ],
            "passed_time": 80.5661784,
            "remaining_time": 548.9741923,
            "test": [
             0.8575318124,
             0.3926585205
            ]
           },
           {
            "iteration": 129,
            "learn": [
             0.9643374741,
             0.2445435437
            ],
            "parameters": [
             {
              "depth": 4,
              "iterations": 250,
              "learning_rate": 0.2
             }
            ],
            "passed_time": 82.56243099,
            "remaining_time": 557.613957,
            "test": [
             0.8461610111,
             0.4130941843
            ]
           },
           {
            "iteration": 130,
            "learn": [
             0.9862650966,
             0.1841628598
            ],
            "parameters": [
             {
              "depth": 4,
              "iterations": 250,
              "learning_rate": 0.3
             }
            ],
            "passed_time": 84.5095901,
            "remaining_time": 565.7626757,
            "test": [
             0.8308399251,
             0.4525876094
            ]
           },
           {
            "iteration": 131,
            "learn": [
             0.9967312227,
             0.1232104269
            ],
            "parameters": [
             {
              "depth": 4,
              "iterations": 250,
              "learning_rate": 0.5
             }
            ],
            "passed_time": 86.51683388,
            "remaining_time": 574.1571703,
            "test": [
             0.8182510795,
             0.4945924152
            ]
           },
           {
            "iteration": 132,
            "learn": [
             0.8336275017,
             0.6749076758
            ],
            "parameters": [
             {
              "depth": 4,
              "iterations": 300,
              "learning_rate": 0.0001
             }
            ],
            "passed_time": 88.79223654,
            "remaining_time": 584.159451,
            "test": [
             0.8624398143,
             0.6731131305
            ]
           },
           {
            "iteration": 133,
            "learn": [
             0.8338283586,
             0.6148666184
            ],
            "parameters": [
             {
              "depth": 4,
              "iterations": 300,
              "learning_rate": 0.0005
             }
            ],
            "passed_time": 91.00023236,
            "remaining_time": 593.538829,
            "test": [
             0.8623992128,
             0.6068222164
            ]
           },
           {
            "iteration": 134,
            "learn": [
             0.8350023004,
             0.560673426
            ],
            "parameters": [
             {
              "depth": 4,
              "iterations": 300,
              "learning_rate": 0.001
             }
            ],
            "passed_time": 93.26877565,
            "remaining_time": 603.1380825,
            "test": [
             0.8631945241,
             0.5468270818
            ]
           },
           {
            "iteration": 135,
            "learn": [
             0.8455597251,
             0.4351865622
            ],
            "parameters": [
             {
              "depth": 4,
              "iterations": 300,
              "learning_rate": 0.005
             }
            ],
            "passed_time": 95.63204027,
            "remaining_time": 613.1701406,
            "test": [
             0.8686040735,
             0.4079298542
            ]
           },
           {
            "iteration": 136,
            "learn": [
             0.8541440936,
             0.4107463429
            ],
            "parameters": [
             {
              "depth": 4,
              "iterations": 300,
              "learning_rate": 0.01
             }
            ],
            "passed_time": 97.9568708,
            "remaining_time": 622.7768939,
            "test": [
             0.8710735985,
             0.3843450732
            ]
           },
           {
            "iteration": 137,
            "learn": [
             0.8635146365,
             0.3955944674
            ],
            "parameters": [
             {
              "depth": 4,
              "iterations": 300,
              "learning_rate": 0.02
             }
            ],
            "passed_time": 100.2602306,
            "remaining_time": 632.0753669,
            "test": [
             0.8699463105,
             0.3793747762
            ]
           },
           {
            "iteration": 138,
            "learn": [
             0.8833175178,
             0.3711016968
            ],
            "parameters": [
             {
              "depth": 4,
              "iterations": 300,
              "learning_rate": 0.04
             }
            ],
            "passed_time": 102.5735207,
            "remaining_time": 641.2689889,
            "test": [
             0.8673549811,
             0.3799356756
            ]
           },
           {
            "iteration": 139,
            "learn": [
             0.8955621693,
             0.3558675269
            ],
            "parameters": [
             {
              "depth": 4,
              "iterations": 300,
              "learning_rate": 0.05
             }
            ],
            "passed_time": 104.8538458,
            "remaining_time": 650.0938442,
            "test": [
             0.8651601131,
             0.3824702581
            ]
           },
           {
            "iteration": 140,
            "learn": [
             0.9357545434,
             0.2986727801
            ],
            "parameters": [
             {
              "depth": 4,
              "iterations": 300,
              "learning_rate": 0.1
             }
            ],
            "passed_time": 107.2267381,
            "remaining_time": 659.3303681,
            "test": [
             0.8553560511,
             0.396512153
            ]
           },
           {
            "iteration": 141,
            "learn": [
             0.9739402174,
             0.2223619356
            ],
            "parameters": [
             {
              "depth": 4,
              "iterations": 300,
              "learning_rate": 0.2
             }
            ],
            "passed_time": 109.6019834,
            "remaining_time": 668.4177298,
            "test": [
             0.8443124498,
             0.4194120183
            ]
           },
           {
            "iteration": 142,
            "learn": [
             0.9919644295,
             0.1618476016
            ],
            "parameters": [
             {
              "depth": 4,
              "iterations": 300,
              "learning_rate": 0.3
             }
            ],
            "passed_time": 111.9372412,
            "remaining_time": 677.1028924,
            "test": [
             0.8290391303,
             0.4635679579
            ]
           },
           {
            "iteration": 143,
            "learn": [
             0.9986561134,
             0.1011279305
            ],
            "parameters": [
             {
              "depth": 4,
              "iterations": 300,
              "learning_rate": 0.5
             }
            ],
            "passed_time": 114.2863474,
            "remaining_time": 685.7180845,
            "test": [
             0.8182510795,
             0.4945924152
            ]
           },
           {
            "iteration": 144,
            "learn": [
             0.8336998217,
             0.6634719768
            ],
            "parameters": [
             {
              "depth": 4,
              "iterations": 500,
              "learning_rate": 0.0001
             }
            ],
            "passed_time": 118.0158287,
            "remaining_time": 702.3976562,
            "test": [
             0.8623442814,
             0.6605493927
            ]
           },
           {
            "iteration": 145,
            "learn": [
             0.8343951288,
             0.5764574694
            ],
            "parameters": [
             {
              "depth": 4,
              "iterations": 500,
              "learning_rate": 0.0005
             }
            ],
            "passed_time": 121.7510947,
            "remaining_time": 718.8318058,
            "test": [
             0.862919867,
             0.5642873125
            ]
           },
           {
            "iteration": 146,
            "learn": [
             0.8365008914,
             0.5139999453
            ],
            "parameters": [
             {
              "depth": 4,
              "iterations": 500,
              "learning_rate": 0.001
             }
            ],
            "passed_time": 125.4604457,
            "remaining_time": 734.8397535,
            "test": [
             0.8640686499,
             0.4951251392
            ]
           },
           {
            "iteration": 147,
            "learn": [
             0.8519696055,
             0.4157887841
            ],
            "parameters": [
             {
              "depth": 4,
              "iterations": 500,
              "learning_rate": 0.005
             }
            ],
            "passed_time": 129.2623991,
            "remaining_time": 751.1193463,
            "test": [
             0.8706269823,
             0.3889224014
            ]
           },
           {
            "iteration": 148,
            "learn": [
             0.860337014,
             0.4001132911
            ],
            "parameters": [
             {
              "depth": 4,
              "iterations": 500,
              "learning_rate": 0.01
             }
            ],
            "passed_time": 132.977629,
            "remaining_time": 766.6294182,
            "test": [
             0.8706389239,
             0.3794162334
            ]
           },
           {
            "iteration": 149,
            "learn": [
             0.8746631297,
             0.3816928178
            ],
            "parameters": [
             {
              "depth": 4,
              "iterations": 500,
              "learning_rate": 0.02
             }
            ],
            "passed_time": 136.7330325,
            "remaining_time": 782.112946,
            "test": [
             0.8685276472,
             0.3793124764
            ]
           },
           {
            "iteration": 150,
            "learn": [
             0.9132141419,
             0.3327622139
            ],
            "parameters": [
             {
              "depth": 4,
              "iterations": 500,
              "learning_rate": 0.04
             }
            ],
            "passed_time": 140.5843221,
            "remaining_time": 797.8858547,
            "test": [
             0.8616683863,
             0.38611881
            ]
           },
           {
            "iteration": 151,
            "learn": [
             0.9256104785,
             0.3144753388
            ],
            "parameters": [
             {
              "depth": 4,
              "iterations": 500,
              "learning_rate": 0.05
             }
            ],
            "passed_time": 144.4501023,
            "remaining_time": 813.4821552,
            "test": [
             0.858114563,
             0.3909150244
            ]
           },
           {
            "iteration": 152,
            "learn": [
             0.9665188636,
             0.2422507249
            ],
            "parameters": [
             {
              "depth": 4,
              "iterations": 500,
              "learning_rate": 0.1
             }
            ],
            "passed_time": 148.3066099,
            "remaining_time": 828.7722315,
            "test": [
             0.8482245214,
             0.4106685048
            ]
           },
           {
            "iteration": 153,
            "learn": [
             0.9950496032,
             0.1479039916
            ],
            "parameters": [
             {
              "depth": 4,
              "iterations": 500,
              "learning_rate": 0.2
             }
            ],
            "passed_time": 152.2235312,
            "remaining_time": 844.1486729,
            "test": [
             0.8309330697,
             0.4624108428
            ]
           },
           {
            "iteration": 154,
            "learn": [
             0.9993200771,
             0.09977189451
            ],
            "parameters": [
             {
              "depth": 4,
              "iterations": 500,
              "learning_rate": 0.3
             }
            ],
            "passed_time": 156.0730475,
            "remaining_time": 858.9052227,
            "test": [
             0.8216926516,
             0.5140062729
            ]
           },
           {
            "iteration": 155,
            "learn": [
             0.999977427,
             0.05382491781
            ],
            "parameters": [
             {
              "depth": 4,
              "iterations": 500,
              "learning_rate": 0.5
             }
            ],
            "passed_time": 160.0815715,
            "remaining_time": 874.2916597,
            "test": [
             0.8182510795,
             0.4945924152
            ]
           },
           {
            "iteration": 156,
            "learn": [
             0.8336050725,
             0.6372827763
            ],
            "parameters": [
             {
              "depth": 4,
              "iterations": 1000,
              "learning_rate": 0.0001
             }
            ],
            "passed_time": 169.2287638,
            "remaining_time": 917.2845734,
            "test": [
             0.8623896595,
             0.6316813159
            ]
           },
           {
            "iteration": 157,
            "learn": [
             0.8364752991,
             0.5137706209
            ],
            "parameters": [
             {
              "depth": 4,
              "iterations": 1000,
              "learning_rate": 0.0005
             }
            ],
            "passed_time": 176.6460296,
            "remaining_time": 950.310919,
            "test": [
             0.8640590966,
             0.4946845884
            ]
           },
           {
            "iteration": 158,
            "learn": [
             0.8412034161,
             0.4580269845
            ],
            "parameters": [
             {
              "depth": 4,
              "iterations": 1000,
              "learning_rate": 0.001
             }
            ],
            "passed_time": 184.1598112,
            "remaining_time": 983.3438973,
            "test": [
             0.8669752379,
             0.4328403155
            ]
           },
           {
            "iteration": 159,
            "learn": [
             0.8608283011,
             0.3994728571
            ],
            "parameters": [
             {
              "depth": 4,
              "iterations": 1000,
              "learning_rate": 0.005
             }
            ],
            "passed_time": 191.6096802,
            "remaining_time": 1015.531305,
            "test": [
             0.870691467,
             0.3793715523
            ]
           },
           {
            "iteration": 160,
            "learn": [
             0.8752257304,
             0.3809443428
            ],
            "parameters": [
             {
              "depth": 4,
              "iterations": 1000,
              "learning_rate": 0.01
             }
            ],
            "passed_time": 199.1374674,
            "remaining_time": 1047.636242,
            "test": [
             0.8687163247,
             0.3792560114
            ]
           },
           {
            "iteration": 161,
            "learn": [
             0.9134943639,
             0.3330408322
            ],
            "parameters": [
             {
              "depth": 4,
              "iterations": 1000,
              "learning_rate": 0.02
             }
            ],
            "passed_time": 206.8769089,
            "remaining_time": 1080.357191,
            "test": [
             0.8619884214,
             0.3851732022
            ]
           },
           {
            "iteration": 162,
            "learn": [
             0.9523149586,
             0.2710755958
            ],
            "parameters": [
             {
              "depth": 4,
              "iterations": 1000,
              "learning_rate": 0.04
             }
            ],
            "passed_time": 214.4708512,
            "remaining_time": 1111.827419,
            "test": [
             0.853813195,
             0.3988403712
            ]
           },
           {
            "iteration": 163,
            "learn": [
             0.9642549459,
             0.2478648183
            ],
            "parameters": [
             {
              "depth": 4,
              "iterations": 1000,
              "learning_rate": 0.05
             }
            ],
            "passed_time": 222.1012279,
            "remaining_time": 1143.008758,
            "test": [
             0.8492921013,
             0.4072413713
            ]
           },
           {
            "iteration": 164,
            "learn": [
             0.9932820048,
             0.1594354197
            ],
            "parameters": [
             {
              "depth": 4,
              "iterations": 1000,
              "learning_rate": 0.1
             }
            ],
            "passed_time": 229.7561546,
            "remaining_time": 1173.845081,
            "test": [
             0.8314943253,
             0.4526445468
            ]
           },
           {
            "iteration": 165,
            "learn": [
             0.9998836841,
             0.07200244788
            ],
            "parameters": [
             {
              "depth": 4,
              "iterations": 1000,
              "learning_rate": 0.2
             }
            ],
            "passed_time": 237.4733134,
            "remaining_time": 1204.533313,
            "test": [
             0.8234552333,
             0.533058282
            ]
           },
           {
            "iteration": 166,
            "learn": [
             0.9999923798,
             0.04304012793
            ],
            "parameters": [
             {
              "depth": 4,
              "iterations": 1000,
              "learning_rate": 0.3
             }
            ],
            "passed_time": 245.3097344,
            "remaining_time": 1235.362195,
            "test": [
             0.8182510795,
             0.5549309122
            ]
           },
           {
            "iteration": 167,
            "learn": [
             0.9999949678,
             0.02024574951
            ],
            "parameters": [
             {
              "depth": 4,
              "iterations": 1000,
              "learning_rate": 0.5
             }
            ],
            "passed_time": 253.1515254,
            "remaining_time": 1265.757627,
            "test": [
             0.8182510795,
             0.4945924152
            ]
           },
           {
            "iteration": 168,
            "learn": [
             0.8335123361,
             0.6928628532
            ],
            "parameters": [
             {
              "depth": 5,
              "iterations": 5,
              "learning_rate": 0.0001
             }
            ],
            "passed_time": 253.2071018,
            "remaining_time": 1257.045908,
            "test": [
             0.8618642287,
             0.6928392287
            ]
           },
           {
            "iteration": 169,
            "learn": [
             0.832735651,
             0.6917037705
            ],
            "parameters": [
             {
              "depth": 5,
              "iterations": 5,
              "learning_rate": 0.0005
             }
            ],
            "passed_time": 253.2600191,
            "remaining_time": 1248.422918,
            "test": [
             0.8599129695,
             0.6915770861
            ]
           },
           {
            "iteration": 170,
            "learn": [
             0.832738239,
             0.6902677359
            ],
            "parameters": [
             {
              "depth": 5,
              "iterations": 5,
              "learning_rate": 0.001
             }
            ],
            "passed_time": 253.3115034,
            "remaining_time": 1239.893148,
            "test": [
             0.8599081929,
             0.6900148359
            ]
           },
           {
            "iteration": 171,
            "learn": [
             0.8387301587,
             0.6786099919
            ],
            "parameters": [
             {
              "depth": 5,
              "iterations": 5,
              "learning_rate": 0.005
             }
            ],
            "passed_time": 253.3714499,
            "remaining_time": 1231.503094,
            "test": [
             0.864758875,
             0.6773334682
            ]
           },
           {
            "iteration": 172,
            "learn": [
             0.8384831493,
             0.6648265463
            ],
            "parameters": [
             {
              "depth": 5,
              "iterations": 5,
              "learning_rate": 0.01
             }
            ],
            "passed_time": 253.4246498,
            "remaining_time": 1223.176778,
            "test": [
             0.8651171233,
             0.6623073021
            ]
           },
           {
            "iteration": 173,
            "learn": [
             0.8387793306,
             0.639297989
            ],
            "parameters": [
             {
              "depth": 5,
              "iterations": 5,
              "learning_rate": 0.02
             }
            ],
            "passed_time": 253.4785624,
            "remaining_time": 1214.948972,
            "test": [
             0.8648711261,
             0.6344927753
            ]
           },
           {
            "iteration": 174,
            "learn": [
             0.8344033241,
             0.6000968252
            ],
            "parameters": [
             {
              "depth": 5,
              "iterations": 5,
              "learning_rate": 0.04
             }
            ],
            "passed_time": 253.5334477,
            "remaining_time": 1206.819211,
            "test": [
             0.8613364095,
             0.5919846998
            ]
           },
           {
            "iteration": 175,
            "learn": [
             0.8362117552,
             0.579418969
            ],
            "parameters": [
             {
              "depth": 5,
              "iterations": 5,
              "learning_rate": 0.05
             }
            ],
            "passed_time": 253.59408,
            "remaining_time": 1198.808378,
            "test": [
             0.8570828079,
             0.5702054276
            ]
           },
           {
            "iteration": 176,
            "learn": [
             0.8359377157,
             0.5089376521
            ],
            "parameters": [
             {
              "depth": 5,
              "iterations": 5,
              "learning_rate": 0.1
             }
            ],
            "passed_time": 253.6435421,
            "remaining_time": 1190.834935,
            "test": [
             0.866027074,
             0.4904031121
            ]
           },
           {
            "iteration": 177,
            "learn": [
             0.8467933345,
             0.4435654707
            ],
            "parameters": [
             {
              "depth": 5,
              "iterations": 5,
              "learning_rate": 0.2
             }
            ],
            "passed_time": 253.6962165,
            "remaining_time": 1182.965504,
            "test": [
             0.8643695785,
             0.4224516222
            ]
           },
           {
            "iteration": 178,
            "learn": [
             0.8453347136,
             0.4251330169
            ],
            "parameters": [
             {
              "depth": 5,
              "iterations": 5,
              "learning_rate": 0.3
             }
            ],
            "passed_time": 253.7504154,
            "remaining_time": 1175.190471,
            "test": [
             0.8684607742,
             0.3967099323
            ]
           },
           {
            "iteration": 179,
            "learn": [
             0.8509845871,
             0.4083483637
            ],
            "parameters": [
             {
              "depth": 5,
              "iterations": 5,
              "learning_rate": 0.5
             }
            ],
            "passed_time": 253.8109647,
            "remaining_time": 1167.530438,
            "test": [
             0.8660485689,
             0.3842839082
            ]
           },
           {
            "iteration": 180,
            "learn": [
             0.8375148091,
             0.6925352276
            ],
            "parameters": [
             {
              "depth": 5,
              "iterations": 10,
              "learning_rate": 0.0001
             }
            ],
            "passed_time": 253.9652732,
            "remaining_time": 1160.382768,
            "test": [
             0.8660557339,
             0.692476742
            ]
           },
           {
            "iteration": 181,
            "learn": [
             0.8376049574,
             0.6901216004
            ],
            "parameters": [
             {
              "depth": 5,
              "iterations": 10,
              "learning_rate": 0.0005
             }
            ],
            "passed_time": 254.070845,
            "remaining_time": 1153.090758,
            "test": [
             0.8654968665,
             0.6898547546
            ]
           },
           {
            "iteration": 182,
            "learn": [
             0.8360354842,
             0.6871716029
            ],
            "parameters": [
             {
              "depth": 5,
              "iterations": 10,
              "learning_rate": 0.001
             }
            ],
            "passed_time": 254.1761308,
            "remaining_time": 1145.876,
            "test": [
             0.8659124346,
             0.6865993028
            ]
           },
           {
            "iteration": 183,
            "learn": [
             0.8388674661,
             0.6636961578
            ],
            "parameters": [
             {
              "depth": 5,
              "iterations": 10,
              "learning_rate": 0.005
             }
            ],
            "passed_time": 254.278925,
            "remaining_time": 1138.72736,
            "test": [
             0.86546343,
             0.6610140433
            ]
           },
           {
            "iteration": 184,
            "learn": [
             0.8386749482,
             0.6378848041
            ],
            "parameters": [
             {
              "depth": 5,
              "iterations": 10,
              "learning_rate": 0.01
             }
            ],
            "passed_time": 254.3804795,
            "remaining_time": 1131.649377,
            "test": [
             0.8651195116,
             0.632917163
            ]
           },
           {
            "iteration": 185,
            "learn": [
             0.8408360651,
             0.5923955299
            ],
            "parameters": [
             {
              "depth": 5,
              "iterations": 10,
              "learning_rate": 0.02
             }
            ],
            "passed_time": 254.4795504,
            "remaining_time": 1124.635432,
            "test": [
             0.8651696664,
             0.5836865519
            ]
           },
           {
            "iteration": 186,
            "learn": [
             0.8406228433,
             0.5331632767
            ],
            "parameters": [
             {
              "depth": 5,
              "iterations": 10,
              "learning_rate": 0.04
             }
            ],
            "passed_time": 254.5789465,
            "remaining_time": 1117.696872,
            "test": [
             0.8670349459,
             0.5174295991
            ]
           },
           {
            "iteration": 187,
            "learn": [
             0.8438073671,
             0.5072200286
            ],
            "parameters": [
             {
              "depth": 5,
              "iterations": 10,
              "learning_rate": 0.05
             }
            ],
            "passed_time": 254.6790499,
            "remaining_time": 1110.834154,
            "test": [
             0.8661369368,
             0.4909996478
            ]
           },
           {
            "iteration": 188,
            "learn": [
             0.8466101622,
             0.4507672845
            ],
            "parameters": [
             {
              "depth": 5,
              "iterations": 10,
              "learning_rate": 0.1
             }
            ],
            "passed_time": 254.7827541,
            "remaining_time": 1104.058601,
            "test": [
             0.8698173411,
             0.4282331656
            ]
           },
           {
            "iteration": 189,
            "learn": [
             0.8535891132,
             0.4126377456
            ],
            "parameters": [
             {
              "depth": 5,
              "iterations": 10,
              "learning_rate": 0.2
             }
            ],
            "passed_time": 254.9342109,
            "remaining_time": 1097.558866,
            "test": [
             0.8681431274,
             0.3897944769
            ]
           },
           {
            "iteration": 190,
            "learn": [
             0.8564640844,
             0.4043330642
            ],
            "parameters": [
             {
              "depth": 5,
              "iterations": 10,
              "learning_rate": 0.3
             }
            ],
            "passed_time": 255.0479492,
            "remaining_time": 1090.964264,
            "test": [
             0.8694543162,
             0.382629799
            ]
           },
           {
            "iteration": 191,
            "learn": [
             0.8631086094,
             0.3939317738
            ],
            "parameters": [
             {
              "depth": 5,
              "iterations": 10,
              "learning_rate": 0.5
             }
            ],
            "passed_time": 255.1575525,
            "remaining_time": 1084.419598,
            "test": [
             0.8628864305,
             0.3854843088
            ]
           },
           {
            "iteration": 192,
            "learn": [
             0.8377590867,
             0.6918835951
            ],
            "parameters": [
             {
              "depth": 5,
              "iterations": 20,
              "learning_rate": 0.0001
             }
            ],
            "passed_time": 255.3586292,
            "remaining_time": 1078.32789,
            "test": [
             0.8650645802,
             0.6917650364
            ]
           },
           {
            "iteration": 193,
            "learn": [
             0.8375136588,
             0.6868910779
            ],
            "parameters": [
             {
              "depth": 5,
              "iterations": 20,
              "learning_rate": 0.0005
             }
            ],
            "passed_time": 255.5529296,
            "remaining_time": 1072.268478,
            "test": [
             0.8654419351,
             0.68630586
            ]
           },
           {
            "iteration": 194,
            "learn": [
             0.8367822636,
             0.6808981582
            ],
            "parameters": [
             {
              "depth": 5,
              "iterations": 20,
              "learning_rate": 0.001
             }
            ],
            "passed_time": 255.7510258,
            "remaining_time": 1066.285046,
            "test": [
             0.8654992548,
             0.679734308
            ]
           },
           {
            "iteration": 195,
            "learn": [
             0.8402290373,
             0.6358863742
            ],
            "parameters": [
             {
              "depth": 5,
              "iterations": 20,
              "learning_rate": 0.005
             }
            ],
            "passed_time": 256.0104083,
            "remaining_time": 1060.614549,
            "test": [
             0.8655183614,
             0.6308171699
            ]
           },
           {
            "iteration": 196,
            "learn": [
             0.8384878939,
             0.5914738495
            ],
            "parameters": [
             {
              "depth": 5,
              "iterations": 20,
              "learning_rate": 0.01
             }
            ],
            "passed_time": 256.2162804,
            "remaining_time": 1054.778697,
            "test": [
             0.8652866942,
             0.5820644933
            ]
           },
           {
            "iteration": 197,
            "learn": [
             0.8425766333,
             0.5288294541
            ],
            "parameters": [
             {
              "depth": 5,
              "iterations": 20,
              "learning_rate": 0.02
             }
            ],
            "passed_time": 256.4291219,
            "remaining_time": 1049.028226,
            "test": [
             0.8663494975,
             0.5145134819
            ]
           },
           {
            "iteration": 198,
            "learn": [
             0.8454405337,
             0.4674824326
            ],
            "parameters": [
             {
              "depth": 5,
              "iterations": 20,
              "learning_rate": 0.04
             }
            ],
            "passed_time": 256.6408668,
            "remaining_time": 1043.328951,
            "test": [
             0.8676726279,
             0.4464195845
            ]
           },
           {
            "iteration": 199,
            "learn": [
             0.8487639464,
             0.4480920295
            ],
            "parameters": [
             {
              "depth": 5,
              "iterations": 20,
              "learning_rate": 0.05
             }
            ],
            "passed_time": 256.855351,
            "remaining_time": 1037.695618,
            "test": [
             0.8680117697,
             0.4268302369
            ]
           },
           {
            "iteration": 200,
            "learn": [
             0.8549745514,
             0.4152082843
            ],
            "parameters": [
             {
              "depth": 5,
              "iterations": 20,
              "learning_rate": 0.1
             }
            ],
            "passed_time": 257.1056078,
            "remaining_time": 1032.259829,
            "test": [
             0.8703212771,
             0.391993663
            ]
           },
           {
            "iteration": 201,
            "learn": [
             0.8636424546,
             0.3954338008
            ],
            "parameters": [
             {
              "depth": 5,
              "iterations": 20,
              "learning_rate": 0.2
             }
            ],
            "passed_time": 257.3292186,
            "remaining_time": 1026.76906,
            "test": [
             0.8662396347,
             0.3831357813
            ]
           },
           {
            "iteration": 202,
            "learn": [
             0.8704320508,
             0.3865790562
            ],
            "parameters": [
             {
              "depth": 5,
              "iterations": 20,
              "learning_rate": 0.3
             }
            ],
            "passed_time": 257.523344,
            "remaining_time": 1021.213261,
            "test": [
             0.8671495854,
             0.3817932873
            ]
           },
           {
            "iteration": 203,
            "learn": [
             0.8851689383,
             0.3663498746
            ],
            "parameters": [
             {
              "depth": 5,
              "iterations": 20,
              "learning_rate": 0.5
             }
            ],
            "passed_time": 257.7244156,
            "remaining_time": 1015.737403,
            "test": [
             0.8543625091,
             0.3953292715
            ]
           },
           {
            "iteration": 204,
            "learn": [
             0.8367888774,
             0.69126116
            ],
            "parameters": [
             {
              "depth": 5,
              "iterations": 30,
              "learning_rate": 0.0001
             }
            ],
            "passed_time": 258.084097,
            "remaining_time": 1010.934292,
            "test": [
             0.8653989453,
             0.6910750012
            ]
           },
           {
            "iteration": 205,
            "learn": [
             0.8378089775,
             0.6838168566
            ],
            "parameters": [
             {
              "depth": 5,
              "iterations": 30,
              "learning_rate": 0.0005
             }
            ],
            "passed_time": 258.383867,
            "remaining_time": 1005.941075,
            "test": [
             0.8649332225,
             0.6829515854
            ]
           },
           {
            "iteration": 206,
            "learn": [
             0.8370991488,
             0.6746752745
            ],
            "parameters": [
             {
              "depth": 5,
              "iterations": 30,
              "learning_rate": 0.001
             }
            ],
            "passed_time": 258.6750202,
            "remaining_time": 1000.959861,
            "test": [
             0.8646036341,
             0.6729612927
            ]
           },
           {
            "iteration": 207,
            "learn": [
             0.8398911606,
             0.6121902022
            ],
            "parameters": [
             {
              "depth": 5,
              "iterations": 30,
              "learning_rate": 0.005
             }
            ],
            "passed_time": 259.0104556,
            "remaining_time": 996.1940602,
            "test": [
             0.8662038099,
             0.6048062641
            ]
           },
           {
            "iteration": 208,
            "learn": [
             0.8393578905,
             0.556659968
            ],
            "parameters": [
             {
              "depth": 5,
              "iterations": 30,
              "learning_rate": 0.01
             }
            ],
            "passed_time": 259.3160711,
            "remaining_time": 991.3566547,
            "test": [
             0.8650789102,
             0.5439483772
            ]
           },
           {
            "iteration": 209,
            "learn": [
             0.8444155452,
             0.4901965236
            ],
            "parameters": [
             {
              "depth": 5,
              "iterations": 30,
              "learning_rate": 0.02
             }
            ],
            "passed_time": 259.6146341,
            "remaining_time": 986.5356097,
            "test": [
             0.8660772288,
             0.4722305847
            ]
           },
           {
            "iteration": 210,
            "learn": [
             0.8497954049,
             0.4387933201
            ],
            "parameters": [
             {
              "depth": 5,
              "iterations": 30,
              "learning_rate": 0.04
             }
            ],
            "passed_time": 259.9284393,
            "remaining_time": 981.8150054,
            "test": [
             0.867235565,
             0.4169260564
            ]
           },
           {
            "iteration": 211,
            "learn": [
             0.8533921383,
             0.4257474256
            ],
            "parameters": [
             {
              "depth": 5,
              "iterations": 30,
              "learning_rate": 0.05
             }
            ],
            "passed_time": 260.2605497,
            "remaining_time": 977.2047054,
            "test": [
             0.8684822691,
             0.4039814902
            ]
           },
           {
            "iteration": 212,
            "learn": [
             0.8610050035,
             0.4018952483
            ],
            "parameters": [
             {
              "depth": 5,
              "iterations": 30,
              "learning_rate": 0.1
             }
            ],
            "passed_time": 260.5609251,
            "remaining_time": 972.5161289,
            "test": [
             0.8718617448,
             0.3818226514
            ]
           },
           {
            "iteration": 213,
            "learn": [
             0.8719319358,
             0.3845635302
            ],
            "parameters": [
             {
              "depth": 5,
              "iterations": 30,
              "learning_rate": 0.2
             }
            ],
            "passed_time": 260.8696035,
            "remaining_time": 967.8993702,
            "test": [
             0.8669155298,
             0.3812149994
            ]
           },
           {
            "iteration": 214,
            "learn": [
             0.8834319646,
             0.3702252543
            ],
            "parameters": [
             {
              "depth": 5,
              "iterations": 30,
              "learning_rate": 0.3
             }
            ],
            "passed_time": 261.209391,
            "remaining_time": 963.4374284,
            "test": [
             0.8638274294,
             0.3848923373
            ]
           },
           {
            "iteration": 215,
            "learn": [
             0.9178705141,
             0.320501574
            ],
            "parameters": [
             {
              "depth": 5,
              "iterations": 30,
              "learning_rate": 0.5
             }
            ],
            "passed_time": 261.5210229,
            "remaining_time": 958.9104173,
            "test": [
             0.8438037372,
             0.41266767
            ]
           },
           {
            "iteration": 216,
            "learn": [
             0.8367792443,
             0.6906105852
            ],
            "parameters": [
             {
              "depth": 5,
              "iterations": 40,
              "learning_rate": 0.0001
             }
            ],
            "passed_time": 261.9258522,
            "remaining_time": 954.7619773,
            "test": [
             0.8662587413,
             0.6903611616
            ]
           },
           {
            "iteration": 217,
            "learn": [
             0.8374746952,
             0.6806871423
            ],
            "parameters": [
             {
              "depth": 5,
              "iterations": 40,
              "learning_rate": 0.0005
             }
            ],
            "passed_time": 262.3690346,
            "remaining_time": 950.7868686,
            "test": [
             0.8658169017,
             0.6795116882
            ]
           },
           {
            "iteration": 218,
            "learn": [
             0.8375618242,
             0.6686568905
            ],
            "parameters": [
             {
              "depth": 5,
              "iterations": 40,
              "learning_rate": 0.001
             }
            ],
            "passed_time": 262.8046179,
            "remaining_time": 946.8166371,
            "test": [
             0.8640519317,
             0.6664159157
            ]
           },
           {
            "iteration": 219,
            "learn": [
             0.8403329883,
             0.5908224418
            ],
            "parameters": [
             {
              "depth": 5,
              "iterations": 40,
              "learning_rate": 0.005
             }
            ],
            "passed_time": 263.2559049,
            "remaining_time": 942.9347865,
            "test": [
             0.8662993427,
             0.5814517897
            ]
           },
           {
            "iteration": 220,
            "learn": [
             0.8408832241,
             0.5287835777
            ],
            "parameters": [
             {
              "depth": 5,
              "iterations": 40,
              "learning_rate": 0.01
             }
            ],
            "passed_time": 263.652523,
            "remaining_time": 938.8893014,
            "test": [
             0.8647708166,
             0.5136168945
            ]
           },
           {
            "iteration": 221,
            "learn": [
             0.8457763975,
             0.466328819
            ],
            "parameters": [
             {
              "depth": 5,
              "iterations": 40,
              "learning_rate": 0.02
             }
            ],
            "passed_time": 264.0547805,
            "remaining_time": 934.8966553,
            "test": [
             0.8666743093,
             0.4461070086
            ]
           },
           {
            "iteration": 222,
            "learn": [
             0.8534180182,
             0.4232951197
            ],
            "parameters": [
             {
              "depth": 5,
              "iterations": 40,
              "learning_rate": 0.04
             }
            ],
            "passed_time": 264.5103883,
            "remaining_time": 931.1240127,
            "test": [
             0.8683962895,
             0.4018722796
            ]
           },
           {
            "iteration": 223,
            "learn": [
             0.8566389176,
             0.4138128001
            ],
            "parameters": [
             {
              "depth": 5,
              "iterations": 40,
              "learning_rate": 0.05
             }
            ],
            "passed_time": 264.9069068,
            "remaining_time": 927.1741739,
            "test": [
             0.8684058428,
             0.3931321293
            ]
           },
           {
            "iteration": 224,
            "learn": [
             0.8657752473,
             0.3938992348
            ],
            "parameters": [
             {
              "depth": 5,
              "iterations": 40,
              "learning_rate": 0.1
             }
            ],
            "passed_time": 265.3456316,
            "remaining_time": 923.4027981,
            "test": [
             0.8712360044,
             0.3791565651
            ]
           },
           {
            "iteration": 225,
            "learn": [
             0.8780357143,
             0.3769490726
            ],
            "parameters": [
             {
              "depth": 5,
              "iterations": 40,
              "learning_rate": 0.2
             }
            ],
            "passed_time": 265.7332397,
            "remaining_time": 919.4840419,
            "test": [
             0.8646036341,
             0.3824915926
            ]
           },
           {
            "iteration": 226,
            "learn": [
             0.9039692604,
             0.3430413101
            ],
            "parameters": [
             {
              "depth": 5,
              "iterations": 40,
              "learning_rate": 0.3
             }
            ],
            "passed_time": 266.1658441,
            "remaining_time": 915.7512081,
            "test": [
             0.8618713936,
             0.3866390899
            ]
           },
           {
            "iteration": 227,
            "learn": [
             0.9418138946,
             0.2820222354
            ],
            "parameters": [
             {
              "depth": 5,
              "iterations": 40,
              "learning_rate": 0.5
             }
            ],
            "passed_time": 266.5893797,
            "remaining_time": 912.016299,
            "test": [
             0.8387763193,
             0.4239749847
            ]
           },
           {
            "iteration": 228,
            "learn": [
             0.8371580975,
             0.6899613873
            ],
            "parameters": [
             {
              "depth": 5,
              "iterations": 50,
              "learning_rate": 0.0001
             }
            ],
            "passed_time": 267.0840164,
            "remaining_time": 908.5521782,
            "test": [
             0.8656568841,
             0.6896529621
            ]
           },
           {
            "iteration": 229,
            "learn": [
             0.8374472337,
             0.6776561497
            ],
            "parameters": [
             {
              "depth": 5,
              "iterations": 50,
              "learning_rate": 0.0005
             }
            ],
            "passed_time": 267.6121689,
            "remaining_time": 905.2272497,
            "test": [
             0.8660652872,
             0.6761860244
            ]
           },
           {
            "iteration": 230,
            "learn": [
             0.8375992063,
             0.6629014763
            ],
            "parameters": [
             {
              "depth": 5,
              "iterations": 50,
              "learning_rate": 0.001
             }
            ],
            "passed_time": 268.0970787,
            "remaining_time": 901.781083,
            "test": [
             0.86441018,
             0.6601625507
            ]
           },
           {
            "iteration": 231,
            "learn": [
             0.8404227053,
             0.5715616747
            ],
            "parameters": [
             {
              "depth": 5,
              "iterations": 50,
              "learning_rate": 0.005
             }
            ],
            "passed_time": 268.6228767,
            "remaining_time": 898.4972084,
            "test": [
             0.8663471092,
             0.5605954941
            ]
           },
           {
            "iteration": 232,
            "learn": [
             0.842159104,
             0.5077239701
            ],
            "parameters": [
             {
              "depth": 5,
              "iterations": 50,
              "learning_rate": 0.01
             }
            ],
            "passed_time": 269.1259104,
            "remaining_time": 895.1612899,
            "test": [
             0.8656019527,
             0.4905355048
            ]
           },
           {
            "iteration": 233,
            "learn": [
             0.8479720209,
             0.4498008207
            ],
            "parameters": [
             {
              "depth": 5,
              "iterations": 50,
              "learning_rate": 0.02
             }
            ],
            "passed_time": 269.6587842,
            "remaining_time": 891.9482862,
            "test": [
             0.8666002713,
             0.4286614193
            ]
           },
           {
            "iteration": 234,
            "learn": [
             0.8564660973,
             0.4137149394
            ],
            "parameters": [
             {
              "depth": 5,
              "iterations": 50,
              "learning_rate": 0.04
             }
            ],
            "passed_time": 270.1499118,
            "remaining_time": 888.6207736,
            "test": [
             0.868711548,
             0.3929867199
            ]
           },
           {
            "iteration": 235,
            "learn": [
             0.8600891419,
             0.4062971058
            ],
            "parameters": [
             {
              "depth": 5,
              "iterations": 50,
              "learning_rate": 0.05
             }
            ],
            "passed_time": 270.6925846,
            "remaining_time": 885.4859123,
            "test": [
             0.8688691773,
             0.3875961176
            ]
           },
           {
            "iteration": 236,
            "learn": [
             0.8689180757,
             0.3892466266
            ],
            "parameters": [
             {
              "depth": 5,
              "iterations": 50,
              "learning_rate": 0.1
             }
            ],
            "passed_time": 271.1925056,
            "remaining_time": 882.2338474,
            "test": [
             0.8702591807,
             0.3787818683
            ]
           },
           {
            "iteration": 237,
            "learn": [
             0.8888522257,
             0.3640937923
            ],
            "parameters": [
             {
              "depth": 5,
              "iterations": 50,
              "learning_rate": 0.2
             }
            ],
            "passed_time": 271.7268843,
            "remaining_time": 879.1163903,
            "test": [
             0.8628721006,
             0.3847160507
            ]
           },
           {
            "iteration": 238,
            "learn": [
             0.922606539,
             0.3162034278
            ],
            "parameters": [
             {
              "depth": 5,
              "iterations": 50,
              "learning_rate": 0.3
             }
            ],
            "passed_time": 272.2320487,
            "remaining_time": 875.9265501,
            "test": [
             0.8515012992,
             0.3985674288
            ]
           },
           {
            "iteration": 239,
            "learn": [
             0.9541530078,
             0.2582190469
            ],
            "parameters": [
             {
              "depth": 5,
              "iterations": 50,
              "learning_rate": 0.5
             }
            ],
            "passed_time": 272.7980029,
            "remaining_time": 872.9536091,
            "test": [
             0.8344510681,
             0.432919961
            ]
           },
           {
            "iteration": 240,
            "learn": [
             0.8375345066,
             0.6886642815
            ],
            "parameters": [
             {
              "depth": 5,
              "iterations": 70,
              "learning_rate": 0.0001
             }
            ],
            "passed_time": 273.5489244,
            "remaining_time": 870.5893153,
            "test": [
             0.8657165922,
             0.688236298
            ]
           },
           {
            "iteration": 241,
            "learn": [
             0.8376772774,
             0.6715807678
            ],
            "parameters": [
             {
              "depth": 5,
              "iterations": 70,
              "learning_rate": 0.0005
             }
            ],
            "passed_time": 274.221623,
            "remaining_time": 867.9907569,
            "test": [
             0.8655589629,
             0.6695143063
            ]
           },
           {
            "iteration": 242,
            "learn": [
             0.8372885036,
             0.6518504382
            ],
            "parameters": [
             {
              "depth": 5,
              "iterations": 70,
              "learning_rate": 0.001
             }
            ],
            "passed_time": 274.946612,
            "remaining_time": 865.5726675,
            "test": [
             0.8646370706,
             0.6480705819
            ]
           },
           {
            "iteration": 243,
            "learn": [
             0.8414603462,
             0.5408169074
            ],
            "parameters": [
             {
              "depth": 5,
              "iterations": 70,
              "learning_rate": 0.005
             }
            ],
            "passed_time": 275.6730187,
            "remaining_time": 863.1728945,
            "test": [
             0.8666958042,
             0.5269328931
            ]
           },
           {
            "iteration": 244,
            "learn": [
             0.8444342363,
             0.4778004976
            ],
            "parameters": [
             {
              "depth": 5,
              "iterations": 70,
              "learning_rate": 0.01
             }
            ],
            "passed_time": 276.3587435,
            "remaining_time": 860.6600869,
            "test": [
             0.8665716114,
             0.4574974439
            ]
           },
           {
            "iteration": 245,
            "learn": [
             0.8520309984,
             0.4293749494
            ],
            "parameters": [
             {
              "depth": 5,
              "iterations": 70,
              "learning_rate": 0.02
             }
            ],
            "passed_time": 277.1009617,
            "remaining_time": 858.3371252,
            "test": [
             0.8681741756,
             0.4074205896
            ]
           },
           {
            "iteration": 246,
            "learn": [
             0.861439211,
             0.4024015459
            ],
            "parameters": [
             {
              "depth": 5,
              "iterations": 70,
              "learning_rate": 0.04
             }
            ],
            "passed_time": 277.8355528,
            "remaining_time": 856.0034642,
            "test": [
             0.8689097787,
             0.3853790651
            ]
           },
           {
            "iteration": 247,
            "learn": [
             0.8658934323,
             0.3957811198
            ],
            "parameters": [
             {
              "depth": 5,
              "iterations": 70,
              "learning_rate": 0.05
             }
            ],
            "passed_time": 278.5790701,
            "remaining_time": 853.7100535,
            "test": [
             0.8684751041,
             0.3829313739
            ]
           },
           {
            "iteration": 248,
            "learn": [
             0.8760048597,
             0.3800993906
            ],
            "parameters": [
             {
              "depth": 5,
              "iterations": 70,
              "learning_rate": 0.1
             }
            ],
            "passed_time": 279.2651448,
            "remaining_time": 851.2539955,
            "test": [
             0.8688763422,
             0.3795300782
            ]
           },
           {
            "iteration": 249,
            "learn": [
             0.9121818208,
             0.3339512266
            ],
            "parameters": [
             {
              "depth": 5,
              "iterations": 70,
              "learning_rate": 0.2
             }
            ],
            "passed_time": 279.9956603,
            "remaining_time": 848.946842,
            "test": [
             0.8585492376,
             0.3896460014
            ]
           },
           {
            "iteration": 250,
            "learn": [
             0.9440132563,
             0.2821309836
            ],
            "parameters": [
             {
              "depth": 5,
              "iterations": 70,
              "learning_rate": 0.3
             }
            ],
            "passed_time": 280.7393128,
            "remaining_time": 846.6918716,
            "test": [
             0.8477611869,
             0.4044431521
            ]
           },
           {
            "iteration": 251,
            "learn": [
             0.9724673625,
             0.2160432027
            ],
            "parameters": [
             {
              "depth": 5,
              "iterations": 70,
              "learning_rate": 0.5
             }
            ],
            "passed_time": 281.4447851,
            "remaining_time": 844.3343552,
            "test": [
             0.827264607,
             0.4568810333
            ]
           },
           {
            "iteration": 252,
            "learn": [
             0.8377416897,
             0.6867200218
            ],
            "parameters": [
             {
              "depth": 5,
              "iterations": 100,
              "learning_rate": 0.0001
             }
            ],
            "passed_time": 282.4343281,
            "remaining_time": 842.8376194,
            "test": [
             0.8656401658,
             0.686114826
            ]
           },
           {
            "iteration": 253,
            "learn": [
             0.8375605303,
             0.6627906802
            ],
            "parameters": [
             {
              "depth": 5,
              "iterations": 100,
              "learning_rate": 0.0005
             }
            ],
            "passed_time": 283.4561588,
            "remaining_time": 841.4407233,
            "test": [
             0.8653440139,
             0.6598657551
            ]
           },
           {
            "iteration": 254,
            "learn": [
             0.8376863354,
             0.6361456897
            ],
            "parameters": [
             {
              "depth": 5,
              "iterations": 100,
              "learning_rate": 0.001
             }
            ],
            "passed_time": 284.4333575,
            "remaining_time": 839.9149734,
            "test": [
             0.864610799,
             0.6308244653
            ]
           },
           {
            "iteration": 255,
            "learn": [
             0.8421826835,
             0.506487868
            ],
            "parameters": [
             {
              "depth": 5,
              "iterations": 100,
              "learning_rate": 0.005
             }
            ],
            "passed_time": 285.4393196,
            "remaining_time": 838.4780014,
            "test": [
             0.8664521953,
             0.4892859675
            ]
           },
           {
            "iteration": 256,
            "learn": [
             0.8475046009,
             0.4505953704
            ],
            "parameters": [
             {
              "depth": 5,
              "iterations": 100,
              "learning_rate": 0.01
             }
            ],
            "passed_time": 286.4479263,
            "remaining_time": 837.0521115,
            "test": [
             0.8676845695,
             0.4280245296
            ]
           },
           {
            "iteration": 257,
            "learn": [
             0.8567340982,
             0.4137724736
            ],
            "parameters": [
             {
              "depth": 5,
              "iterations": 100,
              "learning_rate": 0.02
             }
            ],
            "passed_time": 287.465608,
            "remaining_time": 835.6558372,
            "test": [
             0.8700657266,
             0.3928036839
            ]
           },
           {
            "iteration": 258,
            "learn": [
             0.8665535139,
             0.3935594694
            ],
            "parameters": [
             {
              "depth": 5,
              "iterations": 100,
              "learning_rate": 0.04
             }
            ],
            "passed_time": 288.4655764,
            "remaining_time": 834.2112613,
            "test": [
             0.86899337,
             0.3816078916
            ]
           },
           {
            "iteration": 259,
            "learn": [
             0.8708602197,
             0.3877716005
            ],
            "parameters": [
             {
              "depth": 5,
              "iterations": 100,
              "learning_rate": 0.05
             }
            ],
            "passed_time": 289.4681216,
            "remaining_time": 832.7775191,
            "test": [
             0.8676224732,
             0.3816951942
            ]
           },
           {
            "iteration": 260,
            "learn": [
             0.8914583333,
             0.361501444
            ],
            "parameters": [
             {
              "depth": 5,
              "iterations": 100,
              "learning_rate": 0.1
             }
            ],
            "passed_time": 290.5070239,
            "remaining_time": 831.4511375,
            "test": [
             0.8660031908,
             0.3816294617
            ]
           },
           {
            "iteration": 261,
            "learn": [
             0.9426017943,
             0.2870842832
            ],
            "parameters": [
             {
              "depth": 5,
              "iterations": 100,
              "learning_rate": 0.2
             }
            ],
            "passed_time": 291.6073905,
            "remaining_time": 830.3019592,
            "test": [
             0.8508349574,
             0.4020361515
            ]
           },
           {
            "iteration": 262,
            "learn": [
             0.969314326,
             0.230808462
            ],
            "parameters": [
             {
              "depth": 5,
              "iterations": 100,
              "learning_rate": 0.3
             }
            ],
            "passed_time": 292.692837,
            "remaining_time": 829.110888,
            "test": [
             0.8413891436,
             0.419943119
            ]
           },
           {
            "iteration": 263,
            "learn": [
             0.9910359156,
             0.1572075865
            ],
            "parameters": [
             {
              "depth": 5,
              "iterations": 100,
              "learning_rate": 0.5
             }
            ],
            "passed_time": 293.8205764,
            "remaining_time": 828.0398063,
            "test": [
             0.827264607,
             0.4797997007
            ]
           },
           {
            "iteration": 264,
            "learn": [
             0.8378063895,
             0.6835941892
            ],
            "parameters": [
             {
              "depth": 5,
              "iterations": 150,
              "learning_rate": 0.0001
             }
            ],
            "passed_time": 295.3401008,
            "remaining_time": 828.0667732,
            "test": [
             0.8650645802,
             0.6827017431
            ]
           },
           {
            "iteration": 265,
            "learn": [
             0.8377054578,
             0.6487849675
            ],
            "parameters": [
             {
              "depth": 5,
              "iterations": 150,
              "learning_rate": 0.0005
             }
            ],
            "passed_time": 296.8574431,
            "remaining_time": 828.0760255,
            "test": [
             0.8649045627,
             0.6445445868
            ]
           },
           {
            "iteration": 266,
            "learn": [
             0.8384319646,
             0.6122886115
            ],
            "parameters": [
             {
              "depth": 5,
              "iterations": 150,
              "learning_rate": 0.001
             }
            ],
            "passed_time": 298.3356792,
            "remaining_time": 827.965312,
            "test": [
             0.8648305247,
             0.6046868204
            ]
           },
           {
            "iteration": 267,
            "learn": [
             0.8450143777,
             0.4712915755
            ],
            "parameters": [
             {
              "depth": 5,
              "iterations": 150,
              "learning_rate": 0.005
             }
            ],
            "passed_time": 299.8308527,
            "remaining_time": 827.8911605,
            "test": [
             0.8669776262,
             0.4511657287
            ]
           },
           {
            "iteration": 268,
            "learn": [
             0.8525428456,
             0.4267369882
            ],
            "parameters": [
             {
              "depth": 5,
              "iterations": 150,
              "learning_rate": 0.01
             }
            ],
            "passed_time": 301.3637599,
            "remaining_time": 827.9101062,
            "test": [
             0.8688070809,
             0.4041715893
            ]
           },
           {
            "iteration": 269,
            "learn": [
             0.8627409708,
             0.4006005155
            ],
            "parameters": [
             {
              "depth": 5,
              "iterations": 150,
              "learning_rate": 0.02
             }
            ],
            "passed_time": 302.8981735,
            "remaining_time": 827.9216741,
            "test": [
             0.870134988,
             0.3837165
            ]
           },
           {
            "iteration": 270,
            "learn": [
             0.8742737808,
             0.3828436438
            ],
            "parameters": [
             {
              "depth": 5,
              "iterations": 150,
              "learning_rate": 0.04
             }
            ],
            "passed_time": 304.4001518,
            "remaining_time": 827.833623,
            "test": [
             0.867799209,
             0.3805629442
            ]
           },
           {
            "iteration": 271,
            "learn": [
             0.8782318265,
             0.3781606831
            ],
            "parameters": [
             {
              "depth": 5,
              "iterations": 150,
              "learning_rate": 0.05
             }
            ],
            "passed_time": 305.8928628,
            "remaining_time": 827.7100994,
            "test": [
             0.8657428637,
             0.3825645621
            ]
           },
           {
            "iteration": 272,
            "learn": [
             0.9256487233,
             0.3160181111
            ],
            "parameters": [
             {
              "depth": 5,
              "iterations": 150,
              "learning_rate": 0.1
             }
            ],
            "passed_time": 307.5747719,
            "remaining_time": 828.0859244,
            "test": [
             0.8613674577,
             0.3863085594
            ]
           },
           {
            "iteration": 273,
            "learn": [
             0.9718821889,
             0.2296656505
            ],
            "parameters": [
             {
              "depth": 5,
              "iterations": 150,
              "learning_rate": 0.2
             }
            ],
            "passed_time": 309.2460035,
            "remaining_time": 828.4181262,
            "test": [
             0.845551989,
             0.4139426964
            ]
           },
           {
            "iteration": 274,
            "learn": [
             0.9903311192,
             0.1701036602
            ],
            "parameters": [
             {
              "depth": 5,
              "iterations": 150,
              "learning_rate": 0.3
             }
            ],
            "passed_time": 310.8276459,
            "remaining_time": 828.4969616,
            "test": [
             0.834257614,
             0.4386668199
            ]
           },
           {
            "iteration": 275,
            "learn": [
             0.9986825684,
             0.1070127178
            ],
            "parameters": [
             {
              "depth": 5,
              "iterations": 150,
              "learning_rate": 0.5
             }
            ],
            "passed_time": 312.442049,
            "remaining_time": 828.6506517,
            "test": [
             0.827264607,
             0.4797997007
            ]
           },
           {
            "iteration": 276,
            "learn": [
             0.837748591,
             0.6804478488
            ],
            "parameters": [
             {
              "depth": 5,
              "iterations": 200,
              "learning_rate": 0.0001
             }
            ],
            "passed_time": 314.4608816,
            "remaining_time": 829.8588609,
            "test": [
             0.8650765218,
             0.6792828578
            ]
           },
           {
            "iteration": 277,
            "learn": [
             0.8379730274,
             0.6355123728
            ],
            "parameters": [
             {
              "depth": 5,
              "iterations": 200,
              "learning_rate": 0.0005
             }
            ],
            "passed_time": 316.4524507,
            "remaining_time": 830.9722625,
            "test": [
             0.8652150445,
             0.6299848734
            ]
           },
           {
            "iteration": 278,
            "learn": [
             0.838773867,
             0.5914868476
            ],
            "parameters": [
             {
              "depth": 5,
              "iterations": 200,
              "learning_rate": 0.001
             }
            ],
            "passed_time": 318.4515822,
            "remaining_time": 832.0831665,
            "test": [
             0.8650192021,
             0.5818904869
            ]
           },
           {
            "iteration": 279,
            "learn": [
             0.8479162353,
             0.4499867466
            ],
            "parameters": [
             {
              "depth": 5,
              "iterations": 200,
              "learning_rate": 0.005
             }
            ],
            "passed_time": 320.4251558,
            "remaining_time": 833.105405,
            "test": [
             0.8681717872,
             0.4280335539
            ]
           },
           {
            "iteration": 280,
            "learn": [
             0.8564770244,
             0.4142781054
            ],
            "parameters": [
             {
              "depth": 5,
              "iterations": 200,
              "learning_rate": 0.01
             }
            ],
            "passed_time": 322.454487,
            "remaining_time": 834.2505767,
            "test": [
             0.8697361382,
             0.3928941281
            ]
           },
           {
            "iteration": 281,
            "learn": [
             0.8672876409,
             0.3928341386
            ],
            "parameters": [
             {
              "depth": 5,
              "iterations": 200,
              "learning_rate": 0.02
             }
            ],
            "passed_time": 324.5683787,
            "remaining_time": 835.5909323,
            "test": [
             0.8700800566,
             0.3800368243
            ]
           },
           {
            "iteration": 282,
            "learn": [
             0.882464487,
             0.3724605211
            ],
            "parameters": [
             {
              "depth": 5,
              "iterations": 200,
              "learning_rate": 0.04
             }
            ],
            "passed_time": 326.5463232,
            "remaining_time": 836.5586019,
            "test": [
             0.8657954068,
             0.3823760719
            ]
           },
           {
            "iteration": 283,
            "learn": [
             0.8927694387,
             0.3602244183
            ],
            "parameters": [
             {
              "depth": 5,
              "iterations": 200,
              "learning_rate": 0.05
             }
            ],
            "passed_time": 328.5152856,
            "remaining_time": 837.4826295,
            "test": [
             0.8651027934,
             0.3825664979
            ]
           },
           {
            "iteration": 284,
            "learn": [
             0.9458681274,
             0.2843832805
            ],
            "parameters": [
             {
              "depth": 5,
              "iterations": 200,
              "learning_rate": 0.1
             }
            ],
            "passed_time": 330.5502012,
            "remaining_time": 838.5536684,
            "test": [
             0.8559053651,
             0.3933446238
            ]
           },
           {
            "iteration": 285,
            "learn": [
             0.984360766,
             0.1957101329
            ],
            "parameters": [
             {
              "depth": 5,
              "iterations": 200,
              "learning_rate": 0.2
             }
            ],
            "passed_time": 332.6438322,
            "remaining_time": 839.7512128,
            "test": [
             0.8404433681,
             0.4252610043
            ]
           },
           {
            "iteration": 286,
            "learn": [
             0.9972036749,
             0.1284502271
            ],
            "parameters": [
             {
              "depth": 5,
              "iterations": 200,
              "learning_rate": 0.3
             }
            ],
            "passed_time": 334.7844564,
            "remaining_time": 841.0438784,
            "test": [
             0.827264607,
             0.4695657591
            ]
           },
           {
            "iteration": 287,
            "learn": [
             0.9998701691,
             0.07494008419
            ],
            "parameters": [
             {
              "depth": 5,
              "iterations": 200,
              "learning_rate": 0.5
             }
            ],
            "passed_time": 336.8916835,
            "remaining_time": 842.2292088,
            "test": [
             0.827264607,
             0.4797997007
            ]
           },
           {
            "iteration": 288,
            "learn": [
             0.8376476593,
             0.6773938676
            ],
            "parameters": [
             {
              "depth": 5,
              "iterations": 250,
              "learning_rate": 0.0001
             }
            ],
            "passed_time": 339.5241622,
            "remaining_time": 844.6985212,
            "test": [
             0.8648161947,
             0.6759501253
            ]
           },
           {
            "iteration": 289,
            "learn": [
             0.8381593628,
             0.6232754868
            ],
            "parameters": [
             {
              "depth": 5,
              "iterations": 250,
              "learning_rate": 0.0005
             }
            ],
            "passed_time": 343.6523227,
            "remaining_time": 850.8357507,
            "test": [
             0.864699167,
             0.6165987922
            ]
           },
           {
            "iteration": 290,
            "learn": [
             0.8392516391,
             0.5728092929
            ],
            "parameters": [
             {
              "depth": 5,
              "iterations": 250,
              "learning_rate": 0.001
             }
            ],
            "passed_time": 346.1179993,
            "remaining_time": 852.8062045,
            "test": [
             0.8650956284,
             0.5614476276
            ]
           },
           {
            "iteration": 291,
            "learn": [
             0.8502113527,
             0.4362689874
            ],
            "parameters": [
             {
              "depth": 5,
              "iterations": 250,
              "learning_rate": 0.005
             }
            ],
            "passed_time": 348.6046865,
            "remaining_time": 854.7977929,
            "test": [
             0.8686852765,
             0.4136560473
            ]
           },
           {
            "iteration": 292,
            "learn": [
             0.8596148206,
             0.4065787732
            ],
            "parameters": [
             {
              "depth": 5,
              "iterations": 250,
              "learning_rate": 0.01
             }
            ],
            "passed_time": 351.0989052,
            "remaining_time": 856.7771918,
            "test": [
             0.8697839046,
             0.3871817099
            ]
           },
           {
            "iteration": 293,
            "learn": [
             0.8710331838,
             0.3873468323
            ],
            "parameters": [
             {
              "depth": 5,
              "iterations": 250,
              "learning_rate": 0.02
             }
            ],
            "passed_time": 353.6015163,
            "remaining_time": 858.7465395,
            "test": [
             0.8701923077,
             0.3786807734
            ]
           },
           {
            "iteration": 294,
            "learn": [
             0.8937737233,
             0.3586066979
            ],
            "parameters": [
             {
              "depth": 5,
              "iterations": 250,
              "learning_rate": 0.04
             }
            ],
            "passed_time": 356.073416,
            "remaining_time": 860.6113412,
            "test": [
             0.8651290649,
             0.3832784596
            ]
           },
           {
            "iteration": 295,
            "learn": [
             0.9126158845,
             0.3349271208
            ],
            "parameters": [
             {
              "depth": 5,
              "iterations": 250,
              "learning_rate": 0.05
             }
            ],
            "passed_time": 358.550866,
            "remaining_time": 862.4601911,
            "test": [
             0.8637175666,
             0.3833330586
            ]
           },
           {
            "iteration": 296,
            "learn": [
             0.9605776973,
             0.2564996701
            ],
            "parameters": [
             {
              "depth": 5,
              "iterations": 250,
              "learning_rate": 0.1
             }
            ],
            "passed_time": 361.1028131,
            "remaining_time": 864.4582495,
            "test": [
             0.8541451718,
             0.3984410284
            ]
           },
           {
            "iteration": 297,
            "learn": [
             0.9921323614,
             0.1657869258
            ],
            "parameters": [
             {
              "depth": 5,
              "iterations": 250,
              "learning_rate": 0.2
             }
            ],
            "passed_time": 363.7245907,
            "remaining_time": 866.5921456,
            "test": [
             0.8362040964,
             0.4393734391
            ]
           },
           {
            "iteration": 298,
            "learn": [
             0.99915157,
             0.1029689063
            ],
            "parameters": [
             {
              "depth": 5,
              "iterations": 250,
              "learning_rate": 0.3
             }
            ],
            "passed_time": 366.3488034,
            "remaining_time": 868.7000055,
            "test": [
             0.827264607,
             0.4936243716
            ]
           },
           {
            "iteration": 299,
            "learn": [
             0.9999808776,
             0.0556118444
            ],
            "parameters": [
             {
              "depth": 5,
              "iterations": 250,
              "learning_rate": 0.5
             }
            ],
            "passed_time": 369.0263941,
            "remaining_time": 870.90229,
            "test": [
             0.827264607,
             0.4797997007
            ]
           },
           {
            "iteration": 300,
            "learn": [
             0.837684035,
             0.6743400233
            ],
            "parameters": [
             {
              "depth": 5,
              "iterations": 300,
              "learning_rate": 0.0001
             }
            ],
            "passed_time": 372.0840301,
            "remaining_time": 873.964815,
            "test": [
             0.8647493217,
             0.6726244457
            ]
           },
           {
            "iteration": 301,
            "learn": [
             0.8384493616,
             0.6118910311
            ],
            "parameters": [
             {
              "depth": 5,
              "iterations": 300,
              "learning_rate": 0.0005
             }
            ],
            "passed_time": 375.015981,
            "remaining_time": 876.6929888,
            "test": [
             0.8647111086,
             0.6041696174
            ]
           },
           {
            "iteration": 302,
            "learn": [
             0.8396402692,
             0.5564070539
            ],
            "parameters": [
             {
              "depth": 5,
              "iterations": 300,
              "learning_rate": 0.001
             }
            ],
            "passed_time": 377.91421,
            "remaining_time": 879.3053401,
            "test": [
             0.8648950094,
             0.5434536446
            ]
           },
           {
            "iteration": 303,
            "learn": [
             0.8525694444,
             0.4266163862
            ],
            "parameters": [
             {
              "depth": 5,
              "iterations": 300,
              "learning_rate": 0.005
             }
            ],
            "passed_time": 380.9037937,
            "remaining_time": 882.0929959,
            "test": [
             0.8691390577,
             0.4040675047
            ]
           },
           {
            "iteration": 304,
            "learn": [
             0.8623677249,
             0.4010615243
            ],
            "parameters": [
             {
              "depth": 5,
              "iterations": 300,
              "learning_rate": 0.01
             }
            ],
            "passed_time": 383.8846675,
            "remaining_time": 884.8226927,
            "test": [
             0.8700299018,
             0.3838125222
            ]
           },
           {
            "iteration": 305,
            "learn": [
             0.8746096446,
             0.3826609318
            ],
            "parameters": [
             {
              "depth": 5,
              "iterations": 300,
              "learning_rate": 0.02
             }
            ],
            "passed_time": 386.8323352,
            "remaining_time": 887.4388867,
            "test": [
             0.8693755015,
             0.3791316902
            ]
           },
           {
            "iteration": 306,
            "learn": [
             0.910415804,
             0.3378738845
            ],
            "parameters": [
             {
              "depth": 5,
              "iterations": 300,
              "learning_rate": 0.04
             }
            ],
            "passed_time": 389.8117415,
            "remaining_time": 890.0913055,
            "test": [
             0.8635217242,
             0.3850701077
            ]
           },
           {
            "iteration": 307,
            "learn": [
             0.9258878249,
             0.3164412877
            ],
            "parameters": [
             {
              "depth": 5,
              "iterations": 300,
              "learning_rate": 0.05
             }
            ],
            "passed_time": 392.8106462,
            "remaining_time": 892.7514686,
            "test": [
             0.8619525966,
             0.3849043455
            ]
           },
           {
            "iteration": 308,
            "learn": [
             0.9703154474,
             0.2353368491
            ],
            "parameters": [
             {
              "depth": 5,
              "iterations": 300,
              "learning_rate": 0.1
             }
            ],
            "passed_time": 395.85627,
            "remaining_time": 895.4806884,
            "test": [
             0.8507394245,
             0.4047522919
            ]
           },
           {
            "iteration": 309,
            "learn": [
             0.9965425868,
             0.1397334373
            ],
            "parameters": [
             {
              "depth": 5,
              "iterations": 300,
              "learning_rate": 0.2
             }
            ],
            "passed_time": 398.9802477,
            "remaining_time": 898.3490737,
            "test": [
             0.827264607,
             0.461122267
            ]
           },
           {
            "iteration": 310,
            "learn": [
             0.9997675121,
             0.08344667782
            ],
            "parameters": [
             {
              "depth": 5,
              "iterations": 300,
              "learning_rate": 0.3
             }
            ],
            "passed_time": 402.054041,
            "remaining_time": 901.066452,
            "test": [
             0.827264607,
             0.5076561625
            ]
           },
           {
            "iteration": 311,
            "learn": [
             0.9999923798,
             0.04314019971
            ],
            "parameters": [
             {
              "depth": 5,
              "iterations": 300,
              "learning_rate": 0.5
             }
            ],
            "passed_time": 405.1811967,
            "remaining_time": 903.8657464,
            "test": [
             0.827264607,
             0.4797997007
            ]
           },
           {
            "iteration": 312,
            "learn": [
             0.8378948125,
             0.6625885107
            ],
            "parameters": [
             {
              "depth": 5,
              "iterations": 500,
              "learning_rate": 0.0001
             }
            ],
            "passed_time": 409.9651589,
            "remaining_time": 910.3060238,
            "test": [
             0.86475171,
             0.6597938028
            ]
           },
           {
            "iteration": 313,
            "learn": [
             0.8393637854,
             0.5724895343
            ],
            "parameters": [
             {
              "depth": 5,
              "iterations": 500,
              "learning_rate": 0.0005
             }
            ],
            "passed_time": 414.7876067,
            "remaining_time": 916.7598697,
            "test": [
             0.864825748,
             0.5610271436
            ]
           },
           {
            "iteration": 314,
            "learn": [
             0.8414255521,
             0.5081962223
            ],
            "parameters": [
             {
              "depth": 5,
              "iterations": 500,
              "learning_rate": 0.001
             }
            ],
            "passed_time": 419.5920915,
            "remaining_time": 923.1026014,
            "test": [
             0.8655088081,
             0.4904829196
            ]
           },
           {
            "iteration": 315,
            "learn": [
             0.8597499712,
             0.4063897372
            ],
            "parameters": [
             {
              "depth": 5,
              "iterations": 500,
              "learning_rate": 0.005
             }
            ],
            "passed_time": 424.525113,
            "remaining_time": 929.6562602,
            "test": [
             0.8703379953,
             0.3868368646
            ]
           },
           {
            "iteration": 316,
            "learn": [
             0.8711379975,
             0.3874139358
            ],
            "parameters": [
             {
              "depth": 5,
              "iterations": 500,
              "learning_rate": 0.01
             }
            ],
            "passed_time": 429.4155438,
            "remaining_time": 936.0446082,
            "test": [
             0.86899337,
             0.3800211221
            ]
           },
           {
            "iteration": 317,
            "learn": [
             0.8934933575,
             0.3591474174
            ],
            "parameters": [
             {
              "depth": 5,
              "iterations": 500,
              "learning_rate": 0.02
             }
            ],
            "passed_time": 434.4027489,
            "remaining_time": 942.5720023,
            "test": [
             0.8663781574,
             0.3814189122
            ]
           },
           {
            "iteration": 318,
            "learn": [
             0.9452665631,
             0.2858337045
            ],
            "parameters": [
             {
              "depth": 5,
              "iterations": 500,
              "learning_rate": 0.04
             }
            ],
            "passed_time": 439.6263949,
            "remaining_time": 949.5378874,
            "test": [
             0.856223012,
             0.3938290157
            ]
           },
           {
            "iteration": 319,
            "learn": [
             0.9588722107,
             0.2613673672
            ],
            "parameters": [
             {
              "depth": 5,
              "iterations": 500,
              "learning_rate": 0.05
             }
            ],
            "passed_time": 445.0753763,
            "remaining_time": 956.912059,
            "test": [
             0.8519503038,
             0.3996308367
            ]
           },
           {
            "iteration": 320,
            "learn": [
             0.9935727226,
             0.1627445338
            ],
            "parameters": [
             {
              "depth": 5,
              "iterations": 500,
              "learning_rate": 0.1
             }
            ],
            "passed_time": 450.3109524,
            "remaining_time": 963.7496085,
            "test": [
             0.8393184684,
             0.4322435352
            ]
           },
           {
            "iteration": 321,
            "learn": [
             0.999932856,
             0.07572889805
            ],
            "parameters": [
             {
              "depth": 5,
              "iterations": 500,
              "learning_rate": 0.2
             }
            ],
            "passed_time": 455.5796464,
            "remaining_time": 970.582725,
            "test": [
             0.827264607,
             0.5100152382
            ]
           },
           {
            "iteration": 322,
            "learn": [
             0.9999926674,
             0.04245248725
            ],
            "parameters": [
             {
              "depth": 5,
              "iterations": 500,
              "learning_rate": 0.3
             }
            ],
            "passed_time": 461.0043864,
            "remaining_time": 977.6718412,
            "test": [
             0.827264607,
             0.5411702057
            ]
           },
           {
            "iteration": 323,
            "learn": [
             0.9999958305,
             0.02086237295
            ],
            "parameters": [
             {
              "depth": 5,
              "iterations": 500,
              "learning_rate": 0.5
             }
            ],
            "passed_time": 466.2774853,
            "remaining_time": 984.3635801,
            "test": [
             0.827264607,
             0.4797997007
            ]
           },
           {
            "iteration": 324,
            "learn": [
             0.8382538245,
             0.6355085485
            ],
            "parameters": [
             {
              "depth": 5,
              "iterations": 1000,
              "learning_rate": 0.0001
             }
            ],
            "passed_time": 475.9011936,
            "remaining_time": 1000.124662,
            "test": [
             0.8647732049,
             0.6301823518
            ]
           },
           {
            "iteration": 325,
            "learn": [
             0.8417860018,
             0.5079290856
            ],
            "parameters": [
             {
              "depth": 5,
              "iterations": 1000,
              "learning_rate": 0.0005
             }
            ],
            "passed_time": 485.6897796,
            "remaining_time": 1016.074938,
            "test": [
             0.8653559555,
             0.4904038699
            ]
           },
           {
            "iteration": 326,
            "learn": [
             0.8473717506,
             0.4507078311
            ],
            "parameters": [
             {
              "depth": 5,
              "iterations": 1000,
              "learning_rate": 0.001
             }
            ],
            "passed_time": 495.425891,
            "remaining_time": 1031.758507,
            "test": [
             0.8679448966,
             0.4284279015
            ]
           },
           {
            "iteration": 327,
            "learn": [
             0.8710495744,
             0.3875328561
            ],
            "parameters": [
             {
              "depth": 5,
              "iterations": 1000,
              "learning_rate": 0.005
             }
            ],
            "passed_time": 505.2133861,
            "remaining_time": 1047.393605,
            "test": [
             0.8691677175,
             0.3797420371
            ]
           },
           {
            "iteration": 328,
            "learn": [
             0.8930835921,
             0.3597379732
            ],
            "parameters": [
             {
              "depth": 5,
              "iterations": 1000,
              "learning_rate": 0.01
             }
            ],
            "passed_time": 514.966394,
            "remaining_time": 1062.802983,
            "test": [
             0.8659148229,
             0.3817853944
            ]
           },
           {
            "iteration": 329,
            "learn": [
             0.9445449448,
             0.2874179165
            ],
            "parameters": [
             {
              "depth": 5,
              "iterations": 1000,
              "learning_rate": 0.02
             }
            ],
            "passed_time": 527.0507521,
            "remaining_time": 1082.849727,
            "test": [
             0.8555136803,
             0.3944278664
            ]
           },
           {
            "iteration": 330,
            "learn": [
             0.984448614,
             0.200396957
            ],
            "parameters": [
             {
              "depth": 5,
              "iterations": 1000,
              "learning_rate": 0.04
             }
            ],
            "passed_time": 537.2733473,
            "remaining_time": 1098.894429,
            "test": [
             0.8445417288,
             0.4185030234
            ]
           },
           {
            "iteration": 331,
            "learn": [
             0.9922951173,
             0.1700721666
            ],
            "parameters": [
             {
              "depth": 5,
              "iterations": 1000,
              "learning_rate": 0.05
             }
            ],
            "passed_time": 547.4663263,
            "remaining_time": 1114.720592,
            "test": [
             0.8395716306,
             0.4304744872
            ]
           },
           {
            "iteration": 332,
            "learn": [
             0.9998894352,
             0.07663636824
            ],
            "parameters": [
             {
              "depth": 5,
              "iterations": 1000,
              "learning_rate": 0.1
             }
            ],
            "passed_time": 558.065093,
            "remaining_time": 1131.213026,
            "test": [
             0.8275153808,
             0.4949379223
            ]
           },
           {
            "iteration": 333,
            "learn": [
             0.9999946802,
             0.03026253951
            ],
            "parameters": [
             {
              "depth": 5,
              "iterations": 1000,
              "learning_rate": 0.2
             }
            ],
            "passed_time": 568.828509,
            "remaining_time": 1147.875494,
            "test": [
             0.827264607,
             0.5831356054
            ]
           },
           {
            "iteration": 334,
            "learn": [
             0.999996118,
             0.01635548126
            ],
            "parameters": [
             {
              "depth": 5,
              "iterations": 1000,
              "learning_rate": 0.3
             }
            ],
            "passed_time": 579.3276873,
            "remaining_time": 1163.843384,
            "test": [
             0.827264607,
             0.5411702057
            ]
           },
           {
            "iteration": 335,
            "learn": [
             0.9999964056,
             0.009209799245
            ],
            "parameters": [
             {
              "depth": 5,
              "iterations": 1000,
              "learning_rate": 0.5
             }
            ],
            "passed_time": 589.5836685,
            "remaining_time": 1179.167337,
            "test": [
             0.827264607,
             0.4797997007
            ]
           },
           {
            "iteration": 336,
            "learn": [
             0.8415054923,
             0.6928308521
            ],
            "parameters": [
             {
              "depth": 6,
              "iterations": 5,
              "learning_rate": 0.0001
             }
            ],
            "passed_time": 589.6421669,
            "remaining_time": 1174.035294,
            "test": [
             0.8635026176,
             0.6928074531
            ]
           },
           {
            "iteration": 337,
            "learn": [
             0.8368629227,
             0.6915651629
            ],
            "parameters": [
             {
              "depth": 6,
              "iterations": 5,
              "learning_rate": 0.0005
             }
            ],
            "passed_time": 589.7013344,
            "remaining_time": 1168.934598,
            "test": [
             0.8631037678,
             0.6914270934
            ]
           },
           {
            "iteration": 338,
            "learn": [
             0.8369616977,
             0.6899933454
            ],
            "parameters": [
             {
              "depth": 6,
              "iterations": 5,
              "learning_rate": 0.001
             }
            ],
            "passed_time": 589.7607099,
            "remaining_time": 1163.864056,
            "test": [
             0.8630846612,
             0.6897194391
            ]
           },
           {
            "iteration": 339,
            "learn": [
             0.8348982057,
             0.6781288985
            ],
            "parameters": [
             {
              "depth": 6,
              "iterations": 5,
              "learning_rate": 0.005
             }
            ],
            "passed_time": 589.8279393,
            "remaining_time": 1158.838422,
            "test": [
             0.8636578585,
             0.6766321728
            ]
           },
           {
            "iteration": 340,
            "learn": [
             0.8407055153,
             0.6636707449
            ],
            "parameters": [
             {
              "depth": 6,
              "iterations": 5,
              "learning_rate": 0.01
             }
            ],
            "passed_time": 589.8890583,
            "remaining_time": 1153.829918,
            "test": [
             0.8633211051,
             0.6612309105
            ]
           },
           {
            "iteration": 341,
            "learn": [
             0.8384753853,
             0.6368618614
            ],
            "parameters": [
             {
              "depth": 6,
              "iterations": 5,
              "learning_rate": 0.02
             }
            ],
            "passed_time": 589.9468386,
            "remaining_time": 1148.843844,
            "test": [
             0.86653101,
             0.631529481
            ]
           },
           {
            "iteration": 342,
            "learn": [
             0.8390704796,
             0.5923314822
            ],
            "parameters": [
             {
              "depth": 6,
              "iterations": 5,
              "learning_rate": 0.04
             }
            ],
            "passed_time": 590.0052213,
            "remaining_time": 1143.887674,
            "test": [
             0.8653272957,
             0.5843495635
            ]
           },
           {
            "iteration": 343,
            "learn": [
             0.8374125834,
             0.5742551306
            ],
            "parameters": [
             {
              "depth": 6,
              "iterations": 5,
              "learning_rate": 0.05
             }
            ],
            "passed_time": 590.0775935,
            "remaining_time": 1138.986983,
            "test": [
             0.8623705529,
             0.5641886163
            ]
           },
           {
            "iteration": 344,
            "learn": [
             0.8395778698,
             0.5085315867
            ],
            "parameters": [
             {
              "depth": 6,
              "iterations": 5,
              "learning_rate": 0.1
             }
            ],
            "passed_time": 590.1378294,
            "remaining_time": 1134.090959,
            "test": [
             0.867591425,
             0.4921790131
            ]
           },
           {
            "iteration": 345,
            "learn": [
             0.8448381067,
             0.4459283567
            ],
            "parameters": [
             {
              "depth": 6,
              "iterations": 5,
              "learning_rate": 0.2
             }
            ],
            "passed_time": 590.1956995,
            "remaining_time": 1129.218362,
            "test": [
             0.8605219917,
             0.4261107338
            ]
           },
           {
            "iteration": 346,
            "learn": [
             0.8479462848,
             0.4246171403
            ],
            "parameters": [
             {
              "depth": 6,
              "iterations": 5,
              "learning_rate": 0.3
             }
            ],
            "passed_time": 590.3260032,
            "remaining_time": 1124.511493,
            "test": [
             0.8679114601,
             0.3998928308
            ]
           },
           {
            "iteration": 347,
            "learn": [
             0.8531524615,
             0.4085376718
            ],
            "parameters": [
             {
              "depth": 6,
              "iterations": 5,
              "learning_rate": 0.5
             }
            ],
            "passed_time": 590.384992,
            "remaining_time": 1119.695674,
            "test": [
             0.857773033,
             0.392547434
            ]
           },
           {
            "iteration": 348,
            "learn": [
             0.83915804,
             0.6925084466
            ],
            "parameters": [
             {
              "depth": 6,
              "iterations": 10,
              "learning_rate": 0.0001
             }
            ],
            "passed_time": 590.5047848,
            "remaining_time": 1115.021929,
            "test": [
             0.8654467118,
             0.6924546808
            ]
           },
           {
            "iteration": 349,
            "learn": [
             0.8392359673,
             0.6899044509
            ],
            "parameters": [
             {
              "depth": 6,
              "iterations": 10,
              "learning_rate": 0.0005
             }
            ],
            "passed_time": 590.6394249,
            "remaining_time": 1110.402119,
            "test": [
             0.8632900569,
             0.689642258
            ]
           },
           {
            "iteration": 350,
            "learn": [
             0.839695911,
             0.6866932639
            ],
            "parameters": [
             {
              "depth": 6,
              "iterations": 10,
              "learning_rate": 0.001
             }
            ],
            "passed_time": 590.7540124,
            "remaining_time": 1105.770331,
            "test": [
             0.8637080133,
             0.6861721413
            ]
           },
           {
            "iteration": 351,
            "learn": [
             0.8383524557,
             0.6632873008
            ],
            "parameters": [
             {
              "depth": 6,
              "iterations": 10,
              "learning_rate": 0.005
             }
            ],
            "passed_time": 590.8698754,
            "remaining_time": 1101.166586,
            "test": [
             0.8653440139,
             0.6605507912
            ]
           },
           {
            "iteration": 352,
            "learn": [
             0.8409991086,
             0.6367221783
            ],
            "parameters": [
             {
              "depth": 6,
              "iterations": 10,
              "learning_rate": 0.01
             }
            ],
            "passed_time": 590.9851088,
            "remaining_time": 1096.5871,
            "test": [
             0.8621985938,
             0.6316818961
            ]
           },
           {
            "iteration": 353,
            "learn": [
             0.8398624051,
             0.59197123
            ],
            "parameters": [
             {
              "depth": 6,
              "iterations": 10,
              "learning_rate": 0.02
             }
            ],
            "passed_time": 591.0994939,
            "remaining_time": 1092.031268,
            "test": [
             0.8643695785,
             0.5831605349
            ]
           },
           {
            "iteration": 354,
            "learn": [
             0.8420938291,
             0.5276559967
            ],
            "parameters": [
             {
              "depth": 6,
              "iterations": 10,
              "learning_rate": 0.04
             }
            ],
            "passed_time": 591.219129,
            "remaining_time": 1087.510116,
            "test": [
             0.8665047384,
             0.5123714049
            ]
           },
           {
            "iteration": 355,
            "learn": [
             0.8419402749,
             0.5078720671
            ],
            "parameters": [
             {
              "depth": 6,
              "iterations": 10,
              "learning_rate": 0.05
             }
            ],
            "passed_time": 591.4042313,
            "remaining_time": 1083.133592,
            "test": [
             0.8665739998,
             0.4905005209
            ]
           },
           {
            "iteration": 356,
            "learn": [
             0.8487257016,
             0.4478207058
            ],
            "parameters": [
             {
              "depth": 6,
              "iterations": 10,
              "learning_rate": 0.1
             }
            ],
            "passed_time": 591.5307675,
            "remaining_time": 1078.673753,
            "test": [
             0.8671663036,
             0.4271003769
            ]
           },
           {
            "iteration": 357,
            "learn": [
             0.8554030078,
             0.411970194
            ],
            "parameters": [
             {
              "depth": 6,
              "iterations": 10,
              "learning_rate": 0.2
             }
            ],
            "passed_time": 591.660029,
            "remaining_time": 1074.243069,
            "test": [
             0.8616325614,
             0.3943467295
            ]
           },
           {
            "iteration": 358,
            "learn": [
             0.8597089947,
             0.4014920072
            ],
            "parameters": [
             {
              "depth": 6,
              "iterations": 10,
              "learning_rate": 0.3
             }
            ],
            "passed_time": 591.7810244,
            "remaining_time": 1069.821406,
            "test": [
             0.8675078337,
             0.3856335986
            ]
           },
           {
            "iteration": 359,
            "learn": [
             0.8712691224,
             0.3844224349
            ],
            "parameters": [
             {
              "depth": 6,
              "iterations": 10,
              "learning_rate": 0.5
             }
            ],
            "passed_time": 591.9090182,
            "remaining_time": 1065.436233,
            "test": [
             0.8630966029,
             0.3853481818
            ]
           },
           {
            "iteration": 360,
            "learn": [
             0.8403881988,
             0.6918661558
            ],
            "parameters": [
             {
              "depth": 6,
              "iterations": 20,
              "learning_rate": 0.0001
             }
            ],
            "passed_time": 592.1514156,
            "remaining_time": 1061.279684,
            "test": [
             0.8649594941,
             0.6917586167
            ]
           },
           {
            "iteration": 361,
            "learn": [
             0.840585605,
             0.6866533718
            ],
            "parameters": [
             {
              "depth": 6,
              "iterations": 20,
              "learning_rate": 0.0005
             }
            ],
            "passed_time": 592.4403378,
            "remaining_time": 1057.227785,
            "test": [
             0.8647827582,
             0.6861187866
            ]
           },
           {
            "iteration": 362,
            "learn": [
             0.8397258167,
             0.6803898573
            ],
            "parameters": [
             {
              "depth": 6,
              "iterations": 20,
              "learning_rate": 0.001
             }
            ],
            "passed_time": 592.6797456,
            "remaining_time": 1053.108639,
            "test": [
             0.8654084986,
             0.6792902792
            ]
           },
           {
            "iteration": 363,
            "learn": [
             0.8405598689,
             0.6358194645
            ],
            "parameters": [
             {
              "depth": 6,
              "iterations": 20,
              "learning_rate": 0.005
             }
            ],
            "passed_time": 592.9164561,
            "remaining_time": 1049.006038,
            "test": [
             0.866182315,
             0.6307002665
            ]
           },
           {
            "iteration": 364,
            "learn": [
             0.8418613412,
             0.5919483571
            ],
            "parameters": [
             {
              "depth": 6,
              "iterations": 20,
              "learning_rate": 0.01
             }
            ],
            "passed_time": 593.1556145,
            "remaining_time": 1044.928932,
            "test": [
             0.8648376896,
             0.5829426783
            ]
           },
           {
            "iteration": 365,
            "learn": [
             0.8429861111,
             0.5292820265
            ],
            "parameters": [
             {
              "depth": 6,
              "iterations": 20,
              "learning_rate": 0.02
             }
            ],
            "passed_time": 593.4415938,
            "remaining_time": 1040.954927,
            "test": [
             0.8640662616,
             0.5147958632
            ]
           },
           {
            "iteration": 366,
            "learn": [
             0.8475918737,
             0.464614663
            ],
            "parameters": [
             {
              "depth": 6,
              "iterations": 20,
              "learning_rate": 0.04
             }
            ],
            "passed_time": 593.6867147,
            "remaining_time": 1036.929657,
            "test": [
             0.8679353433,
             0.444336978
            ]
           },
           {
            "iteration": 367,
            "learn": [
             0.8490397113,
             0.4470961887
            ],
            "parameters": [
             {
              "depth": 6,
              "iterations": 20,
              "learning_rate": 0.05
             }
            ],
            "passed_time": 593.9207223,
            "remaining_time": 1032.905604,
            "test": [
             0.8686136268,
             0.4257674993
            ]
           },
           {
            "iteration": 368,
            "learn": [
             0.8594618415,
             0.4102373224
            ],
            "parameters": [
             {
              "depth": 6,
              "iterations": 20,
              "learning_rate": 0.1
             }
            ],
            "passed_time": 594.1596057,
            "remaining_time": 1028.910537,
            "test": [
             0.8714557301,
             0.3903849181
            ]
           },
           {
            "iteration": 369,
            "learn": [
             0.8702920117,
             0.388283079
            ],
            "parameters": [
             {
              "depth": 6,
              "iterations": 20,
              "learning_rate": 0.2
             }
            ],
            "passed_time": 594.4703729,
            "remaining_time": 1025.059724,
            "test": [
             0.8675221636,
             0.3819744274
            ]
           },
           {
            "iteration": 370,
            "learn": [
             0.8742985105,
             0.3813310666
            ],
            "parameters": [
             {
              "depth": 6,
              "iterations": 20,
              "learning_rate": 0.3
             }
            ],
            "passed_time": 594.7095874,
            "remaining_time": 1021.105141,
            "test": [
             0.8628673239,
             0.3859862992
            ]
           },
           {
            "iteration": 371,
            "learn": [
             0.89436853,
             0.3538715441
            ],
            "parameters": [
             {
              "depth": 6,
              "iterations": 20,
              "learning_rate": 0.5
             }
            ],
            "passed_time": 594.9469988,
            "remaining_time": 1017.167449,
            "test": [
             0.8535504796,
             0.3958385367
            ]
           },
           {
            "iteration": 372,
            "learn": [
             0.8401210605,
             0.691227363
            ],
            "parameters": [
             {
              "depth": 6,
              "iterations": 30,
              "learning_rate": 0.0001
             }
            ],
            "passed_time": 595.3062599,
            "remaining_time": 1013.457038,
            "test": [
             0.8650812985,
             0.6910628957
            ]
           },
           {
            "iteration": 373,
            "learn": [
             0.8403088337,
             0.6835749019
            ],
            "parameters": [
             {
              "depth": 6,
              "iterations": 30,
              "learning_rate": 0.0005
             }
            ],
            "passed_time": 595.7074116,
            "remaining_time": 1009.835559,
            "test": [
             0.8642573274,
             0.6827643332
            ]
           },
           {
            "iteration": 374,
            "learn": [
             0.8405329825,
             0.674356112
            ],
            "parameters": [
             {
              "depth": 6,
              "iterations": 30,
              "learning_rate": 0.001
             }
            ],
            "passed_time": 596.062517,
            "remaining_time": 1006.153529,
            "test": [
             0.8650359204,
             0.6727306399
            ]
           },
           {
            "iteration": 375,
            "learn": [
             0.8409220439,
             0.611900285
            ],
            "parameters": [
             {
              "depth": 6,
              "iterations": 30,
              "learning_rate": 0.005
             }
            ],
            "passed_time": 596.399498,
            "remaining_time": 1002.458731,
            "test": [
             0.8658813864,
             0.6048237174
            ]
           },
           {
            "iteration": 376,
            "learn": [
             0.8418298539,
             0.5577321878
            ],
            "parameters": [
             {
              "depth": 6,
              "iterations": 30,
              "learning_rate": 0.01
             }
            ],
            "passed_time": 596.7926492,
            "remaining_time": 998.8757603,
            "test": [
             0.8649284459,
             0.5454191202
            ]
           },
           {
            "iteration": 377,
            "learn": [
             0.8458337647,
             0.4932188645
            ],
            "parameters": [
             {
              "depth": 6,
              "iterations": 30,
              "learning_rate": 0.02
             }
            ],
            "passed_time": 597.1343904,
            "remaining_time": 995.223984,
            "test": [
             0.8641617945,
             0.4764793753
            ]
           },
           {
            "iteration": 378,
            "learn": [
             0.8518222337,
             0.4358965564
            ],
            "parameters": [
             {
              "depth": 6,
              "iterations": 30,
              "learning_rate": 0.04
             }
            ],
            "passed_time": 597.5546669,
            "remaining_time": 991.7200145,
            "test": [
             0.8693349001,
             0.4146628473
            ]
           },
           {
            "iteration": 379,
            "learn": [
             0.853711899,
             0.4242983064
            ],
            "parameters": [
             {
              "depth": 6,
              "iterations": 30,
              "learning_rate": 0.05
             }
            ],
            "passed_time": 597.9127518,
            "remaining_time": 988.129495,
            "test": [
             0.8690172532,
             0.4030224458
            ]
           },
           {
            "iteration": 380,
            "learn": [
             0.8662827812,
             0.3963179343
            ],
            "parameters": [
             {
              "depth": 6,
              "iterations": 30,
              "learning_rate": 0.1
             }
            ],
            "passed_time": 598.2597822,
            "remaining_time": 984.5377518,
            "test": [
             0.869905709,
             0.3821941004
            ]
           },
           {
            "iteration": 381,
            "learn": [
             0.8780187486,
             0.3777033209
            ],
            "parameters": [
             {
              "depth": 6,
              "iterations": 30,
              "learning_rate": 0.2
             }
            ],
            "passed_time": 598.6575886,
            "remaining_time": 981.0462053,
            "test": [
             0.8669680729,
             0.381494257
            ]
           },
           {
            "iteration": 382,
            "learn": [
             0.8880958132,
             0.3640779404
            ],
            "parameters": [
             {
              "depth": 6,
              "iterations": 30,
              "learning_rate": 0.3
             }
            ],
            "passed_time": 599.0066521,
            "remaining_time": 977.4912731,
            "test": [
             0.8594687416,
             0.3893792076
            ]
           },
           {
            "iteration": 383,
            "learn": [
             0.9294773695,
             0.302702881
            ],
            "parameters": [
             {
              "depth": 6,
              "iterations": 30,
              "learning_rate": 0.5
             }
            ],
            "passed_time": 599.3634824,
            "remaining_time": 973.9656589,
            "test": [
             0.8445775536,
             0.4093797478
            ]
           },
           {
            "iteration": 384,
            "learn": [
             0.8404063147,
             0.6905899294
            ],
            "parameters": [
             {
              "depth": 6,
              "iterations": 40,
              "learning_rate": 0.0001
             }
            ],
            "passed_time": 599.8780185,
            "remaining_time": 970.7117026,
            "test": [
             0.8652532577,
             0.6903738648
            ]
           },
           {
            "iteration": 385,
            "learn": [
             0.8402432712,
             0.6805250039
            ],
            "parameters": [
             {
              "depth": 6,
              "iterations": 40,
              "learning_rate": 0.0005
             }
            ],
            "passed_time": 600.3247487,
            "remaining_time": 967.362678,
            "test": [
             0.8639157973,
             0.679432146
            ]
           },
           {
            "iteration": 386,
            "learn": [
             0.8409069473,
             0.6684334536
            ],
            "parameters": [
             {
              "depth": 6,
              "iterations": 40,
              "learning_rate": 0.001
             }
            ],
            "passed_time": 600.8453492,
            "remaining_time": 964.1471882,
            "test": [
             0.8648520196,
             0.6663126763
            ]
           },
           {
            "iteration": 387,
            "learn": [
             0.8417096561,
             0.5914142611
            ],
            "parameters": [
             {
              "depth": 6,
              "iterations": 40,
              "learning_rate": 0.005
             }
            ],
            "passed_time": 601.3012754,
            "remaining_time": 960.8422443,
            "test": [
             0.8658169017,
             0.5826419613
            ]
           },
           {
            "iteration": 388,
            "learn": [
             0.8431705774,
             0.529594024
            ],
            "parameters": [
             {
              "depth": 6,
              "iterations": 40,
              "learning_rate": 0.01
             }
            ],
            "passed_time": 601.8350349,
            "remaining_time": 957.675801,
            "test": [
             0.8658503382,
             0.5145203156
            ]
           },
           {
            "iteration": 389,
            "learn": [
             0.8476669255,
             0.467541716
            ],
            "parameters": [
             {
              "depth": 6,
              "iterations": 40,
              "learning_rate": 0.02
             }
            ],
            "passed_time": 602.2995886,
            "remaining_time": 954.4131942,
            "test": [
             0.8659243762,
             0.448254876
            ]
           },
           {
            "iteration": 390,
            "learn": [
             0.8564062859,
             0.4188164241
            ],
            "parameters": [
             {
              "depth": 6,
              "iterations": 40,
              "learning_rate": 0.04
             }
            ],
            "passed_time": 602.8186498,
            "remaining_time": 951.2509128,
            "test": [
             0.8695020826,
             0.39895335
            ]
           },
           {
            "iteration": 391,
            "learn": [
             0.858520819,
             0.4112285973
            ],
            "parameters": [
             {
              "depth": 6,
              "iterations": 40,
              "learning_rate": 0.05
             }
            ],
            "passed_time": 603.2752149,
            "remaining_time": 948.0039091,
            "test": [
             0.8704072567,
             0.391576488
            ]
           },
           {
            "iteration": 392,
            "learn": [
             0.8708622326,
             0.3883098361
            ],
            "parameters": [
             {
              "depth": 6,
              "iterations": 40,
              "learning_rate": 0.1
             }
            ],
            "passed_time": 603.7951995,
            "remaining_time": 944.8703503,
            "test": [
             0.8683437464,
             0.3807662412
            ]
           },
           {
            "iteration": 393,
            "learn": [
             0.8872954049,
             0.3661021097
            ],
            "parameters": [
             {
              "depth": 6,
              "iterations": 40,
              "learning_rate": 0.2
             }
            ],
            "passed_time": 604.2485121,
            "remaining_time": 941.6461584,
            "test": [
             0.8646609538,
             0.3833702646
            ]
           },
           {
            "iteration": 394,
            "learn": [
             0.9140349666,
             0.32884035
            ],
            "parameters": [
             {
              "depth": 6,
              "iterations": 40,
              "learning_rate": 0.3
             }
            ],
            "passed_time": 604.7827251,
            "remaining_time": 938.5615455,
            "test": [
             0.8564785624,
             0.3932895954
            ]
           },
           {
            "iteration": 395,
            "learn": [
             0.9516193639,
             0.2634953579
            ],
            "parameters": [
             {
              "depth": 6,
              "iterations": 40,
              "learning_rate": 0.5
             }
            ],
            "passed_time": 605.2864037,
            "remaining_time": 935.4426239,
            "test": [
             0.833746513,
             0.4320080675
            ]
           },
           {
            "iteration": 396,
            "learn": [
             0.8408495802,
             0.6899445185
            ],
            "parameters": [
             {
              "depth": 6,
              "iterations": 50,
              "learning_rate": 0.0001
             }
            ],
            "passed_time": 605.9135981,
            "remaining_time": 932.5269734,
            "test": [
             0.8653511789,
             0.68967238
            ]
           },
           {
            "iteration": 397,
            "learn": [
             0.8404219864,
             0.677539308
            ],
            "parameters": [
             {
              "depth": 6,
              "iterations": 50,
              "learning_rate": 0.0005
             }
            ],
            "passed_time": 606.4827349,
            "remaining_time": 929.5338399,
            "test": [
             0.8640853682,
             0.6761869318
            ]
           },
           {
            "iteration": 398,
            "learn": [
             0.8412070106,
             0.6625249743
            ],
            "parameters": [
             {
              "depth": 6,
              "iterations": 50,
              "learning_rate": 0.001
             }
            ],
            "passed_time": 607.1261368,
            "remaining_time": 926.6662088,
            "test": [
             0.8646227406,
             0.6598523377
            ]
           },
           {
            "iteration": 399,
            "learn": [
             0.8419102254,
             0.5730302687
            ],
            "parameters": [
             {
              "depth": 6,
              "iterations": 50,
              "learning_rate": 0.005
             }
            ],
            "passed_time": 607.6959007,
            "remaining_time": 923.697769,
            "test": [
             0.8662587413,
             0.5624210201
            ]
           },
           {
            "iteration": 400,
            "learn": [
             0.8443865022,
             0.5080040741
            ],
            "parameters": [
             {
              "depth": 6,
              "iterations": 50,
              "learning_rate": 0.01
             }
            ],
            "passed_time": 608.3216652,
            "remaining_time": 920.8260617,
            "test": [
             0.8661297719,
             0.4913732528
            ]
           },
           {
            "iteration": 401,
            "learn": [
             0.8500866977,
             0.4497129896
            ],
            "parameters": [
             {
              "depth": 6,
              "iterations": 50,
              "learning_rate": 0.02
             }
            ],
            "passed_time": 608.9780555,
            "remaining_time": 918.0116955,
            "test": [
             0.8668892583,
             0.4295231861
            ]
           },
           {
            "iteration": 402,
            "learn": [
             0.859694617,
             0.4099407354
            ],
            "parameters": [
             {
              "depth": 6,
              "iterations": 50,
              "learning_rate": 0.04
             }
            ],
            "passed_time": 609.6023041,
            "remaining_time": 915.1597865,
            "test": [
             0.8704359165,
             0.3910435275
            ]
           },
           {
            "iteration": 403,
            "learn": [
             0.8627851104,
             0.4023262752
            ],
            "parameters": [
             {
              "depth": 6,
              "iterations": 50,
              "learning_rate": 0.05
             }
            ],
            "passed_time": 610.2374011,
            "remaining_time": 912.3351245,
            "test": [
             0.8708634262,
             0.3857381433
            ]
           },
           {
            "iteration": 404,
            "learn": [
             0.875123936,
             0.3819481766
            ],
            "parameters": [
             {
              "depth": 6,
              "iterations": 50,
              "learning_rate": 0.1
             }
            ],
            "passed_time": 610.8262273,
            "remaining_time": 909.4523829,
            "test": [
             0.867517387,
             0.3803848468
            ]
           },
           {
            "iteration": 405,
            "learn": [
             0.903232833,
             0.3454667059
            ],
            "parameters": [
             {
              "depth": 6,
              "iterations": 50,
              "learning_rate": 0.2
             }
            ],
            "passed_time": 611.4608738,
            "remaining_time": 906.6488819,
            "test": [
             0.8632327372,
             0.384501713
            ]
           },
           {
            "iteration": 406,
            "learn": [
             0.9322150334,
             0.3014320993
            ],
            "parameters": [
             {
              "depth": 6,
              "iterations": 50,
              "learning_rate": 0.3
             }
            ],
            "passed_time": 612.1410899,
            "remaining_time": 903.9233292,
            "test": [
             0.8552915664,
             0.3950380781
            ]
           },
           {
            "iteration": 407,
            "learn": [
             0.9693488325,
             0.2251553823
            ],
            "parameters": [
             {
              "depth": 6,
              "iterations": 50,
              "learning_rate": 0.5
             }
            ],
            "passed_time": 612.7483851,
            "remaining_time": 901.1005663,
            "test": [
             0.826137319,
             0.4518010948
            ]
           },
           {
            "iteration": 408,
            "learn": [
             0.8407361399,
             0.6886640848
            ],
            "parameters": [
             {
              "depth": 6,
              "iterations": 70,
              "learning_rate": 0.0001
             }
            ],
            "passed_time": 613.7117494,
            "remaining_time": 898.8101172,
            "test": [
             0.8652675876,
             0.6882770855
            ]
           },
           {
            "iteration": 409,
            "learn": [
             0.8404140787,
             0.6715656109
            ],
            "parameters": [
             {
              "depth": 6,
              "iterations": 70,
              "learning_rate": 0.0005
             }
            ],
            "passed_time": 614.592144,
            "remaining_time": 896.4051272,
            "test": [
             0.8647684283,
             0.6696836862
            ]
           },
           {
            "iteration": 410,
            "learn": [
             0.8410977398,
             0.6511968135
            ],
            "parameters": [
             {
              "depth": 6,
              "iterations": 70,
              "learning_rate": 0.001
             }
            ],
            "passed_time": 615.473524,
            "remaining_time": 894.0089875,
            "test": [
             0.8645176545,
             0.6475679635
            ]
           },
           {
            "iteration": 411,
            "learn": [
             0.8431494421,
             0.5418520734
            ],
            "parameters": [
             {
              "depth": 6,
              "iterations": 70,
              "learning_rate": 0.005
             }
            ],
            "passed_time": 616.3655658,
            "remaining_time": 891.6356244,
            "test": [
             0.8657977951,
             0.5286429983
            ]
           },
           {
            "iteration": 412,
            "learn": [
             0.8468321544,
             0.4757995062
            ],
            "parameters": [
             {
              "depth": 6,
              "iterations": 70,
              "learning_rate": 0.01
             }
            ],
            "passed_time": 617.1754538,
            "remaining_time": 889.1510775,
            "test": [
             0.8671471971,
             0.4570863581
            ]
           },
           {
            "iteration": 413,
            "learn": [
             0.8536947895,
             0.4279323208
            ],
            "parameters": [
             {
              "depth": 6,
              "iterations": 70,
              "learning_rate": 0.02
             }
            ],
            "passed_time": 618.0442031,
            "remaining_time": 886.759074,
            "test": [
             0.8679281784,
             0.4075493355
            ]
           },
           {
            "iteration": 414,
            "learn": [
             0.8651423395,
             0.398183217
            ],
            "parameters": [
             {
              "depth": 6,
              "iterations": 70,
              "learning_rate": 0.04
             }
            ],
            "passed_time": 618.909114,
            "remaining_time": 884.3689268,
            "test": [
             0.8712957125,
             0.3829793296
            ]
           },
           {
            "iteration": 415,
            "learn": [
             0.8689981597,
             0.3918839344
            ],
            "parameters": [
             {
              "depth": 6,
              "iterations": 70,
              "learning_rate": 0.05
             }
            ],
            "passed_time": 619.7650185,
            "remaining_time": 881.9732956,
            "test": [
             0.8706723604,
             0.3813211092
            ]
           },
           {
            "iteration": 416,
            "learn": [
             0.88387523,
             0.3704831332
            ],
            "parameters": [
             {
              "depth": 6,
              "iterations": 70,
              "learning_rate": 0.1
             }
            ],
            "passed_time": 620.6557236,
            "remaining_time": 879.6343709,
            "test": [
             0.8658909397,
             0.3820452964
            ]
           },
           {
            "iteration": 417,
            "learn": [
             0.9340131125,
             0.3011992884
            ],
            "parameters": [
             {
              "depth": 6,
              "iterations": 70,
              "learning_rate": 0.2
             }
            ],
            "passed_time": 621.5455129,
            "remaining_time": 877.3010827,
            "test": [
             0.8576225687,
             0.3915068205
            ]
           },
           {
            "iteration": 418,
            "learn": [
             0.9591456752,
             0.254173059
            ],
            "parameters": [
             {
              "depth": 6,
              "iterations": 70,
              "learning_rate": 0.3
             }
            ],
            "passed_time": 622.3943451,
            "remaining_time": 874.9171104,
            "test": [
             0.8472285911,
             0.4071705235
            ]
           },
           {
            "iteration": 419,
            "learn": [
             0.9859689153,
             0.1782674457
            ],
            "parameters": [
             {
              "depth": 6,
              "iterations": 70,
              "learning_rate": 0.5
             }
            ],
            "passed_time": 623.3497478,
            "remaining_time": 872.6896469,
            "test": [
             0.8193879208,
             0.4731660078
            ]
           },
           {
            "iteration": 420,
            "learn": [
             0.8407151484,
             0.6867489308
            ],
            "parameters": [
             {
              "depth": 6,
              "iterations": 100,
              "learning_rate": 0.0001
             }
            ],
            "passed_time": 624.5185279,
            "remaining_time": 870.7657385,
            "test": [
             0.8646060224,
             0.6861907092
            ]
           },
           {
            "iteration": 421,
            "learn": [
             0.8408139234,
             0.6627937572
            ],
            "parameters": [
             {
              "depth": 6,
              "iterations": 100,
              "learning_rate": 0.0005
             }
            ],
            "passed_time": 625.7072015,
            "remaining_time": 868.8730333,
            "test": [
             0.8649523291,
             0.6601438203
            ]
           },
           {
            "iteration": 422,
            "learn": [
             0.841209311,
             0.6352505223
            ],
            "parameters": [
             {
              "depth": 6,
              "iterations": 100,
              "learning_rate": 0.001
             }
            ],
            "passed_time": 626.8805662,
            "remaining_time": 866.9624851,
            "test": [
             0.8645487027,
             0.6303320219
            ]
           },
           {
            "iteration": 423,
            "learn": [
             0.8445406315,
             0.5078511318
            ],
            "parameters": [
             {
              "depth": 6,
              "iterations": 100,
              "learning_rate": 0.005
             }
            ],
            "passed_time": 628.0755103,
            "remaining_time": 865.0851368,
            "test": [
             0.8653440139,
             0.4917848134
            ]
           },
           {
            "iteration": 424,
            "learn": [
             0.8501391764,
             0.4480879501
            ],
            "parameters": [
             {
              "depth": 6,
              "iterations": 100,
              "learning_rate": 0.01
             }
            ],
            "passed_time": 629.2740262,
            "remaining_time": 863.2158995,
            "test": [
             0.8668367152,
             0.4284565814
            ]
           },
           {
            "iteration": 425,
            "learn": [
             0.8594535024,
             0.410941779
            ],
            "parameters": [
             {
              "depth": 6,
              "iterations": 100,
              "learning_rate": 0.02
             }
            ],
            "passed_time": 630.4626781,
            "remaining_time": 861.3363349,
            "test": [
             0.8690483014,
             0.3927481529
            ]
           },
           {
            "iteration": 426,
            "learn": [
             0.8709851622,
             0.3887571103
            ],
            "parameters": [
             {
              "depth": 6,
              "iterations": 100,
              "learning_rate": 0.04
             }
            ],
            "passed_time": 631.6971288,
            "remaining_time": 859.5223227,
            "test": [
             0.8697433031,
             0.3808179648
            ]
           },
           {
            "iteration": 427,
            "learn": [
             0.8754480101,
             0.3821107947
            ],
            "parameters": [
             {
              "depth": 6,
              "iterations": 100,
              "learning_rate": 0.05
             }
            ],
            "passed_time": 632.8934628,
            "remaining_time": 857.6593655,
            "test": [
             0.8693468417,
             0.380488994
            ]
           },
           {
            "iteration": 428,
            "learn": [
             0.9033904129,
             0.3461937715
            ],
            "parameters": [
             {
              "depth": 6,
              "iterations": 100,
              "learning_rate": 0.1
             }
            ],
            "passed_time": 634.0931038,
            "remaining_time": 855.8039792,
            "test": [
             0.8637247316,
             0.3838900604
            ]
           },
           {
            "iteration": 429,
            "learn": [
             0.9608222625,
             0.2544814841
            ],
            "parameters": [
             {
              "depth": 6,
              "iterations": 100,
              "learning_rate": 0.2
             }
            ],
            "passed_time": 635.3238849,
            "remaining_time": 853.9935011,
            "test": [
             0.8509376552,
             0.4023867019
            ]
           },
           {
            "iteration": 430,
            "learn": [
             0.9840565332,
             0.1931644683
            ],
            "parameters": [
             {
              "depth": 6,
              "iterations": 100,
              "learning_rate": 0.3
             }
            ],
            "passed_time": 636.5771228,
            "remaining_time": 852.2157769,
            "test": [
             0.8422752111,
             0.4239452594
            ]
           },
           {
            "iteration": 431,
            "learn": [
             0.9958182367,
             0.1317689578
            ],
            "parameters": [
             {
              "depth": 6,
              "iterations": 100,
              "learning_rate": 0.5
             }
            ],
            "passed_time": 637.9724037,
            "remaining_time": 850.6298716,
            "test": [
             0.8193879208,
             0.4878947183
            ]
           },
           {
            "iteration": 432,
            "learn": [
             0.840844548,
             0.6835811938
            ],
            "parameters": [
             {
              "depth": 6,
              "iterations": 150,
              "learning_rate": 0.0001
             }
            ],
            "passed_time": 639.7661908,
            "remaining_time": 849.574041,
            "test": [
             0.8649547174,
             0.6827359396
            ]
           },
           {
            "iteration": 433,
            "learn": [
             0.8413129745,
             0.6487317865
            ],
            "parameters": [
             {
              "depth": 6,
              "iterations": 150,
              "learning_rate": 0.0005
             }
            ],
            "passed_time": 641.4758984,
            "remaining_time": 848.4036076,
            "test": [
             0.8650096488,
             0.6448534921
            ]
           },
           {
            "iteration": 434,
            "learn": [
             0.8419755003,
             0.611583547
            ],
            "parameters": [
             {
              "depth": 6,
              "iterations": 150,
              "learning_rate": 0.001
             }
            ],
            "passed_time": 643.2661318,
            "remaining_time": 847.3367667,
            "test": [
             0.8647708166,
             0.6046990713
            ]
           },
           {
            "iteration": 435,
            "learn": [
             0.8472429262,
             0.4714736913
            ],
            "parameters": [
             {
              "depth": 6,
              "iterations": 150,
              "learning_rate": 0.005
             }
            ],
            "passed_time": 645.0305104,
            "remaining_time": 846.232688,
            "test": [
             0.8658622798,
             0.4524995581
            ]
           },
           {
            "iteration": 436,
            "learn": [
             0.8552051702,
             0.4233314667
            ],
            "parameters": [
             {
              "depth": 6,
              "iterations": 150,
              "learning_rate": 0.01
             }
            ],
            "passed_time": 646.7764584,
            "remaining_time": 845.1015051,
            "test": [
             0.8680619244,
             0.4037823984
            ]
           },
           {
            "iteration": 437,
            "learn": [
             0.8665254773,
             0.3963088461
            ],
            "parameters": [
             {
              "depth": 6,
              "iterations": 150,
              "learning_rate": 0.02
             }
            ],
            "passed_time": 648.5963998,
            "remaining_time": 844.0638079,
            "test": [
             0.869497306,
             0.3836547409
            ]
           },
           {
            "iteration": 438,
            "learn": [
             0.8800447147,
             0.3764508484
            ],
            "parameters": [
             {
              "depth": 6,
              "iterations": 150,
              "learning_rate": 0.04
             }
            ],
            "passed_time": 650.3675629,
            "remaining_time": 842.9593242,
            "test": [
             0.868577802,
             0.3796805315
            ]
           },
           {
            "iteration": 439,
            "learn": [
             0.8859032091,
             0.3684624593
            ],
            "parameters": [
             {
              "depth": 6,
              "iterations": 150,
              "learning_rate": 0.05
             }
            ],
            "passed_time": 652.1533612,
            "remaining_time": 841.8707027,
            "test": [
             0.8673502044,
             0.3814453799
            ]
           },
           {
            "iteration": 440,
            "learn": [
             0.9390469002,
             0.2943087906
            ],
            "parameters": [
             {
              "depth": 6,
              "iterations": 150,
              "learning_rate": 0.1
             }
            ],
            "passed_time": 653.9903281,
            "remaining_time": 840.8447076,
            "test": [
             0.8559244717,
             0.3936523582
            ]
           },
           {
            "iteration": 441,
            "learn": [
             0.9866360421,
             0.1895273948
            ],
            "parameters": [
             {
              "depth": 6,
              "iterations": 150,
              "learning_rate": 0.2
             }
            ],
            "passed_time": 655.8395912,
            "remaining_time": 839.8307887,
            "test": [
             0.8397412014,
             0.4242165512
            ]
           },
           {
            "iteration": 442,
            "learn": [
             0.9966190764,
             0.1359507046
            ],
            "parameters": [
             {
              "depth": 6,
              "iterations": 150,
              "learning_rate": 0.3
             }
            ],
            "passed_time": 657.7341648,
            "remaining_time": 838.8708874,
            "test": [
             0.8303861439,
             0.4597065845
            ]
           },
           {
            "iteration": 443,
            "learn": [
             0.99966428,
             0.08086168894
            ],
            "parameters": [
             {
              "depth": 6,
              "iterations": 150,
              "learning_rate": 0.5
             }
            ],
            "passed_time": 659.6168704,
            "remaining_time": 837.8917002,
            "test": [
             0.8193879208,
             0.4878947183
            ]
           },
           {
            "iteration": 444,
            "learn": [
             0.8408042903,
             0.6804765895
            ],
            "parameters": [
             {
              "depth": 6,
              "iterations": 200,
              "learning_rate": 0.0001
             }
            ],
            "passed_time": 662.0060123,
            "remaining_time": 837.5491796,
            "test": [
             0.8648305247,
             0.6793561641
            ]
           },
           {
            "iteration": 445,
            "learn": [
             0.8414636531,
             0.6356923852
            ],
            "parameters": [
             {
              "depth": 6,
              "iterations": 200,
              "learning_rate": 0.0005
             }
            ],
            "passed_time": 664.314189,
            "remaining_time": 837.0954579,
            "test": [
             0.8652795292,
             0.6306302189
            ]
           },
           {
            "iteration": 446,
            "learn": [
             0.8424131585,
             0.5904353462
            ],
            "parameters": [
             {
              "depth": 6,
              "iterations": 200,
              "learning_rate": 0.001
             }
            ],
            "passed_time": 666.6096686,
            "remaining_time": 836.6175036,
            "test": [
             0.8651099583,
             0.5816373875
            ]
           },
           {
            "iteration": 447,
            "learn": [
             0.8504963193,
             0.4490129399
            ],
            "parameters": [
             {
              "depth": 6,
              "iterations": 200,
              "learning_rate": 0.005
             }
            ],
            "passed_time": 668.937115,
            "remaining_time": 836.1713937,
            "test": [
             0.867577095,
             0.428914984
            ]
           },
           {
            "iteration": 448,
            "learn": [
             0.8596621233,
             0.4105567989
            ],
            "parameters": [
             {
              "depth": 6,
              "iterations": 200,
              "learning_rate": 0.01
             }
            ],
            "passed_time": 671.2400459,
            "remaining_time": 835.6863823,
            "test": [
             0.8692130956,
             0.3925580692
            ]
           },
           {
            "iteration": 449,
            "learn": [
             0.8717043363,
             0.387750978
            ],
            "parameters": [
             {
              "depth": 6,
              "iterations": 200,
              "learning_rate": 0.02
             }
            ],
            "passed_time": 673.6522973,
            "remaining_time": 835.3288486,
            "test": [
             0.8687306546,
             0.3812750189
            ]
           },
           {
            "iteration": 450,
            "learn": [
             0.8902051702,
             0.3637412088
            ],
            "parameters": [
             {
              "depth": 6,
              "iterations": 200,
              "learning_rate": 0.04
             }
            ],
            "passed_time": 676.0182537,
            "remaining_time": 834.9050272,
            "test": [
             0.8674911154,
             0.3805632053
            ]
           },
           {
            "iteration": 451,
            "learn": [
             0.9031109098,
             0.3469239849
            ],
            "parameters": [
             {
              "depth": 6,
              "iterations": 200,
              "learning_rate": 0.05
             }
            ],
            "passed_time": 678.3618854,
            "remaining_time": 834.4451511,
            "test": [
             0.864692002,
             0.3837335983
            ]
           },
           {
            "iteration": 452,
            "learn": [
             0.9602795031,
             0.2570267461
            ],
            "parameters": [
             {
              "depth": 6,
              "iterations": 200,
              "learning_rate": 0.1
             }
            ],
            "passed_time": 680.8335441,
            "remaining_time": 834.1338123,
            "test": [
             0.8505937369,
             0.403462824
            ]
           },
           {
            "iteration": 453,
            "learn": [
             0.9959881815,
             0.1459935971
            ],
            "parameters": [
             {
              "depth": 6,
              "iterations": 200,
              "learning_rate": 0.2
             }
            ],
            "passed_time": 683.3157228,
            "remaining_time": 833.8257939,
            "test": [
             0.8337035233,
             0.4430293571
            ]
           },
           {
            "iteration": 454,
            "learn": [
             0.9993732747,
             0.1004075733
            ],
            "parameters": [
             {
              "depth": 6,
              "iterations": 200,
              "learning_rate": 0.3
             }
            ],
            "passed_time": 685.7881893,
            "remaining_time": 833.4964146,
            "test": [
             0.8237991517,
             0.4897758476
            ]
           },
           {
            "iteration": 455,
            "learn": [
             0.9999785772,
             0.05436041863
            ],
            "parameters": [
             {
              "depth": 6,
              "iterations": 200,
              "learning_rate": 0.5
             }
            ],
            "passed_time": 688.3409374,
            "remaining_time": 833.2548189,
            "test": [
             0.8193879208,
             0.4878947183
            ]
           },
           {
            "iteration": 456,
            "learn": [
             0.8409089602,
             0.6773856003
            ],
            "parameters": [
             {
              "depth": 6,
              "iterations": 250,
              "learning_rate": 0.0001
             }
            ],
            "passed_time": 691.1841142,
            "remaining_time": 833.3532755,
            "test": [
             0.86475171,
             0.6759977223
            ]
           },
           {
            "iteration": 457,
            "learn": [
             0.8417389867,
             0.6233724934
            ],
            "parameters": [
             {
              "depth": 6,
              "iterations": 250,
              "learning_rate": 0.0005
             }
            ],
            "passed_time": 695.74733,
            "remaining_time": 835.5044356,
            "test": [
             0.8653846154,
             0.6172231396
            ]
           },
           {
            "iteration": 458,
            "learn": [
             0.8431189614,
             0.5717641413
            ],
            "parameters": [
             {
              "depth": 6,
              "iterations": 250,
              "learning_rate": 0.001
             }
            ],
            "passed_time": 698.8161505,
            "remaining_time": 835.8389251,
            "test": [
             0.8649977072,
             0.5614459797
            ]
           },
           {
            "iteration": 459,
            "learn": [
             0.8528582931,
             0.4341943139
            ],
            "parameters": [
             {
              "depth": 6,
              "iterations": 250,
              "learning_rate": 0.005
             }
            ],
            "passed_time": 701.7353874,
            "remaining_time": 835.9804181,
            "test": [
             0.8679640032,
             0.4139322685
            ]
           },
           {
            "iteration": 460,
            "learn": [
             0.8636863066,
             0.4020484227
            ],
            "parameters": [
             {
              "depth": 6,
              "iterations": 250,
              "learning_rate": 0.01
             }
            ],
            "passed_time": 704.7383209,
            "remaining_time": 836.2079425,
            "test": [
             0.8694352096,
             0.386984718
            ]
           },
           {
            "iteration": 461,
            "learn": [
             0.8763634403,
             0.3811907271
            ],
            "parameters": [
             {
              "depth": 6,
              "iterations": 250,
              "learning_rate": 0.02
             }
            ],
            "passed_time": 707.7068871,
            "remaining_time": 836.3808665,
            "test": [
             0.8682577668,
             0.3803569798
            ]
           },
           {
            "iteration": 462,
            "learn": [
             0.9060587762,
             0.3439275923
            ],
            "parameters": [
             {
              "depth": 6,
              "iterations": 250,
              "learning_rate": 0.04
             }
            ],
            "passed_time": 710.6473732,
            "remaining_time": 836.5071672,
            "test": [
             0.8655255264,
             0.3818291734
            ]
           },
           {
            "iteration": 463,
            "learn": [
             0.9252738958,
             0.317247421
            ],
            "parameters": [
             {
              "depth": 6,
              "iterations": 250,
              "learning_rate": 0.05
             }
            ],
            "passed_time": 713.6335565,
            "remaining_time": 836.6738249,
            "test": [
             0.8614677672,
             0.38700077
            ]
           },
           {
            "iteration": 464,
            "learn": [
             0.9757508052,
             0.2227697006
            ],
            "parameters": [
             {
              "depth": 6,
              "iterations": 250,
              "learning_rate": 0.1
             }
            ],
            "passed_time": 716.6979645,
            "remaining_time": 836.9182682,
            "test": [
             0.84498118,
             0.4142259836
            ]
           },
           {
            "iteration": 465,
            "learn": [
             0.9988726421,
             0.116025155
            ],
            "parameters": [
             {
              "depth": 6,
              "iterations": 250,
              "learning_rate": 0.2
             }
            ],
            "passed_time": 719.7190373,
            "remaining_time": 837.0981077,
            "test": [
             0.8273338683,
             0.4671318866
            ]
           },
           {
            "iteration": 466,
            "learn": [
             0.9998532034,
             0.07645167037
            ],
            "parameters": [
             {
              "depth": 6,
              "iterations": 250,
              "learning_rate": 0.3
             }
            ],
            "passed_time": 722.7679438,
            "remaining_time": 837.2964831,
            "test": [
             0.8226097673,
             0.5106947673
            ]
           },
           {
            "iteration": 467,
            "learn": [
             0.99999353,
             0.03883309504
            ],
            "parameters": [
             {
              "depth": 6,
              "iterations": 250,
              "learning_rate": 0.5
             }
            ],
            "passed_time": 725.8620661,
            "remaining_time": 837.5331532,
            "test": [
             0.8193879208,
             0.4878947183
            ]
           },
           {
            "iteration": 468,
            "learn": [
             0.8408967391,
             0.6743199865
            ],
            "parameters": [
             {
              "depth": 6,
              "iterations": 300,
              "learning_rate": 0.0001
             }
            ],
            "passed_time": 729.3033846,
            "remaining_time": 838.154636,
            "test": [
             0.8646466239,
             0.6726754239
            ]
           },
           {
            "iteration": 469,
            "learn": [
             0.8419496204,
             0.6118090477
            ],
            "parameters": [
             {
              "depth": 6,
              "iterations": 300,
              "learning_rate": 0.0005
             }
            ],
            "passed_time": 732.7979215,
            "remaining_time": 838.8197484,
            "test": [
             0.8654801483,
             0.6046444065
            ]
           },
           {
            "iteration": 470,
            "learn": [
             0.8434528123,
             0.555322963
            ],
            "parameters": [
             {
              "depth": 6,
              "iterations": 300,
              "learning_rate": 0.001
             }
            ],
            "passed_time": 736.2603436,
            "remaining_time": 839.4305828,
            "test": [
             0.8654371585,
             0.5435494035
            ]
           },
           {
            "iteration": 471,
            "learn": [
             0.8556984702,
             0.4239062905
            ],
            "parameters": [
             {
              "depth": 6,
              "iterations": 300,
              "learning_rate": 0.005
             }
            ],
            "passed_time": 739.7124058,
            "remaining_time": 840.0123931,
            "test": [
             0.8682506019,
             0.40423741
            ]
           },
           {
            "iteration": 472,
            "learn": [
             0.8669438693,
             0.3959633365
            ],
            "parameters": [
             {
              "depth": 6,
              "iterations": 300,
              "learning_rate": 0.01
             }
            ],
            "passed_time": 743.1867177,
            "remaining_time": 840.6023128,
            "test": [
             0.8690506897,
             0.3840194692
            ]
           },
           {
            "iteration": 473,
            "learn": [
             0.8802912928,
             0.3759275293
            ],
            "parameters": [
             {
              "depth": 6,
              "iterations": 300,
              "learning_rate": 0.02
             }
            ],
            "passed_time": 746.6681628,
            "remaining_time": 841.1831202,
            "test": [
             0.8678087623,
             0.3805333843
            ]
           },
           {
            "iteration": 474,
            "learn": [
             0.9234135611,
             0.3210897399
            ],
            "parameters": [
             {
              "depth": 6,
              "iterations": 300,
              "learning_rate": 0.04
             }
            ],
            "passed_time": 750.2189312,
            "remaining_time": 841.8246112,
            "test": [
             0.8633187168,
             0.3837278333
            ]
           },
           {
            "iteration": 475,
            "learn": [
             0.9405579998,
             0.2938849651
            ],
            "parameters": [
             {
              "depth": 6,
              "iterations": 300,
              "learning_rate": 0.05
             }
            ],
            "passed_time": 753.8131161,
            "remaining_time": 842.4970121,
            "test": [
             0.8571783408,
             0.3916322941
            ]
           },
           {
            "iteration": 476,
            "learn": [
             0.9850270301,
             0.1968901512
            ],
            "parameters": [
             {
              "depth": 6,
              "iterations": 300,
              "learning_rate": 0.1
             }
            ],
            "passed_time": 757.4842868,
            "remaining_time": 843.237225,
            "test": [
             0.8415037831,
             0.4231946022
            ]
           },
           {
            "iteration": 477,
            "learn": [
             0.9996657177,
             0.09687959832
            ],
            "parameters": [
             {
              "depth": 6,
              "iterations": 300,
              "learning_rate": 0.2
             }
            ],
            "passed_time": 761.2786119,
            "remaining_time": 844.0955321,
            "test": [
             0.8284802629,
             0.4738988943
            ]
           },
           {
            "iteration": 478,
            "learn": [
             0.999972251,
             0.05757622165
            ],
            "parameters": [
             {
              "depth": 6,
              "iterations": 300,
              "learning_rate": 0.3
             }
            ],
            "passed_time": 764.9303025,
            "remaining_time": 844.7768894,
            "test": [
             0.8227626199,
             0.5332956949
            ]
           },
           {
            "iteration": 479,
            "learn": [
             0.999996118,
             0.02937165882
            ],
            "parameters": [
             {
              "depth": 6,
              "iterations": 300,
              "learning_rate": 0.5
             }
            ],
            "passed_time": 768.6537704,
            "remaining_time": 845.5191475,
            "test": [
             0.8193879208,
             0.4878947183
            ]
           },
           {
            "iteration": 480,
            "learn": [
             0.8408295951,
             0.6625409681
            ],
            "parameters": [
             {
              "depth": 6,
              "iterations": 500,
              "learning_rate": 0.0001
             }
            ],
            "passed_time": 774.315835,
            "remaining_time": 848.3668296,
            "test": [
             0.8650765218,
             0.6598419963
            ]
           },
           {
            "iteration": 481,
            "learn": [
             0.842738239,
             0.5719499152
            ],
            "parameters": [
             {
              "depth": 6,
              "iterations": 500,
              "learning_rate": 0.0005
             }
            ],
            "passed_time": 779.8737903,
            "remaining_time": 851.0655886,
            "test": [
             0.8653535672,
             0.561294306
            ]
           },
           {
            "iteration": 482,
            "learn": [
             0.8451818783,
             0.5066416007
            ],
            "parameters": [
             {
              "depth": 6,
              "iterations": 500,
              "learning_rate": 0.001
             }
            ],
            "passed_time": 785.5004985,
            "remaining_time": 853.8048896,
            "test": [
             0.8656473308,
             0.4907861333
            ]
           },
           {
            "iteration": 483,
            "learn": [
             0.8641491258,
             0.4019787308
            ],
            "parameters": [
             {
              "depth": 6,
              "iterations": 500,
              "learning_rate": 0.005
             }
            ],
            "passed_time": 791.2499579,
            "remaining_time": 856.6425164,
            "test": [
             0.8697504681,
             0.3866395937
            ]
           },
           {
            "iteration": 484,
            "learn": [
             0.8774016563,
             0.380273788
            ],
            "parameters": [
             {
              "depth": 6,
              "iterations": 500,
              "learning_rate": 0.01
             }
            ],
            "passed_time": 796.9737067,
            "remaining_time": 859.4170075,
            "test": [
             0.8681455157,
             0.3806519328
            ]
           },
           {
            "iteration": 485,
            "learn": [
             0.905513285,
             0.3446075574
            ],
            "parameters": [
             {
              "depth": 6,
              "iterations": 500,
              "learning_rate": 0.02
             }
            ],
            "passed_time": 802.7727818,
            "remaining_time": 862.2374323,
            "test": [
             0.8643385303,
             0.3834807959
            ]
           },
           {
            "iteration": 486,
            "learn": [
             0.9653915056,
             0.2498760505
            ],
            "parameters": [
             {
              "depth": 6,
              "iterations": 500,
              "learning_rate": 0.04
             }
            ],
            "passed_time": 808.9496045,
            "remaining_time": 865.4265789,
            "test": [
             0.8559316367,
             0.3943029535
            ]
           },
           {
            "iteration": 487,
            "learn": [
             0.9765049172,
             0.2216889641
            ],
            "parameters": [
             {
              "depth": 6,
              "iterations": 500,
              "learning_rate": 0.05
             }
            ],
            "passed_time": 814.9370134,
            "remaining_time": 868.375506,
            "test": [
             0.8471139516,
             0.4081917293
            ]
           },
           {
            "iteration": 488,
            "learn": [
             0.9989318783,
             0.1183251502
            ],
            "parameters": [
             {
              "depth": 6,
              "iterations": 500,
              "learning_rate": 0.1
             }
            ],
            "passed_time": 821.0188337,
            "remaining_time": 871.3880874,
            "test": [
             0.8337966678,
             0.4573312178
            ]
           },
           {
            "iteration": 489,
            "learn": [
             0.9999863412,
             0.04934396699
            ],
            "parameters": [
             {
              "depth": 6,
              "iterations": 500,
              "learning_rate": 0.2
             }
            ],
            "passed_time": 827.0488718,
            "remaining_time": 874.3088074,
            "test": [
             0.8229536857,
             0.5354783053
            ]
           },
           {
            "iteration": 490,
            "learn": [
             0.9999949678,
             0.02804628579
            ],
            "parameters": [
             {
              "depth": 6,
              "iterations": 500,
              "learning_rate": 0.3
             }
            ],
            "passed_time": 833.1127762,
            "remaining_time": 877.2287276,
            "test": [
             0.8214538194,
             0.5485246545
            ]
           },
           {
            "iteration": 491,
            "learn": [
             0.9999964056,
             0.01375550673
            ],
            "parameters": [
             {
              "depth": 6,
              "iterations": 500,
              "learning_rate": 0.5
             }
            ],
            "passed_time": 839.3203598,
            "remaining_time": 880.2628163,
            "test": [
             0.8193879208,
             0.4878947183
            ]
           },
           {
            "iteration": 492,
            "learn": [
             0.8412433862,
             0.6356229961
            ],
            "parameters": [
             {
              "depth": 6,
              "iterations": 1000,
              "learning_rate": 0.0001
             }
            ],
            "passed_time": 850.6229008,
            "remaining_time": 888.581732,
            "test": [
             0.8649571057,
             0.6305915873
            ]
           },
           {
            "iteration": 493,
            "learn": [
             0.8449647746,
             0.5068801481
            ],
            "parameters": [
             {
              "depth": 6,
              "iterations": 1000,
              "learning_rate": 0.0005
             }
            ],
            "passed_time": 861.8913508,
            "remaining_time": 896.7857375,
            "test": [
             0.8658598915,
             0.4906505127
            ]
           },
           {
            "iteration": 494,
            "learn": [
             0.8508159363,
             0.4483975404
            ],
            "parameters": [
             {
              "depth": 6,
              "iterations": 1000,
              "learning_rate": 0.001
             }
            ],
            "passed_time": 875.3332506,
            "remaining_time": 907.1635506,
            "test": [
             0.8676344148,
             0.4287074318
            ]
           },
           {
            "iteration": 495,
            "learn": [
             0.8770107258,
             0.3807277056
            ],
            "parameters": [
             {
              "depth": 6,
              "iterations": 1000,
              "learning_rate": 0.005
             }
            ],
            "passed_time": 886.7958548,
            "remaining_time": 915.4021727,
            "test": [
             0.8683771829,
             0.380171326
            ]
           },
           {
            "iteration": 496,
            "learn": [
             0.9058768979,
             0.3440537991
            ],
            "parameters": [
             {
              "depth": 6,
              "iterations": 1000,
              "learning_rate": 0.01
             }
            ],
            "passed_time": 898.3280951,
            "remaining_time": 923.6331119,
            "test": [
             0.8639707287,
             0.3836219844
            ]
           },
           {
            "iteration": 497,
            "learn": [
             0.9629346388,
             0.2542659138
            ],
            "parameters": [
             {
              "depth": 6,
              "iterations": 1000,
              "learning_rate": 0.02
             }
            ],
            "passed_time": 910.4172684,
            "remaining_time": 932.3550339,
            "test": [
             0.8521986893,
             0.3990520027
            ]
           },
           {
            "iteration": 498,
            "learn": [
             0.9958507304,
             0.1521457911
            ],
            "parameters": [
             {
              "depth": 6,
              "iterations": 1000,
              "learning_rate": 0.04
             }
            ],
            "passed_time": 922.6627488,
            "remaining_time": 941.1529842,
            "test": [
             0.8405651725,
             0.4284110325
            ]
           },
           {
            "iteration": 499,
            "learn": [
             0.9984088164,
             0.1258176851
            ],
            "parameters": [
             {
              "depth": 6,
              "iterations": 1000,
              "learning_rate": 0.05
             }
            ],
            "passed_time": 934.8017263,
            "remaining_time": 949.7585539,
            "test": [
             0.8331183843,
             0.4501667312
            ]
           },
           {
            "iteration": 500,
            "learn": [
             0.9999808776,
             0.05087319672
            ],
            "parameters": [
             {
              "depth": 6,
              "iterations": 1000,
              "learning_rate": 0.1
             }
            ],
            "passed_time": 946.8651555,
            "remaining_time": 958.204858,
            "test": [
             0.824921663,
             0.5312198639
            ]
           },
           {
            "iteration": 501,
            "learn": [
             0.9999952553,
             0.01921155894
            ],
            "parameters": [
             {
              "depth": 6,
              "iterations": 1000,
              "learning_rate": 0.2
             }
            ],
            "passed_time": 958.9443385,
            "remaining_time": 966.5853293,
            "test": [
             0.8193879208,
             0.5890698985
            ]
           },
           {
            "iteration": 502,
            "learn": [
             0.9999964056,
             0.01115213168
            ],
            "parameters": [
             {
              "depth": 6,
              "iterations": 1000,
              "learning_rate": 0.3
             }
            ],
            "passed_time": 970.8968704,
            "remaining_time": 974.7572954,
            "test": [
             0.8193879208,
             0.5485246545
            ]
           },
           {
            "iteration": 503,
            "learn": [
             0.9999964056,
             0.007201350261
            ],
            "parameters": [
             {
              "depth": 6,
              "iterations": 1000,
              "learning_rate": 0.5
             }
            ],
            "passed_time": 982.6389228,
            "remaining_time": 982.6389228,
            "test": [
             0.8193879208,
             0.4878947183
            ]
           },
           {
            "iteration": 504,
            "learn": [
             0.8327626812,
             0.6928373458
            ],
            "parameters": [
             {
              "depth": 7,
              "iterations": 5,
              "learning_rate": 0.0001
             }
            ],
            "passed_time": 982.6978798,
            "remaining_time": 978.806007,
            "test": [
             0.8646776721,
             0.6928045603
            ]
           },
           {
            "iteration": 505,
            "learn": [
             0.83276987,
             0.6916013636
            ],
            "parameters": [
             {
              "depth": 7,
              "iterations": 5,
              "learning_rate": 0.0005
             }
            ],
            "passed_time": 982.7579506,
            "remaining_time": 974.989113,
            "test": [
             0.8647254385,
             0.6914377343
            ]
           },
           {
            "iteration": 506,
            "learn": [
             0.832772458,
             0.6900639179
            ],
            "parameters": [
             {
              "depth": 7,
              "iterations": 5,
              "learning_rate": 0.001
             }
            ],
            "passed_time": 982.8178773,
            "remaining_time": 971.1868965,
            "test": [
             0.8647254385,
             0.6897374029
            ]
           },
           {
            "iteration": 507,
            "learn": [
             0.8336679032,
             0.6781753845
            ],
            "parameters": [
             {
              "depth": 7,
              "iterations": 5,
              "learning_rate": 0.005
             }
            ],
            "passed_time": 982.8851816,
            "remaining_time": 967.4066748,
            "test": [
             0.8657428637,
             0.6766181048
            ]
           },
           {
            "iteration": 508,
            "learn": [
             0.8401102772,
             0.6628026107
            ],
            "parameters": [
             {
              "depth": 7,
              "iterations": 5,
              "learning_rate": 0.01
             }
            ],
            "passed_time": 982.9509324,
            "remaining_time": 963.6395192,
            "test": [
             0.8655350797,
             0.6603936889
            ]
           },
           {
            "iteration": 509,
            "learn": [
             0.8356145043,
             0.6355976194
            ],
            "parameters": [
             {
              "depth": 7,
              "iterations": 5,
              "learning_rate": 0.02
             }
            ],
            "passed_time": 983.0114802,
            "remaining_time": 959.8817983,
            "test": [
             0.8647469334,
             0.6293546935
            ]
           },
           {
            "iteration": 510,
            "learn": [
             0.8330899183,
             0.5982038765
            ],
            "parameters": [
             {
              "depth": 7,
              "iterations": 5,
              "learning_rate": 0.04
             }
            ],
            "passed_time": 983.0706531,
            "remaining_time": 956.1372106,
            "test": [
             0.862155604,
             0.5899437366
            ]
           },
           {
            "iteration": 511,
            "learn": [
             0.8422416322,
             0.5723544281
            ],
            "parameters": [
             {
              "depth": 7,
              "iterations": 5,
              "learning_rate": 0.05
             }
            ],
            "passed_time": 983.1388823,
            "remaining_time": 952.4157922,
            "test": [
             0.8607870954,
             0.5638683558
            ]
           },
           {
            "iteration": 512,
            "learn": [
             0.839017282,
             0.5068802445
            ],
            "parameters": [
             {
              "depth": 7,
              "iterations": 5,
              "learning_rate": 0.1
             }
            ],
            "passed_time": 983.2006207,
            "remaining_time": 948.7023534,
            "test": [
             0.8630345065,
             0.4899044338
            ]
           },
           {
            "iteration": 513,
            "learn": [
             0.8439636531,
             0.4485522841
            ],
            "parameters": [
             {
              "depth": 7,
              "iterations": 5,
              "learning_rate": 0.2
             }
            ],
            "passed_time": 983.2654325,
            "remaining_time": 945.0060771,
            "test": [
             0.8650598036,
             0.4260173289
            ]
           },
           {
            "iteration": 514,
            "learn": [
             0.8500267426,
             0.4238654257
            ],
            "parameters": [
             {
              "depth": 7,
              "iterations": 5,
              "learning_rate": 0.3
             }
            ],
            "passed_time": 983.346572,
            "remaining_time": 941.339534,
            "test": [
             0.863980282,
             0.4042530107
            ]
           },
           {
            "iteration": 515,
            "learn": [
             0.8579343513,
             0.402751129
            ],
            "parameters": [
             {
              "depth": 7,
              "iterations": 5,
              "learning_rate": 0.5
             }
            ],
            "passed_time": 983.4693244,
            "remaining_time": 937.7265651,
            "test": [
             0.8636411403,
             0.3888483834
            ]
           },
           {
            "iteration": 516,
            "learn": [
             0.8352842478,
             0.6925242333
            ],
            "parameters": [
             {
              "depth": 7,
              "iterations": 10,
              "learning_rate": 0.0001
             }
            ],
            "passed_time": 983.5944157,
            "remaining_time": 934.1293194,
            "test": [
             0.8650741335,
             0.6924675167
            ]
           },
           {
            "iteration": 517,
            "learn": [
             0.8360508684,
             0.6900198842
            ],
            "parameters": [
             {
              "depth": 7,
              "iterations": 10,
              "learning_rate": 0.0005
             }
            ],
            "passed_time": 983.7211478,
            "remaining_time": 930.5470317,
            "test": [
             0.8650383087,
             0.68971784
            ]
           },
           {
            "iteration": 518,
            "learn": [
             0.8349446457,
             0.6869802693
            ],
            "parameters": [
             {
              "depth": 7,
              "iterations": 10,
              "learning_rate": 0.001
             }
            ],
            "passed_time": 983.8456793,
            "remaining_time": 926.9759868,
            "test": [
             0.8652198212,
             0.6864085735
            ]
           },
           {
            "iteration": 519,
            "learn": [
             0.8370332988,
             0.6639743747
            ],
            "parameters": [
             {
              "depth": 7,
              "iterations": 10,
              "learning_rate": 0.005
             }
            ],
            "passed_time": 983.9679972,
            "remaining_time": 923.4161204,
            "test": [
             0.8654849249,
             0.66129328
            ]
           },
           {
            "iteration": 520,
            "learn": [
             0.8426043823,
             0.6361678076
            ],
            "parameters": [
             {
              "depth": 7,
              "iterations": 10,
              "learning_rate": 0.01
             }
            ],
            "passed_time": 984.0928117,
            "remaining_time": 919.8717836,
            "test": [
             0.8655135848,
             0.6317045565
            ]
           },
           {
            "iteration": 521,
            "learn": [
             0.8402731769,
             0.5916855263
            ],
            "parameters": [
             {
              "depth": 7,
              "iterations": 10,
              "learning_rate": 0.02
             }
            ],
            "passed_time": 984.2193426,
            "remaining_time": 916.3421466,
            "test": [
             0.8654347701,
             0.5819600394
            ]
           },
           {
            "iteration": 522,
            "learn": [
             0.8395330113,
             0.5331460023
            ],
            "parameters": [
             {
              "depth": 7,
              "iterations": 10,
              "learning_rate": 0.04
             }
            ],
            "passed_time": 984.3448284,
            "remaining_time": 912.8245541,
            "test": [
             0.862497134,
             0.5196772935
            ]
           },
           {
            "iteration": 523,
            "learn": [
             0.8448491776,
             0.5079851229
            ],
            "parameters": [
             {
              "depth": 7,
              "iterations": 10,
              "learning_rate": 0.05
             }
            ],
            "passed_time": 984.5469762,
            "remaining_time": 909.3907184,
            "test": [
             0.8621078375,
             0.4934247896
            ]
           },
           {
            "iteration": 524,
            "learn": [
             0.8501396078,
             0.4433193131
            ],
            "parameters": [
             {
              "depth": 7,
              "iterations": 10,
              "learning_rate": 0.1
             }
            ],
            "passed_time": 984.6725817,
            "remaining_time": 905.8987752,
            "test": [
             0.8689838167,
             0.4235123679
            ]
           },
           {
            "iteration": 525,
            "learn": [
             0.8567502013,
             0.4105661168
            ],
            "parameters": [
             {
              "depth": 7,
              "iterations": 10,
              "learning_rate": 0.2
             }
            ],
            "passed_time": 984.7954291,
            "remaining_time": 902.4171043,
            "test": [
             0.868088196,
             0.3921115917
            ]
           },
           {
            "iteration": 526,
            "learn": [
             0.8643120255,
             0.3972719702
            ],
            "parameters": [
             {
              "depth": 7,
              "iterations": 10,
              "learning_rate": 0.3
             }
            ],
            "passed_time": 984.9222079,
            "remaining_time": 898.9517685,
            "test": [
             0.8653583438,
             0.3863798937
            ]
           },
           {
            "iteration": 527,
            "learn": [
             0.8703754026,
             0.3848069912
            ],
            "parameters": [
             {
              "depth": 7,
              "iterations": 10,
              "learning_rate": 0.5
             }
            ],
            "passed_time": 985.0474778,
            "remaining_time": 895.4977071,
            "test": [
             0.8613889526,
             0.3887617507
            ]
           },
           {
            "iteration": 528,
            "learn": [
             0.8390625719,
             0.691884445
            ],
            "parameters": [
             {
              "depth": 7,
              "iterations": 20,
              "learning_rate": 0.0001
             }
            ],
            "passed_time": 985.3098682,
            "remaining_time": 892.1803911,
            "test": [
             0.8633187168,
             0.6917750929
            ]
           },
           {
            "iteration": 529,
            "learn": [
             0.8371037497,
             0.6869762935
            ],
            "parameters": [
             {
              "depth": 7,
              "iterations": 20,
              "learning_rate": 0.0005
             }
            ],
            "passed_time": 985.627679,
            "remaining_time": 888.9245859,
            "test": [
             0.866034239,
             0.6863952582
            ]
           },
           {
            "iteration": 530,
            "learn": [
             0.8386286519,
             0.6808284807
            ],
            "parameters": [
             {
              "depth": 7,
              "iterations": 20,
              "learning_rate": 0.001
             }
            ],
            "passed_time": 985.8664289,
            "remaining_time": 885.608826,
            "test": [
             0.8654395468,
             0.6797372188
            ]
           },
           {
            "iteration": 531,
            "learn": [
             0.8403853232,
             0.6373294136
            ],
            "parameters": [
             {
              "depth": 7,
              "iterations": 20,
              "learning_rate": 0.005
             }
            ],
            "passed_time": 986.1035434,
            "remaining_time": 882.3031704,
            "test": [
             0.8637318965,
             0.6323629936
            ]
           },
           {
            "iteration": 532,
            "learn": [
             0.8414878077,
             0.5932771045
            ],
            "parameters": [
             {
              "depth": 7,
              "iterations": 20,
              "learning_rate": 0.01
             }
            ],
            "passed_time": 986.3602567,
            "remaining_time": 879.0264952,
            "test": [
             0.8638990791,
             0.5849335437
            ]
           },
           {
            "iteration": 533,
            "learn": [
             0.8433822176,
             0.5297797727
            ],
            "parameters": [
             {
              "depth": 7,
              "iterations": 20,
              "learning_rate": 0.02
             }
            ],
            "passed_time": 986.6814169,
            "remaining_time": 875.8183364,
            "test": [
             0.8653320723,
             0.5149016912
            ]
           },
           {
            "iteration": 534,
            "learn": [
             0.846390758,
             0.469080997
            ],
            "parameters": [
             {
              "depth": 7,
              "iterations": 20,
              "learning_rate": 0.04
             }
            ],
            "passed_time": 986.9313027,
            "remaining_time": 872.5579555,
            "test": [
             0.8636148687,
             0.4508213018
            ]
           },
           {
            "iteration": 535,
            "learn": [
             0.8491333103,
             0.4496008688
            ],
            "parameters": [
             {
              "depth": 7,
              "iterations": 20,
              "learning_rate": 0.05
             }
            ],
            "passed_time": 987.16955,
            "remaining_time": 869.2985589,
            "test": [
             0.8665381749,
             0.429544929
            ]
           },
           {
            "iteration": 536,
            "learn": [
             0.8586259202,
             0.4106562929
            ],
            "parameters": [
             {
              "depth": 7,
              "iterations": 20,
              "learning_rate": 0.1
             }
            ],
            "passed_time": 987.4116626,
            "remaining_time": 866.0538046,
            "test": [
             0.8693946081,
             0.392277305
            ]
           },
           {
            "iteration": 537,
            "learn": [
             0.8697176213,
             0.3885768375
            ],
            "parameters": [
             {
              "depth": 7,
              "iterations": 20,
              "learning_rate": 0.2
             }
            ],
            "passed_time": 987.8612132,
            "remaining_time": 863.0014316,
            "test": [
             0.8668964232,
             0.3837375542
            ]
           },
           {
            "iteration": 538,
            "learn": [
             0.8786825684,
             0.3774008616
            ],
            "parameters": [
             {
              "depth": 7,
              "iterations": 20,
              "learning_rate": 0.3
             }
            ],
            "passed_time": 988.1143068,
            "remaining_time": 859.7877734,
            "test": [
             0.864980989,
             0.3849076397
            ]
           },
           {
            "iteration": 539,
            "learn": [
             0.8999214976,
             0.3453826981
            ],
            "parameters": [
             {
              "depth": 7,
              "iterations": 20,
              "learning_rate": 0.5
             }
            ],
            "passed_time": 988.4000872,
            "remaining_time": 856.6134089,
            "test": [
             0.8488574267,
             0.4070996473
            ]
           },
           {
            "iteration": 540,
            "learn": [
             0.8395387624,
             0.6912517958
            ],
            "parameters": [
             {
              "depth": 7,
              "iterations": 30,
              "learning_rate": 0.0001
             }
            ],
            "passed_time": 988.8467308,
            "remaining_time": 853.5885828,
            "test": [
             0.8638513126,
             0.6910909313
            ]
           },
           {
            "iteration": 541,
            "learn": [
             0.8395742754,
             0.6838885257
            ],
            "parameters": [
             {
              "depth": 7,
              "iterations": 30,
              "learning_rate": 0.0005
             }
            ],
            "passed_time": 989.1987495,
            "remaining_time": 850.4919138,
            "test": [
             0.866605048,
             0.6830572572
            ]
           },
           {
            "iteration": 542,
            "learn": [
             0.8393997297,
             0.6748993348
            ],
            "parameters": [
             {
              "depth": 7,
              "iterations": 30,
              "learning_rate": 0.001
             }
            ],
            "passed_time": 989.574833,
            "remaining_time": 847.4259619,
            "test": [
             0.8652580343,
             0.6732936998
            ]
           },
           {
            "iteration": 543,
            "learn": [
             0.8422673683,
             0.6135629677
            ],
            "parameters": [
             {
              "depth": 7,
              "iterations": 30,
              "learning_rate": 0.005
             }
            ],
            "passed_time": 990.0154312,
            "remaining_time": 844.4249266,
            "test": [
             0.8645654209,
             0.6065775502
            ]
           },
           {
            "iteration": 544,
            "learn": [
             0.8439268461,
             0.5590042468
            ],
            "parameters": [
             {
              "depth": 7,
              "iterations": 30,
              "learning_rate": 0.01
             }
            ],
            "passed_time": 990.3841461,
            "remaining_time": 841.3722195,
            "test": [
             0.8655589629,
             0.5479556946
            ]
           },
           {
            "iteration": 545,
            "learn": [
             0.8462366287,
             0.4907603254
            ],
            "parameters": [
             {
              "depth": 7,
              "iterations": 30,
              "learning_rate": 0.02
             }
            ],
            "passed_time": 990.7625912,
            "remaining_time": 838.3375771,
            "test": [
             0.8667602889,
             0.4723135152
            ]
           },
           {
            "iteration": 546,
            "learn": [
             0.8524560041,
             0.436390447
            ],
            "parameters": [
             {
              "depth": 7,
              "iterations": 30,
              "learning_rate": 0.04
             }
            ],
            "passed_time": 991.210994,
            "remaining_time": 835.3716055,
            "test": [
             0.8667555122,
             0.4167313974
            ]
           },
           {
            "iteration": 547,
            "learn": [
             0.8560225443,
             0.4232804037
            ],
            "parameters": [
             {
              "depth": 7,
              "iterations": 30,
              "learning_rate": 0.05
             }
            ],
            "passed_time": 991.6063316,
            "remaining_time": 832.3702783,
            "test": [
             0.867302438,
             0.4045385974
            ]
           },
           {
            "iteration": 548,
            "learn": [
             0.8662510064,
             0.3968830818
            ],
            "parameters": [
             {
              "depth": 7,
              "iterations": 30,
              "learning_rate": 0.1
             }
            ],
            "passed_time": 992.0379126,
            "remaining_time": 829.4087466,
            "test": [
             0.8697480798,
             0.384345757
            ]
           },
           {
            "iteration": 549,
            "learn": [
             0.8793990108,
             0.3758474295
            ],
            "parameters": [
             {
              "depth": 7,
              "iterations": 30,
              "learning_rate": 0.2
             }
            ],
            "passed_time": 992.4079949,
            "remaining_time": 826.4052031,
            "test": [
             0.8648305247,
             0.3844441937
            ]
           },
           {
            "iteration": 550,
            "learn": [
             0.8954155164,
             0.3553164975
            ],
            "parameters": [
             {
              "depth": 7,
              "iterations": 30,
              "learning_rate": 0.3
             }
            ],
            "passed_time": 992.8069289,
            "remaining_time": 823.4351479,
            "test": [
             0.8598437082,
             0.3898687771
            ]
           },
           {
            "iteration": 551,
            "learn": [
             0.9312761675,
             0.2982401308
            ],
            "parameters": [
             {
              "depth": 7,
              "iterations": 30,
              "learning_rate": 0.5
             }
            ],
            "passed_time": 993.261646,
            "remaining_time": 820.5204901,
            "test": [
             0.8464523864,
             0.4181168184
            ]
           },
           {
            "iteration": 552,
            "learn": [
             0.8399570106,
             0.6906222833
            ],
            "parameters": [
             {
              "depth": 7,
              "iterations": 40,
              "learning_rate": 0.0001
             }
            ],
            "passed_time": 993.7509702,
            "remaining_time": 817.6432033,
            "test": [
             0.8639635638,
             0.6904114532
            ]
           },
           {
            "iteration": 553,
            "learn": [
             0.8403651944,
             0.6807451973
            ],
            "parameters": [
             {
              "depth": 7,
              "iterations": 40,
              "learning_rate": 0.0005
             }
            ],
            "passed_time": 994.2903097,
            "remaining_time": 814.8155245,
            "test": [
             0.8659936375,
             0.6796299286
            ]
           },
           {
            "iteration": 554,
            "learn": [
             0.8397654992,
             0.6689160853
            ],
            "parameters": [
             {
              "depth": 7,
              "iterations": 40,
              "learning_rate": 0.001
             }
            ],
            "passed_time": 994.770704,
            "remaining_time": 811.94798,
            "test": [
             0.8654968665,
             0.6667902315
            ]
           },
           {
            "iteration": 555,
            "learn": [
             0.8424503968,
             0.5931730357
            ],
            "parameters": [
             {
              "depth": 7,
              "iterations": 40,
              "learning_rate": 0.005
             }
            ],
            "passed_time": 995.3314348,
            "remaining_time": 809.1543319,
            "test": [
             0.8642453858,
             0.5845593907
            ]
           },
           {
            "iteration": 556,
            "learn": [
             0.8445478203,
             0.5322850394
            ],
            "parameters": [
             {
              "depth": 7,
              "iterations": 40,
              "learning_rate": 0.01
             }
            ],
            "passed_time": 995.8092393,
            "remaining_time": 806.3015564,
            "test": [
             0.8667507356,
             0.5188976151
            ]
           },
           {
            "iteration": 557,
            "learn": [
             0.8485275765,
             0.46658606
            ],
            "parameters": [
             {
              "depth": 7,
              "iterations": 40,
              "learning_rate": 0.02
             }
            ],
            "passed_time": 996.3619191,
            "remaining_time": 803.5176767,
            "test": [
             0.8664927968,
             0.446768792
            ]
           },
           {
            "iteration": 558,
            "learn": [
             0.8580700771,
             0.4200753227
            ],
            "parameters": [
             {
              "depth": 7,
              "iterations": 40,
              "learning_rate": 0.04
             }
            ],
            "passed_time": 996.8435094,
            "remaining_time": 800.6846793,
            "test": [
             0.8674791738,
             0.4022500883
            ]
           },
           {
            "iteration": 559,
            "learn": [
             0.8617791005,
             0.4088862814
            ],
            "parameters": [
             {
              "depth": 7,
              "iterations": 40,
              "learning_rate": 0.05
             }
            ],
            "passed_time": 997.387519,
            "remaining_time": 797.9100152,
            "test": [
             0.8669752379,
             0.3936777275
            ]
           },
           {
            "iteration": 560,
            "learn": [
             0.8733395158,
             0.3858769478
            ],
            "parameters": [
             {
              "depth": 7,
              "iterations": 40,
              "learning_rate": 0.1
             }
            ],
            "passed_time": 997.8716073,
            "remaining_time": 795.0955587,
            "test": [
             0.8677060644,
             0.382870544
            ]
           },
           {
            "iteration": 561,
            "learn": [
             0.8897588854,
             0.3626868296
            ],
            "parameters": [
             {
              "depth": 7,
              "iterations": 40,
              "learning_rate": 0.2
             }
            ],
            "passed_time": 998.4122525,
            "remaining_time": 792.3342786,
            "test": [
             0.8639946119,
             0.3852987366
            ]
           },
           {
            "iteration": 562,
            "learn": [
             0.9158317518,
             0.3261420679
            ],
            "parameters": [
             {
              "depth": 7,
              "iterations": 40,
              "learning_rate": 0.3
             }
            ],
            "passed_time": 998.9278119,
            "remaining_time": 789.5610592,
            "test": [
             0.8577228782,
             0.3921546963
            ]
           },
           {
            "iteration": 563,
            "learn": [
             0.9565506384,
             0.2532924641
            ],
            "parameters": [
             {
              "depth": 7,
              "iterations": 40,
              "learning_rate": 0.5
             }
            ],
            "passed_time": 999.4911965,
            "remaining_time": 786.8334951,
            "test": [
             0.8363163476,
             0.439932052
            ]
           },
           {
            "iteration": 564,
            "learn": [
             0.8397795894,
             0.6899932012
            ],
            "parameters": [
             {
              "depth": 7,
              "iterations": 50,
              "learning_rate": 0.0001
             }
            ],
            "passed_time": 1000.090839,
            "remaining_time": 784.1420208,
            "test": [
             0.8642668807,
             0.6897310343
            ]
           },
           {
            "iteration": 565,
            "learn": [
             0.840517167,
             0.6778314486
            ],
            "parameters": [
             {
              "depth": 7,
              "iterations": 50,
              "learning_rate": 0.0005
             }
            ],
            "passed_time": 1000.779787,
            "remaining_time": 781.5276782,
            "test": [
             0.865812125,
             0.676481835
            ]
           },
           {
            "iteration": 566,
            "learn": [
             0.8407671958,
             0.6632609877
            ],
            "parameters": [
             {
              "depth": 7,
              "iterations": 50,
              "learning_rate": 0.001
             }
            ],
            "passed_time": 1001.448194,
            "remaining_time": 778.9041511,
            "test": [
             0.8655326914,
             0.6606347526
            ]
           },
           {
            "iteration": 567,
            "learn": [
             0.8426883483,
             0.5748827534
            ],
            "parameters": [
             {
              "depth": 7,
              "iterations": 50,
              "learning_rate": 0.005
             }
            ],
            "passed_time": 1002.043897,
            "remaining_time": 776.2311876,
            "test": [
             0.865389392,
             0.564572613
            ]
           },
           {
            "iteration": 568,
            "learn": [
             0.8452872671,
             0.5103157568
            ],
            "parameters": [
             {
              "depth": 7,
              "iterations": 50,
              "learning_rate": 0.01
             }
            ],
            "passed_time": 1002.831744,
            "remaining_time": 773.7137709,
            "test": [
             0.8671830219,
             0.4949203107
            ]
           },
           {
            "iteration": 569,
            "learn": [
             0.8503966816,
             0.4486543636
            ],
            "parameters": [
             {
              "depth": 7,
              "iterations": 50,
              "learning_rate": 0.02
             }
            ],
            "passed_time": 1003.45766,
            "remaining_time": 771.0779913,
            "test": [
             0.8676726279,
             0.4275711259
            ]
           },
           {
            "iteration": 570,
            "learn": [
             0.8622715378,
             0.4090659058
            ],
            "parameters": [
             {
              "depth": 7,
              "iterations": 50,
              "learning_rate": 0.04
             }
            ],
            "passed_time": 1004.145095,
            "remaining_time": 768.496334,
            "test": [
             0.8685801903,
             0.3932824713
            ]
           },
           {
            "iteration": 571,
            "learn": [
             0.8645607603,
             0.4015171694
            ],
            "parameters": [
             {
              "depth": 7,
              "iterations": 50,
              "learning_rate": 0.05
             }
            ],
            "passed_time": 1004.841894,
            "remaining_time": 765.9284366,
            "test": [
             0.8686733349,
             0.3870931511
            ]
           },
           {
            "iteration": 572,
            "learn": [
             0.8784377157,
             0.3787390214
            ],
            "parameters": [
             {
              "depth": 7,
              "iterations": 50,
              "learning_rate": 0.1
             }
            ],
            "passed_time": 1005.464914,
            "remaining_time": 763.3110605,
            "test": [
             0.8671519737,
             0.3821224451
            ]
           },
           {
            "iteration": 573,
            "learn": [
             0.9080532551,
             0.3394222566
            ],
            "parameters": [
             {
              "depth": 7,
              "iterations": 50,
              "learning_rate": 0.2
             }
            ],
            "passed_time": 1006.179041,
            "remaining_time": 760.769519,
            "test": [
             0.8613268562,
             0.3871192202
            ]
           },
           {
            "iteration": 574,
            "learn": [
             0.9357782666,
             0.2959171614
            ],
            "parameters": [
             {
              "depth": 7,
              "iterations": 50,
              "learning_rate": 0.3
             }
            ],
            "passed_time": 1006.918252,
            "remaining_time": 758.2532224,
            "test": [
             0.854235928,
             0.3976137837
            ]
           },
           {
            "iteration": 575,
            "learn": [
             0.9726128652,
             0.2168514696
            ],
            "parameters": [
             {
              "depth": 7,
              "iterations": 50,
              "learning_rate": 0.5
             }
            ],
            "passed_time": 1007.559748,
            "remaining_time": 755.6698113,
            "test": [
             0.8301616416,
             0.454028749
            ]
           },
           {
            "iteration": 576,
            "learn": [
             0.8408364964,
             0.6887555751
            ],
            "parameters": [
             {
              "depth": 7,
              "iterations": 70,
              "learning_rate": 0.0001
             }
            ],
            "passed_time": 1008.474272,
            "remaining_time": 753.2970733,
            "test": [
             0.863638752,
             0.6883971653
            ]
           },
           {
            "iteration": 577,
            "learn": [
             0.840394525,
             0.671993198
            ],
            "parameters": [
             {
              "depth": 7,
              "iterations": 70,
              "learning_rate": 0.0005
             }
            ],
            "passed_time": 1009.380827,
            "remaining_time": 750.9234523,
            "test": [
             0.8651863847,
             0.6701220272
            ]
           },
           {
            "iteration": 578,
            "learn": [
             0.8410426731,
             0.6521801626
            ],
            "parameters": [
             {
              "depth": 7,
              "iterations": 70,
              "learning_rate": 0.001
             }
            ],
            "passed_time": 1010.295917,
            "remaining_time": 748.5612235,
            "test": [
             0.8656353892,
             0.6486097327
            ]
           },
           {
            "iteration": 579,
            "learn": [
             0.8436355533,
             0.5441578782
            ],
            "parameters": [
             {
              "depth": 7,
              "iterations": 70,
              "learning_rate": 0.005
             }
            ],
            "passed_time": 1011.196937,
            "remaining_time": 746.1936018,
            "test": [
             0.8652365394,
             0.5311853379
            ]
           },
           {
            "iteration": 580,
            "learn": [
             0.8477631125,
             0.4793397448
            ],
            "parameters": [
             {
              "depth": 7,
              "iterations": 70,
              "learning_rate": 0.01
             }
            ],
            "passed_time": 1012.112467,
            "remaining_time": 743.8416928,
            "test": [
             0.8672021285,
             0.4616946951
            ]
           },
           {
            "iteration": 581,
            "learn": [
             0.8555394525,
             0.4280736407
            ],
            "parameters": [
             {
              "depth": 7,
              "iterations": 70,
              "learning_rate": 0.02
             }
            ],
            "passed_time": 1012.934198,
            "remaining_time": 741.4260624,
            "test": [
             0.8692680271,
             0.4074087659
            ]
           },
           {
            "iteration": 582,
            "learn": [
             0.8684030653,
             0.3955740976
            ],
            "parameters": [
             {
              "depth": 7,
              "iterations": 70,
              "learning_rate": 0.04
             }
            ],
            "passed_time": 1013.867102,
            "remaining_time": 739.0969437,
            "test": [
             0.8685443655,
             0.3850190587
            ]
           },
           {
            "iteration": 583,
            "learn": [
             0.8706677019,
             0.3904920182
            ],
            "parameters": [
             {
              "depth": 7,
              "iterations": 70,
              "learning_rate": 0.05
             }
            ],
            "passed_time": 1014.778748,
            "remaining_time": 736.7571729,
            "test": [
             0.8686160151,
             0.3823778581
            ]
           },
           {
            "iteration": 584,
            "learn": [
             0.8871306361,
             0.3668733413
            ],
            "parameters": [
             {
              "depth": 7,
              "iterations": 70,
              "learning_rate": 0.1
             }
            ],
            "passed_time": 1015.781829,
            "remaining_time": 734.4883992,
            "test": [
             0.8650621919,
             0.3831063912
            ]
           },
           {
            "iteration": 585,
            "learn": [
             0.9414849321,
             0.2891172387
            ],
            "parameters": [
             {
              "depth": 7,
              "iterations": 70,
              "learning_rate": 0.2
             }
            ],
            "passed_time": 1016.716508,
            "remaining_time": 732.1746868,
            "test": [
             0.8550121327,
             0.3962488188
            ]
           },
           {
            "iteration": 586,
            "learn": [
             0.9643699678,
             0.2427403252
            ],
            "parameters": [
             {
              "depth": 7,
              "iterations": 70,
              "learning_rate": 0.3
             }
            ],
            "passed_time": 1017.680439,
            "remaining_time": 729.886652,
            "test": [
             0.8457812679,
             0.4105269943
            ]
           },
           {
            "iteration": 587,
            "learn": [
             0.9880528238,
             0.169479591
            ],
            "parameters": [
             {
              "depth": 7,
              "iterations": 70,
              "learning_rate": 0.5
             }
            ],
            "passed_time": 1018.649483,
            "remaining_time": 727.6067736,
            "test": [
             0.8274604494,
             0.4705428007
            ]
           },
           {
            "iteration": 588,
            "learn": [
             0.8411072291,
             0.6869014713
            ],
            "parameters": [
             {
              "depth": 7,
              "iterations": 100,
              "learning_rate": 0.0001
             }
            ],
            "passed_time": 1019.870049,
            "remaining_time": 725.5102728,
            "test": [
             0.8633951431,
             0.6863955132
            ]
           },
           {
            "iteration": 589,
            "learn": [
             0.8409858811,
             0.6635492759
            ],
            "parameters": [
             {
              "depth": 7,
              "iterations": 100,
              "learning_rate": 0.0005
             }
            ],
            "passed_time": 1021.096149,
            "remaining_time": 723.4206615,
            "test": [
             0.8655350797,
             0.6609727373
            ]
           },
           {
            "iteration": 590,
            "learn": [
             0.8416139004,
             0.6366815144
            ],
            "parameters": [
             {
              "depth": 7,
              "iterations": 100,
              "learning_rate": 0.001
             }
            ],
            "passed_time": 1022.349772,
            "remaining_time": 721.3533923,
            "test": [
             0.8653105774,
             0.6317760616
            ]
           },
           {
            "iteration": 591,
            "learn": [
             0.8449325684,
             0.5102541495
            ],
            "parameters": [
             {
              "depth": 7,
              "iterations": 100,
              "learning_rate": 0.005
             }
            ],
            "passed_time": 1023.6124,
            "remaining_time": 719.2951998,
            "test": [
             0.8661488784,
             0.4943106114
            ]
           },
           {
            "iteration": 592,
            "learn": [
             0.8506681332,
             0.4506278824
            ],
            "parameters": [
             {
              "depth": 7,
              "iterations": 100,
              "learning_rate": 0.01
             }
            ],
            "passed_time": 1024.845115,
            "remaining_time": 717.2187567,
            "test": [
             0.8673740877,
             0.4314010933
            ]
           },
           {
            "iteration": 593,
            "learn": [
             0.8614727111,
             0.4103063548
            ],
            "parameters": [
             {
              "depth": 7,
              "iterations": 100,
              "learning_rate": 0.02
             }
            ],
            "passed_time": 1026.105145,
            "remaining_time": 715.164192,
            "test": [
             0.8700919982,
             0.3926339713
            ]
           },
           {
            "iteration": 594,
            "learn": [
             0.8757520991,
             0.3837970319
            ],
            "parameters": [
             {
              "depth": 7,
              "iterations": 100,
              "learning_rate": 0.04
             }
            ],
            "passed_time": 1027.382933,
            "remaining_time": 713.124624,
            "test": [
             0.8673454278,
             0.3824160992
            ]
           },
           {
            "iteration": 595,
            "learn": [
             0.8780400276,
             0.3790037329
            ],
            "parameters": [
             {
              "depth": 7,
              "iterations": 100,
              "learning_rate": 0.05
             }
            ],
            "passed_time": 1028.676424,
            "remaining_time": 711.0984673,
            "test": [
             0.8667770071,
             0.3817040588
            ]
           },
           {
            "iteration": 596,
            "learn": [
             0.9093761502,
             0.3385218472
            ],
            "parameters": [
             {
              "depth": 7,
              "iterations": 100,
              "learning_rate": 0.1
             }
            ],
            "passed_time": 1029.980304,
            "remaining_time": 709.0819178,
            "test": [
             0.8606533494,
             0.3873421007
            ]
           },
           {
            "iteration": 597,
            "learn": [
             0.9664313032,
             0.2416264655
            ],
            "parameters": [
             {
              "depth": 7,
              "iterations": 100,
              "learning_rate": 0.2
             }
            ],
            "passed_time": 1031.331823,
            "remaining_time": 707.1004139,
            "test": [
             0.8470303604,
             0.4099417949
            ]
           },
           {
            "iteration": 598,
            "learn": [
             0.985100069,
             0.1884237591
            ],
            "parameters": [
             {
              "depth": 7,
              "iterations": 100,
              "learning_rate": 0.3
             }
            ],
            "passed_time": 1032.70161,
            "remaining_time": 705.1334865,
            "test": [
             0.8388742405,
             0.4295979703
            ]
           },
           {
            "iteration": 599,
            "learn": [
             0.9968284161,
             0.1178158954
            ],
            "parameters": [
             {
              "depth": 7,
              "iterations": 100,
              "learning_rate": 0.5
             }
            ],
            "passed_time": 1034.168608,
            "remaining_time": 703.2346537,
            "test": [
             0.8201211357,
             0.4889687943
            ]
           },
           {
            "iteration": 600,
            "learn": [
             0.8413017598,
             0.6838595051
            ],
            "parameters": [
             {
              "depth": 7,
              "iterations": 150,
              "learning_rate": 0.0001
             }
            ],
            "passed_time": 1035.999335,
            "remaining_time": 701.5835765,
            "test": [
             0.8638130995,
             0.6830980275
            ]
           },
           {
            "iteration": 601,
            "learn": [
             0.8418932597,
             0.649882974
            ],
            "parameters": [
             {
              "depth": 7,
              "iterations": 150,
              "learning_rate": 0.0005
             }
            ],
            "passed_time": 1037.817177,
            "remaining_time": 699.9232122,
            "test": [
             0.8656903206,
             0.6461555445
            ]
           },
           {
            "iteration": 602,
            "learn": [
             0.8425933115,
             0.613585052
            ],
            "parameters": [
             {
              "depth": 7,
              "iterations": 150,
              "learning_rate": 0.001
             }
            ],
            "passed_time": 1039.618001,
            "remaining_time": 698.2508959,
            "test": [
             0.8649929306,
             0.6067498259
            ]
           },
           {
            "iteration": 603,
            "learn": [
             0.8478187543,
             0.4737543482
            ],
            "parameters": [
             {
              "depth": 7,
              "iterations": 150,
              "learning_rate": 0.005
             }
            ],
            "passed_time": 1041.488458,
            "remaining_time": 696.6247301,
            "test": [
             0.8666528144,
             0.4553339713
            ]
           },
           {
            "iteration": 604,
            "learn": [
             0.8569004486,
             0.4241010222
            ],
            "parameters": [
             {
              "depth": 7,
              "iterations": 150,
              "learning_rate": 0.01
             }
            ],
            "passed_time": 1043.311352,
            "remaining_time": 694.9660738,
            "test": [
             0.8692704154,
             0.4048299995
            ]
           },
           {
            "iteration": 605,
            "learn": [
             0.8692372613,
             0.3945515387
            ],
            "parameters": [
             {
              "depth": 7,
              "iterations": 150,
              "learning_rate": 0.02
             }
            ],
            "passed_time": 1045.205116,
            "remaining_time": 693.3538887,
            "test": [
             0.8706699721,
             0.3832672177
            ]
           },
           {
            "iteration": 606,
            "learn": [
             0.885074908,
             0.3709166223
            ],
            "parameters": [
             {
              "depth": 7,
              "iterations": 150,
              "learning_rate": 0.04
             }
            ],
            "passed_time": 1047.761073,
            "remaining_time": 692.1782374,
            "test": [
             0.8666910276,
             0.3817638128
            ]
           },
           {
            "iteration": 607,
            "learn": [
             0.8900209915,
             0.3637708988
            ],
            "parameters": [
             {
              "depth": 7,
              "iterations": 150,
              "learning_rate": 0.05
             }
            ],
            "passed_time": 1050.697336,
            "remaining_time": 691.2482477,
            "test": [
             0.8644412282,
             0.3833666072
            ]
           },
           {
            "iteration": 608,
            "learn": [
             0.9466245399,
             0.2836709752
            ],
            "parameters": [
             {
              "depth": 7,
              "iterations": 150,
              "learning_rate": 0.1
             }
            ],
            "passed_time": 1052.748111,
            "remaining_time": 689.7315212,
            "test": [
             0.8520028469,
             0.3989320228
            ]
           },
           {
            "iteration": 609,
            "learn": [
             0.9881474293,
             0.1799142081
            ],
            "parameters": [
             {
              "depth": 7,
              "iterations": 150,
              "learning_rate": 0.2
             }
            ],
            "passed_time": 1054.785344,
            "remaining_time": 688.2042079,
            "test": [
             0.8397722496,
             0.4271363144
            ]
           },
           {
            "iteration": 610,
            "learn": [
             0.9969483264,
             0.1286135649
            ],
            "parameters": [
             {
              "depth": 7,
              "iterations": 150,
              "learning_rate": 0.3
             }
            ],
            "passed_time": 1056.776769,
            "remaining_time": 686.6454619,
            "test": [
             0.8352272727,
             0.4540869454
            ]
           },
           {
            "iteration": 611,
            "learn": [
             0.9998603922,
             0.07398943582
            ],
            "parameters": [
             {
              "depth": 7,
              "iterations": 150,
              "learning_rate": 0.5
             }
            ],
            "passed_time": 1058.784398,
            "remaining_time": 685.0957872,
            "test": [
             0.8201211357,
             0.4889687943
            ]
           },
           {
            "iteration": 612,
            "learn": [
             0.8412840752,
             0.6808585191
            ],
            "parameters": [
             {
              "depth": 7,
              "iterations": 200,
              "learning_rate": 0.0001
             }
            ],
            "passed_time": 1061.146889,
            "remaining_time": 683.7732811,
            "test": [
             0.8638584776,
             0.6798352039
            ]
           },
           {
            "iteration": 613,
            "learn": [
             0.8421760697,
             0.6371093507
            ],
            "parameters": [
             {
              "depth": 7,
              "iterations": 200,
              "learning_rate": 0.0005
             }
            ],
            "passed_time": 1063.590832,
            "remaining_time": 682.4996546,
            "test": [
             0.8653464022,
             0.6323019755
            ]
           },
           {
            "iteration": 614,
            "learn": [
             0.8432382965,
             0.5931608002
            ],
            "parameters": [
             {
              "depth": 7,
              "iterations": 200,
              "learning_rate": 0.001
             }
            ],
            "passed_time": 1066.019744,
            "remaining_time": 681.2126172,
            "test": [
             0.8647827582,
             0.5847180693
            ]
           },
           {
            "iteration": 615,
            "learn": [
             0.8511598516,
             0.4504970642
            ],
            "parameters": [
             {
              "depth": 7,
              "iterations": 200,
              "learning_rate": 0.005
             }
            ],
            "passed_time": 1068.461609,
            "remaining_time": 679.9301147,
            "test": [
             0.8669561313,
             0.4311660742
            ]
           },
           {
            "iteration": 616,
            "learn": [
             0.8615609903,
             0.4102409533
            ],
            "parameters": [
             {
              "depth": 7,
              "iterations": 200,
              "learning_rate": 0.01
             }
            ],
            "passed_time": 1071.007033,
            "remaining_time": 678.7094815,
            "test": [
             0.8702902289,
             0.3929243107
            ]
           },
           {
            "iteration": 617,
            "learn": [
             0.8751097021,
             0.384884892
            ],
            "parameters": [
             {
              "depth": 7,
              "iterations": 200,
              "learning_rate": 0.02
             }
            ],
            "passed_time": 1073.437867,
            "remaining_time": 677.4122465,
            "test": [
             0.8692322022,
             0.3811490014
            ]
           },
           {
            "iteration": 618,
            "learn": [
             0.8945690994,
             0.3588810191
            ],
            "parameters": [
             {
              "depth": 7,
              "iterations": 200,
              "learning_rate": 0.04
             }
            ],
            "passed_time": 1075.919347,
            "remaining_time": 676.1431763,
            "test": [
             0.865033532,
             0.3833636091
            ]
           },
           {
            "iteration": 619,
            "learn": [
             0.9088533759,
             0.339499978
            ],
            "parameters": [
             {
              "depth": 7,
              "iterations": 200,
              "learning_rate": 0.05
             }
            ],
            "passed_time": 1078.404453,
            "remaining_time": 674.872464,
            "test": [
             0.8621579923,
             0.3855457461
            ]
           },
           {
            "iteration": 620,
            "learn": [
             0.9686148493,
             0.2413068823
            ],
            "parameters": [
             {
              "depth": 7,
              "iterations": 200,
              "learning_rate": 0.1
             }
            ],
            "passed_time": 1080.974668,
            "remaining_time": 673.65088,
            "test": [
             0.8451531392,
             0.4083761041
            ]
           },
           {
            "iteration": 621,
            "learn": [
             0.9964857948,
             0.1397842659
            ],
            "parameters": [
             {
              "depth": 7,
              "iterations": 200,
              "learning_rate": 0.2
             }
            ],
            "passed_time": 1083.550919,
            "remaining_time": 672.4287053,
            "test": [
             0.8347854331,
             0.4445483244
            ]
           },
           {
            "iteration": 622,
            "learn": [
             0.9996113699,
             0.09119120717
            ],
            "parameters": [
             {
              "depth": 7,
              "iterations": 200,
              "learning_rate": 0.3
             }
            ],
            "passed_time": 1086.171226,
            "remaining_time": 671.2294095,
            "test": [
             0.828948374,
             0.4848886661
            ]
           },
           {
            "iteration": 623,
            "learn": [
             0.9999874914,
             0.04913217796
            ],
            "parameters": [
             {
              "depth": 7,
              "iterations": 200,
              "learning_rate": 0.5
             }
            ],
            "passed_time": 1088.890051,
            "remaining_time": 670.0861855,
            "test": [
             0.8201211357,
             0.4889687943
            ]
           },
           {
            "iteration": 624,
            "learn": [
             0.8412885323,
             0.6778957067
            ],
            "parameters": [
             {
              "depth": 7,
              "iterations": 250,
              "learning_rate": 0.0001
             }
            ],
            "passed_time": 1091.864081,
            "remaining_time": 669.0943088,
            "test": [
             0.8640996981,
             0.6766069613
            ]
           },
           {
            "iteration": 625,
            "learn": [
             0.8426404704,
             0.6250796884
            ],
            "parameters": [
             {
              "depth": 7,
              "iterations": 250,
              "learning_rate": 0.0005
             }
            ],
            "passed_time": 1094.816263,
            "remaining_time": 668.0827676,
            "test": [
             0.8655613512,
             0.6192547171
            ]
           },
           {
            "iteration": 626,
            "learn": [
             0.8436036347,
             0.574701035
            ],
            "parameters": [
             {
              "depth": 7,
              "iterations": 250,
              "learning_rate": 0.001
             }
            ],
            "passed_time": 1097.806157,
            "remaining_time": 667.0879521,
            "test": [
             0.8649284459,
             0.5646591556
            ]
           },
           {
            "iteration": 627,
            "learn": [
             0.8547344433,
             0.4348193045
            ],
            "parameters": [
             {
              "depth": 7,
              "iterations": 250,
              "learning_rate": 0.005
             }
            ],
            "passed_time": 1100.813563,
            "remaining_time": 666.0973789,
            "test": [
             0.8681335741,
             0.4154335297
            ]
           },
           {
            "iteration": 628,
            "learn": [
             0.8657242063,
             0.4011049368
            ],
            "parameters": [
             {
              "depth": 7,
              "iterations": 250,
              "learning_rate": 0.01
             }
            ],
            "passed_time": 1103.812404,
            "remaining_time": 665.0952321,
            "test": [
             0.8707201269,
             0.3865403076
            ]
           },
           {
            "iteration": 629,
            "learn": [
             0.8798349436,
             0.3777818674
            ],
            "parameters": [
             {
              "depth": 7,
              "iterations": 250,
              "learning_rate": 0.02
             }
            ],
            "passed_time": 1106.89268,
            "remaining_time": 664.1356077,
            "test": [
             0.8689097787,
             0.3798582643
            ]
           },
           {
            "iteration": 630,
            "learn": [
             0.9101416207,
             0.3387742107
            ],
            "parameters": [
             {
              "depth": 7,
              "iterations": 250,
              "learning_rate": 0.04
             }
            ],
            "passed_time": 1110.092972,
            "remaining_time": 663.2409672,
            "test": [
             0.8636172571,
             0.3843421416
            ]
           },
           {
            "iteration": 631,
            "learn": [
             0.9313251955,
             0.3080172497
            ],
            "parameters": [
             {
              "depth": 7,
              "iterations": 250,
              "learning_rate": 0.05
             }
            ],
            "passed_time": 1113.197565,
            "remaining_time": 662.2820955,
            "test": [
             0.8588143414,
             0.3896362339
            ]
           },
           {
            "iteration": 632,
            "learn": [
             0.9822486772,
             0.2068596944
            ],
            "parameters": [
             {
              "depth": 7,
              "iterations": 250,
              "learning_rate": 0.1
             }
            ],
            "passed_time": 1116.42935,
            "remaining_time": 661.391795,
            "test": [
             0.8417426153,
             0.4160703218
            ]
           },
           {
            "iteration": 633,
            "learn": [
             0.9989042731,
             0.1112817391
            ],
            "parameters": [
             {
              "depth": 7,
              "iterations": 250,
              "learning_rate": 0.2
             }
            ],
            "passed_time": 1119.661053,
            "remaining_time": 660.4940595,
            "test": [
             0.8271571325,
             0.4708827338
            ]
           },
           {
            "iteration": 634,
            "learn": [
             0.9999437831,
             0.06832580799
            ],
            "parameters": [
             {
              "depth": 7,
              "iterations": 250,
              "learning_rate": 0.3
             }
            ],
            "passed_time": 1122.906569,
            "remaining_time": 659.5970871,
            "test": [
             0.8256094998,
             0.5126134712
            ]
           },
           {
            "iteration": 635,
            "learn": [
             0.9999949678,
             0.03587037616
            ],
            "parameters": [
             {
              "depth": 7,
              "iterations": 250,
              "learning_rate": 0.5
             }
            ],
            "passed_time": 1126.186975,
            "remaining_time": 658.7131363,
            "test": [
             0.8201211357,
             0.4889687943
            ]
           },
           {
            "iteration": 636,
            "learn": [
             0.841496003,
             0.6749598674
            ],
            "parameters": [
             {
              "depth": 7,
              "iterations": 300,
              "learning_rate": 0.0001
             }
            ],
            "passed_time": 1129.811131,
            "remaining_time": 658.0218676,
            "test": [
             0.8640853682,
             0.6734240181
            ]
           },
           {
            "iteration": 637,
            "learn": [
             0.842872527,
             0.6138408969
            ],
            "parameters": [
             {
              "depth": 7,
              "iterations": 300,
              "learning_rate": 0.0005
             }
            ],
            "passed_time": 1133.335158,
            "remaining_time": 657.2633364,
            "test": [
             0.8651266766,
             0.6070537369
            ]
           },
           {
            "iteration": 638,
            "learn": [
             0.8439891017,
             0.5585066568
            ],
            "parameters": [
             {
              "depth": 7,
              "iterations": 300,
              "learning_rate": 0.001
             }
            ],
            "passed_time": 1136.897719,
            "remaining_time": 656.5184011,
            "test": [
             0.8650550269,
             0.5470831936
            ]
           },
           {
            "iteration": 639,
            "learn": [
             0.8574803025,
             0.4243838143
            ],
            "parameters": [
             {
              "depth": 7,
              "iterations": 300,
              "learning_rate": 0.005
             }
            ],
            "passed_time": 1140.49702,
            "remaining_time": 655.7857867,
            "test": [
             0.8685419771,
             0.4058183508
            ]
           },
           {
            "iteration": 640,
            "learn": [
             0.8692428686,
             0.394366741
            ],
            "parameters": [
             {
              "depth": 7,
              "iterations": 300,
              "learning_rate": 0.01
             }
            ],
            "passed_time": 1144.056195,
            "remaining_time": 655.0212537,
            "test": [
             0.8706389239,
             0.3830357974
            ]
           },
           {
            "iteration": 641,
            "learn": [
             0.8841744306,
             0.371853585
            ],
            "parameters": [
             {
              "depth": 7,
              "iterations": 300,
              "learning_rate": 0.02
             }
            ],
            "passed_time": 1147.692933,
            "remaining_time": 654.2922326,
            "test": [
             0.8678015973,
             0.3801563273
            ]
           },
           {
            "iteration": 642,
            "learn": [
             0.9287883885,
             0.312780352
            ],
            "parameters": [
             {
              "depth": 7,
              "iterations": 300,
              "learning_rate": 0.04
             }
            ],
            "passed_time": 1151.543344,
            "remaining_time": 653.6754596,
            "test": [
             0.8632112423,
             0.3849726705
            ]
           },
           {
            "iteration": 643,
            "learn": [
             0.947994594,
             0.2813494061
            ],
            "parameters": [
             {
              "depth": 7,
              "iterations": 300,
              "learning_rate": 0.05
             }
            ],
            "passed_time": 1155.343088,
            "remaining_time": 653.0200061,
            "test": [
             0.8555542818,
             0.3949983672
            ]
           },
           {
            "iteration": 644,
            "learn": [
             0.9902807971,
             0.1804080206
            ],
            "parameters": [
             {
              "depth": 7,
              "iterations": 300,
              "learning_rate": 0.1
             }
            ],
            "passed_time": 1159.245605,
            "remaining_time": 652.412643,
            "test": [
             0.839478486,
             0.4244709613
            ]
           },
           {
            "iteration": 645,
            "learn": [
             0.9997608983,
             0.09089824911
            ],
            "parameters": [
             {
              "depth": 7,
              "iterations": 300,
              "learning_rate": 0.2
             }
            ],
            "passed_time": 1163.114642,
            "remaining_time": 651.7763162,
            "test": [
             0.82627823,
             0.4842885824
            ]
           },
           {
            "iteration": 646,
            "learn": [
             0.999985766,
             0.05414312141
            ],
            "parameters": [
             {
              "depth": 7,
              "iterations": 300,
              "learning_rate": 0.3
             }
            ],
            "passed_time": 1166.989649,
            "remaining_time": 651.133328,
            "test": [
             0.8280981314,
             0.523729101
            ]
           },
           {
            "iteration": 647,
            "learn": [
             0.9999949678,
             0.02784972885
            ],
            "parameters": [
             {
              "depth": 7,
              "iterations": 300,
              "learning_rate": 0.5
             }
            ],
            "passed_time": 1170.909238,
            "remaining_time": 650.505132,
            "test": [
             0.8201211357,
             0.4889687943
            ]
           },
           {
            "iteration": 648,
            "learn": [
             0.8417857143,
             0.6634140764
            ],
            "parameters": [
             {
              "depth": 7,
              "iterations": 500,
              "learning_rate": 0.0001
             }
            ],
            "passed_time": 1176.807073,
            "remaining_time": 650.9610771,
            "test": [
             0.8644268982,
             0.6609124636
            ]
           },
           {
            "iteration": 649,
            "learn": [
             0.8438824189,
             0.5749412899
            ],
            "parameters": [
             {
              "depth": 7,
              "iterations": 500,
              "learning_rate": 0.0005
             }
            ],
            "passed_time": 1182.680578,
            "remaining_time": 651.384072,
            "test": [
             0.8652675876,
             0.5648762281
            ]
           },
           {
            "iteration": 650,
            "learn": [
             0.8460626582,
             0.5102267099
            ],
            "parameters": [
             {
              "depth": 7,
              "iterations": 500,
              "learning_rate": 0.001
             }
            ],
            "passed_time": 1188.563428,
            "remaining_time": 651.7928475,
            "test": [
             0.8656138943,
             0.4948797296
            ]
           },
           {
            "iteration": 651,
            "learn": [
             0.8661346906,
             0.4007714047
            ],
            "parameters": [
             {
              "depth": 7,
              "iterations": 500,
              "learning_rate": 0.005
             }
            ],
            "passed_time": 1194.55204,
            "remaining_time": 652.2400708,
            "test": [
             0.8692322022,
             0.3875600317
            ]
           },
           {
            "iteration": 652,
            "learn": [
             0.88028281,
             0.3771316391
            ],
            "parameters": [
             {
              "depth": 7,
              "iterations": 500,
              "learning_rate": 0.01
             }
            ],
            "passed_time": 1200.556469,
            "remaining_time": 652.6761816,
            "test": [
             0.8691629409,
             0.3796818534
            ]
           },
           {
            "iteration": 653,
            "learn": [
             0.9097515528,
             0.339278509
            ],
            "parameters": [
             {
              "depth": 7,
              "iterations": 500,
              "learning_rate": 0.02
             }
            ],
            "passed_time": 1206.702982,
            "remaining_time": 653.1695039,
            "test": [
             0.8653678971,
             0.382250763
            ]
           },
           {
            "iteration": 654,
            "learn": [
             0.9679731712,
             0.2438198653
            ],
            "parameters": [
             {
              "depth": 7,
              "iterations": 500,
              "learning_rate": 0.04
             }
            ],
            "passed_time": 1213.194343,
            "remaining_time": 653.8284016,
            "test": [
             0.8529844472,
             0.3993152723
            ]
           },
           {
            "iteration": 655,
            "learn": [
             0.9823693064,
             0.2070549045
            ],
            "parameters": [
             {
              "depth": 7,
              "iterations": 500,
              "learning_rate": 0.05
             }
            ],
            "passed_time": 1219.672232,
            "remaining_time": 654.4582707,
            "test": [
             0.84604876,
             0.4119776568
            ]
           },
           {
            "iteration": 656,
            "learn": [
             0.9993367552,
             0.1099924986
            ],
            "parameters": [
             {
              "depth": 7,
              "iterations": 500,
              "learning_rate": 0.1
             }
            ],
            "passed_time": 1227.388838,
            "remaining_time": 655.7282832,
            "test": [
             0.8332330238,
             0.4560377417
            ]
           },
           {
            "iteration": 657,
            "learn": [
             0.9999817403,
             0.0472761223
            ],
            "parameters": [
             {
              "depth": 7,
              "iterations": 500,
              "learning_rate": 0.2
             }
            ],
            "passed_time": 1234.360072,
            "remaining_time": 656.5745062,
            "test": [
             0.8223948183,
             0.5386715506
            ]
           },
           {
            "iteration": 658,
            "learn": [
             0.9999958305,
             0.02573062448
            ],
            "parameters": [
             {
              "depth": 7,
              "iterations": 500,
              "learning_rate": 0.3
             }
            ],
            "passed_time": 1240.700722,
            "remaining_time": 657.0630529,
            "test": [
             0.8237131721,
             0.5495713296
            ]
           },
           {
            "iteration": 659,
            "learn": [
             0.9999955429,
             0.01333246901
            ],
            "parameters": [
             {
              "depth": 7,
              "iterations": 500,
              "learning_rate": 0.5
             }
            ],
            "passed_time": 1247.001785,
            "remaining_time": 657.5100323,
            "test": [
             0.8201211357,
             0.4889687943
            ]
           },
           {
            "iteration": 660,
            "learn": [
             0.8423787957,
             0.6370785467
            ],
            "parameters": [
             {
              "depth": 7,
              "iterations": 1000,
              "learning_rate": 0.0001
             }
            ],
            "passed_time": 1258.537961,
            "remaining_time": 660.6848295,
            "test": [
             0.8646752837,
             0.6323516429
            ]
           },
           {
            "iteration": 661,
            "learn": [
             0.8462349034,
             0.5097130169
            ],
            "parameters": [
             {
              "depth": 7,
              "iterations": 1000,
              "learning_rate": 0.0005
             }
            ],
            "passed_time": 1270.107662,
            "remaining_time": 663.8327056,
            "test": [
             0.8658718331,
             0.4943068429
            ]
           },
           {
            "iteration": 662,
            "learn": [
             0.8508514493,
             0.4504830636
            ],
            "parameters": [
             {
              "depth": 7,
              "iterations": 1000,
              "learning_rate": 0.001
             }
            ],
            "passed_time": 1282.035061,
            "remaining_time": 667.1223167,
            "test": [
             0.8666838626,
             0.4316124925
            ]
           },
           {
            "iteration": 663,
            "learn": [
             0.8798638429,
             0.3775081799
            ],
            "parameters": [
             {
              "depth": 7,
              "iterations": 1000,
              "learning_rate": 0.005
             }
            ],
            "passed_time": 1294.049445,
            "remaining_time": 670.4111583,
            "test": [
             0.8680093813,
             0.3809939272
            ]
           },
           {
            "iteration": 664,
            "learn": [
             0.9108550437,
             0.3378179205
            ],
            "parameters": [
             {
              "depth": 7,
              "iterations": 1000,
              "learning_rate": 0.01
             }
            ],
            "passed_time": 1306.122992,
            "remaining_time": 673.6844905,
            "test": [
             0.8651935496,
             0.3822918807
            ]
           },
           {
            "iteration": 665,
            "learn": [
             0.9700265988,
             0.2405289119
            ],
            "parameters": [
             {
              "depth": 7,
              "iterations": 1000,
              "learning_rate": 0.02
             }
            ],
            "passed_time": 1318.653449,
            "remaining_time": 677.1463656,
            "test": [
             0.8542168214,
             0.3971112709
            ]
           },
           {
            "iteration": 666,
            "learn": [
             0.9973969117,
             0.1398729104
            ],
            "parameters": [
             {
              "depth": 7,
              "iterations": 1000,
              "learning_rate": 0.04
             }
            ],
            "passed_time": 1331.353223,
            "remaining_time": 680.6468501,
            "test": [
             0.8394665444,
             0.4322492947
            ]
           },
           {
            "iteration": 667,
            "learn": [
             0.999443438,
             0.1098823709
            ],
            "parameters": [
             {
              "depth": 7,
              "iterations": 1000,
              "learning_rate": 0.05
             }
            ],
            "passed_time": 1343.982022,
            "remaining_time": 684.0627057,
            "test": [
             0.8335578356,
             0.4560094845
            ]
           },
           {
            "iteration": 668,
            "learn": [
             0.9999860536,
             0.04680380329
            ],
            "parameters": [
             {
              "depth": 7,
              "iterations": 1000,
              "learning_rate": 0.1
             }
            ],
            "passed_time": 1356.969707,
            "remaining_time": 687.6124522,
            "test": [
             0.8227721732,
             0.5362604224
            ]
           },
           {
            "iteration": 669,
            "learn": [
             0.9999958305,
             0.01800300238
            ],
            "parameters": [
             {
              "depth": 7,
              "iterations": 1000,
              "learning_rate": 0.2
             }
            ],
            "passed_time": 1369.676575,
            "remaining_time": 690.9711675,
            "test": [
             0.8201211357,
             0.5899154388
            ]
           },
           {
            "iteration": 670,
            "learn": [
             0.9999964056,
             0.01044592872
            ],
            "parameters": [
             {
              "depth": 7,
              "iterations": 1000,
              "learning_rate": 0.3
             }
            ],
            "passed_time": 1382.326032,
            "remaining_time": 694.2531637,
            "test": [
             0.8201927854,
             0.5495713296
            ]
           },
           {
            "iteration": 671,
            "learn": [
             0.9999964056,
             0.007144816053
            ],
            "parameters": [
             {
              "depth": 7,
              "iterations": 1000,
              "learning_rate": 0.5
             }
            ],
            "passed_time": 1395.055054,
            "remaining_time": 697.5275272,
            "test": [
             0.8201211357,
             0.4889687943
            ]
           },
           {
            "iteration": 672,
            "learn": [
             0.838647343,
             0.6928454364
            ],
            "parameters": [
             {
              "depth": 8,
              "iterations": 5,
              "learning_rate": 0.0001
             }
            ],
            "passed_time": 1395.11995,
            "remaining_time": 694.4504953,
            "test": [
             0.8635169475,
             0.6928222051
            ]
           },
           {
            "iteration": 673,
            "learn": [
             0.8386487808,
             0.6916416017
            ],
            "parameters": [
             {
              "depth": 8,
              "iterations": 5,
              "learning_rate": 0.0005
             }
            ],
            "passed_time": 1395.184437,
            "remaining_time": 691.3821988,
            "test": [
             0.8635217242,
             0.6915256393
            ]
           },
           {
            "iteration": 674,
            "learn": [
             0.8386591327,
             0.690143858
            ],
            "parameters": [
             {
              "depth": 8,
              "iterations": 5,
              "learning_rate": 0.001
             }
            ],
            "passed_time": 1395.246105,
            "remaining_time": 688.3214118,
            "test": [
             0.8635169475,
             0.6899124175
            ]
           },
           {
            "iteration": 675,
            "learn": [
             0.8400739015,
             0.6783161445
            ],
            "parameters": [
             {
              "depth": 8,
              "iterations": 5,
              "learning_rate": 0.005
             }
            ],
            "passed_time": 1395.316681,
            "remaining_time": 685.273873,
            "test": [
             0.8599989491,
             0.6773163586
            ]
           },
           {
            "iteration": 676,
            "learn": [
             0.8368652231,
             0.6643655621
            ],
            "parameters": [
             {
              "depth": 8,
              "iterations": 5,
              "learning_rate": 0.01
             }
            ],
            "passed_time": 1395.378417,
            "remaining_time": 682.2308068,
            "test": [
             0.8626165501,
             0.6617454413
            ]
           },
           {
            "iteration": 677,
            "learn": [
             0.836638055,
             0.6384850784
            ],
            "parameters": [
             {
              "depth": 8,
              "iterations": 5,
              "learning_rate": 0.02
             }
            ],
            "passed_time": 1395.442035,
            "remaining_time": 679.1974507,
            "test": [
             0.8616898812,
             0.6335688806
            ]
           },
           {
            "iteration": 678,
            "learn": [
             0.8377658443,
             0.5957685265
            ],
            "parameters": [
             {
              "depth": 8,
              "iterations": 5,
              "learning_rate": 0.04
             }
            ],
            "passed_time": 1395.513293,
            "remaining_time": 676.176544,
            "test": [
             0.8605291566,
             0.5875945511
            ]
           },
           {
            "iteration": 679,
            "learn": [
             0.8380684955,
             0.5768064081
            ],
            "parameters": [
             {
              "depth": 8,
              "iterations": 5,
              "learning_rate": 0.05
             }
            ],
            "passed_time": 1395.61548,
            "remaining_time": 673.1792313,
            "test": [
             0.8631539226,
             0.5667826517
            ]
           },
           {
            "iteration": 680,
            "learn": [
             0.8371514838,
             0.5099745239
            ],
            "parameters": [
             {
              "depth": 8,
              "iterations": 5,
              "learning_rate": 0.1
             }
            ],
            "passed_time": 1395.73787,
            "remaining_time": 670.2001226,
            "test": [
             0.8617949673,
             0.4941947763
            ]
           },
           {
            "iteration": 681,
            "learn": [
             0.8432184553,
             0.4484074539
            ],
            "parameters": [
             {
              "depth": 8,
              "iterations": 5,
              "learning_rate": 0.2
             }
            ],
            "passed_time": 1395.810462,
            "remaining_time": 667.2055875,
            "test": [
             0.8629652451,
             0.4275347113
            ]
           },
           {
            "iteration": 682,
            "learn": [
             0.8486450426,
             0.4253407268
            ],
            "parameters": [
             {
              "depth": 8,
              "iterations": 5,
              "learning_rate": 0.3
             }
            ],
            "passed_time": 1395.877912,
            "remaining_time": 664.2171615,
            "test": [
             0.8579927586,
             0.4103717256
            ]
           },
           {
            "iteration": 683,
            "learn": [
             0.8541413619,
             0.4067695865
            ],
            "parameters": [
             {
              "depth": 8,
              "iterations": 5,
              "learning_rate": 0.5
             }
            ],
            "passed_time": 1395.942334,
            "remaining_time": 661.2358425,
            "test": [
             0.8632446788,
             0.3897864379
            ]
           },
           {
            "iteration": 684,
            "learn": [
             0.8384460548,
             0.6925312062
            ],
            "parameters": [
             {
              "depth": 8,
              "iterations": 10,
              "learning_rate": 0.0001
             }
            ],
            "passed_time": 1396.072386,
            "remaining_time": 658.2939863,
            "test": [
             0.864202396,
             0.6924789216
            ]
           },
           {
            "iteration": 685,
            "learn": [
             0.8384647458,
             0.6900809826
            ],
            "parameters": [
             {
              "depth": 8,
              "iterations": 10,
              "learning_rate": 0.0005
             }
            ],
            "passed_time": 1396.205515,
            "remaining_time": 655.3617724,
            "test": [
             0.8642453858,
             0.6898205316
            ]
           },
           {
            "iteration": 686,
            "learn": [
             0.8387636588,
             0.6870823161
            ],
            "parameters": [
             {
              "depth": 8,
              "iterations": 10,
              "learning_rate": 0.001
             }
            ],
            "passed_time": 1396.329707,
            "remaining_time": 652.4335314,
            "test": [
             0.864551091,
             0.6865694601
            ]
           },
           {
            "iteration": 687,
            "learn": [
             0.8376997067,
             0.6643330956
            ],
            "parameters": [
             {
              "depth": 8,
              "iterations": 10,
              "learning_rate": 0.005
             }
            ],
            "passed_time": 1396.460925,
            "remaining_time": 649.5167094,
            "test": [
             0.8599368528,
             0.6622143766
            ]
           },
           {
            "iteration": 688,
            "learn": [
             0.8386520876,
             0.6377086869
            ],
            "parameters": [
             {
              "depth": 8,
              "iterations": 10,
              "learning_rate": 0.01
             }
            ],
            "passed_time": 1396.606526,
            "remaining_time": 646.6146327,
            "test": [
             0.8642716573,
             0.6324987995
            ]
           },
           {
            "iteration": 689,
            "learn": [
             0.8386483494,
             0.595459344
            ],
            "parameters": [
             {
              "depth": 8,
              "iterations": 10,
              "learning_rate": 0.02
             }
            ],
            "passed_time": 1396.823789,
            "remaining_time": 643.7535722,
            "test": [
             0.8630058466,
             0.5870239029
            ]
           },
           {
            "iteration": 690,
            "learn": [
             0.8393400621,
             0.5320688632
            ],
            "parameters": [
             {
              "depth": 8,
              "iterations": 10,
              "learning_rate": 0.04
             }
            ],
            "passed_time": 1396.953001,
            "remaining_time": 640.8597704,
            "test": [
             0.8639229623,
             0.5176624979
            ]
           },
           {
            "iteration": 691,
            "learn": [
             0.8418190706,
             0.5105798808
            ],
            "parameters": [
             {
              "depth": 8,
              "iterations": 10,
              "learning_rate": 0.05
             }
            ],
            "passed_time": 1397.082622,
            "remaining_time": 637.9741455,
            "test": [
             0.8625305705,
             0.4949782035
            ]
           },
           {
            "iteration": 692,
            "learn": [
             0.8491167759,
             0.4493608748
            ],
            "parameters": [
             {
              "depth": 8,
              "iterations": 10,
              "learning_rate": 0.1
             }
            ],
            "passed_time": 1397.206527,
            "remaining_time": 635.0938759,
            "test": [
             0.8659363178,
             0.4303968244
            ]
           },
           {
            "iteration": 693,
            "learn": [
             0.8576680757,
             0.4099420824
            ],
            "parameters": [
             {
              "depth": 8,
              "iterations": 10,
              "learning_rate": 0.2
             }
            ],
            "passed_time": 1397.350785,
            "remaining_time": 632.2307588,
            "test": [
             0.866456972,
             0.3918294607
            ]
           },
           {
            "iteration": 694,
            "learn": [
             0.8643755751,
             0.3963008144
            ],
            "parameters": [
             {
              "depth": 8,
              "iterations": 10,
              "learning_rate": 0.3
             }
            ],
            "passed_time": 1397.489931,
            "remaining_time": 629.3731631,
            "test": [
             0.8579903703,
             0.3947031304
            ]
           },
           {
            "iteration": 695,
            "learn": [
             0.8679267311,
             0.3886704738
            ],
            "parameters": [
             {
              "depth": 8,
              "iterations": 10,
              "learning_rate": 0.5
             }
            ],
            "passed_time": 1397.631663,
            "remaining_time": 626.5245387,
            "test": [
             0.8609351714,
             0.3878815305
            ]
           },
           {
            "iteration": 696,
            "learn": [
             0.8403581493,
             0.6919193293
            ],
            "parameters": [
             {
              "depth": 8,
              "iterations": 20,
              "learning_rate": 0.0001
             }
            ],
            "passed_time": 1397.97708,
            "remaining_time": 623.7745649,
            "test": [
             0.8645033245,
             0.6918213143
            ]
           },
           {
            "iteration": 697,
            "learn": [
             0.8386924891,
             0.6870754731
            ],
            "parameters": [
             {
              "depth": 8,
              "iterations": 20,
              "learning_rate": 0.0005
             }
            ],
            "passed_time": 1398.23309,
            "remaining_time": 620.9917734,
            "test": [
             0.8637199549,
             0.6865585196
            ]
           },
           {
            "iteration": 698,
            "learn": [
             0.8396687371,
             0.6809358821
            ],
            "parameters": [
             {
              "depth": 8,
              "iterations": 20,
              "learning_rate": 0.001
             }
            ],
            "passed_time": 1398.480531,
            "remaining_time": 618.2124236,
            "test": [
             0.8650741335,
             0.6798839358
            ]
           },
           {
            "iteration": 699,
            "learn": [
             0.8396076317,
             0.6382790412
            ],
            "parameters": [
             {
              "depth": 8,
              "iterations": 20,
              "learning_rate": 0.005
             }
            ],
            "passed_time": 1398.756176,
            "remaining_time": 615.4527176,
            "test": [
             0.863282892,
             0.6337881189
            ]
           },
           {
            "iteration": 700,
            "learn": [
             0.8416358983,
             0.5943640811
            ],
            "parameters": [
             {
              "depth": 8,
              "iterations": 20,
              "learning_rate": 0.01
             }
            ],
            "passed_time": 1399.190478,
            "remaining_time": 612.7695816,
            "test": [
             0.865967366,
             0.5853304824
            ]
           },
           {
            "iteration": 701,
            "learn": [
             0.8443100127,
             0.5334614962
            ],
            "parameters": [
             {
              "depth": 8,
              "iterations": 20,
              "learning_rate": 0.02
             }
            ],
            "passed_time": 1399.59151,
            "remaining_time": 610.0783507,
            "test": [
             0.8638919141,
             0.5201810839
            ]
           },
           {
            "iteration": 702,
            "learn": [
             0.8469747815,
             0.4721614673
            ],
            "parameters": [
             {
              "depth": 8,
              "iterations": 20,
              "learning_rate": 0.04
             }
            ],
            "passed_time": 1400.215928,
            "remaining_time": 607.490552,
            "test": [
             0.864840078,
             0.4545399048
            ]
           },
           {
            "iteration": 703,
            "learn": [
             0.8508633828,
             0.4492369487
            ],
            "parameters": [
             {
              "depth": 8,
              "iterations": 20,
              "learning_rate": 0.05
             }
            ],
            "passed_time": 1400.666604,
            "remaining_time": 604.8333062,
            "test": [
             0.8677586075,
             0.4289131262
            ]
           },
           {
            "iteration": 704,
            "learn": [
             0.8599575857,
             0.4095682451
            ],
            "parameters": [
             {
              "depth": 8,
              "iterations": 20,
              "learning_rate": 0.1
             }
            ],
            "passed_time": 1401.243281,
            "remaining_time": 602.2364739,
            "test": [
             0.8693444534,
             0.3925884757
            ]
           },
           {
            "iteration": 705,
            "learn": [
             0.8715716299,
             0.3878519723
            ],
            "parameters": [
             {
              "depth": 8,
              "iterations": 20,
              "learning_rate": 0.2
             }
            ],
            "passed_time": 1401.686361,
            "remaining_time": 599.5882169,
            "test": [
             0.8644292866,
             0.3859882021
            ]
           },
           {
            "iteration": 706,
            "learn": [
             0.8786252013,
             0.3765771089
            ],
            "parameters": [
             {
              "depth": 8,
              "iterations": 20,
              "learning_rate": 0.3
             }
            ],
            "passed_time": 1402.144512,
            "remaining_time": 596.9526139,
            "test": [
             0.85840355,
             0.3918915026
            ]
           },
           {
            "iteration": 707,
            "learn": [
             0.8960259949,
             0.3509254647
            ],
            "parameters": [
             {
              "depth": 8,
              "iterations": 20,
              "learning_rate": 0.5
             }
            ],
            "passed_time": 1402.702959,
            "remaining_time": 594.3656606,
            "test": [
             0.8538179716,
             0.3969384046
            ]
           },
           {
            "iteration": 708,
            "learn": [
             0.8413136934,
             0.6912952812
            ],
            "parameters": [
             {
              "depth": 8,
              "iterations": 30,
              "learning_rate": 0.0001
             }
            ],
            "passed_time": 1403.391839,
            "remaining_time": 591.8394354,
            "test": [
             0.8646633421,
             0.6911467523
            ]
           },
           {
            "iteration": 709,
            "learn": [
             0.8408052968,
             0.684040412
            ],
            "parameters": [
             {
              "depth": 8,
              "iterations": 30,
              "learning_rate": 0.0005
             }
            ],
            "passed_time": 1403.981572,
            "remaining_time": 589.2767725,
            "test": [
             0.864195231,
             0.683249858
            ]
           },
           {
            "iteration": 710,
            "learn": [
             0.8400661376,
             0.6750942945
            ],
            "parameters": [
             {
              "depth": 8,
              "iterations": 30,
              "learning_rate": 0.001
             }
            ],
            "passed_time": 1404.369945,
            "remaining_time": 586.6355465,
            "test": [
             0.8644149566,
             0.6735628917
            ]
           },
           {
            "iteration": 711,
            "learn": [
             0.8409272199,
             0.6156368159
            ],
            "parameters": [
             {
              "depth": 8,
              "iterations": 30,
              "learning_rate": 0.005
             }
            ],
            "passed_time": 1404.978967,
            "remaining_time": 584.0923794,
            "test": [
             0.8629437502,
             0.6092911461
            ]
           },
           {
            "iteration": 712,
            "learn": [
             0.8429255809,
             0.5603231116
            ],
            "parameters": [
             {
              "depth": 8,
              "iterations": 30,
              "learning_rate": 0.01
             }
            ],
            "passed_time": 1405.351792,
            "remaining_time": 581.4569127,
            "test": [
             0.8650550269,
             0.5487357606
            ]
           },
           {
            "iteration": 713,
            "learn": [
             0.8462415171,
             0.4945345344
            ],
            "parameters": [
             {
              "depth": 8,
              "iterations": 30,
              "learning_rate": 0.02
             }
            ],
            "passed_time": 1405.810046,
            "remaining_time": 578.8629601,
            "test": [
             0.8648567962,
             0.4779831493
            ]
           },
           {
            "iteration": 714,
            "learn": [
             0.855043277,
             0.4376895146
            ],
            "parameters": [
             {
              "depth": 8,
              "iterations": 30,
              "learning_rate": 0.04
             }
            ],
            "passed_time": 1406.187423,
            "remaining_time": 576.241839,
            "test": [
             0.8661417135,
             0.4205920646
            ]
           },
           {
            "iteration": 715,
            "learn": [
             0.8573021624,
             0.4222279877
            ],
            "parameters": [
             {
              "depth": 8,
              "iterations": 30,
              "learning_rate": 0.05
             }
            ],
            "passed_time": 1406.559121,
            "remaining_time": 573.6246695,
            "test": [
             0.8684249494,
             0.4031610738
            ]
           },
           {
            "iteration": 716,
            "learn": [
             0.8677448528,
             0.3947117872
            ],
            "parameters": [
             {
              "depth": 8,
              "iterations": 30,
              "learning_rate": 0.1
             }
            ],
            "passed_time": 1407.089841,
            "remaining_time": 571.0783035,
            "test": [
             0.8686112385,
             0.3844140706
            ]
           },
           {
            "iteration": 717,
            "learn": [
             0.8811436048,
             0.3745821823
            ],
            "parameters": [
             {
              "depth": 8,
              "iterations": 30,
              "learning_rate": 0.2
             }
            ],
            "passed_time": 1407.471689,
            "remaining_time": 568.4774233,
            "test": [
             0.8648161947,
             0.3843721449
            ]
           },
           {
            "iteration": 718,
            "learn": [
             0.8917954911,
             0.3597300655
            ],
            "parameters": [
             {
              "depth": 8,
              "iterations": 30,
              "learning_rate": 0.3
             }
            ],
            "passed_time": 1407.944545,
            "remaining_time": 565.9192955,
            "test": [
             0.8561513623,
             0.3939855524
            ]
           },
           {
            "iteration": 719,
            "learn": [
             0.9305305383,
             0.2996342178
            ],
            "parameters": [
             {
              "depth": 8,
              "iterations": 30,
              "learning_rate": 0.5
             }
            ],
            "passed_time": 1408.346867,
            "remaining_time": 563.338747,
            "test": [
             0.8439064351,
             0.4138305052
            ]
           },
           {
            "iteration": 720,
            "learn": [
             0.8408694214,
             0.6906826211
            ],
            "parameters": [
             {
              "depth": 8,
              "iterations": 40,
              "learning_rate": 0.0001
             }
            ],
            "passed_time": 1408.833223,
            "remaining_time": 560.7976906,
            "test": [
             0.8637199549,
             0.6904783357
            ]
           },
           {
            "iteration": 721,
            "learn": [
             0.8407611571,
             0.6810381944
            ],
            "parameters": [
             {
              "depth": 8,
              "iterations": 40,
              "learning_rate": 0.0005
             }
            ],
            "passed_time": 1409.430138,
            "remaining_time": 558.3061211,
            "test": [
             0.8640423784,
             0.6800005481
            ]
           },
           {
            "iteration": 722,
            "learn": [
             0.8412840752,
             0.669169917
            ],
            "parameters": [
             {
              "depth": 8,
              "iterations": 40,
              "learning_rate": 0.001
             }
            ],
            "passed_time": 1410.00152,
            "remaining_time": 555.8097278,
            "test": [
             0.8653989453,
             0.6671331734
            ]
           },
           {
            "iteration": 723,
            "learn": [
             0.8425123648,
             0.5948421429
            ],
            "parameters": [
             {
              "depth": 8,
              "iterations": 40,
              "learning_rate": 0.005
             }
            ],
            "passed_time": 1410.555759,
            "remaining_time": 553.3119277,
            "test": [
             0.8643910734,
             0.5867068381
            ]
           },
           {
            "iteration": 724,
            "learn": [
             0.8445348804,
             0.5328837137
            ],
            "parameters": [
             {
              "depth": 8,
              "iterations": 40,
              "learning_rate": 0.01
             }
            ],
            "passed_time": 1411.150452,
            "remaining_time": 550.8352799,
            "test": [
             0.8640017769,
             0.5193474481
            ]
           },
           {
            "iteration": 725,
            "learn": [
             0.8483564815,
             0.4691221968
            ],
            "parameters": [
             {
              "depth": 8,
              "iterations": 40,
              "learning_rate": 0.02
             }
            ],
            "passed_time": 1411.652392,
            "remaining_time": 548.3277887,
            "test": [
             0.8655159731,
             0.4512739186
            ]
           },
           {
            "iteration": 726,
            "learn": [
             0.8587333218,
             0.4203631419
            ],
            "parameters": [
             {
              "depth": 8,
              "iterations": 40,
              "learning_rate": 0.04
             }
            ],
            "passed_time": 1412.239138,
            "remaining_time": 545.8585941,
            "test": [
             0.8675818717,
             0.4036838435
            ]
           },
           {
            "iteration": 727,
            "learn": [
             0.8619464573,
             0.4095641713
            ],
            "parameters": [
             {
              "depth": 8,
              "iterations": 40,
              "learning_rate": 0.05
             }
            ],
            "passed_time": 1412.732635,
            "remaining_time": 543.3587059,
            "test": [
             0.8694877527,
             0.3928502958
            ]
           },
           {
            "iteration": 728,
            "learn": [
             0.8727153784,
             0.3863197838
            ],
            "parameters": [
             {
              "depth": 8,
              "iterations": 40,
              "learning_rate": 0.1
             }
            ],
            "passed_time": 1413.339102,
            "remaining_time": 540.9075574,
            "test": [
             0.8691008445,
             0.3811054252
            ]
           },
           {
            "iteration": 729,
            "learn": [
             0.8907628824,
             0.3625510378
            ],
            "parameters": [
             {
              "depth": 8,
              "iterations": 40,
              "learning_rate": 0.2
             }
            ],
            "passed_time": 1413.853281,
            "remaining_time": 538.4263179,
            "test": [
             0.8593803737,
             0.389286515
            ]
           },
           {
            "iteration": 730,
            "learn": [
             0.9189833506,
             0.3219900556
            ],
            "parameters": [
             {
              "depth": 8,
              "iterations": 40,
              "learning_rate": 0.3
             }
            ],
            "passed_time": 1414.492531,
            "remaining_time": 535.9978536,
            "test": [
             0.8597362337,
             0.3912275512
            ]
           },
           {
            "iteration": 731,
            "learn": [
             0.9514780308,
             0.2634577888
            ],
            "parameters": [
             {
              "depth": 8,
              "iterations": 40,
              "learning_rate": 0.5
             }
            ],
            "passed_time": 1415.073208,
            "remaining_time": 533.5521932,
            "test": [
             0.8392587604,
             0.4250929801
            ]
           },
           {
            "iteration": 732,
            "learn": [
             0.8415043421,
             0.6900750049
            ],
            "parameters": [
             {
              "depth": 8,
              "iterations": 50,
              "learning_rate": 0.0001
             }
            ],
            "passed_time": 1415.894742,
            "remaining_time": 531.2019836,
            "test": [
             0.8639110207,
             0.6898205832
            ]
           },
           {
            "iteration": 733,
            "learn": [
             0.8408436853,
             0.6780558066
            ],
            "parameters": [
             {
              "depth": 8,
              "iterations": 50,
              "learning_rate": 0.0005
             }
            ],
            "passed_time": 1416.645081,
            "remaining_time": 528.8293627,
            "test": [
             0.8636626352,
             0.6767603085
            ]
           },
           {
            "iteration": 734,
            "learn": [
             0.8419901656,
             0.6635187141
            ],
            "parameters": [
             {
              "depth": 8,
              "iterations": 50,
              "learning_rate": 0.001
             }
            ],
            "passed_time": 1417.245304,
            "remaining_time": 526.4053985,
            "test": [
             0.8657142038,
             0.6610017577
            ]
           },
           {
            "iteration": 735,
            "learn": [
             0.843364533,
             0.5758535301
            ],
            "parameters": [
             {
              "depth": 8,
              "iterations": 50,
              "learning_rate": 0.005
             }
            ],
            "passed_time": 1417.946534,
            "remaining_time": 524.0237192,
            "test": [
             0.8657356987,
             0.5659068195
            ]
           },
           {
            "iteration": 736,
            "learn": [
             0.8453164539,
             0.5122820856
            ],
            "parameters": [
             {
              "depth": 8,
              "iterations": 50,
              "learning_rate": 0.01
             }
            ],
            "passed_time": 1418.594558,
            "remaining_time": 521.6270355,
            "test": [
             0.8642310558,
             0.4970593122
            ]
           },
           {
            "iteration": 737,
            "learn": [
             0.849681677,
             0.4521889274
            ],
            "parameters": [
             {
              "depth": 8,
              "iterations": 50,
              "learning_rate": 0.02
             }
            ],
            "passed_time": 1419.304947,
            "remaining_time": 519.2579075,
            "test": [
             0.8661154419,
             0.4327256494
            ]
           },
           {
            "iteration": 738,
            "learn": [
             0.8626414769,
             0.4088507131
            ],
            "parameters": [
             {
              "depth": 8,
              "iterations": 50,
              "learning_rate": 0.04
             }
            ],
            "passed_time": 1420.036355,
            "remaining_time": 516.9009196,
            "test": [
             0.8683532997,
             0.3943580793
            ]
           },
           {
            "iteration": 739,
            "learn": [
             0.8654882678,
             0.4008793344
            ],
            "parameters": [
             {
              "depth": 8,
              "iterations": 50,
              "learning_rate": 0.05
             }
            ],
            "passed_time": 1420.662428,
            "remaining_time": 514.5101768,
            "test": [
             0.8704717414,
             0.3864096969
            ]
           },
           {
            "iteration": 740,
            "learn": [
             0.8780383023,
             0.3788231942
            ],
            "parameters": [
             {
              "depth": 8,
              "iterations": 50,
              "learning_rate": 0.1
             }
            ],
            "passed_time": 1421.384566,
            "remaining_time": 512.1588112,
            "test": [
             0.8684249494,
             0.3808025954
            ]
           },
           {
            "iteration": 741,
            "learn": [
             0.9079297504,
             0.3384503116
            ],
            "parameters": [
             {
              "depth": 8,
              "iterations": 50,
              "learning_rate": 0.2
             }
            ],
            "passed_time": 1422.1236,
            "remaining_time": 509.8178945,
            "test": [
             0.8559459666,
             0.3939508549
            ]
           },
           {
            "iteration": 742,
            "learn": [
             0.9374611801,
             0.2933485239
            ],
            "parameters": [
             {
              "depth": 8,
              "iterations": 50,
              "learning_rate": 0.3
             }
            ],
            "passed_time": 1422.77846,
            "remaining_time": 507.4512677,
            "test": [
             0.8559602965,
             0.3990250675
            ]
           },
           {
            "iteration": 743,
            "learn": [
             0.9677025822,
             0.2279878971
            ],
            "parameters": [
             {
              "depth": 8,
              "iterations": 50,
              "learning_rate": 0.5
             }
            ],
            "passed_time": 1423.543919,
            "remaining_time": 505.1284872,
            "test": [
             0.8253539493,
             0.4508862064
            ]
           },
           {
            "iteration": 744,
            "learn": [
             0.8415286404,
             0.688823915
            ],
            "parameters": [
             {
              "depth": 8,
              "iterations": 70,
              "learning_rate": 0.0001
             }
            ],
            "passed_time": 1424.481129,
            "remaining_time": 502.8705192,
            "test": [
             0.8639492338,
             0.688461108
            ]
           },
           {
            "iteration": 745,
            "learn": [
             0.8404216989,
             0.672446547
            ],
            "parameters": [
             {
              "depth": 8,
              "iterations": 70,
              "learning_rate": 0.0005
             }
            ],
            "passed_time": 1425.471055,
            "remaining_time": 500.6346064,
            "test": [
             0.8633139402,
             0.670689898
            ]
           },
           {
            "iteration": 746,
            "learn": [
             0.8422850529,
             0.6527707734
            ],
            "parameters": [
             {
              "depth": 8,
              "iterations": 70,
              "learning_rate": 0.001
             }
            ],
            "passed_time": 1426.548202,
            "remaining_time": 498.4325043,
            "test": [
             0.8652293745,
             0.6493516537
            ]
           },
           {
            "iteration": 747,
            "learn": [
             0.8447225098,
             0.5448822559
            ],
            "parameters": [
             {
              "depth": 8,
              "iterations": 70,
              "learning_rate": 0.005
             }
            ],
            "passed_time": 1427.513056,
            "remaining_time": 496.1943779,
            "test": [
             0.8661297719,
             0.5322206583
            ]
           },
           {
            "iteration": 748,
            "learn": [
             0.847643346,
             0.4809606089
            ],
            "parameters": [
             {
              "depth": 8,
              "iterations": 70,
              "learning_rate": 0.01
             }
            ],
            "passed_time": 1428.47083,
            "remaining_time": 493.957203,
            "test": [
             0.8652174328,
             0.4637393334
            ]
           },
           {
            "iteration": 749,
            "learn": [
             0.8552355072,
             0.4296324463
            ],
            "parameters": [
             {
              "depth": 8,
              "iterations": 70,
              "learning_rate": 0.02
             }
            ],
            "passed_time": 1429.44829,
            "remaining_time": 491.7302116,
            "test": [
             0.8683867362,
             0.4101467509
            ]
           },
           {
            "iteration": 750,
            "learn": [
             0.868406516,
             0.3959040619
            ],
            "parameters": [
             {
              "depth": 8,
              "iterations": 70,
              "learning_rate": 0.04
             }
            ],
            "passed_time": 1430.341963,
            "remaining_time": 489.4778755,
            "test": [
             0.868704383,
             0.3862230054
            ]
           },
           {
            "iteration": 751,
            "learn": [
             0.8725966184,
             0.3885723019
            ],
            "parameters": [
             {
              "depth": 8,
              "iterations": 70,
              "learning_rate": 0.05
             }
            ],
            "passed_time": 1431.323138,
            "remaining_time": 487.2589406,
            "test": [
             0.8698866025,
             0.3820345814
            ]
           },
           {
            "iteration": 752,
            "learn": [
             0.8880083966,
             0.3657455948
            ],
            "parameters": [
             {
              "depth": 8,
              "iterations": 70,
              "learning_rate": 0.1
             }
            ],
            "passed_time": 1432.331197,
            "remaining_time": 485.0523974,
            "test": [
             0.8650908518,
             0.3840092672
            ]
           },
           {
            "iteration": 753,
            "learn": [
             0.9406446975,
             0.2912465544
            ],
            "parameters": [
             {
              "depth": 8,
              "iterations": 70,
              "learning_rate": 0.2
             }
            ],
            "passed_time": 1433.369863,
            "remaining_time": 482.8593437,
            "test": [
             0.8518571592,
             0.3995566801
            ]
           },
           {
            "iteration": 754,
            "learn": [
             0.9678368703,
             0.2372903481
            ],
            "parameters": [
             {
              "depth": 8,
              "iterations": 70,
              "learning_rate": 0.3
             }
            ],
            "passed_time": 1434.437539,
            "remaining_time": 480.6790692,
            "test": [
             0.8487356223,
             0.4099415201
            ]
           },
           {
            "iteration": 755,
            "learn": [
             0.9881336266,
             0.1722333172
            ],
            "parameters": [
             {
              "depth": 8,
              "iterations": 70,
              "learning_rate": 0.5
             }
            ],
            "passed_time": 1435.525949,
            "remaining_time": 478.5086497,
            "test": [
             0.8170067637,
             0.4818265831
            ]
           },
           {
            "iteration": 756,
            "learn": [
             0.8413903267,
             0.6869944342
            ],
            "parameters": [
             {
              "depth": 8,
              "iterations": 100,
              "learning_rate": 0.0001
             }
            ],
            "passed_time": 1436.846646,
            "remaining_time": 476.4181086,
            "test": [
             0.8641498529,
             0.686469167
            ]
           },
           {
            "iteration": 757,
            "learn": [
             0.8411461928,
             0.6638289149
            ],
            "parameters": [
             {
              "depth": 8,
              "iterations": 100,
              "learning_rate": 0.0005
             }
            ],
            "passed_time": 1438.25232,
            "remaining_time": 474.3576254,
            "test": [
             0.8638871375,
             0.6613137519
            ]
           },
           {
            "iteration": 758,
            "learn": [
             0.842630406,
             0.6375053921
            ],
            "parameters": [
             {
              "depth": 8,
              "iterations": 100,
              "learning_rate": 0.001
             }
            ],
            "passed_time": 1439.566409,
            "remaining_time": 472.2688219,
            "test": [
             0.865611506,
             0.6327224738
            ]
           },
           {
            "iteration": 759,
            "learn": [
             0.8461467679,
             0.510801196
            ],
            "parameters": [
             {
              "depth": 8,
              "iterations": 100,
              "learning_rate": 0.005
             }
            ],
            "passed_time": 1440.906788,
            "remaining_time": 470.1906359,
            "test": [
             0.8656592724,
             0.4953894851
            ]
           },
           {
            "iteration": 760,
            "learn": [
             0.8520992926,
             0.4503450575
            ],
            "parameters": [
             {
              "depth": 8,
              "iterations": 100,
              "learning_rate": 0.01
             }
            ],
            "passed_time": 1442.285777,
            "remaining_time": 468.126921,
            "test": [
             0.8660963354,
             0.4321928082
            ]
           },
           {
            "iteration": 761,
            "learn": [
             0.8614511445,
             0.4112125772
            ],
            "parameters": [
             {
              "depth": 8,
              "iterations": 100,
              "learning_rate": 0.02
             }
            ],
            "passed_time": 1443.585645,
            "remaining_time": 466.0394603,
            "test": [
             0.8688954488,
             0.394929209
            ]
           },
           {
            "iteration": 762,
            "learn": [
             0.876186738,
             0.3831671306
            ],
            "parameters": [
             {
              "depth": 8,
              "iterations": 100,
              "learning_rate": 0.04
             }
            ],
            "passed_time": 1444.910859,
            "remaining_time": 463.9622025,
            "test": [
             0.8683771829,
             0.382293109
            ]
           },
           {
            "iteration": 763,
            "learn": [
             0.8804242869,
             0.3770938728
            ],
            "parameters": [
             {
              "depth": 8,
              "iterations": 100,
              "learning_rate": 0.05
             }
            ],
            "passed_time": 1446.265193,
            "remaining_time": 461.8962133,
            "test": [
             0.8691366693,
             0.3802415279
            ]
           },
           {
            "iteration": 764,
            "learn": [
             0.9130240683,
             0.3337837517
            ],
            "parameters": [
             {
              "depth": 8,
              "iterations": 100,
              "learning_rate": 0.1
             }
            ],
            "passed_time": 1447.750079,
            "remaining_time": 459.8735545,
            "test": [
             0.8644961596,
             0.3847354724
            ]
           },
           {
            "iteration": 765,
            "learn": [
             0.9669608351,
             0.2417053134
            ],
            "parameters": [
             {
              "depth": 8,
              "iterations": 100,
              "learning_rate": 0.2
             }
            ],
            "passed_time": 1449.233148,
            "remaining_time": 457.8517255,
            "test": [
             0.841377202,
             0.4135015224
            ]
           },
           {
            "iteration": 766,
            "learn": [
             0.9871639924,
             0.1834043815
            ],
            "parameters": [
             {
              "depth": 8,
              "iterations": 100,
              "learning_rate": 0.3
             }
            ],
            "passed_time": 1450.657115,
            "remaining_time": 455.8127311,
            "test": [
             0.8379810081,
             0.4322315074
            ]
           },
           {
            "iteration": 767,
            "learn": [
             0.9974478088,
             0.1171676296
            ],
            "parameters": [
             {
              "depth": 8,
              "iterations": 100,
              "learning_rate": 0.5
             }
            ],
            "passed_time": 1452.137812,
            "remaining_time": 453.7930663,
            "test": [
             0.8170067637,
             0.4904429602
            ]
           },
           {
            "iteration": 768,
            "learn": [
             0.8413218887,
             0.6839605032
            ],
            "parameters": [
             {
              "depth": 8,
              "iterations": 150,
              "learning_rate": 0.0001
             }
            ],
            "passed_time": 1454.004746,
            "remaining_time": 451.8948431,
            "test": [
             0.8648950094,
             0.6831772671
            ]
           },
           {
            "iteration": 769,
            "learn": [
             0.8417384115,
             0.6504151492
            ],
            "parameters": [
             {
              "depth": 8,
              "iterations": 150,
              "learning_rate": 0.0005
             }
            ],
            "passed_time": 1456.026763,
            "remaining_time": 450.0446357,
            "test": [
             0.8642095609,
             0.6467577341
            ]
           },
           {
            "iteration": 770,
            "learn": [
             0.8431484357,
             0.6143039689
            ],
            "parameters": [
             {
              "depth": 8,
              "iterations": 150,
              "learning_rate": 0.001
             }
            ],
            "passed_time": 1457.994388,
            "remaining_time": 448.1772632,
            "test": [
             0.8657094272,
             0.6075089956
            ]
           },
           {
            "iteration": 771,
            "learn": [
             0.8486855878,
             0.474262074
            ],
            "parameters": [
             {
              "depth": 8,
              "iterations": 150,
              "learning_rate": 0.005
             }
            ],
            "passed_time": 1460.029212,
            "remaining_time": 446.3301736,
            "test": [
             0.8656019527,
             0.4565413403
            ]
           },
           {
            "iteration": 772,
            "learn": [
             0.8581294571,
             0.4246510853
            ],
            "parameters": [
             {
              "depth": 8,
              "iterations": 150,
              "learning_rate": 0.01
             }
            ],
            "passed_time": 1461.958021,
            "remaining_time": 444.4503685,
            "test": [
             0.8673358745,
             0.4075271285
            ]
           },
           {
            "iteration": 773,
            "learn": [
             0.8699676501,
             0.3940966024
            ],
            "parameters": [
             {
              "depth": 8,
              "iterations": 150,
              "learning_rate": 0.02
             }
            ],
            "passed_time": 1463.900828,
            "remaining_time": 442.5746688,
            "test": [
             0.8693396767,
             0.3849357081
            ]
           },
           {
            "iteration": 774,
            "learn": [
             0.8850713135,
             0.3706875626
            ],
            "parameters": [
             {
              "depth": 8,
              "iterations": 150,
              "learning_rate": 0.04
             }
            ],
            "passed_time": 1465.847624,
            "remaining_time": 440.6999954,
            "test": [
             0.8673573694,
             0.3815730626
            ]
           },
           {
            "iteration": 775,
            "learn": [
             0.8915428744,
             0.3625340903
            ],
            "parameters": [
             {
              "depth": 8,
              "iterations": 150,
              "learning_rate": 0.05
             }
            ],
            "passed_time": 1467.843696,
            "remaining_time": 438.8398678,
            "test": [
             0.8678636937,
             0.380630192
            ]
           },
           {
            "iteration": 776,
            "learn": [
             0.9510176559,
             0.2749238832
            ],
            "parameters": [
             {
              "depth": 8,
              "iterations": 150,
              "learning_rate": 0.1
             }
            ],
            "passed_time": 1469.923431,
            "remaining_time": 437.0042632,
            "test": [
             0.8582005426,
             0.3926031721
            ]
           },
           {
            "iteration": 777,
            "learn": [
             0.9891610594,
             0.180146994
            ],
            "parameters": [
             {
              "depth": 8,
              "iterations": 150,
              "learning_rate": 0.2
             }
            ],
            "passed_time": 1472.16359,
            "remaining_time": 435.2154573,
            "test": [
             0.8333142268,
             0.4345802623
            ]
           },
           {
            "iteration": 778,
            "learn": [
             0.9981273004,
             0.1233065495
            ],
            "parameters": [
             {
              "depth": 8,
              "iterations": 150,
              "learning_rate": 0.3
             }
            ],
            "passed_time": 1474.245207,
            "remaining_time": 433.3788862,
            "test": [
             0.8308972448,
             0.4628320317
            ]
           },
           {
            "iteration": 779,
            "learn": [
             0.999906401,
             0.07076705889
            ],
            "parameters": [
             {
              "depth": 8,
              "iterations": 150,
              "learning_rate": 0.5
             }
            ],
            "passed_time": 1476.358741,
            "remaining_time": 431.5510165,
            "test": [
             0.8170067637,
             0.4904429602
            ]
           },
           {
            "iteration": 780,
            "learn": [
             0.8416100184,
             0.6809563167
            ],
            "parameters": [
             {
              "depth": 8,
              "iterations": 200,
              "learning_rate": 0.0001
             }
            ],
            "passed_time": 1478.826524,
            "remaining_time": 429.8253789,
            "test": [
             0.8651004051,
             0.6799343847
            ]
           },
           {
            "iteration": 781,
            "learn": [
             0.8422504026,
             0.6376968181
            ],
            "parameters": [
             {
              "depth": 8,
              "iterations": 200,
              "learning_rate": 0.0005
             }
            ],
            "passed_time": 1481.337736,
            "remaining_time": 428.1103942,
            "test": [
             0.8643958501,
             0.6329697251
            ]
           },
           {
            "iteration": 782,
            "learn": [
             0.8435689844,
             0.5938343767
            ],
            "parameters": [
             {
              "depth": 8,
              "iterations": 200,
              "learning_rate": 0.001
             }
            ],
            "passed_time": 1483.858536,
            "remaining_time": 426.3961309,
            "test": [
             0.8650215904,
             0.585318236
            ]
           },
           {
            "iteration": 783,
            "learn": [
             0.8514244019,
             0.451233041
            ],
            "parameters": [
             {
              "depth": 8,
              "iterations": 200,
              "learning_rate": 0.005
             }
            ],
            "passed_time": 1486.760596,
            "remaining_time": 424.7887416,
            "test": [
             0.8657094272,
             0.4327341957
            ]
           },
           {
            "iteration": 784,
            "learn": [
             0.863193438,
             0.4094928928
            ],
            "parameters": [
             {
              "depth": 8,
              "iterations": 200,
              "learning_rate": 0.01
             }
            ],
            "passed_time": 1489.531847,
            "remaining_time": 423.1408942,
            "test": [
             0.8689551569,
             0.3942911122
            ]
           },
           {
            "iteration": 785,
            "learn": [
             0.8766383425,
             0.3833467309
            ],
            "parameters": [
             {
              "depth": 8,
              "iterations": 200,
              "learning_rate": 0.02
             }
            ],
            "passed_time": 1492.161123,
            "remaining_time": 421.450088,
            "test": [
             0.8680858076,
             0.3825994745
            ]
           },
           {
            "iteration": 786,
            "learn": [
             0.8949242294,
             0.3578868953
            ],
            "parameters": [
             {
              "depth": 8,
              "iterations": 200,
              "learning_rate": 0.04
             }
            ],
            "passed_time": 1494.762278,
            "remaining_time": 419.7490006,
            "test": [
             0.8657715236,
             0.382155976
            ]
           },
           {
            "iteration": 787,
            "learn": [
             0.9109372843,
             0.3376669364
            ],
            "parameters": [
             {
              "depth": 8,
              "iterations": 200,
              "learning_rate": 0.05
             }
            ],
            "passed_time": 1497.386122,
            "remaining_time": 418.051963,
            "test": [
             0.8659243762,
             0.3825150928
            ]
           },
           {
            "iteration": 788,
            "learn": [
             0.9713609961,
             0.2350545101
            ],
            "parameters": [
             {
              "depth": 8,
              "iterations": 200,
              "learning_rate": 0.1
             }
            ],
            "passed_time": 1500.154098,
            "remaining_time": 416.3925824,
            "test": [
             0.8512672437,
             0.4033683971
            ]
           },
           {
            "iteration": 789,
            "learn": [
             0.9974570106,
             0.1361069902
            ],
            "parameters": [
             {
              "depth": 8,
              "iterations": 200,
              "learning_rate": 0.2
             }
            ],
            "passed_time": 1502.934746,
            "remaining_time": 414.7338919,
            "test": [
             0.8296457641,
             0.4508535646
            ]
           },
           {
            "iteration": 790,
            "learn": [
             0.9997344433,
             0.08832447852
            ],
            "parameters": [
             {
              "depth": 8,
              "iterations": 200,
              "learning_rate": 0.3
             }
            ],
            "passed_time": 1505.752904,
            "remaining_time": 413.0826551,
            "test": [
             0.8293448355,
             0.4874534582
            ]
           },
           {
            "iteration": 791,
            "learn": [
             0.9999782896,
             0.04769141897
            ],
            "parameters": [
             {
              "depth": 8,
              "iterations": 200,
              "learning_rate": 0.5
             }
            ],
            "passed_time": 1508.520632,
            "remaining_time": 411.4147179,
            "test": [
             0.8170067637,
             0.4904429602
            ]
           },
           {
            "iteration": 792,
            "learn": [
             0.8418660858,
             0.6780346675
            ],
            "parameters": [
             {
              "depth": 8,
              "iterations": 250,
              "learning_rate": 0.0001
             }
            ],
            "passed_time": 1511.624984,
            "remaining_time": 409.835273,
            "test": [
             0.8648376896,
             0.6767824949
            ]
           },
           {
            "iteration": 793,
            "learn": [
             0.8424790085,
             0.6257389393
            ],
            "parameters": [
             {
              "depth": 8,
              "iterations": 250,
              "learning_rate": 0.0005
             }
            ],
            "passed_time": 1514.820451,
            "remaining_time": 408.2765447,
            "test": [
             0.8647230502,
             0.6199643778
            ]
           },
           {
            "iteration": 794,
            "learn": [
             0.8443238153,
             0.5755262204
            ],
            "parameters": [
             {
              "depth": 8,
              "iterations": 250,
              "learning_rate": 0.001
             }
            ],
            "passed_time": 1518.037946,
            "remaining_time": 406.7196005,
            "test": [
             0.8650120371,
             0.5655569393
            ]
           },
           {
            "iteration": 795,
            "learn": [
             0.8547416322,
             0.4356223731
            ],
            "parameters": [
             {
              "depth": 8,
              "iterations": 250,
              "learning_rate": 0.005
             }
            ],
            "passed_time": 1521.299979,
            "remaining_time": 405.1703461,
            "test": [
             0.8674624556,
             0.4168156751
            ]
           },
           {
            "iteration": 796,
            "learn": [
             0.8677451403,
             0.3997038176
            ],
            "parameters": [
             {
              "depth": 8,
              "iterations": 250,
              "learning_rate": 0.01
             }
            ],
            "passed_time": 1524.484936,
            "remaining_time": 403.5963883,
            "test": [
             0.8688261875,
             0.3882348059
            ]
           },
           {
            "iteration": 797,
            "learn": [
             0.8815815505,
             0.37611634
            ],
            "parameters": [
             {
              "depth": 8,
              "iterations": 250,
              "learning_rate": 0.02
             }
            ],
            "passed_time": 1527.701747,
            "remaining_time": 402.0267754,
            "test": [
             0.8683031449,
             0.3812025318
            ]
           },
           {
            "iteration": 798,
            "learn": [
             0.910159449,
             0.3384710987
            ],
            "parameters": [
             {
              "depth": 8,
              "iterations": 250,
              "learning_rate": 0.04
             }
            ],
            "passed_time": 1531.056752,
            "remaining_time": 400.489188,
            "test": [
             0.8640399901,
             0.3836891995
            ]
           },
           {
            "iteration": 799,
            "learn": [
             0.9332525305,
             0.3062440879
            ],
            "parameters": [
             {
              "depth": 8,
              "iterations": 250,
              "learning_rate": 0.05
             }
            ],
            "passed_time": 1534.384522,
            "remaining_time": 398.9399758,
            "test": [
             0.8622989033,
             0.3863772471
            ]
           },
           {
            "iteration": 800,
            "learn": [
             0.9847965551,
             0.2003002352
            ],
            "parameters": [
             {
              "depth": 8,
              "iterations": 250,
              "learning_rate": 0.1
             }
            ],
            "passed_time": 1537.910945,
            "remaining_time": 397.4376598,
            "test": [
             0.844076006,
             0.4173089302
            ]
           },
           {
            "iteration": 801,
            "learn": [
             0.9993859271,
             0.1063546796
            ],
            "parameters": [
             {
              "depth": 8,
              "iterations": 250,
              "learning_rate": 0.2
             }
            ],
            "passed_time": 1541.364144,
            "remaining_time": 395.9114884,
            "test": [
             0.8273529749,
             0.4683571476
            ]
           },
           {
            "iteration": 802,
            "learn": [
             0.9999823154,
             0.06586530432
            ],
            "parameters": [
             {
              "depth": 8,
              "iterations": 250,
              "learning_rate": 0.3
             }
            ],
            "passed_time": 1544.820821,
            "remaining_time": 394.3814052,
            "test": [
             0.8258387787,
             0.5127795337
            ]
           },
           {
            "iteration": 803,
            "learn": [
             0.9999869163,
             0.03429265973
            ],
            "parameters": [
             {
              "depth": 8,
              "iterations": 250,
              "learning_rate": 0.5
             }
            ],
            "passed_time": 1548.236997,
            "remaining_time": 392.8362531,
            "test": [
             0.8170067637,
             0.4904429602
            ]
           },
           {
            "iteration": 804,
            "learn": [
             0.8419875776,
             0.6750960053
            ],
            "parameters": [
             {
              "depth": 8,
              "iterations": 300,
              "learning_rate": 0.0001
             }
            ],
            "passed_time": 1551.938446,
            "remaining_time": 391.3583907,
            "test": [
             0.8650024839,
             0.6736023614
            ]
           },
           {
            "iteration": 805,
            "learn": [
             0.8428124281,
             0.6145431526
            ],
            "parameters": [
             {
              "depth": 8,
              "iterations": 300,
              "learning_rate": 0.0005
             }
            ],
            "passed_time": 1555.720567,
            "remaining_time": 389.8952289,
            "test": [
             0.8647899232,
             0.6078085329
            ]
           },
           {
            "iteration": 806,
            "learn": [
             0.8446622671,
             0.5595031598
            ],
            "parameters": [
             {
              "depth": 8,
              "iterations": 300,
              "learning_rate": 0.001
             }
            ],
            "passed_time": 1559.41672,
            "remaining_time": 388.404908,
            "test": [
             0.8649833773,
             0.5481018968
            ]
           },
           {
            "iteration": 807,
            "learn": [
             0.8576821659,
             0.4247218535
            ],
            "parameters": [
             {
              "depth": 8,
              "iterations": 300,
              "learning_rate": 0.005
             }
            ],
            "passed_time": 1563.168617,
            "remaining_time": 386.922925,
            "test": [
             0.8681670106,
             0.4067045929
            ]
           },
           {
            "iteration": 808,
            "learn": [
             0.871331378,
             0.3925346081
            ],
            "parameters": [
             {
              "depth": 8,
              "iterations": 300,
              "learning_rate": 0.01
             }
            ],
            "passed_time": 1566.907867,
            "remaining_time": 385.4322194,
            "test": [
             0.869134281,
             0.3845957056
            ]
           },
           {
            "iteration": 809,
            "learn": [
             0.8864665286,
             0.3695407954
            ],
            "parameters": [
             {
              "depth": 8,
              "iterations": 300,
              "learning_rate": 0.02
             }
            ],
            "passed_time": 1570.893962,
            "remaining_time": 383.9963017,
            "test": [
             0.8677681608,
             0.3807281531
            ]
           },
           {
            "iteration": 810,
            "learn": [
             0.9300474465,
             0.3108436324
            ],
            "parameters": [
             {
              "depth": 8,
              "iterations": 300,
              "learning_rate": 0.04
             }
            ],
            "passed_time": 1575.974061,
            "remaining_time": 382.8198396,
            "test": [
             0.86228935,
             0.3850465837
            ]
           },
           {
            "iteration": 811,
            "learn": [
             0.9484036404,
             0.2819033179
            ],
            "parameters": [
             {
              "depth": 8,
              "iterations": 300,
              "learning_rate": 0.05
             }
            ],
            "passed_time": 1580.722883,
            "remaining_time": 381.5537993,
            "test": [
             0.8590746685,
             0.3902274008
            ]
           },
           {
            "iteration": 812,
            "learn": [
             0.9909689153,
             0.1762645434
            ],
            "parameters": [
             {
              "depth": 8,
              "iterations": 300,
              "learning_rate": 0.1
             }
            ],
            "passed_time": 1584.982357,
            "remaining_time": 380.16182,
            "test": [
             0.840116168,
             0.4264830562
            ]
           },
           {
            "iteration": 813,
            "learn": [
             0.999827611,
             0.08639812429
            ],
            "parameters": [
             {
              "depth": 8,
              "iterations": 300,
              "learning_rate": 0.2
             }
            ],
            "passed_time": 1589.174377,
            "remaining_time": 378.7467188,
            "test": [
             0.8229775689,
             0.4869501786
            ]
           },
           {
            "iteration": 814,
            "learn": [
             0.9999932425,
             0.05173020789
            ],
            "parameters": [
             {
              "depth": 8,
              "iterations": 300,
              "learning_rate": 0.3
             }
            ],
            "passed_time": 1593.276512,
            "remaining_time": 377.3035176,
            "test": [
             0.8215015858,
             0.5376755056
            ]
           },
           {
            "iteration": 815,
            "learn": [
             0.99999353,
             0.0265037817
            ],
            "parameters": [
             {
              "depth": 8,
              "iterations": 300,
              "learning_rate": 0.5
             }
            ],
            "passed_time": 1597.300993,
            "remaining_time": 375.8355279,
            "test": [
             0.8170067637,
             0.4904429602
            ]
           },
           {
            "iteration": 816,
            "learn": [
             0.8422803083,
             0.6638145604
            ],
            "parameters": [
             {
              "depth": 8,
              "iterations": 500,
              "learning_rate": 0.0001
             }
            ],
            "passed_time": 1603.389467,
            "remaining_time": 374.8438044,
            "test": [
             0.8648018648,
             0.6613907816
            ]
           },
           {
            "iteration": 817,
            "learn": [
             0.8440006039,
             0.5758167398
            ],
            "parameters": [
             {
              "depth": 8,
              "iterations": 500,
              "learning_rate": 0.0005
             }
            ],
            "passed_time": 1609.639215,
            "remaining_time": 373.8770792,
            "test": [
             0.8650024839,
             0.5658290154
            ]
           },
           {
            "iteration": 818,
            "learn": [
             0.8467992294,
             0.5113494129
            ],
            "parameters": [
             {
              "depth": 8,
              "iterations": 500,
              "learning_rate": 0.001
             }
            ],
            "passed_time": 1615.907543,
            "remaining_time": 372.9017408,
            "test": [
             0.8654849249,
             0.4963311133
            ]
           },
           {
            "iteration": 819,
            "learn": [
             0.8667030423,
             0.4009629433
            ],
            "parameters": [
             {
              "depth": 8,
              "iterations": 500,
              "learning_rate": 0.005
             }
            ],
            "passed_time": 1622.244599,
            "remaining_time": 371.9292496,
            "test": [
             0.8696334403,
             0.3878478202
            ]
           },
           {
            "iteration": 820,
            "learn": [
             0.8823523407,
             0.3751848592
            ],
            "parameters": [
             {
              "depth": 8,
              "iterations": 500,
              "learning_rate": 0.01
             }
            ],
            "passed_time": 1628.618113,
            "remaining_time": 370.9519942,
            "test": [
             0.8674552906,
             0.3815400953
            ]
           },
           {
            "iteration": 821,
            "learn": [
             0.9139336036,
             0.3341360249
            ],
            "parameters": [
             {
              "depth": 8,
              "iterations": 500,
              "learning_rate": 0.02
             }
            ],
            "passed_time": 1635.082202,
            "remaining_time": 369.982104,
            "test": [
             0.8647134969,
             0.3829961701
            ]
           },
           {
            "iteration": 822,
            "learn": [
             0.9715451748,
             0.2368573438
            ],
            "parameters": [
             {
              "depth": 8,
              "iterations": 500,
              "learning_rate": 0.04
             }
            ],
            "passed_time": 1641.787193,
            "remaining_time": 369.0530143,
            "test": [
             0.852678742,
             0.3992160184
            ]
           },
           {
            "iteration": 823,
            "learn": [
             0.9829812227,
             0.2062950796
            ],
            "parameters": [
             {
              "depth": 8,
              "iterations": 500,
              "learning_rate": 0.05
             }
            ],
            "passed_time": 1648.695725,
            "remaining_time": 368.155356,
            "test": [
             0.8472476977,
             0.4110490553
            ]
           },
           {
            "iteration": 824,
            "learn": [
             0.999293622,
             0.1079759276
            ],
            "parameters": [
             {
              "depth": 8,
              "iterations": 500,
              "learning_rate": 0.1
             }
            ],
            "passed_time": 1655.472366,
            "remaining_time": 367.2138703,
            "test": [
             0.8317570408,
             0.4592463782
            ]
           },
           {
            "iteration": 825,
            "learn": [
             0.9999932425,
             0.04266346732
            ],
            "parameters": [
             {
              "depth": 8,
              "iterations": 500,
              "learning_rate": 0.2
             }
            ],
            "passed_time": 1662.228018,
            "remaining_time": 366.253631,
            "test": [
             0.8202166686,
             0.5416476943
            ]
           },
           {
            "iteration": 826,
            "learn": [
             0.999996118,
             0.0253114555
            ],
            "parameters": [
             {
              "depth": 8,
              "iterations": 500,
              "learning_rate": 0.3
             }
            ],
            "passed_time": 1669.025016,
            "remaining_time": 365.2884254,
            "test": [
             0.8209474951,
             0.5504904492
            ]
           },
           {
            "iteration": 827,
            "learn": [
             0.9999964056,
             0.01271647196
            ],
            "parameters": [
             {
              "depth": 8,
              "iterations": 500,
              "learning_rate": 0.5
             }
            ],
            "passed_time": 1675.800416,
            "remaining_time": 364.3044382,
            "test": [
             0.8170067637,
             0.4904429602
            ]
           },
           {
            "iteration": 828,
            "learn": [
             0.842539395,
             0.6377663425
            ],
            "parameters": [
             {
              "depth": 8,
              "iterations": 1000,
              "learning_rate": 0.0001
             }
            ],
            "passed_time": 1687.785943,
            "remaining_time": 364.4314641,
            "test": [
             0.8646370706,
             0.6331501591
            ]
           },
           {
            "iteration": 829,
            "learn": [
             0.8466453876,
             0.5113894375
            ],
            "parameters": [
             {
              "depth": 8,
              "iterations": 1000,
              "learning_rate": 0.0005
             }
            ],
            "passed_time": 1700.049896,
            "remaining_time": 364.5890139,
            "test": [
             0.8654419351,
             0.4963043346
            ]
           },
           {
            "iteration": 830,
            "learn": [
             0.8513444617,
             0.451184292
            ],
            "parameters": [
             {
              "depth": 8,
              "iterations": 1000,
              "learning_rate": 0.001
             }
            ],
            "passed_time": 1712.421432,
            "remaining_time": 364.739583,
            "test": [
             0.8657309221,
             0.4330867213
            ]
           },
           {
            "iteration": 831,
            "learn": [
             0.8816325914,
             0.3758453508
            ],
            "parameters": [
             {
              "depth": 8,
              "iterations": 1000,
              "learning_rate": 0.005
             }
            ],
            "passed_time": 1724.769665,
            "remaining_time": 364.8551215,
            "test": [
             0.8684273377,
             0.3805312502
            ]
           },
           {
            "iteration": 832,
            "learn": [
             0.91429621,
             0.3336250028
            ],
            "parameters": [
             {
              "depth": 8,
              "iterations": 1000,
              "learning_rate": 0.01
             }
            ],
            "passed_time": 1737.565983,
            "remaining_time": 365.0348704,
            "test": [
             0.8642477741,
             0.3841145426
            ]
           },
           {
            "iteration": 833,
            "learn": [
             0.9738789683,
             0.232143639
            ],
            "parameters": [
             {
              "depth": 8,
              "iterations": 1000,
              "learning_rate": 0.02
             }
            ],
            "passed_time": 1752.58646,
            "remaining_time": 365.6475349,
            "test": [
             0.8547661355,
             0.3970146431
            ]
           },
           {
            "iteration": 834,
            "learn": [
             0.9975150966,
             0.1370899989
            ],
            "parameters": [
             {
              "depth": 8,
              "iterations": 1000,
              "learning_rate": 0.04
             }
            ],
            "passed_time": 1766.046275,
            "remaining_time": 365.8994078,
            "test": [
             0.8400301884,
             0.4323710796
            ]
           },
           {
            "iteration": 835,
            "learn": [
             0.9995368933,
             0.1074781946
            ],
            "parameters": [
             {
              "depth": 8,
              "iterations": 1000,
              "learning_rate": 0.05
             }
            ],
            "passed_time": 1779.31951,
            "remaining_time": 366.0800905,
            "test": [
             0.8356691123,
             0.4511099406
            ]
           },
           {
            "iteration": 836,
            "learn": [
             0.9999889291,
             0.04397746924
            ],
            "parameters": [
             {
              "depth": 8,
              "iterations": 1000,
              "learning_rate": 0.1
             }
            ],
            "passed_time": 1792.41995,
            "remaining_time": 366.1933232,
            "test": [
             0.827754213,
             0.5284393579
            ]
           },
           {
            "iteration": 837,
            "learn": [
             0.9999949678,
             0.01679573045
            ],
            "parameters": [
             {
              "depth": 8,
              "iterations": 1000,
              "learning_rate": 0.2
             }
            ],
            "passed_time": 1805.597413,
            "remaining_time": 366.2906446,
            "test": [
             0.8180432955,
             0.5905331782
            ]
           },
           {
            "iteration": 838,
            "learn": [
             0.9999964056,
             0.01029421463
            ],
            "parameters": [
             {
              "depth": 8,
              "iterations": 1000,
              "learning_rate": 0.3
             }
            ],
            "passed_time": 1818.74648,
            "remaining_time": 366.350602,
            "test": [
             0.8189986243,
             0.5504904492
            ]
           },
           {
            "iteration": 839,
            "learn": [
             0.9999964056,
             0.006783495469
            ],
            "parameters": [
             {
              "depth": 8,
              "iterations": 1000,
              "learning_rate": 0.5
             }
            ],
            "passed_time": 1831.926755,
            "remaining_time": 366.385351,
            "test": [
             0.8170067637,
             0.4904429602
            ]
           },
           {
            "iteration": 840,
            "learn": [
             0.8333487175,
             0.6928589113
            ],
            "parameters": [
             {
              "depth": 9,
              "iterations": 5,
              "learning_rate": 0.0001
             }
            ],
            "passed_time": 1832.000553,
            "remaining_time": 363.7860789,
            "test": [
             0.8617710841,
             0.6928356098
            ]
           },
           {
            "iteration": 841,
            "learn": [
             0.8333659708,
             0.6917087474
            ],
            "parameters": [
             {
              "depth": 9,
              "iterations": 5,
              "learning_rate": 0.0005
             }
            ],
            "passed_time": 1832.063778,
            "remaining_time": 361.190721,
            "test": [
             0.8617710841,
             0.6915924204
            ]
           },
           {
            "iteration": 842,
            "learn": [
             0.8344608351,
             0.6902799646
            ],
            "parameters": [
             {
              "depth": 9,
              "iterations": 5,
              "learning_rate": 0.001
             }
            ],
            "passed_time": 1832.123915,
            "remaining_time": 358.6007663,
            "test": [
             0.8603476442,
             0.6900578555
            ]
           },
           {
            "iteration": 843,
            "learn": [
             0.83797389,
             0.6784849745
            ],
            "parameters": [
             {
              "depth": 9,
              "iterations": 5,
              "learning_rate": 0.005
             }
            ],
            "passed_time": 1832.196092,
            "remaining_time": 356.0191458,
            "test": [
             0.860094482,
             0.6773542322
            ]
           },
           {
            "iteration": 844,
            "learn": [
             0.8358109041,
             0.6652560344
            ],
            "parameters": [
             {
              "depth": 9,
              "iterations": 5,
              "learning_rate": 0.01
             }
            ],
            "passed_time": 1832.257252,
            "remaining_time": 353.4413397,
            "test": [
             0.857269097,
             0.6632022929
            ]
           },
           {
            "iteration": 845,
            "learn": [
             0.8375494594,
             0.6396839236
            ],
            "parameters": [
             {
              "depth": 9,
              "iterations": 5,
              "learning_rate": 0.02
             }
            ],
            "passed_time": 1832.319235,
            "remaining_time": 350.8696408,
            "test": [
             0.8622702434,
             0.6352263293
            ]
           },
           {
            "iteration": 846,
            "learn": [
             0.8407562687,
             0.5946595437
            ],
            "parameters": [
             {
              "depth": 9,
              "iterations": 5,
              "learning_rate": 0.04
             }
            ],
            "passed_time": 1832.383834,
            "remaining_time": 348.3043652,
            "test": [
             0.8596072643,
             0.5876849503
            ]
           },
           {
            "iteration": 847,
            "learn": [
             0.8374256671,
             0.5792124244
            ],
            "parameters": [
             {
              "depth": 9,
              "iterations": 5,
              "learning_rate": 0.05
             }
            ],
            "passed_time": 1832.454889,
            "remaining_time": 345.7462054,
            "test": [
             0.8561609156,
             0.5715316408
            ]
           },
           {
            "iteration": 848,
            "learn": [
             0.8397117265,
             0.5118727204
            ],
            "parameters": [
             {
              "depth": 9,
              "iterations": 5,
              "learning_rate": 0.1
             }
            ],
            "passed_time": 1832.517225,
            "remaining_time": 343.1922719,
            "test": [
             0.8607584356,
             0.4959683704
            ]
           },
           {
            "iteration": 849,
            "learn": [
             0.8491403554,
             0.4473678671
            ],
            "parameters": [
             {
              "depth": 9,
              "iterations": 5,
              "learning_rate": 0.2
             }
            ],
            "passed_time": 1832.690124,
            "remaining_time": 340.6647525,
            "test": [
             0.8609972678,
             0.4312161733
            ]
           },
           {
            "iteration": 850,
            "learn": [
             0.8474098516,
             0.4249275182
            ],
            "parameters": [
             {
              "depth": 9,
              "iterations": 5,
              "learning_rate": 0.3
             }
            ],
            "passed_time": 1832.763593,
            "remaining_time": 338.1244231,
            "test": [
             0.8655064198,
             0.4001646837
            ]
           },
           {
            "iteration": 851,
            "learn": [
             0.8519263285,
             0.4122051678
            ],
            "parameters": [
             {
              "depth": 9,
              "iterations": 5,
              "learning_rate": 0.5
             }
            ],
            "passed_time": 1832.826643,
            "remaining_time": 335.5879769,
            "test": [
             0.8634930643,
             0.3946062277
            ]
           },
           {
            "iteration": 852,
            "learn": [
             0.8362735795,
             0.6925537011
            ],
            "parameters": [
             {
              "depth": 9,
              "iterations": 10,
              "learning_rate": 0.0001
             }
            ],
            "passed_time": 1832.955621,
            "remaining_time": 333.0693097,
            "test": [
             0.8632351255,
             0.6925083253
            ]
           },
           {
            "iteration": 853,
            "learn": [
             0.838516937,
             0.6902027726
            ],
            "parameters": [
             {
              "depth": 9,
              "iterations": 10,
              "learning_rate": 0.0005
             }
            ],
            "passed_time": 1833.090145,
            "remaining_time": 330.5572393,
            "test": [
             0.8634787344,
             0.6899742953
            ]
           },
           {
            "iteration": 854,
            "learn": [
             0.8383113354,
             0.6872129624
            ],
            "parameters": [
             {
              "depth": 9,
              "iterations": 10,
              "learning_rate": 0.001
             }
            ],
            "passed_time": 1833.21603,
            "remaining_time": 328.0491842,
            "test": [
             0.8642573274,
             0.6867407336
            ]
           },
           {
            "iteration": 855,
            "learn": [
             0.8403756901,
             0.6646439201
            ],
            "parameters": [
             {
              "depth": 9,
              "iterations": 10,
              "learning_rate": 0.005
             }
            ],
            "passed_time": 1833.34279,
            "remaining_time": 325.5468506,
            "test": [
             0.8627431312,
             0.6624484264
            ]
           },
           {
            "iteration": 856,
            "learn": [
             0.8391984415,
             0.6393619144
            ],
            "parameters": [
             {
              "depth": 9,
              "iterations": 10,
              "learning_rate": 0.01
             }
            ],
            "passed_time": 1833.471948,
            "remaining_time": 323.0504832,
            "test": [
             0.8614008942,
             0.6351930411
            ]
           },
           {
            "iteration": 857,
            "learn": [
             0.8375370945,
             0.5968948137
            ],
            "parameters": [
             {
              "depth": 9,
              "iterations": 10,
              "learning_rate": 0.02
             }
            ],
            "passed_time": 1833.601499,
            "remaining_time": 320.5597027,
            "test": [
             0.8671400321,
             0.5881712038
            ]
           },
           {
            "iteration": 858,
            "learn": [
             0.8452598056,
             0.5307719749
            ],
            "parameters": [
             {
              "depth": 9,
              "iterations": 10,
              "learning_rate": 0.04
             }
            ],
            "passed_time": 1833.855303,
            "remaining_time": 318.0959722,
            "test": [
             0.8628338874,
             0.519203617
            ]
           },
           {
            "iteration": 859,
            "learn": [
             0.8436254888,
             0.5128367163
            ],
            "parameters": [
             {
              "depth": 9,
              "iterations": 10,
              "learning_rate": 0.05
             }
            ],
            "passed_time": 1833.984218,
            "remaining_time": 315.6158886,
            "test": [
             0.8635432191,
             0.4988788576
            ]
           },
           {
            "iteration": 860,
            "learn": [
             0.8509371406,
             0.4463060778
            ],
            "parameters": [
             {
              "depth": 9,
              "iterations": 10,
              "learning_rate": 0.1
             }
            ],
            "passed_time": 1834.122123,
            "remaining_time": 313.1428014,
            "test": [
             0.8654992548,
             0.4274688768
            ]
           },
           {
            "iteration": 861,
            "learn": [
             0.8613658845,
             0.4099490611
            ],
            "parameters": [
             {
              "depth": 9,
              "iterations": 10,
              "learning_rate": 0.2
             }
            ],
            "passed_time": 1834.25749,
            "remaining_time": 310.6747025,
            "test": [
             0.8668080553,
             0.3952797273
            ]
           },
           {
            "iteration": 862,
            "learn": [
             0.8646779388,
             0.3969580736
            ],
            "parameters": [
             {
              "depth": 9,
              "iterations": 10,
              "learning_rate": 0.3
             }
            ],
            "passed_time": 1834.385652,
            "remaining_time": 308.2107989,
            "test": [
             0.8658479499,
             0.3849688964
            ]
           },
           {
            "iteration": 863,
            "learn": [
             0.868031401,
             0.3886199195
            ],
            "parameters": [
             {
              "depth": 9,
              "iterations": 10,
              "learning_rate": 0.5
             }
            ],
            "passed_time": 1834.513151,
            "remaining_time": 305.7521918,
            "test": [
             0.8598843097,
             0.3902320858
            ]
           },
           {
            "iteration": 864,
            "learn": [
             0.8411940706,
             0.6919173633
            ],
            "parameters": [
             {
              "depth": 9,
              "iterations": 20,
              "learning_rate": 0.0001
             }
            ],
            "passed_time": 1834.870987,
            "remaining_time": 303.3370533,
            "test": [
             0.864269269,
             0.6918209304
            ]
           },
           {
            "iteration": 865,
            "learn": [
             0.8410281516,
             0.6870781923
            ],
            "parameters": [
             {
              "depth": 9,
              "iterations": 20,
              "learning_rate": 0.0005
             }
            ],
            "passed_time": 1835.151005,
            "remaining_time": 300.9139061,
            "test": [
             0.8647397684,
             0.686561032
            ]
           },
           {
            "iteration": 866,
            "learn": [
             0.8423099264,
             0.6812335192
            ],
            "parameters": [
             {
              "depth": 9,
              "iterations": 20,
              "learning_rate": 0.001
             }
            ],
            "passed_time": 1835.408363,
            "remaining_time": 298.4920175,
            "test": [
             0.864980989,
             0.6803054673
            ]
           },
           {
            "iteration": 867,
            "learn": [
             0.8404130722,
             0.6391662842
            ],
            "parameters": [
             {
              "depth": 9,
              "iterations": 20,
              "learning_rate": 0.005
             }
            ],
            "passed_time": 1835.659776,
            "remaining_time": 296.0741574,
            "test": [
             0.8641307463,
             0.6348111349
            ]
           },
           {
            "iteration": 868,
            "learn": [
             0.8397837589,
             0.5965727852
            ],
            "parameters": [
             {
              "depth": 9,
              "iterations": 20,
              "learning_rate": 0.01
             }
            ],
            "passed_time": 1836.016416,
            "remaining_time": 293.6781149,
            "test": [
             0.864551091,
             0.5885969437
            ]
           },
           {
            "iteration": 869,
            "learn": [
             0.8416545894,
             0.5331087204
            ],
            "parameters": [
             {
              "depth": 9,
              "iterations": 20,
              "learning_rate": 0.02
             }
            ],
            "passed_time": 1836.291518,
            "remaining_time": 291.273827,
            "test": [
             0.8672881081,
             0.5189004606
            ]
           },
           {
            "iteration": 870,
            "learn": [
             0.849681677,
             0.4651437062
            ],
            "parameters": [
             {
              "depth": 9,
              "iterations": 20,
              "learning_rate": 0.04
             }
            ],
            "passed_time": 1836.560092,
            "remaining_time": 288.8734014,
            "test": [
             0.864899786,
             0.4478642712
            ]
           },
           {
            "iteration": 871,
            "learn": [
             0.8519874339,
             0.4511097435
            ],
            "parameters": [
             {
              "depth": 9,
              "iterations": 20,
              "learning_rate": 0.05
             }
            ],
            "passed_time": 1836.809297,
            "remaining_time": 286.4748446,
            "test": [
             0.8657930185,
             0.4345255884
            ]
           },
           {
            "iteration": 872,
            "learn": [
             0.8625035944,
             0.4089795809
            ],
            "parameters": [
             {
              "depth": 9,
              "iterations": 20,
              "learning_rate": 0.1
             }
            ],
            "passed_time": 1837.305293,
            "remaining_time": 284.1193753,
            "test": [
             0.8694567045,
             0.3925557634
            ]
           },
           {
            "iteration": 873,
            "learn": [
             0.8729343513,
             0.3868170066
            ],
            "parameters": [
             {
              "depth": 9,
              "iterations": 20,
              "learning_rate": 0.2
             }
            ],
            "passed_time": 1837.555836,
            "remaining_time": 281.7305286,
            "test": [
             0.8692489205,
             0.3809229017
            ]
           },
           {
            "iteration": 874,
            "learn": [
             0.8801191914,
             0.3759529492
            ],
            "parameters": [
             {
              "depth": 9,
              "iterations": 20,
              "learning_rate": 0.3
             }
            ],
            "passed_time": 1837.815208,
            "remaining_time": 279.3479117,
            "test": [
             0.861644503,
             0.3870910556
            ]
           },
           {
            "iteration": 875,
            "learn": [
             0.8966821946,
             0.3509937491
            ],
            "parameters": [
             {
              "depth": 9,
              "iterations": 20,
              "learning_rate": 0.5
             }
            ],
            "passed_time": 1838.218655,
            "remaining_time": 276.9918522,
            "test": [
             0.8558408804,
             0.3944832142
            ]
           },
           {
            "iteration": 876,
            "learn": [
             0.8419335174,
             0.6913061624
            ],
            "parameters": [
             {
              "depth": 9,
              "iterations": 30,
              "learning_rate": 0.0001
             }
            ],
            "passed_time": 1838.60628,
            "remaining_time": 274.6378822,
            "test": [
             0.8648687378,
             0.6911617916
            ]
           },
           {
            "iteration": 877,
            "learn": [
             0.8404912871,
             0.6840461227
            ],
            "parameters": [
             {
              "depth": 9,
              "iterations": 30,
              "learning_rate": 0.0005
             }
            ],
            "passed_time": 1838.98629,
            "remaining_time": 272.2872639,
            "test": [
             0.8646896137,
             0.6832654966
            ]
           },
           {
            "iteration": 878,
            "learn": [
             0.8414307281,
             0.6754510522
            ],
            "parameters": [
             {
              "depth": 9,
              "iterations": 30,
              "learning_rate": 0.001
             }
            ],
            "passed_time": 1839.48859,
            "remaining_time": 269.9590763,
            "test": [
             0.8647851465,
             0.6739813128
            ]
           },
           {
            "iteration": 879,
            "learn": [
             0.8411907637,
             0.616466031
            ],
            "parameters": [
             {
              "depth": 9,
              "iterations": 30,
              "learning_rate": 0.005
             }
            ],
            "passed_time": 1839.860761,
            "remaining_time": 267.6161107,
            "test": [
             0.8651983263,
             0.6101514405
            ]
           },
           {
            "iteration": 880,
            "learn": [
             0.8430127099,
             0.5630504188
            ],
            "parameters": [
             {
              "depth": 9,
              "iterations": 30,
              "learning_rate": 0.01
             }
            ],
            "passed_time": 1840.361394,
            "remaining_time": 265.2961374,
            "test": [
             0.8647827582,
             0.5522211006
            ]
           },
           {
            "iteration": 881,
            "learn": [
             0.8455026455,
             0.4930080364
            ],
            "parameters": [
             {
              "depth": 9,
              "iterations": 30,
              "learning_rate": 0.02
             }
            ],
            "passed_time": 1840.736734,
            "remaining_time": 262.9623906,
            "test": [
             0.866390099,
             0.4755587158
            ]
           },
           {
            "iteration": 882,
            "learn": [
             0.8554090465,
             0.4371808091
            ],
            "parameters": [
             {
              "depth": 9,
              "iterations": 30,
              "learning_rate": 0.04
             }
            ],
            "passed_time": 1841.115848,
            "remaining_time": 260.6336138,
            "test": [
             0.8653607322,
             0.4200923395
            ]
           },
           {
            "iteration": 883,
            "learn": [
             0.8569752128,
             0.4242054295
            ],
            "parameters": [
             {
              "depth": 9,
              "iterations": 30,
              "learning_rate": 0.05
             }
            ],
            "passed_time": 1841.62679,
            "remaining_time": 258.3277397,
            "test": [
             0.8677490542,
             0.4066737953
            ]
           },
           {
            "iteration": 884,
            "learn": [
             0.8717972165,
             0.3921154673
            ],
            "parameters": [
             {
              "depth": 9,
              "iterations": 30,
              "learning_rate": 0.1
             }
            ],
            "passed_time": 1842.009322,
            "remaining_time": 256.0080752,
            "test": [
             0.8684559976,
             0.3849999502
            ]
           },
           {
            "iteration": 885,
            "learn": [
             0.8804178169,
             0.3753218744
            ],
            "parameters": [
             {
              "depth": 9,
              "iterations": 30,
              "learning_rate": 0.2
             }
            ],
            "passed_time": 1842.504522,
            "remaining_time": 253.7082976,
            "test": [
             0.8687378196,
             0.378639925
            ]
           },
           {
            "iteration": 886,
            "learn": [
             0.8943876524,
             0.356740455
            ],
            "parameters": [
             {
              "depth": 9,
              "iterations": 30,
              "learning_rate": 0.3
             }
            ],
            "passed_time": 1842.927838,
            "remaining_time": 251.4027829,
            "test": [
             0.8591582598,
             0.3890245553
            ]
           },
           {
            "iteration": 887,
            "learn": [
             0.9345049747,
             0.2938329764
            ],
            "parameters": [
             {
              "depth": 9,
              "iterations": 30,
              "learning_rate": 0.5
             }
            ],
            "passed_time": 1843.350645,
            "remaining_time": 249.1014385,
            "test": [
             0.8424256754,
             0.4160222211
            ]
           },
           {
            "iteration": 888,
            "learn": [
             0.8414732862,
             0.690702493
            ],
            "parameters": [
             {
              "depth": 9,
              "iterations": 40,
              "learning_rate": 0.0001
             }
            ],
            "passed_time": 1843.965766,
            "remaining_time": 246.8300632,
            "test": [
             0.864188066,
             0.6905061413
            ]
           },
           {
            "iteration": 889,
            "learn": [
             0.8413930584,
             0.6810261169
            ],
            "parameters": [
             {
              "depth": 9,
              "iterations": 40,
              "learning_rate": 0.0005
             }
            ],
            "passed_time": 1844.574628,
            "remaining_time": 244.5615798,
            "test": [
             0.8648878444,
             0.6799928883
            ]
           },
           {
            "iteration": 890,
            "learn": [
             0.841639349,
             0.6700130485
            ],
            "parameters": [
             {
              "depth": 9,
              "iterations": 40,
              "learning_rate": 0.001
             }
            ],
            "passed_time": 1845.097595,
            "remaining_time": 242.2855427,
            "test": [
             0.8654371585,
             0.6680684201
            ]
           },
           {
            "iteration": 891,
            "learn": [
             0.8425027318,
             0.595377196
            ],
            "parameters": [
             {
              "depth": 9,
              "iterations": 40,
              "learning_rate": 0.005
             }
            ],
            "passed_time": 1845.814554,
            "remaining_time": 240.038664,
            "test": [
             0.8641785127,
             0.5872210952
            ]
           },
           {
            "iteration": 892,
            "learn": [
             0.8444628479,
             0.534500719
            ],
            "parameters": [
             {
              "depth": 9,
              "iterations": 40,
              "learning_rate": 0.01
             }
            ],
            "passed_time": 1846.314885,
            "remaining_time": 237.7673144,
            "test": [
             0.8648567962,
             0.5212464002
            ]
           },
           {
            "iteration": 893,
            "learn": [
             0.8493025362,
             0.4686583725
            ],
            "parameters": [
             {
              "depth": 9,
              "iterations": 40,
              "learning_rate": 0.02
             }
            ],
            "passed_time": 1846.947382,
            "remaining_time": 235.5167803,
            "test": [
             0.8663208376,
             0.4505509394
            ]
           },
           {
            "iteration": 894,
            "learn": [
             0.8590003163,
             0.4207153889
            ],
            "parameters": [
             {
              "depth": 9,
              "iterations": 40,
              "learning_rate": 0.04
             }
            ],
            "passed_time": 1847.466186,
            "remaining_time": 233.2555073,
            "test": [
             0.8661799266,
             0.4043847707
            ]
           },
           {
            "iteration": 895,
            "learn": [
             0.8615320911,
             0.4109047931
            ],
            "parameters": [
             {
              "depth": 9,
              "iterations": 40,
              "learning_rate": 0.05
             }
            ],
            "passed_time": 1848.087143,
            "remaining_time": 231.0108929,
            "test": [
             0.868436891,
             0.3957657323
            ]
           },
           {
            "iteration": 896,
            "learn": [
             0.8782533931,
             0.3820180248
            ],
            "parameters": [
             {
              "depth": 9,
              "iterations": 40,
              "learning_rate": 0.1
             }
            ],
            "passed_time": 1848.604202,
            "remaining_time": 228.7570417,
            "test": [
             0.8683103099,
             0.3818744084
            ]
           },
           {
            "iteration": 897,
            "learn": [
             0.8883613699,
             0.3647083773
            ],
            "parameters": [
             {
              "depth": 9,
              "iterations": 40,
              "learning_rate": 0.2
             }
            ],
            "passed_time": 1849.2249,
            "remaining_time": 226.5197538,
            "test": [
             0.8662014215,
             0.3813940342
            ]
           },
           {
            "iteration": 898,
            "learn": [
             0.923157925,
             0.3173736568
            ],
            "parameters": [
             {
              "depth": 9,
              "iterations": 40,
              "learning_rate": 0.3
             }
            ],
            "passed_time": 1849.779492,
            "remaining_time": 224.2780474,
            "test": [
             0.8543625091,
             0.3940802327
            ]
           },
           {
            "iteration": 899,
            "learn": [
             0.9545847711,
             0.2559560474
            ],
            "parameters": [
             {
              "depth": 9,
              "iterations": 40,
              "learning_rate": 0.5
             }
            ],
            "passed_time": 1850.447619,
            "remaining_time": 222.0537142,
            "test": [
             0.8364692002,
             0.4305472899
            ]
           },
           {
            "iteration": 900,
            "learn": [
             0.8414026915,
             0.6900831915
            ],
            "parameters": [
             {
              "depth": 9,
              "iterations": 50,
              "learning_rate": 0.0001
             }
            ],
            "passed_time": 1851.174501,
            "remaining_time": 219.8398131,
            "test": [
             0.8643791318,
             0.6898354777
            ]
           },
           {
            "iteration": 901,
            "learn": [
             0.8417780941,
             0.6781268038
            ],
            "parameters": [
             {
              "depth": 9,
              "iterations": 50,
              "learning_rate": 0.0005
             }
            ],
            "passed_time": 1851.835556,
            "remaining_time": 217.6214733,
            "test": [
             0.8646299056,
             0.676863227
            ]
           },
           {
            "iteration": 902,
            "learn": [
             0.8415329538,
             0.6644213454
            ],
            "parameters": [
             {
              "depth": 9,
              "iterations": 50,
              "learning_rate": 0.001
             }
            ],
            "passed_time": 1852.596476,
            "remaining_time": 215.4181949,
            "test": [
             0.8647875349,
             0.6619876875
            ]
           },
           {
            "iteration": 903,
            "learn": [
             0.842468369,
             0.5772296368
            ],
            "parameters": [
             {
              "depth": 9,
              "iterations": 50,
              "learning_rate": 0.005
             }
            ],
            "passed_time": 1853.324116,
            "remaining_time": 213.2142788,
            "test": [
             0.864832913,
             0.5673345309
            ]
           },
           {
            "iteration": 904,
            "learn": [
             0.8461303773,
             0.5129087071
            ],
            "parameters": [
             {
              "depth": 9,
              "iterations": 50,
              "learning_rate": 0.01
             }
            ],
            "passed_time": 1853.987896,
            "remaining_time": 211.0063572,
            "test": [
             0.865611506,
             0.4981244791
            ]
           },
           {
            "iteration": 905,
            "learn": [
             0.8518689614,
             0.4503175026
            ],
            "parameters": [
             {
              "depth": 9,
              "iterations": 50,
              "learning_rate": 0.02
             }
            ],
            "passed_time": 1854.845473,
            "remaining_time": 208.8236625,
            "test": [
             0.866657591,
             0.4318235784
            ]
           },
           {
            "iteration": 906,
            "learn": [
             0.863568553,
             0.408414637
            ],
            "parameters": [
             {
              "depth": 9,
              "iterations": 50,
              "learning_rate": 0.04
             }
            ],
            "passed_time": 1855.588371,
            "remaining_time": 206.6311195,
            "test": [
             0.8671973518,
             0.3948344484
            ]
           },
           {
            "iteration": 907,
            "learn": [
             0.8662039913,
             0.4009664186
            ],
            "parameters": [
             {
              "depth": 9,
              "iterations": 50,
              "learning_rate": 0.05
             }
            ],
            "passed_time": 1856.233768,
            "remaining_time": 204.4310318,
            "test": [
             0.8677060644,
             0.3898150512
            ]
           },
           {
            "iteration": 908,
            "learn": [
             0.8836647401,
             0.3740927345
            ],
            "parameters": [
             {
              "depth": 9,
              "iterations": 50,
              "learning_rate": 0.1
             }
            ],
            "passed_time": 1856.995073,
            "remaining_time": 202.2469882,
            "test": [
             0.8675794834,
             0.3814309007
            ]
           },
           {
            "iteration": 909,
            "learn": [
             0.9072209282,
             0.3406173306
            ],
            "parameters": [
             {
              "depth": 9,
              "iterations": 50,
              "learning_rate": 0.2
             }
            ],
            "passed_time": 1857.749237,
            "remaining_time": 200.0653025,
            "test": [
             0.8665883297,
             0.3807558853
            ]
           },
           {
            "iteration": 910,
            "learn": [
             0.9421628422,
             0.285492996
            ],
            "parameters": [
             {
              "depth": 9,
              "iterations": 50,
              "learning_rate": 0.3
             }
            ],
            "passed_time": 1858.458095,
            "remaining_time": 197.8819267,
            "test": [
             0.846196836,
             0.4078990501
            ]
           },
           {
            "iteration": 911,
            "learn": [
             0.9695836209,
             0.224683259
            ],
            "parameters": [
             {
              "depth": 9,
              "iterations": 50,
              "learning_rate": 0.5
             }
            ],
            "passed_time": 1859.275109,
            "remaining_time": 195.7131693,
            "test": [
             0.8295096297,
             0.4452288713
            ]
           },
           {
            "iteration": 912,
            "learn": [
             0.8410225443,
             0.6888721605
            ],
            "parameters": [
             {
              "depth": 9,
              "iterations": 70,
              "learning_rate": 0.0001
             }
            ],
            "passed_time": 1860.27849,
            "remaining_time": 193.5667651,
            "test": [
             0.8652317628,
             0.6885193668
            ]
           },
           {
            "iteration": 913,
            "learn": [
             0.8413431677,
             0.672322974
            ],
            "parameters": [
             {
              "depth": 9,
              "iterations": 70,
              "learning_rate": 0.0005
             }
            ],
            "passed_time": 1861.269431,
            "remaining_time": 191.4215826,
            "test": [
             0.8647278268,
             0.670580614
            ]
           },
           {
            "iteration": 914,
            "learn": [
             0.84188147,
             0.6537192159
            ],
            "parameters": [
             {
              "depth": 9,
              "iterations": 70,
              "learning_rate": 0.001
             }
            ],
            "passed_time": 1862.393757,
            "remaining_time": 189.2924803,
            "test": [
             0.8646514005,
             0.6504100504
            ]
           },
           {
            "iteration": 915,
            "learn": [
             0.8442338107,
             0.5467107233
            ],
            "parameters": [
             {
              "depth": 9,
              "iterations": 70,
              "learning_rate": 0.005
             }
            ],
            "passed_time": 1863.429301,
            "remaining_time": 187.1566547,
            "test": [
             0.8650860751,
             0.5343251007
            ]
           },
           {
            "iteration": 916,
            "learn": [
             0.8483429664,
             0.4814393628
            ],
            "parameters": [
             {
              "depth": 9,
              "iterations": 70,
              "learning_rate": 0.01
             }
            ],
            "passed_time": 1864.471893,
            "remaining_time": 185.0239283,
            "test": [
             0.8665931063,
             0.4641349032
            ]
           },
           {
            "iteration": 917,
            "learn": [
             0.8575862664,
             0.4279643989
            ],
            "parameters": [
             {
              "depth": 9,
              "iterations": 70,
              "learning_rate": 0.02
             }
            ],
            "passed_time": 1865.50308,
            "remaining_time": 182.8924588,
            "test": [
             0.8674099125,
             0.4102739993
            ]
           },
           {
            "iteration": 918,
            "learn": [
             0.8695912411,
             0.3954911047
            ],
            "parameters": [
             {
              "depth": 9,
              "iterations": 70,
              "learning_rate": 0.04
             }
            ],
            "passed_time": 1866.493084,
            "remaining_time": 180.7593956,
            "test": [
             0.8696812068,
             0.3856464682
            ]
           },
           {
            "iteration": 919,
            "learn": [
             0.8731560559,
             0.3887124453
            ],
            "parameters": [
             {
              "depth": 9,
              "iterations": 70,
              "learning_rate": 0.05
             }
            ],
            "passed_time": 1867.406277,
            "remaining_time": 178.6214699,
            "test": [
             0.8666122129,
             0.3858154018
            ]
           },
           {
            "iteration": 920,
            "learn": [
             0.8909134173,
             0.3641021369
            ],
            "parameters": [
             {
              "depth": 9,
              "iterations": 70,
              "learning_rate": 0.1
             }
            ],
            "passed_time": 1868.418383,
            "remaining_time": 176.4955476,
            "test": [
             0.8666146012,
             0.3816918787
            ]
           },
           {
            "iteration": 921,
            "learn": [
             0.9407007706,
             0.2915209728
            ],
            "parameters": [
             {
              "depth": 9,
              "iterations": 70,
              "learning_rate": 0.2
             }
            ],
            "passed_time": 1869.496645,
            "remaining_time": 174.378212,
            "test": [
             0.8551745386,
             0.3954341559
            ]
           },
           {
            "iteration": 922,
            "learn": [
             0.9678177479,
             0.2357088542
            ],
            "parameters": [
             {
              "depth": 9,
              "iterations": 70,
              "learning_rate": 0.3
             }
            ],
            "passed_time": 1870.677088,
            "remaining_time": 172.2725379,
            "test": [
             0.8410380603,
             0.4209970524
            ]
           },
           {
            "iteration": 923,
            "learn": [
             0.9884441856,
             0.1693284167
            ],
            "parameters": [
             {
              "depth": 9,
              "iterations": 70,
              "learning_rate": 0.5
             }
            ],
            "passed_time": 1871.757792,
            "remaining_time": 170.1597993,
            "test": [
             0.8234313501,
             0.4717100434
            ]
           },
           {
            "iteration": 924,
            "learn": [
             0.8419355303,
             0.687049703
            ],
            "parameters": [
             {
              "depth": 9,
              "iterations": 100,
              "learning_rate": 0.0001
             }
            ],
            "passed_time": 1873.119419,
            "remaining_time": 168.0744992,
            "test": [
             0.865456265,
             0.6865492462
            ]
           },
           {
            "iteration": 925,
            "learn": [
             0.8412143432,
             0.6641146557
            ],
            "parameters": [
             {
              "depth": 9,
              "iterations": 100,
              "learning_rate": 0.0005
             }
            ],
            "passed_time": 1874.464857,
            "remaining_time": 165.9893286,
            "test": [
             0.8642262792,
             0.6616691389
            ]
           },
           {
            "iteration": 926,
            "learn": [
             0.8417447378,
             0.6384352677
            ],
            "parameters": [
             {
              "depth": 9,
              "iterations": 100,
              "learning_rate": 0.001
             }
            ],
            "passed_time": 1875.87083,
            "remaining_time": 163.9110434,
            "test": [
             0.8650048722,
             0.6338087714
            ]
           },
           {
            "iteration": 927,
            "learn": [
             0.8466558834,
             0.5116880745
            ],
            "parameters": [
             {
              "depth": 9,
              "iterations": 100,
              "learning_rate": 0.005
             }
            ],
            "passed_time": 1877.282446,
            "remaining_time": 161.8346936,
            "test": [
             0.8661560434,
             0.4966962331
            ]
           },
           {
            "iteration": 928,
            "learn": [
             0.8514028353,
             0.4520019452
            ],
            "parameters": [
             {
              "depth": 9,
              "iterations": 100,
              "learning_rate": 0.01
             }
            ],
            "passed_time": 1878.786699,
            "remaining_time": 159.7676525,
            "test": [
             0.8664474187,
             0.4336025561
            ]
           },
           {
            "iteration": 929,
            "learn": [
             0.8635970209,
             0.4094523269
            ],
            "parameters": [
             {
              "depth": 9,
              "iterations": 100,
              "learning_rate": 0.02
             }
            ],
            "passed_time": 1880.203643,
            "remaining_time": 157.6944991,
            "test": [
             0.8691008445,
             0.3946025335
            ]
           },
           {
            "iteration": 930,
            "learn": [
             0.8764892455,
             0.3827702938
            ],
            "parameters": [
             {
              "depth": 9,
              "iterations": 100,
              "learning_rate": 0.04
             }
            ],
            "passed_time": 1881.653253,
            "remaining_time": 155.625457,
            "test": [
             0.8698125645,
             0.3806309673
            ]
           },
           {
            "iteration": 931,
            "learn": [
             0.8816839199,
             0.3760871082
            ],
            "parameters": [
             {
              "depth": 9,
              "iterations": 100,
              "learning_rate": 0.05
             }
            ],
            "passed_time": 1883.019837,
            "remaining_time": 153.5509739,
            "test": [
             0.865315354,
             0.3840844736
            ]
           },
           {
            "iteration": 932,
            "learn": [
             0.9138438866,
             0.3338509368
            ],
            "parameters": [
             {
              "depth": 9,
              "iterations": 100,
              "learning_rate": 0.1
             }
            ],
            "passed_time": 1884.428615,
            "remaining_time": 151.4813999,
            "test": [
             0.8633211051,
             0.3853815928
            ]
           },
           {
            "iteration": 933,
            "learn": [
             0.9691216644,
             0.2381253015
            ],
            "parameters": [
             {
              "depth": 9,
              "iterations": 100,
              "learning_rate": 0.2
             }
            ],
            "passed_time": 1885.910164,
            "remaining_time": 149.4190066,
            "test": [
             0.8468631778,
             0.4102466591
            ]
           },
           {
            "iteration": 934,
            "learn": [
             0.9885784737,
             0.176870516
            ],
            "parameters": [
             {
              "depth": 9,
              "iterations": 100,
              "learning_rate": 0.3
             }
            ],
            "passed_time": 1887.494523,
            "remaining_time": 147.3658826,
            "test": [
             0.8322968016,
             0.4461203564
            ]
           },
           {
            "iteration": 935,
            "learn": [
             0.9974647746,
             0.1179599147
            ],
            "parameters": [
             {
              "depth": 9,
              "iterations": 100,
              "learning_rate": 0.5
             }
            ],
            "passed_time": 1889.002389,
            "remaining_time": 145.3078761,
            "test": [
             0.8236080859,
             0.4950550798
            ]
           },
           {
            "iteration": 936,
            "learn": [
             0.8417954911,
             0.6840663195
            ],
            "parameters": [
             {
              "depth": 9,
              "iterations": 150,
              "learning_rate": 0.0001
             }
            ],
            "passed_time": 1890.967946,
            "remaining_time": 143.2857248,
            "test": [
             0.8648090298,
             0.6833063694
            ]
           },
           {
            "iteration": 937,
            "learn": [
             0.8419394122,
             0.6508266193
            ],
            "parameters": [
             {
              "depth": 9,
              "iterations": 150,
              "learning_rate": 0.0005
             }
            ],
            "passed_time": 1892.927815,
            "remaining_time": 141.2632698,
            "test": [
             0.8643385303,
             0.6472905839
            ]
           },
           {
            "iteration": 938,
            "learn": [
             0.8426830285,
             0.6155447064
            ],
            "parameters": [
             {
              "depth": 9,
              "iterations": 150,
              "learning_rate": 0.001
             }
            ],
            "passed_time": 1894.895155,
            "remaining_time": 139.241497,
            "test": [
             0.8651792197,
             0.6089635808
            ]
           },
           {
            "iteration": 939,
            "learn": [
             0.8487269956,
             0.4749642213
            ],
            "parameters": [
             {
              "depth": 9,
              "iterations": 150,
              "learning_rate": 0.005
             }
            ],
            "passed_time": 1896.872268,
            "remaining_time": 137.2205471,
            "test": [
             0.8657261454,
             0.4578927885
            ]
           },
           {
            "iteration": 940,
            "learn": [
             0.857931332,
             0.4257539625
            ],
            "parameters": [
             {
              "depth": 9,
              "iterations": 150,
              "learning_rate": 0.01
             }
            ],
            "passed_time": 1898.979977,
            "remaining_time": 135.2089888,
            "test": [
             0.868370018,
             0.4080821463
            ]
           },
           {
            "iteration": 941,
            "learn": [
             0.8712505751,
             0.3925411553
            ],
            "parameters": [
             {
              "depth": 9,
              "iterations": 150,
              "learning_rate": 0.02
             }
            ],
            "passed_time": 1900.958971,
            "remaining_time": 133.1882082,
            "test": [
             0.8695904505,
             0.3845142934
            ]
           },
           {
            "iteration": 942,
            "learn": [
             0.8856432597,
             0.3698080451
            ],
            "parameters": [
             {
              "depth": 9,
              "iterations": 150,
              "learning_rate": 0.04
             }
            ],
            "passed_time": 1902.990252,
            "remaining_time": 131.1711202,
            "test": [
             0.8687473728,
             0.3795354218
            ]
           },
           {
            "iteration": 943,
            "learn": [
             0.8950996377,
             0.3582209848
            ],
            "parameters": [
             {
              "depth": 9,
              "iterations": 150,
              "learning_rate": 0.05
             }
            ],
            "passed_time": 1905.053254,
            "remaining_time": 129.1561528,
            "test": [
             0.8622797967,
             0.3865238211
            ]
           },
           {
            "iteration": 944,
            "learn": [
             0.9517415746,
             0.2761131261
            ],
            "parameters": [
             {
              "depth": 9,
              "iterations": 150,
              "learning_rate": 0.1
             }
            ],
            "passed_time": 1907.251882,
            "remaining_time": 127.1501254,
            "test": [
             0.8590436203,
             0.3914618579
            ]
           },
           {
            "iteration": 945,
            "learn": [
             0.9902025822,
             0.1773558763
            ],
            "parameters": [
             {
              "depth": 9,
              "iterations": 150,
              "learning_rate": 0.2
             }
            ],
            "passed_time": 1909.573533,
            "remaining_time": 125.1517537,
            "test": [
             0.8426286828,
             0.4254406346
            ]
           },
           {
            "iteration": 946,
            "learn": [
             0.99819085,
             0.1221212788
            ],
            "parameters": [
             {
              "depth": 9,
              "iterations": 150,
              "learning_rate": 0.3
             }
            ],
            "passed_time": 1911.747311,
            "remaining_time": 123.1431742,
            "test": [
             0.8260346211,
             0.4694553905
            ]
           },
           {
            "iteration": 947,
            "learn": [
             0.9999029503,
             0.06962581348
            ],
            "parameters": [
             {
              "depth": 9,
              "iterations": 150,
              "learning_rate": 0.5
             }
            ],
            "passed_time": 1913.921769,
            "remaining_time": 121.1342892,
            "test": [
             0.8198249838,
             0.4950550798
            ]
           },
           {
            "iteration": 948,
            "learn": [
             0.8420174833,
             0.6811157301
            ],
            "parameters": [
             {
              "depth": 9,
              "iterations": 200,
              "learning_rate": 0.0001
             }
            ],
            "passed_time": 1916.518243,
            "remaining_time": 119.1512922,
            "test": [
             0.8646681188,
             0.6801175574
            ]
           },
           {
            "iteration": 949,
            "learn": [
             0.8423662871,
             0.6382678737
            ],
            "parameters": [
             {
              "depth": 9,
              "iterations": 200,
              "learning_rate": 0.0005
             }
            ],
            "passed_time": 1919.116338,
            "remaining_time": 117.1671028,
            "test": [
             0.8641809011,
             0.6336884214
            ]
           },
           {
            "iteration": 950,
            "learn": [
             0.8432178801,
             0.595417247
            ],
            "parameters": [
             {
              "depth": 9,
              "iterations": 200,
              "learning_rate": 0.001
             }
            ],
            "passed_time": 1921.830223,
            "remaining_time": 115.1885622,
            "test": [
             0.8653416256,
             0.5871343507
            ]
           },
           {
            "iteration": 951,
            "learn": [
             0.8516656602,
             0.4525876874
            ],
            "parameters": [
             {
              "depth": 9,
              "iterations": 200,
              "learning_rate": 0.005
             }
            ],
            "passed_time": 1925.561001,
            "remaining_time": 113.2682942,
            "test": [
             0.8662467996,
             0.4346099182
            ]
           },
           {
            "iteration": 952,
            "learn": [
             0.8633097539,
             0.4102371551
            ],
            "parameters": [
             {
              "depth": 9,
              "iterations": 200,
              "learning_rate": 0.01
             }
            ],
            "passed_time": 1928.887748,
            "remaining_time": 111.3209089,
            "test": [
             0.8685204822,
             0.3951340707
            ]
           },
           {
            "iteration": 953,
            "learn": [
             0.8774248045,
             0.3820975238
            ],
            "parameters": [
             {
              "depth": 9,
              "iterations": 200,
              "learning_rate": 0.02
             }
            ],
            "passed_time": 1931.485735,
            "remaining_time": 109.3293812,
            "test": [
             0.8693062402,
             0.3817060187
            ]
           },
           {
            "iteration": 954,
            "learn": [
             0.8959473487,
             0.3567491219
            ],
            "parameters": [
             {
              "depth": 9,
              "iterations": 200,
              "learning_rate": 0.04
             }
            ],
            "passed_time": 1934.235188,
            "remaining_time": 107.3449895,
            "test": [
             0.8668152203,
             0.3810269605
            ]
           },
           {
            "iteration": 955,
            "learn": [
             0.9150261675,
             0.3317853129
            ],
            "parameters": [
             {
              "depth": 9,
              "iterations": 200,
              "learning_rate": 0.05
             }
            ],
            "passed_time": 1936.960393,
            "remaining_time": 105.3576783,
            "test": [
             0.8593994803,
             0.3897168848
            ]
           },
           {
            "iteration": 956,
            "learn": [
             0.9713312342,
             0.2346443566
            ],
            "parameters": [
             {
              "depth": 9,
              "iterations": 200,
              "learning_rate": 0.1
             }
            ],
            "passed_time": 1939.760755,
            "remaining_time": 103.3728302,
            "test": [
             0.852256009,
             0.4023430656
            ]
           },
           {
            "iteration": 957,
            "learn": [
             0.9970446572,
             0.1370719128
            ],
            "parameters": [
             {
              "depth": 9,
              "iterations": 200,
              "learning_rate": 0.2
             }
            ],
            "passed_time": 1942.590901,
            "remaining_time": 101.3878341,
            "test": [
             0.8394522145,
             0.4412081079
            ]
           },
           {
            "iteration": 958,
            "learn": [
             0.9997680872,
             0.08718711414
            ],
            "parameters": [
             {
              "depth": 9,
              "iterations": 200,
              "learning_rate": 0.3
             }
            ],
            "passed_time": 1945.443855,
            "remaining_time": 99.40224078,
            "test": [
             0.8217499713,
             0.4971453729
            ]
           },
           {
            "iteration": 959,
            "learn": [
             0.9999900794,
             0.0459552582
            ],
            "parameters": [
             {
              "depth": 9,
              "iterations": 200,
              "learning_rate": 0.5
             }
            ],
            "passed_time": 1948.453823,
            "remaining_time": 97.42269115,
            "test": [
             0.815325385,
             0.4950550798
            ]
           },
           {
            "iteration": 960,
            "learn": [
             0.8419007361,
             0.6781855356
            ],
            "parameters": [
             {
              "depth": 9,
              "iterations": 250,
              "learning_rate": 0.0001
             }
            ],
            "passed_time": 1951.683228,
            "remaining_time": 95.45172917,
            "test": [
             0.8648090298,
             0.6769416461
            ]
           },
           {
            "iteration": 961,
            "learn": [
             0.8424933862,
             0.6263925145
            ],
            "parameters": [
             {
              "depth": 9,
              "iterations": 250,
              "learning_rate": 0.0005
             }
            ],
            "passed_time": 1954.9014,
            "remaining_time": 93.47761374,
            "test": [
             0.8642406091,
             0.6208129896
            ]
           },
           {
            "iteration": 962,
            "learn": [
             0.8439417989,
             0.5773501063
            ],
            "parameters": [
             {
              "depth": 9,
              "iterations": 250,
              "learning_rate": 0.001
             }
            ],
            "passed_time": 1958.079382,
            "remaining_time": 91.49903653,
            "test": [
             0.865040697,
             0.5674947147
            ]
           },
           {
            "iteration": 963,
            "learn": [
             0.8552050265,
             0.4369667093
            ],
            "parameters": [
             {
              "depth": 9,
              "iterations": 250,
              "learning_rate": 0.005
             }
            ],
            "passed_time": 1961.384645,
            "remaining_time": 89.52378046,
            "test": [
             0.8679066835,
             0.4191175117
            ]
           },
           {
            "iteration": 964,
            "learn": [
             0.8674649183,
             0.4007261854
            ],
            "parameters": [
             {
              "depth": 9,
              "iterations": 250,
              "learning_rate": 0.01
             }
            ],
            "passed_time": 1964.68853,
            "remaining_time": 87.5457065,
            "test": [
             0.8694495395,
             0.3883055613
            ]
           },
           {
            "iteration": 965,
            "learn": [
             0.882888055,
             0.3744975749
            ],
            "parameters": [
             {
              "depth": 9,
              "iterations": 250,
              "learning_rate": 0.02
             }
            ],
            "passed_time": 1967.950959,
            "remaining_time": 85.56308516,
            "test": [
             0.86828165,
             0.3813629708
            ]
           },
           {
            "iteration": 966,
            "learn": [
             0.9115270589,
             0.3367002857
            ],
            "parameters": [
             {
              "depth": 9,
              "iterations": 250,
              "learning_rate": 0.04
             }
            ],
            "passed_time": 1971.259716,
            "remaining_time": 83.57978114,
            "test": [
             0.8649762123,
             0.3821273379
            ]
           },
           {
            "iteration": 967,
            "learn": [
             0.9370309984,
             0.3005003734
            ],
            "parameters": [
             {
              "depth": 9,
              "iterations": 250,
              "learning_rate": 0.05
             }
            ],
            "passed_time": 1974.762602,
            "remaining_time": 81.60176042,
            "test": [
             0.8569347319,
             0.3922207597
            ]
           },
           {
            "iteration": 968,
            "learn": [
             0.9837837877,
             0.2026753668
            ],
            "parameters": [
             {
              "depth": 9,
              "iterations": 250,
              "learning_rate": 0.1
             }
            ],
            "passed_time": 1978.258578,
            "remaining_time": 79.62031427,
            "test": [
             0.8476083343,
             0.4116149611
            ]
           },
           {
            "iteration": 969,
            "learn": [
             0.9991682482,
             0.109217788
            ],
            "parameters": [
             {
              "depth": 9,
              "iterations": 250,
              "learning_rate": 0.2
             }
            ],
            "passed_time": 1981.760237,
            "remaining_time": 77.63596805,
            "test": [
             0.8359461577,
             0.4584239562
            ]
           },
           {
            "iteration": 970,
            "learn": [
             0.9999463711,
             0.06648641469
            ],
            "parameters": [
             {
              "depth": 9,
              "iterations": 250,
              "learning_rate": 0.3
             }
            ],
            "passed_time": 1985.21264,
            "remaining_time": 75.64661963,
            "test": [
             0.8224043716,
             0.512908516
            ]
           },
           {
            "iteration": 971,
            "learn": [
             0.9999949678,
             0.03214321758
            ],
            "parameters": [
             {
              "depth": 9,
              "iterations": 250,
              "learning_rate": 0.5
             }
            ],
            "passed_time": 1988.804478,
            "remaining_time": 73.6594251,
            "test": [
             0.8169398907,
             0.4950550798
            ]
           },
           {
            "iteration": 972,
            "learn": [
             0.8415714861,
             0.6752572701
            ],
            "parameters": [
             {
              "depth": 9,
              "iterations": 300,
              "learning_rate": 0.0001
             }
            ],
            "passed_time": 1992.543464,
            "remaining_time": 71.67422534,
            "test": [
             0.8647708166,
             0.6737609027
            ]
           },
           {
            "iteration": 973,
            "learn": [
             0.8426493846,
             0.6152352236
            ],
            "parameters": [
             {
              "depth": 9,
              "iterations": 300,
              "learning_rate": 0.0005
             }
            ],
            "passed_time": 1996.334015,
            "remaining_time": 69.68722435,
            "test": [
             0.8645033245,
             0.6086869294
            ]
           },
           {
            "iteration": 974,
            "learn": [
             0.8446128077,
             0.5611501304
            ],
            "parameters": [
             {
              "depth": 9,
              "iterations": 300,
              "learning_rate": 0.001
             }
            ],
            "passed_time": 2000.065771,
            "remaining_time": 67.69453379,
            "test": [
             0.8654108869,
             0.5499094791
            ]
           },
           {
            "iteration": 975,
            "learn": [
             0.8585744479,
             0.4252839582
            ],
            "parameters": [
             {
              "depth": 9,
              "iterations": 300,
              "learning_rate": 0.005
             }
            ],
            "passed_time": 2004.015088,
            "remaining_time": 65.70541271,
            "test": [
             0.8683891245,
             0.4081166849
            ]
           },
           {
            "iteration": 976,
            "learn": [
             0.8710484242,
             0.3935936582
            ],
            "parameters": [
             {
              "depth": 9,
              "iterations": 300,
              "learning_rate": 0.01
             }
            ],
            "passed_time": 2007.919864,
            "remaining_time": 63.71086568,
            "test": [
             0.869920039,
             0.3844315957
            ]
           },
           {
            "iteration": 977,
            "learn": [
             0.8878502415,
             0.3676958932
            ],
            "parameters": [
             {
              "depth": 9,
              "iterations": 300,
              "learning_rate": 0.02
             }
            ],
            "passed_time": 2011.789526,
            "remaining_time": 61.71133514,
            "test": [
             0.8669776262,
             0.3818130474
            ]
           },
           {
            "iteration": 978,
            "learn": [
             0.9330391649,
             0.3068036047
            ],
            "parameters": [
             {
              "depth": 9,
              "iterations": 300,
              "learning_rate": 0.04
             }
            ],
            "passed_time": 2015.861516,
            "remaining_time": 59.71397749,
            "test": [
             0.862282185,
             0.3849074605
            ]
           },
           {
            "iteration": 979,
            "learn": [
             0.9530469289,
             0.2736851925
            ],
            "parameters": [
             {
              "depth": 9,
              "iterations": 300,
              "learning_rate": 0.05
             }
            ],
            "passed_time": 2020.046447,
            "remaining_time": 57.71561276,
            "test": [
             0.855444419,
             0.3952798549
            ]
           },
           {
            "iteration": 980,
            "learn": [
             0.9913654532,
             0.1741638432
            ],
            "parameters": [
             {
              "depth": 9,
              "iterations": 300,
              "learning_rate": 0.1
             }
            ],
            "passed_time": 2024.215474,
            "remaining_time": 55.71235251,
            "test": [
             0.8413366006,
             0.4235014265
            ]
           },
           {
            "iteration": 981,
            "learn": [
             0.9997649241,
             0.08701856693
            ],
            "parameters": [
             {
              "depth": 9,
              "iterations": 300,
              "learning_rate": 0.2
             }
            ],
            "passed_time": 2028.313073,
            "remaining_time": 53.70279011,
            "test": [
             0.8344462914,
             0.474881215
            ]
           },
           {
            "iteration": 982,
            "learn": [
             0.999980015,
             0.05200900713
            ],
            "parameters": [
             {
              "depth": 9,
              "iterations": 300,
              "learning_rate": 0.3
             }
            ],
            "passed_time": 2032.573538,
            "remaining_time": 51.69312151,
            "test": [
             0.8208901754,
             0.5351734077
            ]
           },
           {
            "iteration": 983,
            "learn": [
             0.9999949678,
             0.02424219464
            ],
            "parameters": [
             {
              "depth": 9,
              "iterations": 300,
              "learning_rate": 0.5
             }
            ],
            "passed_time": 2036.758236,
            "remaining_time": 49.67703016,
            "test": [
             0.8176802705,
             0.4950550798
            ]
           },
           {
            "iteration": 984,
            "learn": [
             0.8417844203,
             0.6640094372
            ],
            "parameters": [
             {
              "depth": 9,
              "iterations": 500,
              "learning_rate": 0.0001
             }
            ],
            "passed_time": 2042.918825,
            "remaining_time": 47.70267308,
            "test": [
             0.8647182735,
             0.6615637108
            ]
           },
           {
            "iteration": 985,
            "learn": [
             0.8437471245,
             0.5768137486
            ],
            "parameters": [
             {
              "depth": 9,
              "iterations": 500,
              "learning_rate": 0.0005
             }
            ],
            "passed_time": 2049.236772,
            "remaining_time": 45.72333568,
            "test": [
             0.8645869158,
             0.5670156797
            ]
           },
           {
            "iteration": 986,
            "learn": [
             0.8463168565,
             0.5129619615
            ],
            "parameters": [
             {
              "depth": 9,
              "iterations": 500,
              "learning_rate": 0.001
             }
            ],
            "passed_time": 2055.611315,
            "remaining_time": 43.73641096,
            "test": [
             0.8657643586,
             0.4979447371
            ]
           },
           {
            "iteration": 987,
            "learn": [
             0.8681057338,
             0.3999747391
            ],
            "parameters": [
             {
              "depth": 9,
              "iterations": 500,
              "learning_rate": 0.005
             }
            ],
            "passed_time": 2061.977316,
            "remaining_time": 41.7404315,
            "test": [
             0.8688644006,
             0.388844437
            ]
           },
           {
            "iteration": 988,
            "learn": [
             0.8821779388,
             0.3756070461
            ],
            "parameters": [
             {
              "depth": 9,
              "iterations": 500,
              "learning_rate": 0.01
             }
            ],
            "passed_time": 2068.483877,
            "remaining_time": 39.73831512,
            "test": [
             0.8687808094,
             0.3806451786
            ]
           },
           {
            "iteration": 989,
            "learn": [
             0.9158031401,
             0.3313793727
            ],
            "parameters": [
             {
              "depth": 9,
              "iterations": 500,
              "learning_rate": 0.02
             }
            ],
            "passed_time": 2074.931597,
            "remaining_time": 37.72602903,
            "test": [
             0.8630392831,
             0.3851597671
            ]
           },
           {
            "iteration": 990,
            "learn": [
             0.9740788187,
             0.2311924019
            ],
            "parameters": [
             {
              "depth": 9,
              "iterations": 500,
              "learning_rate": 0.04
             }
            ],
            "passed_time": 2081.799457,
            "remaining_time": 35.71199875,
            "test": [
             0.8529223509,
             0.3992501974
            ]
           },
           {
            "iteration": 991,
            "learn": [
             0.9855542616,
             0.1992653938
            ],
            "parameters": [
             {
              "depth": 9,
              "iterations": 500,
              "learning_rate": 0.05
             }
            ],
            "passed_time": 2088.590329,
            "remaining_time": 33.68694079,
            "test": [
             0.8466315106,
             0.4125683738
            ]
           },
           {
            "iteration": 992,
            "learn": [
             0.9994983609,
             0.1042727167
            ],
            "parameters": [
             {
              "depth": 9,
              "iterations": 500,
              "learning_rate": 0.1
             }
            ],
            "passed_time": 2095.507359,
            "remaining_time": 31.65418972,
            "test": [
             0.8339566854,
             0.4556037976
            ]
           },
           {
            "iteration": 993,
            "learn": [
             0.9999906545,
             0.04427849925
            ],
            "parameters": [
             {
              "depth": 9,
              "iterations": 500,
              "learning_rate": 0.2
             }
            ],
            "passed_time": 2104.470586,
            "remaining_time": 29.64043079,
            "test": [
             0.828250984,
             0.5296647872
            ]
           },
           {
            "iteration": 994,
            "learn": [
             0.9999949678,
             0.02465686996
            ],
            "parameters": [
             {
              "depth": 9,
              "iterations": 500,
              "learning_rate": 0.3
             }
            ],
            "passed_time": 2111.449097,
            "remaining_time": 27.58677212,
            "test": [
             0.8206800031,
             0.5532112637
            ]
           },
           {
            "iteration": 995,
            "learn": [
             0.9999964056,
             0.01219657247
            ],
            "parameters": [
             {
              "depth": 9,
              "iterations": 500,
              "learning_rate": 0.5
             }
            ],
            "passed_time": 2118.43948,
            "remaining_time": 25.52336723,
            "test": [
             0.818439757,
             0.4950550798
            ]
           },
           {
            "iteration": 996,
            "learn": [
             0.8422899413,
             0.6382798154
            ],
            "parameters": [
             {
              "depth": 9,
              "iterations": 1000,
              "learning_rate": 0.0001
             }
            ],
            "passed_time": 2130.745309,
            "remaining_time": 23.50872457,
            "test": [
             0.8643218121,
             0.6336847259
            ]
           },
           {
            "iteration": 997,
            "learn": [
             0.8464476938,
             0.5125634821
            ],
            "parameters": [
             {
              "depth": 9,
              "iterations": 1000,
              "learning_rate": 0.0005
             }
            ],
            "passed_time": 2143.236781,
            "remaining_time": 21.47531845,
            "test": [
             0.8650526386,
             0.4976003199
            ]
           },
           {
            "iteration": 998,
            "learn": [
             0.8512955774,
             0.4527445204
            ],
            "parameters": [
             {
              "depth": 9,
              "iterations": 1000,
              "learning_rate": 0.001
             }
            ],
            "passed_time": 2155.916907,
            "remaining_time": 19.42267483,
            "test": [
             0.8660175207,
             0.4346726808
            ]
           },
           {
            "iteration": 999,
            "learn": [
             0.8835678341,
             0.3740191827
            ],
            "parameters": [
             {
              "depth": 9,
              "iterations": 1000,
              "learning_rate": 0.005
             }
            ],
            "passed_time": 2168.714481,
            "remaining_time": 17.34971585,
            "test": [
             0.8676248615,
             0.3813769235
            ]
           },
           {
            "iteration": 1000,
            "learn": [
             0.9152068956,
             0.3328330627
            ],
            "parameters": [
             {
              "depth": 9,
              "iterations": 1000,
              "learning_rate": 0.01
             }
            ],
            "passed_time": 2181.971961,
            "remaining_time": 15.25854518,
            "test": [
             0.8646872253,
             0.382938155
            ]
           },
           {
            "iteration": 1001,
            "learn": [
             0.9736063665,
             0.2336111608
            ],
            "parameters": [
             {
              "depth": 9,
              "iterations": 1000,
              "learning_rate": 0.02
             }
            ],
            "passed_time": 2195.608581,
            "remaining_time": 13.14735677,
            "test": [
             0.8519526921,
             0.400322792
            ]
           },
           {
            "iteration": 1002,
            "learn": [
             0.9980559869,
             0.134969139
            ],
            "parameters": [
             {
              "depth": 9,
              "iterations": 1000,
              "learning_rate": 0.04
             }
            ],
            "passed_time": 2209.294742,
            "remaining_time": 11.01343341,
            "test": [
             0.839203829,
             0.4313384039
            ]
           },
           {
            "iteration": 1003,
            "learn": [
             0.9995207902,
             0.1052179762
            ],
            "parameters": [
             {
              "depth": 9,
              "iterations": 1000,
              "learning_rate": 0.05
             }
            ],
            "passed_time": 2222.904055,
            "remaining_time": 8.856191453,
            "test": [
             0.8360751271,
             0.4504608872
            ]
           },
           {
            "iteration": 1004,
            "learn": [
             0.9999929549,
             0.04342626999
            ],
            "parameters": [
             {
              "depth": 9,
              "iterations": 1000,
              "learning_rate": 0.1
             }
            ],
            "passed_time": 2236.460774,
            "remaining_time": 6.67600231,
            "test": [
             0.8275153808,
             0.5268926928
            ]
           },
           {
            "iteration": 1005,
            "learn": [
             0.9999958305,
             0.01657329684
            ],
            "parameters": [
             {
              "depth": 9,
              "iterations": 1000,
              "learning_rate": 0.2
             }
            ],
            "passed_time": 2250.094303,
            "remaining_time": 4.473348516,
            "test": [
             0.8252703581,
             0.5923064777
            ]
           },
           {
            "iteration": 1006,
            "learn": [
             0.9999964056,
             0.009960890759
            ],
            "parameters": [
             {
              "depth": 9,
              "iterations": 1000,
              "learning_rate": 0.3
             }
            ],
            "passed_time": 2263.680628,
            "remaining_time": 2.247945013,
            "test": [
             0.8194667355,
             0.5532112637
            ]
           },
           {
            "iteration": 1007,
            "learn": [
             0.9999964056,
             0.006419558807
            ],
            "parameters": [
             {
              "depth": 9,
              "iterations": 1000,
              "learning_rate": 0.5
             }
            ],
            "passed_time": 2278.836511,
            "remaining_time": 0,
            "test": [
             0.8205653636,
             0.4950550798
            ]
           }
          ],
          "meta": {
           "iteration_count": 1008,
           "launch_mode": "Train",
           "learn_metrics": [
            {
             "best_value": "Max",
             "name": "AUC"
            },
            {
             "best_value": "Min",
             "name": "Logloss"
            }
           ],
           "learn_sets": [
            "learn"
           ],
           "name": "experiment",
           "parameters": "parameters",
           "test_metrics": [
            {
             "best_value": "Max",
             "name": "AUC"
            },
            {
             "best_value": "Min",
             "name": "Logloss"
            }
           ],
           "test_sets": [
            "test"
           ]
          }
         },
         "passed_iterations": 1007,
         "total_iterations": 1008
        },
        "name": "catboost_info",
        "path": "catboost_info"
       }
      },
      "layout": "IPY_MODEL_c9f3d0a48f7144cdb3fec23f800d87ae"
     }
    }
   }
  }
 },
 "nbformat": 4,
 "nbformat_minor": 1
}
